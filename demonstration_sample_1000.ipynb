{
 "cells": [
  {
   "cell_type": "code",
   "execution_count": 1,
   "metadata": {},
   "outputs": [],
   "source": [
    "import numpy as np\n",
    "import pandas as pd\n",
    "\n",
    "from ols_bootstrap.pairs import PairsBootstrap\n",
    "from ols_bootstrap.residual import ResidualBootstrap\n",
    "from ols_bootstrap.wild import WildBootstrap\n",
    "\n",
    "pd.options.display.float_format = '{:20,.5f}'.format  ### Setting pd to have a numerical precision up to 5 decimal points"
   ]
  },
  {
   "cell_type": "code",
   "execution_count": 2,
   "metadata": {},
   "outputs": [
    {
     "name": "stderr",
     "output_type": "stream",
     "text": [
      "/home/phamv/.local/lib/python3.8/site-packages/IPython/core/interactiveshell.py:3444: DtypeWarning: Columns (66) have mixed types.Specify dtype option on import or set low_memory=False.\n",
      "  exec(code_obj, self.user_global_ns, self.user_ns)\n"
     ]
    }
   ],
   "source": [
    "df = pd.read_csv('./balance2018.csv')\n",
    "df = df[df['sales_clean'] != 0]\n",
    "df = df[['sales_clean', 'tanass_clean', 'tax']]\n",
    "df = df.dropna(subset=['tanass_clean', 'tax'])\n",
    "\n",
    "df_scaled = df.applymap(lambda x: np.log(x + 1))"
   ]
  },
  {
   "cell_type": "code",
   "execution_count": 3,
   "metadata": {},
   "outputs": [],
   "source": [
    "df_sample = df_scaled.sample(n=1000, replace=False, random_state=42)\n",
    "\n",
    "Y_data = pd.DataFrame(df_sample.iloc[:, 0])\n",
    "X_data = pd.DataFrame(df_sample.iloc[:, 1:])"
   ]
  },
  {
   "cell_type": "code",
   "execution_count": 4,
   "metadata": {},
   "outputs": [],
   "source": [
    "wb_mam = WildBootstrap(Y_data, X_data, reps = 1000, from_distro = \"mammen\", seed = 42)  # seed = None, se_type = 'hc3' and ci_type = 'bc' are the default options for these arguments.\n",
    "wb_mam.simple_ols_fit()"
   ]
  },
  {
   "cell_type": "code",
   "execution_count": 5,
   "metadata": {},
   "outputs": [
    {
     "data": {
      "text/plain": [
       "(56.702329897241775,\n",
       " 4.866822501071809e-13,\n",
       " 29.965208597086683,\n",
       " 2.3036035267823517e-13)"
      ]
     },
     "execution_count": 5,
     "metadata": {},
     "output_type": "execute_result"
    }
   ],
   "source": [
    "wb_mam.bp_test()"
   ]
  },
  {
   "cell_type": "code",
   "execution_count": 8,
   "metadata": {},
   "outputs": [
    {
     "data": {
      "text/plain": [
       "(126.38966088406505,\n",
       " 3.5878465000474625e-28,\n",
       " 29.965208597086807,\n",
       " 2.3036035267820897e-13)"
      ]
     },
     "execution_count": 8,
     "metadata": {},
     "output_type": "execute_result"
    }
   ],
   "source": [
    "wb_mam.bp_test(robust = False)"
   ]
  },
  {
   "cell_type": "code",
   "execution_count": 9,
   "metadata": {},
   "outputs": [
    {
     "data": {
      "text/plain": [
       "(200.37774678235587,\n",
       " 2.358326510723417e-41,\n",
       " 49.81739302531628,\n",
       " 4.114335824295388e-46)"
      ]
     },
     "execution_count": 9,
     "metadata": {},
     "output_type": "execute_result"
    }
   ],
   "source": [
    "wb_mam.white_test()"
   ]
  },
  {
   "cell_type": "code",
   "execution_count": 4,
   "metadata": {},
   "outputs": [
    {
     "data": {
      "text/html": [
       "<style type=\"text/css\">\n",
       "</style>\n",
       "<table id=\"T_e317d_\">\n",
       "  <caption>Wild Bootstrap with Mammen results with 1000 obs and 1000 BS reps using HC3 SE-s and 95.00% BC CI</caption>\n",
       "  <thead>\n",
       "    <tr>\n",
       "      <th class=\"blank level0\" >&nbsp;</th>\n",
       "      <th class=\"col_heading level0 col0\" >ols_params</th>\n",
       "      <th class=\"col_heading level0 col1\" >avg_bs_params</th>\n",
       "      <th class=\"col_heading level0 col2\" >bias</th>\n",
       "      <th class=\"col_heading level0 col3\" >ols_params_se</th>\n",
       "      <th class=\"col_heading level0 col4\" >bs_params_se</th>\n",
       "      <th class=\"col_heading level0 col5\" >perc_of_se_diff</th>\n",
       "      <th class=\"col_heading level0 col6\" >ci_lower</th>\n",
       "      <th class=\"col_heading level0 col7\" >ci_upper</th>\n",
       "    </tr>\n",
       "    <tr>\n",
       "      <th class=\"index_name level0\" >var</th>\n",
       "      <th class=\"blank col0\" >&nbsp;</th>\n",
       "      <th class=\"blank col1\" >&nbsp;</th>\n",
       "      <th class=\"blank col2\" >&nbsp;</th>\n",
       "      <th class=\"blank col3\" >&nbsp;</th>\n",
       "      <th class=\"blank col4\" >&nbsp;</th>\n",
       "      <th class=\"blank col5\" >&nbsp;</th>\n",
       "      <th class=\"blank col6\" >&nbsp;</th>\n",
       "      <th class=\"blank col7\" >&nbsp;</th>\n",
       "    </tr>\n",
       "  </thead>\n",
       "  <tbody>\n",
       "    <tr>\n",
       "      <th id=\"T_e317d_level0_row0\" class=\"row_heading level0 row0\" >const</th>\n",
       "      <td id=\"T_e317d_row0_col0\" class=\"data row0 col0\" >6.0961</td>\n",
       "      <td id=\"T_e317d_row0_col1\" class=\"data row0 col1\" >6.0972</td>\n",
       "      <td id=\"T_e317d_row0_col2\" class=\"data row0 col2\" >0.0011</td>\n",
       "      <td id=\"T_e317d_row0_col3\" class=\"data row0 col3\" >0.1392</td>\n",
       "      <td id=\"T_e317d_row0_col4\" class=\"data row0 col4\" >0.1418</td>\n",
       "      <td id=\"T_e317d_row0_col5\" class=\"data row0 col5\" >-1.88</td>\n",
       "      <td id=\"T_e317d_row0_col6\" class=\"data row0 col6\" >5.8174</td>\n",
       "      <td id=\"T_e317d_row0_col7\" class=\"data row0 col7\" >6.3642</td>\n",
       "    </tr>\n",
       "    <tr>\n",
       "      <th id=\"T_e317d_level0_row1\" class=\"row_heading level0 row1\" >tanass_clean</th>\n",
       "      <td id=\"T_e317d_row1_col0\" class=\"data row1 col0\" >0.2021</td>\n",
       "      <td id=\"T_e317d_row1_col1\" class=\"data row1 col1\" >0.2028</td>\n",
       "      <td id=\"T_e317d_row1_col2\" class=\"data row1 col2\" >0.0007</td>\n",
       "      <td id=\"T_e317d_row1_col3\" class=\"data row1 col3\" >0.0181</td>\n",
       "      <td id=\"T_e317d_row1_col4\" class=\"data row1 col4\" >0.0185</td>\n",
       "      <td id=\"T_e317d_row1_col5\" class=\"data row1 col5\" >-2.35</td>\n",
       "      <td id=\"T_e317d_row1_col6\" class=\"data row1 col6\" >0.1657</td>\n",
       "      <td id=\"T_e317d_row1_col7\" class=\"data row1 col7\" >0.2393</td>\n",
       "    </tr>\n",
       "    <tr>\n",
       "      <th id=\"T_e317d_level0_row2\" class=\"row_heading level0 row2\" >tax</th>\n",
       "      <td id=\"T_e317d_row2_col0\" class=\"data row2 col0\" >0.5048</td>\n",
       "      <td id=\"T_e317d_row2_col1\" class=\"data row2 col1\" >0.5042</td>\n",
       "      <td id=\"T_e317d_row2_col2\" class=\"data row2 col2\" >0.0006</td>\n",
       "      <td id=\"T_e317d_row2_col3\" class=\"data row2 col3\" >0.0296</td>\n",
       "      <td id=\"T_e317d_row2_col4\" class=\"data row2 col4\" >0.0306</td>\n",
       "      <td id=\"T_e317d_row2_col5\" class=\"data row2 col5\" >-3.42</td>\n",
       "      <td id=\"T_e317d_row2_col6\" class=\"data row2 col6\" >0.4459</td>\n",
       "      <td id=\"T_e317d_row2_col7\" class=\"data row2 col7\" >0.5656</td>\n",
       "    </tr>\n",
       "  </tbody>\n",
       "</table>\n"
      ],
      "text/plain": [
       "<pandas.io.formats.style.Styler at 0x7fc5384774f0>"
      ]
     },
     "metadata": {},
     "output_type": "display_data"
    }
   ],
   "source": [
    "wb_mam = WildBootstrap(Y_data, X_data, reps = 1000, from_distro = \"mammen\", seed = 42)  # seed = None, se_type = 'hc3' and ci_type = 'bc' are the default options for these arguments.\n",
    "wb_mam.fit()\n",
    "wb_mam.summary()"
   ]
  },
  {
   "cell_type": "markdown",
   "metadata": {},
   "source": [
    "## Default SE on the original OLS is HC3, default CI on bootstrapped parameter is BC. \n",
    "\n",
    "That is by default se_type = 'hc3', ci_type = 'bc'.\n",
    "\n",
    "The default seed value is None. For reproducability, use an integer of your choice. "
   ]
  },
  {
   "cell_type": "code",
   "execution_count": 4,
   "metadata": {},
   "outputs": [],
   "source": [
    "psb = PairsBootstrap(Y_data, X_data, reps = 1000, se_type='hc3', ci_type = 'bc', seed = 42)  # seed = None, se_type = 'hc3' and ci_type = 'bc' are the default options for these arguments.\n",
    "psb.fit()"
   ]
  },
  {
   "cell_type": "code",
   "execution_count": 5,
   "metadata": {},
   "outputs": [],
   "source": [
    "psb_t = PairsBootstrap(Y_data, X_data, reps = 1000, ci_type = 'studentized', seed = 42) \n",
    "psb_t.fit()"
   ]
  },
  {
   "cell_type": "code",
   "execution_count": 6,
   "metadata": {},
   "outputs": [],
   "source": [
    "rsb_not_scaled = ResidualBootstrap(Y_data, X_data, reps = 1000, scale_resid_bool  = False, seed = 42)\n",
    "rsb_not_scaled.fit()"
   ]
  },
  {
   "cell_type": "code",
   "execution_count": 7,
   "metadata": {},
   "outputs": [],
   "source": [
    "rsb = ResidualBootstrap(Y_data, X_data, reps = 1000, seed = 42)\n",
    "rsb.fit()"
   ]
  },
  {
   "cell_type": "code",
   "execution_count": 8,
   "metadata": {},
   "outputs": [],
   "source": [
    "rsb_t = ResidualBootstrap(Y_data, X_data, ci_type='studentized', reps = 1000, scale_resid_bool = True, seed = 42)\n",
    "rsb_t.fit()"
   ]
  },
  {
   "cell_type": "code",
   "execution_count": 9,
   "metadata": {},
   "outputs": [],
   "source": [
    "wb_unif = WildBootstrap(Y_data, X_data, reps = 1000, from_distro = \"uniform\", seed = 42)\n",
    "wb_unif.fit()"
   ]
  },
  {
   "cell_type": "code",
   "execution_count": 10,
   "metadata": {},
   "outputs": [],
   "source": [
    "wb_stdn = WildBootstrap(Y_data, X_data, reps = 1000, from_distro = \"standard_normal\", seed = 42)\n",
    "wb_stdn.fit()"
   ]
  },
  {
   "cell_type": "code",
   "execution_count": 11,
   "metadata": {},
   "outputs": [],
   "source": [
    "wb_rad_not_scaled = WildBootstrap(Y_data, X_data, reps = 1000, scale_resid_bool = False, from_distro = \"rademacher\", seed = 42)\n",
    "wb_rad_not_scaled.fit()"
   ]
  },
  {
   "cell_type": "code",
   "execution_count": 12,
   "metadata": {},
   "outputs": [],
   "source": [
    "wb_rad = WildBootstrap(Y_data, X_data, reps = 1000, from_distro = \"rademacher\", seed = 42)\n",
    "wb_rad.fit()"
   ]
  },
  {
   "cell_type": "code",
   "execution_count": 13,
   "metadata": {},
   "outputs": [],
   "source": [
    "wb_rad_bca = WildBootstrap(Y_data, X_data, reps = 1000, ci_type='bca', from_distro = \"rademacher\", seed = 42)\n",
    "wb_rad_bca.fit()"
   ]
  },
  {
   "cell_type": "code",
   "execution_count": 14,
   "metadata": {},
   "outputs": [],
   "source": [
    "wb_rad_t = WildBootstrap(Y_data, X_data, reps = 1000, ci_type='studentized',  from_distro = \"rademacher\", seed = 42)\n",
    "wb_rad_t.fit()"
   ]
  },
  {
   "cell_type": "code",
   "execution_count": 15,
   "metadata": {},
   "outputs": [],
   "source": [
    "wb_rad_emp = WildBootstrap(Y_data, X_data, reps = 1000, ci_type='empirical', from_distro = \"rademacher\", seed = 42)\n",
    "wb_rad_emp.fit()"
   ]
  },
  {
   "cell_type": "code",
   "execution_count": 16,
   "metadata": {},
   "outputs": [],
   "source": [
    "wb_rad_perc = WildBootstrap(Y_data, X_data, reps = 1000, ci_type='percentile', from_distro = \"rademacher\", seed = 42)\n",
    "wb_rad_perc.fit()"
   ]
  },
  {
   "cell_type": "code",
   "execution_count": 17,
   "metadata": {},
   "outputs": [],
   "source": [
    "wb_rad_basic = WildBootstrap(Y_data, X_data, reps = 1000, ci_type='basic', from_distro = \"rademacher\", seed = 42)\n",
    "wb_rad_basic.fit()"
   ]
  },
  {
   "cell_type": "code",
   "execution_count": 18,
   "metadata": {},
   "outputs": [],
   "source": [
    "wb_webb4 = WildBootstrap(Y_data, X_data, reps = 1000, from_distro = \"webb4\", seed = 42)\n",
    "wb_webb4.fit()"
   ]
  },
  {
   "cell_type": "code",
   "execution_count": 19,
   "metadata": {},
   "outputs": [],
   "source": [
    "wb_webb6 = WildBootstrap(Y_data, X_data, reps = 1000, from_distro = \"webb6\", seed = 42)\n",
    "wb_webb6.fit()"
   ]
  },
  {
   "cell_type": "code",
   "execution_count": 20,
   "metadata": {},
   "outputs": [],
   "source": [
    "wb_cont_mam = WildBootstrap(Y_data, X_data, reps = 1000, from_distro = \"mammen_cont\", seed = 42)\n",
    "wb_cont_mam.fit()"
   ]
  },
  {
   "cell_type": "code",
   "execution_count": 21,
   "metadata": {},
   "outputs": [],
   "source": [
    "wb_mam = WildBootstrap(Y_data, X_data, reps = 1000, from_distro = \"mammen\", seed = 42)\n",
    "wb_mam.fit()"
   ]
  },
  {
   "cell_type": "code",
   "execution_count": 22,
   "metadata": {},
   "outputs": [],
   "source": [
    "# Now: np.ndarray was supported as an input array. pd.Series, list, and tuples were also added to the supported list for an input array. \n",
    "# Before that only pd.DataFrame had been supported. \n",
    "X_data_np = X_data.to_numpy()\n",
    "Y_data_np = Y_data.to_numpy()"
   ]
  },
  {
   "cell_type": "code",
   "execution_count": 23,
   "metadata": {},
   "outputs": [],
   "source": [
    "wb_mam_np = WildBootstrap(Y_data_np, X_data_np, reps = 1000, from_distro = \"mammen\", seed = 42)\n",
    "wb_mam_np.fit()"
   ]
  },
  {
   "cell_type": "code",
   "execution_count": 24,
   "metadata": {},
   "outputs": [
    {
     "data": {
      "text/html": [
       "<style type=\"text/css\">\n",
       "</style>\n",
       "<table id=\"T_7c2ed_\">\n",
       "  <caption>Pairs Bootstrap results with 1000 obs and 1000 BS reps using HC3 SE-s and 95.00% BC CI</caption>\n",
       "  <thead>\n",
       "    <tr>\n",
       "      <th class=\"blank level0\" >&nbsp;</th>\n",
       "      <th class=\"col_heading level0 col0\" >ols_params</th>\n",
       "      <th class=\"col_heading level0 col1\" >avg_bs_params</th>\n",
       "      <th class=\"col_heading level0 col2\" >bias</th>\n",
       "      <th class=\"col_heading level0 col3\" >ols_params_se</th>\n",
       "      <th class=\"col_heading level0 col4\" >bs_params_se</th>\n",
       "      <th class=\"col_heading level0 col5\" >perc_of_se_diff</th>\n",
       "      <th class=\"col_heading level0 col6\" >ci_lower</th>\n",
       "      <th class=\"col_heading level0 col7\" >ci_upper</th>\n",
       "    </tr>\n",
       "    <tr>\n",
       "      <th class=\"index_name level0\" >var</th>\n",
       "      <th class=\"blank col0\" >&nbsp;</th>\n",
       "      <th class=\"blank col1\" >&nbsp;</th>\n",
       "      <th class=\"blank col2\" >&nbsp;</th>\n",
       "      <th class=\"blank col3\" >&nbsp;</th>\n",
       "      <th class=\"blank col4\" >&nbsp;</th>\n",
       "      <th class=\"blank col5\" >&nbsp;</th>\n",
       "      <th class=\"blank col6\" >&nbsp;</th>\n",
       "      <th class=\"blank col7\" >&nbsp;</th>\n",
       "    </tr>\n",
       "  </thead>\n",
       "  <tbody>\n",
       "    <tr>\n",
       "      <th id=\"T_7c2ed_level0_row0\" class=\"row_heading level0 row0\" >const</th>\n",
       "      <td id=\"T_7c2ed_row0_col0\" class=\"data row0 col0\" >6.0961</td>\n",
       "      <td id=\"T_7c2ed_row0_col1\" class=\"data row0 col1\" >6.1032</td>\n",
       "      <td id=\"T_7c2ed_row0_col2\" class=\"data row0 col2\" >0.0071</td>\n",
       "      <td id=\"T_7c2ed_row0_col3\" class=\"data row0 col3\" >0.1392</td>\n",
       "      <td id=\"T_7c2ed_row0_col4\" class=\"data row0 col4\" >0.1316</td>\n",
       "      <td id=\"T_7c2ed_row0_col5\" class=\"data row0 col5\" >5.4</td>\n",
       "      <td id=\"T_7c2ed_row0_col6\" class=\"data row0 col6\" >5.7828</td>\n",
       "      <td id=\"T_7c2ed_row0_col7\" class=\"data row0 col7\" >6.3358</td>\n",
       "    </tr>\n",
       "    <tr>\n",
       "      <th id=\"T_7c2ed_level0_row1\" class=\"row_heading level0 row1\" >tanass_clean</th>\n",
       "      <td id=\"T_7c2ed_row1_col0\" class=\"data row1 col0\" >0.2021</td>\n",
       "      <td id=\"T_7c2ed_row1_col1\" class=\"data row1 col1\" >0.2017</td>\n",
       "      <td id=\"T_7c2ed_row1_col2\" class=\"data row1 col2\" >0.0004</td>\n",
       "      <td id=\"T_7c2ed_row1_col3\" class=\"data row1 col3\" >0.0181</td>\n",
       "      <td id=\"T_7c2ed_row1_col4\" class=\"data row1 col4\" >0.0184</td>\n",
       "      <td id=\"T_7c2ed_row1_col5\" class=\"data row1 col5\" >-1.93</td>\n",
       "      <td id=\"T_7c2ed_row1_col6\" class=\"data row1 col6\" >0.169</td>\n",
       "      <td id=\"T_7c2ed_row1_col7\" class=\"data row1 col7\" >0.2434</td>\n",
       "    </tr>\n",
       "    <tr>\n",
       "      <th id=\"T_7c2ed_level0_row2\" class=\"row_heading level0 row2\" >tax</th>\n",
       "      <td id=\"T_7c2ed_row2_col0\" class=\"data row2 col0\" >0.5048</td>\n",
       "      <td id=\"T_7c2ed_row2_col1\" class=\"data row2 col1\" >0.5038</td>\n",
       "      <td id=\"T_7c2ed_row2_col2\" class=\"data row2 col2\" >0.001</td>\n",
       "      <td id=\"T_7c2ed_row2_col3\" class=\"data row2 col3\" >0.0296</td>\n",
       "      <td id=\"T_7c2ed_row2_col4\" class=\"data row2 col4\" >0.0295</td>\n",
       "      <td id=\"T_7c2ed_row2_col5\" class=\"data row2 col5\" >0.46</td>\n",
       "      <td id=\"T_7c2ed_row2_col6\" class=\"data row2 col6\" >0.4456</td>\n",
       "      <td id=\"T_7c2ed_row2_col7\" class=\"data row2 col7\" >0.5639</td>\n",
       "    </tr>\n",
       "  </tbody>\n",
       "</table>\n"
      ],
      "text/plain": [
       "<pandas.io.formats.style.Styler at 0x7fbc31ffa280>"
      ]
     },
     "metadata": {},
     "output_type": "display_data"
    }
   ],
   "source": [
    "psb.summary()"
   ]
  },
  {
   "cell_type": "code",
   "execution_count": 25,
   "metadata": {},
   "outputs": [
    {
     "data": {
      "text/html": [
       "<div>\n",
       "<style scoped>\n",
       "    .dataframe tbody tr th:only-of-type {\n",
       "        vertical-align: middle;\n",
       "    }\n",
       "\n",
       "    .dataframe tbody tr th {\n",
       "        vertical-align: top;\n",
       "    }\n",
       "\n",
       "    .dataframe thead th {\n",
       "        text-align: right;\n",
       "    }\n",
       "</style>\n",
       "<table border=\"1\" class=\"dataframe\">\n",
       "  <thead>\n",
       "    <tr style=\"text-align: right;\">\n",
       "      <th></th>\n",
       "      <th>ols_params</th>\n",
       "      <th>avg_bs_params</th>\n",
       "      <th>bias</th>\n",
       "      <th>ols_params_se</th>\n",
       "      <th>bs_params_se</th>\n",
       "      <th>perc_of_se_diff</th>\n",
       "      <th>ci_lower</th>\n",
       "      <th>ci_upper</th>\n",
       "    </tr>\n",
       "    <tr>\n",
       "      <th>var</th>\n",
       "      <th></th>\n",
       "      <th></th>\n",
       "      <th></th>\n",
       "      <th></th>\n",
       "      <th></th>\n",
       "      <th></th>\n",
       "      <th></th>\n",
       "      <th></th>\n",
       "    </tr>\n",
       "  </thead>\n",
       "  <tbody>\n",
       "    <tr>\n",
       "      <th>const</th>\n",
       "      <td>6.0961</td>\n",
       "      <td>6.1032</td>\n",
       "      <td>0.0071</td>\n",
       "      <td>0.1392</td>\n",
       "      <td>0.1316</td>\n",
       "      <td>5.4</td>\n",
       "      <td>5.7828</td>\n",
       "      <td>6.3358</td>\n",
       "    </tr>\n",
       "    <tr>\n",
       "      <th>tanass_clean</th>\n",
       "      <td>0.2021</td>\n",
       "      <td>0.2017</td>\n",
       "      <td>0.0004</td>\n",
       "      <td>0.0181</td>\n",
       "      <td>0.0184</td>\n",
       "      <td>-1.93</td>\n",
       "      <td>0.169</td>\n",
       "      <td>0.2434</td>\n",
       "    </tr>\n",
       "    <tr>\n",
       "      <th>tax</th>\n",
       "      <td>0.5048</td>\n",
       "      <td>0.5038</td>\n",
       "      <td>0.001</td>\n",
       "      <td>0.0296</td>\n",
       "      <td>0.0295</td>\n",
       "      <td>0.46</td>\n",
       "      <td>0.4456</td>\n",
       "      <td>0.5639</td>\n",
       "    </tr>\n",
       "  </tbody>\n",
       "</table>\n",
       "</div>"
      ],
      "text/plain": [
       "             ols_params avg_bs_params    bias ols_params_se bs_params_se  \\\n",
       "var                                                                        \n",
       "const            6.0961        6.1032  0.0071        0.1392       0.1316   \n",
       "tanass_clean     0.2021        0.2017  0.0004        0.0181       0.0184   \n",
       "tax              0.5048        0.5038   0.001        0.0296       0.0295   \n",
       "\n",
       "             perc_of_se_diff ci_lower ci_upper  \n",
       "var                                             \n",
       "const                    5.4   5.7828   6.3358  \n",
       "tanass_clean           -1.93    0.169   0.2434  \n",
       "tax                     0.46   0.4456   0.5639  "
      ]
     },
     "execution_count": 25,
     "metadata": {},
     "output_type": "execute_result"
    }
   ],
   "source": [
    "psb.summary_table"
   ]
  },
  {
   "cell_type": "code",
   "execution_count": 26,
   "metadata": {},
   "outputs": [
    {
     "data": {
      "text/html": [
       "<style type=\"text/css\">\n",
       "</style>\n",
       "<table id=\"T_c3256_\">\n",
       "  <caption>Pairs Bootstrap results with 1000 obs and 1000 BS reps using HC3 SE-s and 95.00% Studentized CI</caption>\n",
       "  <thead>\n",
       "    <tr>\n",
       "      <th class=\"blank level0\" >&nbsp;</th>\n",
       "      <th class=\"col_heading level0 col0\" >ols_params</th>\n",
       "      <th class=\"col_heading level0 col1\" >avg_bs_params</th>\n",
       "      <th class=\"col_heading level0 col2\" >bias</th>\n",
       "      <th class=\"col_heading level0 col3\" >ols_params_se</th>\n",
       "      <th class=\"col_heading level0 col4\" >bs_params_se</th>\n",
       "      <th class=\"col_heading level0 col5\" >perc_of_se_diff</th>\n",
       "      <th class=\"col_heading level0 col6\" >ci_lower</th>\n",
       "      <th class=\"col_heading level0 col7\" >ci_upper</th>\n",
       "    </tr>\n",
       "    <tr>\n",
       "      <th class=\"index_name level0\" >var</th>\n",
       "      <th class=\"blank col0\" >&nbsp;</th>\n",
       "      <th class=\"blank col1\" >&nbsp;</th>\n",
       "      <th class=\"blank col2\" >&nbsp;</th>\n",
       "      <th class=\"blank col3\" >&nbsp;</th>\n",
       "      <th class=\"blank col4\" >&nbsp;</th>\n",
       "      <th class=\"blank col5\" >&nbsp;</th>\n",
       "      <th class=\"blank col6\" >&nbsp;</th>\n",
       "      <th class=\"blank col7\" >&nbsp;</th>\n",
       "    </tr>\n",
       "  </thead>\n",
       "  <tbody>\n",
       "    <tr>\n",
       "      <th id=\"T_c3256_level0_row0\" class=\"row_heading level0 row0\" >const</th>\n",
       "      <td id=\"T_c3256_row0_col0\" class=\"data row0 col0\" >6.0961</td>\n",
       "      <td id=\"T_c3256_row0_col1\" class=\"data row0 col1\" >6.1032</td>\n",
       "      <td id=\"T_c3256_row0_col2\" class=\"data row0 col2\" >0.0071</td>\n",
       "      <td id=\"T_c3256_row0_col3\" class=\"data row0 col3\" >0.1392</td>\n",
       "      <td id=\"T_c3256_row0_col4\" class=\"data row0 col4\" >0.1316</td>\n",
       "      <td id=\"T_c3256_row0_col5\" class=\"data row0 col5\" >5.4</td>\n",
       "      <td id=\"T_c3256_row0_col6\" class=\"data row0 col6\" >5.837</td>\n",
       "      <td id=\"T_c3256_row0_col7\" class=\"data row0 col7\" >6.3762</td>\n",
       "    </tr>\n",
       "    <tr>\n",
       "      <th id=\"T_c3256_level0_row1\" class=\"row_heading level0 row1\" >tanass_clean</th>\n",
       "      <td id=\"T_c3256_row1_col0\" class=\"data row1 col0\" >0.2021</td>\n",
       "      <td id=\"T_c3256_row1_col1\" class=\"data row1 col1\" >0.2017</td>\n",
       "      <td id=\"T_c3256_row1_col2\" class=\"data row1 col2\" >0.0004</td>\n",
       "      <td id=\"T_c3256_row1_col3\" class=\"data row1 col3\" >0.0181</td>\n",
       "      <td id=\"T_c3256_row1_col4\" class=\"data row1 col4\" >0.0184</td>\n",
       "      <td id=\"T_c3256_row1_col5\" class=\"data row1 col5\" >-1.93</td>\n",
       "      <td id=\"T_c3256_row1_col6\" class=\"data row1 col6\" >0.1653</td>\n",
       "      <td id=\"T_c3256_row1_col7\" class=\"data row1 col7\" >0.2396</td>\n",
       "    </tr>\n",
       "    <tr>\n",
       "      <th id=\"T_c3256_level0_row2\" class=\"row_heading level0 row2\" >tax</th>\n",
       "      <td id=\"T_c3256_row2_col0\" class=\"data row2 col0\" >0.5048</td>\n",
       "      <td id=\"T_c3256_row2_col1\" class=\"data row2 col1\" >0.5038</td>\n",
       "      <td id=\"T_c3256_row2_col2\" class=\"data row2 col2\" >0.001</td>\n",
       "      <td id=\"T_c3256_row2_col3\" class=\"data row2 col3\" >0.0296</td>\n",
       "      <td id=\"T_c3256_row2_col4\" class=\"data row2 col4\" >0.0295</td>\n",
       "      <td id=\"T_c3256_row2_col5\" class=\"data row2 col5\" >0.46</td>\n",
       "      <td id=\"T_c3256_row2_col6\" class=\"data row2 col6\" >0.4477</td>\n",
       "      <td id=\"T_c3256_row2_col7\" class=\"data row2 col7\" >0.5656</td>\n",
       "    </tr>\n",
       "  </tbody>\n",
       "</table>\n"
      ],
      "text/plain": [
       "<pandas.io.formats.style.Styler at 0x7fbc3298e880>"
      ]
     },
     "metadata": {},
     "output_type": "display_data"
    }
   ],
   "source": [
    "psb_t.summary()"
   ]
  },
  {
   "cell_type": "code",
   "execution_count": 27,
   "metadata": {},
   "outputs": [
    {
     "data": {
      "text/html": [
       "<style type=\"text/css\">\n",
       "</style>\n",
       "<table id=\"T_d3f4d_\">\n",
       "  <caption>Residual Bootstrap results with 1000 obs and 1000 BS reps using HC3 SE-s and 95.00% BC CI</caption>\n",
       "  <thead>\n",
       "    <tr>\n",
       "      <th class=\"blank level0\" >&nbsp;</th>\n",
       "      <th class=\"col_heading level0 col0\" >ols_params</th>\n",
       "      <th class=\"col_heading level0 col1\" >avg_bs_params</th>\n",
       "      <th class=\"col_heading level0 col2\" >bias</th>\n",
       "      <th class=\"col_heading level0 col3\" >ols_params_se</th>\n",
       "      <th class=\"col_heading level0 col4\" >bs_params_se</th>\n",
       "      <th class=\"col_heading level0 col5\" >perc_of_se_diff</th>\n",
       "      <th class=\"col_heading level0 col6\" >ci_lower</th>\n",
       "      <th class=\"col_heading level0 col7\" >ci_upper</th>\n",
       "    </tr>\n",
       "    <tr>\n",
       "      <th class=\"index_name level0\" >var</th>\n",
       "      <th class=\"blank col0\" >&nbsp;</th>\n",
       "      <th class=\"blank col1\" >&nbsp;</th>\n",
       "      <th class=\"blank col2\" >&nbsp;</th>\n",
       "      <th class=\"blank col3\" >&nbsp;</th>\n",
       "      <th class=\"blank col4\" >&nbsp;</th>\n",
       "      <th class=\"blank col5\" >&nbsp;</th>\n",
       "      <th class=\"blank col6\" >&nbsp;</th>\n",
       "      <th class=\"blank col7\" >&nbsp;</th>\n",
       "    </tr>\n",
       "  </thead>\n",
       "  <tbody>\n",
       "    <tr>\n",
       "      <th id=\"T_d3f4d_level0_row0\" class=\"row_heading level0 row0\" >const</th>\n",
       "      <td id=\"T_d3f4d_row0_col0\" class=\"data row0 col0\" >6.0961</td>\n",
       "      <td id=\"T_d3f4d_row0_col1\" class=\"data row0 col1\" >6.0986</td>\n",
       "      <td id=\"T_d3f4d_row0_col2\" class=\"data row0 col2\" >0.0025</td>\n",
       "      <td id=\"T_d3f4d_row0_col3\" class=\"data row0 col3\" >0.1392</td>\n",
       "      <td id=\"T_d3f4d_row0_col4\" class=\"data row0 col4\" >0.112</td>\n",
       "      <td id=\"T_d3f4d_row0_col5\" class=\"data row0 col5\" >19.49</td>\n",
       "      <td id=\"T_d3f4d_row0_col6\" class=\"data row0 col6\" >5.8756</td>\n",
       "      <td id=\"T_d3f4d_row0_col7\" class=\"data row0 col7\" >6.3158</td>\n",
       "    </tr>\n",
       "    <tr>\n",
       "      <th id=\"T_d3f4d_level0_row1\" class=\"row_heading level0 row1\" >tanass_clean</th>\n",
       "      <td id=\"T_d3f4d_row1_col0\" class=\"data row1 col0\" >0.2021</td>\n",
       "      <td id=\"T_d3f4d_row1_col1\" class=\"data row1 col1\" >0.2014</td>\n",
       "      <td id=\"T_d3f4d_row1_col2\" class=\"data row1 col2\" >0.0007</td>\n",
       "      <td id=\"T_d3f4d_row1_col3\" class=\"data row1 col3\" >0.0181</td>\n",
       "      <td id=\"T_d3f4d_row1_col4\" class=\"data row1 col4\" >0.0127</td>\n",
       "      <td id=\"T_d3f4d_row1_col5\" class=\"data row1 col5\" >29.69</td>\n",
       "      <td id=\"T_d3f4d_row1_col6\" class=\"data row1 col6\" >0.1783</td>\n",
       "      <td id=\"T_d3f4d_row1_col7\" class=\"data row1 col7\" >0.2284</td>\n",
       "    </tr>\n",
       "    <tr>\n",
       "      <th id=\"T_d3f4d_level0_row2\" class=\"row_heading level0 row2\" >tax</th>\n",
       "      <td id=\"T_d3f4d_row2_col0\" class=\"data row2 col0\" >0.5048</td>\n",
       "      <td id=\"T_d3f4d_row2_col1\" class=\"data row2 col1\" >0.5055</td>\n",
       "      <td id=\"T_d3f4d_row2_col2\" class=\"data row2 col2\" >0.0007</td>\n",
       "      <td id=\"T_d3f4d_row2_col3\" class=\"data row2 col3\" >0.0296</td>\n",
       "      <td id=\"T_d3f4d_row2_col4\" class=\"data row2 col4\" >0.0218</td>\n",
       "      <td id=\"T_d3f4d_row2_col5\" class=\"data row2 col5\" >26.49</td>\n",
       "      <td id=\"T_d3f4d_row2_col6\" class=\"data row2 col6\" >0.4592</td>\n",
       "      <td id=\"T_d3f4d_row2_col7\" class=\"data row2 col7\" >0.543</td>\n",
       "    </tr>\n",
       "  </tbody>\n",
       "</table>\n"
      ],
      "text/plain": [
       "<pandas.io.formats.style.Styler at 0x7fbc3298e0d0>"
      ]
     },
     "metadata": {},
     "output_type": "display_data"
    }
   ],
   "source": [
    "rsb_not_scaled.summary()"
   ]
  },
  {
   "cell_type": "code",
   "execution_count": 28,
   "metadata": {},
   "outputs": [
    {
     "data": {
      "text/html": [
       "<style type=\"text/css\">\n",
       "</style>\n",
       "<table id=\"T_2ef0a_\">\n",
       "  <caption>Residual Bootstrap results with 1000 obs and 1000 BS reps using HC3 SE-s and 95.00% BC CI</caption>\n",
       "  <thead>\n",
       "    <tr>\n",
       "      <th class=\"blank level0\" >&nbsp;</th>\n",
       "      <th class=\"col_heading level0 col0\" >ols_params</th>\n",
       "      <th class=\"col_heading level0 col1\" >avg_bs_params</th>\n",
       "      <th class=\"col_heading level0 col2\" >bias</th>\n",
       "      <th class=\"col_heading level0 col3\" >ols_params_se</th>\n",
       "      <th class=\"col_heading level0 col4\" >bs_params_se</th>\n",
       "      <th class=\"col_heading level0 col5\" >perc_of_se_diff</th>\n",
       "      <th class=\"col_heading level0 col6\" >ci_lower</th>\n",
       "      <th class=\"col_heading level0 col7\" >ci_upper</th>\n",
       "    </tr>\n",
       "    <tr>\n",
       "      <th class=\"index_name level0\" >var</th>\n",
       "      <th class=\"blank col0\" >&nbsp;</th>\n",
       "      <th class=\"blank col1\" >&nbsp;</th>\n",
       "      <th class=\"blank col2\" >&nbsp;</th>\n",
       "      <th class=\"blank col3\" >&nbsp;</th>\n",
       "      <th class=\"blank col4\" >&nbsp;</th>\n",
       "      <th class=\"blank col5\" >&nbsp;</th>\n",
       "      <th class=\"blank col6\" >&nbsp;</th>\n",
       "      <th class=\"blank col7\" >&nbsp;</th>\n",
       "    </tr>\n",
       "  </thead>\n",
       "  <tbody>\n",
       "    <tr>\n",
       "      <th id=\"T_2ef0a_level0_row0\" class=\"row_heading level0 row0\" >const</th>\n",
       "      <td id=\"T_2ef0a_row0_col0\" class=\"data row0 col0\" >6.0961</td>\n",
       "      <td id=\"T_2ef0a_row0_col1\" class=\"data row0 col1\" >6.0992</td>\n",
       "      <td id=\"T_2ef0a_row0_col2\" class=\"data row0 col2\" >0.0031</td>\n",
       "      <td id=\"T_2ef0a_row0_col3\" class=\"data row0 col3\" >0.1392</td>\n",
       "      <td id=\"T_2ef0a_row0_col4\" class=\"data row0 col4\" >0.1125</td>\n",
       "      <td id=\"T_2ef0a_row0_col5\" class=\"data row0 col5\" >19.12</td>\n",
       "      <td id=\"T_2ef0a_row0_col6\" class=\"data row0 col6\" >5.8748</td>\n",
       "      <td id=\"T_2ef0a_row0_col7\" class=\"data row0 col7\" >6.3168</td>\n",
       "    </tr>\n",
       "    <tr>\n",
       "      <th id=\"T_2ef0a_level0_row1\" class=\"row_heading level0 row1\" >tanass_clean</th>\n",
       "      <td id=\"T_2ef0a_row1_col0\" class=\"data row1 col0\" >0.2021</td>\n",
       "      <td id=\"T_2ef0a_row1_col1\" class=\"data row1 col1\" >0.2014</td>\n",
       "      <td id=\"T_2ef0a_row1_col2\" class=\"data row1 col2\" >0.0007</td>\n",
       "      <td id=\"T_2ef0a_row1_col3\" class=\"data row1 col3\" >0.0181</td>\n",
       "      <td id=\"T_2ef0a_row1_col4\" class=\"data row1 col4\" >0.0128</td>\n",
       "      <td id=\"T_2ef0a_row1_col5\" class=\"data row1 col5\" >29.37</td>\n",
       "      <td id=\"T_2ef0a_row1_col6\" class=\"data row1 col6\" >0.1782</td>\n",
       "      <td id=\"T_2ef0a_row1_col7\" class=\"data row1 col7\" >0.2284</td>\n",
       "    </tr>\n",
       "    <tr>\n",
       "      <th id=\"T_2ef0a_level0_row2\" class=\"row_heading level0 row2\" >tax</th>\n",
       "      <td id=\"T_2ef0a_row2_col0\" class=\"data row2 col0\" >0.5048</td>\n",
       "      <td id=\"T_2ef0a_row2_col1\" class=\"data row2 col1\" >0.5055</td>\n",
       "      <td id=\"T_2ef0a_row2_col2\" class=\"data row2 col2\" >0.0007</td>\n",
       "      <td id=\"T_2ef0a_row2_col3\" class=\"data row2 col3\" >0.0296</td>\n",
       "      <td id=\"T_2ef0a_row2_col4\" class=\"data row2 col4\" >0.0219</td>\n",
       "      <td id=\"T_2ef0a_row2_col5\" class=\"data row2 col5\" >26.15</td>\n",
       "      <td id=\"T_2ef0a_row2_col6\" class=\"data row2 col6\" >0.459</td>\n",
       "      <td id=\"T_2ef0a_row2_col7\" class=\"data row2 col7\" >0.5432</td>\n",
       "    </tr>\n",
       "  </tbody>\n",
       "</table>\n"
      ],
      "text/plain": [
       "<pandas.io.formats.style.Styler at 0x7fbc3298ea30>"
      ]
     },
     "metadata": {},
     "output_type": "display_data"
    }
   ],
   "source": [
    "rsb.summary()"
   ]
  },
  {
   "cell_type": "code",
   "execution_count": 29,
   "metadata": {},
   "outputs": [
    {
     "data": {
      "text/html": [
       "<style type=\"text/css\">\n",
       "</style>\n",
       "<table id=\"T_4e2d4_\">\n",
       "  <caption>Residual Bootstrap results with 1000 obs and 1000 BS reps using HC3 SE-s and 95.00% Studentized CI</caption>\n",
       "  <thead>\n",
       "    <tr>\n",
       "      <th class=\"blank level0\" >&nbsp;</th>\n",
       "      <th class=\"col_heading level0 col0\" >ols_params</th>\n",
       "      <th class=\"col_heading level0 col1\" >avg_bs_params</th>\n",
       "      <th class=\"col_heading level0 col2\" >bias</th>\n",
       "      <th class=\"col_heading level0 col3\" >ols_params_se</th>\n",
       "      <th class=\"col_heading level0 col4\" >bs_params_se</th>\n",
       "      <th class=\"col_heading level0 col5\" >perc_of_se_diff</th>\n",
       "      <th class=\"col_heading level0 col6\" >ci_lower</th>\n",
       "      <th class=\"col_heading level0 col7\" >ci_upper</th>\n",
       "    </tr>\n",
       "    <tr>\n",
       "      <th class=\"index_name level0\" >var</th>\n",
       "      <th class=\"blank col0\" >&nbsp;</th>\n",
       "      <th class=\"blank col1\" >&nbsp;</th>\n",
       "      <th class=\"blank col2\" >&nbsp;</th>\n",
       "      <th class=\"blank col3\" >&nbsp;</th>\n",
       "      <th class=\"blank col4\" >&nbsp;</th>\n",
       "      <th class=\"blank col5\" >&nbsp;</th>\n",
       "      <th class=\"blank col6\" >&nbsp;</th>\n",
       "      <th class=\"blank col7\" >&nbsp;</th>\n",
       "    </tr>\n",
       "  </thead>\n",
       "  <tbody>\n",
       "    <tr>\n",
       "      <th id=\"T_4e2d4_level0_row0\" class=\"row_heading level0 row0\" >const</th>\n",
       "      <td id=\"T_4e2d4_row0_col0\" class=\"data row0 col0\" >6.0961</td>\n",
       "      <td id=\"T_4e2d4_row0_col1\" class=\"data row0 col1\" >6.0992</td>\n",
       "      <td id=\"T_4e2d4_row0_col2\" class=\"data row0 col2\" >0.0031</td>\n",
       "      <td id=\"T_4e2d4_row0_col3\" class=\"data row0 col3\" >0.1392</td>\n",
       "      <td id=\"T_4e2d4_row0_col4\" class=\"data row0 col4\" >0.1125</td>\n",
       "      <td id=\"T_4e2d4_row0_col5\" class=\"data row0 col5\" >19.12</td>\n",
       "      <td id=\"T_4e2d4_row0_col6\" class=\"data row0 col6\" >5.8137</td>\n",
       "      <td id=\"T_4e2d4_row0_col7\" class=\"data row0 col7\" >6.3639</td>\n",
       "    </tr>\n",
       "    <tr>\n",
       "      <th id=\"T_4e2d4_level0_row1\" class=\"row_heading level0 row1\" >tanass_clean</th>\n",
       "      <td id=\"T_4e2d4_row1_col0\" class=\"data row1 col0\" >0.2021</td>\n",
       "      <td id=\"T_4e2d4_row1_col1\" class=\"data row1 col1\" >0.2014</td>\n",
       "      <td id=\"T_4e2d4_row1_col2\" class=\"data row1 col2\" >0.0007</td>\n",
       "      <td id=\"T_4e2d4_row1_col3\" class=\"data row1 col3\" >0.0181</td>\n",
       "      <td id=\"T_4e2d4_row1_col4\" class=\"data row1 col4\" >0.0128</td>\n",
       "      <td id=\"T_4e2d4_row1_col5\" class=\"data row1 col5\" >29.37</td>\n",
       "      <td id=\"T_4e2d4_row1_col6\" class=\"data row1 col6\" >0.168</td>\n",
       "      <td id=\"T_4e2d4_row1_col7\" class=\"data row1 col7\" >0.2373</td>\n",
       "    </tr>\n",
       "    <tr>\n",
       "      <th id=\"T_4e2d4_level0_row2\" class=\"row_heading level0 row2\" >tax</th>\n",
       "      <td id=\"T_4e2d4_row2_col0\" class=\"data row2 col0\" >0.5048</td>\n",
       "      <td id=\"T_4e2d4_row2_col1\" class=\"data row2 col1\" >0.5055</td>\n",
       "      <td id=\"T_4e2d4_row2_col2\" class=\"data row2 col2\" >0.0007</td>\n",
       "      <td id=\"T_4e2d4_row2_col3\" class=\"data row2 col3\" >0.0296</td>\n",
       "      <td id=\"T_4e2d4_row2_col4\" class=\"data row2 col4\" >0.0219</td>\n",
       "      <td id=\"T_4e2d4_row2_col5\" class=\"data row2 col5\" >26.15</td>\n",
       "      <td id=\"T_4e2d4_row2_col6\" class=\"data row2 col6\" >0.4464</td>\n",
       "      <td id=\"T_4e2d4_row2_col7\" class=\"data row2 col7\" >0.5657</td>\n",
       "    </tr>\n",
       "  </tbody>\n",
       "</table>\n"
      ],
      "text/plain": [
       "<pandas.io.formats.style.Styler at 0x7fbc3298ea00>"
      ]
     },
     "metadata": {},
     "output_type": "display_data"
    }
   ],
   "source": [
    "rsb_t.summary()"
   ]
  },
  {
   "cell_type": "code",
   "execution_count": 30,
   "metadata": {},
   "outputs": [
    {
     "data": {
      "text/html": [
       "<style type=\"text/css\">\n",
       "</style>\n",
       "<table id=\"T_e8623_\">\n",
       "  <caption>Wild Bootstrap with Uniform results with 1000 obs and 1000 BS reps using HC3 SE-s and 95.00% BC CI</caption>\n",
       "  <thead>\n",
       "    <tr>\n",
       "      <th class=\"blank level0\" >&nbsp;</th>\n",
       "      <th class=\"col_heading level0 col0\" >ols_params</th>\n",
       "      <th class=\"col_heading level0 col1\" >avg_bs_params</th>\n",
       "      <th class=\"col_heading level0 col2\" >bias</th>\n",
       "      <th class=\"col_heading level0 col3\" >ols_params_se</th>\n",
       "      <th class=\"col_heading level0 col4\" >bs_params_se</th>\n",
       "      <th class=\"col_heading level0 col5\" >perc_of_se_diff</th>\n",
       "      <th class=\"col_heading level0 col6\" >ci_lower</th>\n",
       "      <th class=\"col_heading level0 col7\" >ci_upper</th>\n",
       "    </tr>\n",
       "    <tr>\n",
       "      <th class=\"index_name level0\" >var</th>\n",
       "      <th class=\"blank col0\" >&nbsp;</th>\n",
       "      <th class=\"blank col1\" >&nbsp;</th>\n",
       "      <th class=\"blank col2\" >&nbsp;</th>\n",
       "      <th class=\"blank col3\" >&nbsp;</th>\n",
       "      <th class=\"blank col4\" >&nbsp;</th>\n",
       "      <th class=\"blank col5\" >&nbsp;</th>\n",
       "      <th class=\"blank col6\" >&nbsp;</th>\n",
       "      <th class=\"blank col7\" >&nbsp;</th>\n",
       "    </tr>\n",
       "  </thead>\n",
       "  <tbody>\n",
       "    <tr>\n",
       "      <th id=\"T_e8623_level0_row0\" class=\"row_heading level0 row0\" >const</th>\n",
       "      <td id=\"T_e8623_row0_col0\" class=\"data row0 col0\" >6.0961</td>\n",
       "      <td id=\"T_e8623_row0_col1\" class=\"data row0 col1\" >6.0912</td>\n",
       "      <td id=\"T_e8623_row0_col2\" class=\"data row0 col2\" >0.0049</td>\n",
       "      <td id=\"T_e8623_row0_col3\" class=\"data row0 col3\" >0.1392</td>\n",
       "      <td id=\"T_e8623_row0_col4\" class=\"data row0 col4\" >0.1421</td>\n",
       "      <td id=\"T_e8623_row0_col5\" class=\"data row0 col5\" >-2.1</td>\n",
       "      <td id=\"T_e8623_row0_col6\" class=\"data row0 col6\" >5.8206</td>\n",
       "      <td id=\"T_e8623_row0_col7\" class=\"data row0 col7\" >6.3764</td>\n",
       "    </tr>\n",
       "    <tr>\n",
       "      <th id=\"T_e8623_level0_row1\" class=\"row_heading level0 row1\" >tanass_clean</th>\n",
       "      <td id=\"T_e8623_row1_col0\" class=\"data row1 col0\" >0.2021</td>\n",
       "      <td id=\"T_e8623_row1_col1\" class=\"data row1 col1\" >0.2028</td>\n",
       "      <td id=\"T_e8623_row1_col2\" class=\"data row1 col2\" >0.0007</td>\n",
       "      <td id=\"T_e8623_row1_col3\" class=\"data row1 col3\" >0.0181</td>\n",
       "      <td id=\"T_e8623_row1_col4\" class=\"data row1 col4\" >0.0184</td>\n",
       "      <td id=\"T_e8623_row1_col5\" class=\"data row1 col5\" >-1.77</td>\n",
       "      <td id=\"T_e8623_row1_col6\" class=\"data row1 col6\" >0.1639</td>\n",
       "      <td id=\"T_e8623_row1_col7\" class=\"data row1 col7\" >0.2378</td>\n",
       "    </tr>\n",
       "    <tr>\n",
       "      <th id=\"T_e8623_level0_row2\" class=\"row_heading level0 row2\" >tax</th>\n",
       "      <td id=\"T_e8623_row2_col0\" class=\"data row2 col0\" >0.5048</td>\n",
       "      <td id=\"T_e8623_row2_col1\" class=\"data row2 col1\" >0.5051</td>\n",
       "      <td id=\"T_e8623_row2_col2\" class=\"data row2 col2\" >0.0004</td>\n",
       "      <td id=\"T_e8623_row2_col3\" class=\"data row2 col3\" >0.0296</td>\n",
       "      <td id=\"T_e8623_row2_col4\" class=\"data row2 col4\" >0.0302</td>\n",
       "      <td id=\"T_e8623_row2_col5\" class=\"data row2 col5\" >-1.87</td>\n",
       "      <td id=\"T_e8623_row2_col6\" class=\"data row2 col6\" >0.445</td>\n",
       "      <td id=\"T_e8623_row2_col7\" class=\"data row2 col7\" >0.5645</td>\n",
       "    </tr>\n",
       "  </tbody>\n",
       "</table>\n"
      ],
      "text/plain": [
       "<pandas.io.formats.style.Styler at 0x7fbc3298ea30>"
      ]
     },
     "metadata": {},
     "output_type": "display_data"
    }
   ],
   "source": [
    "wb_unif.summary()"
   ]
  },
  {
   "cell_type": "code",
   "execution_count": 31,
   "metadata": {},
   "outputs": [
    {
     "data": {
      "text/html": [
       "<style type=\"text/css\">\n",
       "</style>\n",
       "<table id=\"T_21ebe_\">\n",
       "  <caption>Wild Bootstrap with Standard Normal results with 1000 obs and 1000 BS reps using HC3 SE-s and 95.00% BC CI</caption>\n",
       "  <thead>\n",
       "    <tr>\n",
       "      <th class=\"blank level0\" >&nbsp;</th>\n",
       "      <th class=\"col_heading level0 col0\" >ols_params</th>\n",
       "      <th class=\"col_heading level0 col1\" >avg_bs_params</th>\n",
       "      <th class=\"col_heading level0 col2\" >bias</th>\n",
       "      <th class=\"col_heading level0 col3\" >ols_params_se</th>\n",
       "      <th class=\"col_heading level0 col4\" >bs_params_se</th>\n",
       "      <th class=\"col_heading level0 col5\" >perc_of_se_diff</th>\n",
       "      <th class=\"col_heading level0 col6\" >ci_lower</th>\n",
       "      <th class=\"col_heading level0 col7\" >ci_upper</th>\n",
       "    </tr>\n",
       "    <tr>\n",
       "      <th class=\"index_name level0\" >var</th>\n",
       "      <th class=\"blank col0\" >&nbsp;</th>\n",
       "      <th class=\"blank col1\" >&nbsp;</th>\n",
       "      <th class=\"blank col2\" >&nbsp;</th>\n",
       "      <th class=\"blank col3\" >&nbsp;</th>\n",
       "      <th class=\"blank col4\" >&nbsp;</th>\n",
       "      <th class=\"blank col5\" >&nbsp;</th>\n",
       "      <th class=\"blank col6\" >&nbsp;</th>\n",
       "      <th class=\"blank col7\" >&nbsp;</th>\n",
       "    </tr>\n",
       "  </thead>\n",
       "  <tbody>\n",
       "    <tr>\n",
       "      <th id=\"T_21ebe_level0_row0\" class=\"row_heading level0 row0\" >const</th>\n",
       "      <td id=\"T_21ebe_row0_col0\" class=\"data row0 col0\" >6.0961</td>\n",
       "      <td id=\"T_21ebe_row0_col1\" class=\"data row0 col1\" >6.0914</td>\n",
       "      <td id=\"T_21ebe_row0_col2\" class=\"data row0 col2\" >0.0047</td>\n",
       "      <td id=\"T_21ebe_row0_col3\" class=\"data row0 col3\" >0.1392</td>\n",
       "      <td id=\"T_21ebe_row0_col4\" class=\"data row0 col4\" >0.1392</td>\n",
       "      <td id=\"T_21ebe_row0_col5\" class=\"data row0 col5\" >-0.05</td>\n",
       "      <td id=\"T_21ebe_row0_col6\" class=\"data row0 col6\" >5.8175</td>\n",
       "      <td id=\"T_21ebe_row0_col7\" class=\"data row0 col7\" >6.356</td>\n",
       "    </tr>\n",
       "    <tr>\n",
       "      <th id=\"T_21ebe_level0_row1\" class=\"row_heading level0 row1\" >tanass_clean</th>\n",
       "      <td id=\"T_21ebe_row1_col0\" class=\"data row1 col0\" >0.2021</td>\n",
       "      <td id=\"T_21ebe_row1_col1\" class=\"data row1 col1\" >0.202</td>\n",
       "      <td id=\"T_21ebe_row1_col2\" class=\"data row1 col2\" >0.0001</td>\n",
       "      <td id=\"T_21ebe_row1_col3\" class=\"data row1 col3\" >0.0181</td>\n",
       "      <td id=\"T_21ebe_row1_col4\" class=\"data row1 col4\" >0.018</td>\n",
       "      <td id=\"T_21ebe_row1_col5\" class=\"data row1 col5\" >0.12</td>\n",
       "      <td id=\"T_21ebe_row1_col6\" class=\"data row1 col6\" >0.1661</td>\n",
       "      <td id=\"T_21ebe_row1_col7\" class=\"data row1 col7\" >0.2371</td>\n",
       "    </tr>\n",
       "    <tr>\n",
       "      <th id=\"T_21ebe_level0_row2\" class=\"row_heading level0 row2\" >tax</th>\n",
       "      <td id=\"T_21ebe_row2_col0\" class=\"data row2 col0\" >0.5048</td>\n",
       "      <td id=\"T_21ebe_row2_col1\" class=\"data row2 col1\" >0.5058</td>\n",
       "      <td id=\"T_21ebe_row2_col2\" class=\"data row2 col2\" >0.0011</td>\n",
       "      <td id=\"T_21ebe_row2_col3\" class=\"data row2 col3\" >0.0296</td>\n",
       "      <td id=\"T_21ebe_row2_col4\" class=\"data row2 col4\" >0.0292</td>\n",
       "      <td id=\"T_21ebe_row2_col5\" class=\"data row2 col5\" >1.38</td>\n",
       "      <td id=\"T_21ebe_row2_col6\" class=\"data row2 col6\" >0.4496</td>\n",
       "      <td id=\"T_21ebe_row2_col7\" class=\"data row2 col7\" >0.5619</td>\n",
       "    </tr>\n",
       "  </tbody>\n",
       "</table>\n"
      ],
      "text/plain": [
       "<pandas.io.formats.style.Styler at 0x7fbc3298e9d0>"
      ]
     },
     "metadata": {},
     "output_type": "display_data"
    }
   ],
   "source": [
    "wb_stdn.summary()"
   ]
  },
  {
   "cell_type": "code",
   "execution_count": 32,
   "metadata": {},
   "outputs": [
    {
     "data": {
      "text/html": [
       "<style type=\"text/css\">\n",
       "</style>\n",
       "<table id=\"T_24094_\">\n",
       "  <caption>Wild Bootstrap with Rademacher results with 1000 obs and 1000 BS reps using HC3 SE-s and 95.00% BC CI</caption>\n",
       "  <thead>\n",
       "    <tr>\n",
       "      <th class=\"blank level0\" >&nbsp;</th>\n",
       "      <th class=\"col_heading level0 col0\" >ols_params</th>\n",
       "      <th class=\"col_heading level0 col1\" >avg_bs_params</th>\n",
       "      <th class=\"col_heading level0 col2\" >bias</th>\n",
       "      <th class=\"col_heading level0 col3\" >ols_params_se</th>\n",
       "      <th class=\"col_heading level0 col4\" >bs_params_se</th>\n",
       "      <th class=\"col_heading level0 col5\" >perc_of_se_diff</th>\n",
       "      <th class=\"col_heading level0 col6\" >ci_lower</th>\n",
       "      <th class=\"col_heading level0 col7\" >ci_upper</th>\n",
       "    </tr>\n",
       "    <tr>\n",
       "      <th class=\"index_name level0\" >var</th>\n",
       "      <th class=\"blank col0\" >&nbsp;</th>\n",
       "      <th class=\"blank col1\" >&nbsp;</th>\n",
       "      <th class=\"blank col2\" >&nbsp;</th>\n",
       "      <th class=\"blank col3\" >&nbsp;</th>\n",
       "      <th class=\"blank col4\" >&nbsp;</th>\n",
       "      <th class=\"blank col5\" >&nbsp;</th>\n",
       "      <th class=\"blank col6\" >&nbsp;</th>\n",
       "      <th class=\"blank col7\" >&nbsp;</th>\n",
       "    </tr>\n",
       "  </thead>\n",
       "  <tbody>\n",
       "    <tr>\n",
       "      <th id=\"T_24094_level0_row0\" class=\"row_heading level0 row0\" >const</th>\n",
       "      <td id=\"T_24094_row0_col0\" class=\"data row0 col0\" >6.0961</td>\n",
       "      <td id=\"T_24094_row0_col1\" class=\"data row0 col1\" >6.0982</td>\n",
       "      <td id=\"T_24094_row0_col2\" class=\"data row0 col2\" >0.0021</td>\n",
       "      <td id=\"T_24094_row0_col3\" class=\"data row0 col3\" >0.1392</td>\n",
       "      <td id=\"T_24094_row0_col4\" class=\"data row0 col4\" >0.1396</td>\n",
       "      <td id=\"T_24094_row0_col5\" class=\"data row0 col5\" >-0.3</td>\n",
       "      <td id=\"T_24094_row0_col6\" class=\"data row0 col6\" >5.8374</td>\n",
       "      <td id=\"T_24094_row0_col7\" class=\"data row0 col7\" >6.3663</td>\n",
       "    </tr>\n",
       "    <tr>\n",
       "      <th id=\"T_24094_level0_row1\" class=\"row_heading level0 row1\" >tanass_clean</th>\n",
       "      <td id=\"T_24094_row1_col0\" class=\"data row1 col0\" >0.2021</td>\n",
       "      <td id=\"T_24094_row1_col1\" class=\"data row1 col1\" >0.2016</td>\n",
       "      <td id=\"T_24094_row1_col2\" class=\"data row1 col2\" >0.0005</td>\n",
       "      <td id=\"T_24094_row1_col3\" class=\"data row1 col3\" >0.0181</td>\n",
       "      <td id=\"T_24094_row1_col4\" class=\"data row1 col4\" >0.018</td>\n",
       "      <td id=\"T_24094_row1_col5\" class=\"data row1 col5\" >0.24</td>\n",
       "      <td id=\"T_24094_row1_col6\" class=\"data row1 col6\" >0.1691</td>\n",
       "      <td id=\"T_24094_row1_col7\" class=\"data row1 col7\" >0.2373</td>\n",
       "    </tr>\n",
       "    <tr>\n",
       "      <th id=\"T_24094_level0_row2\" class=\"row_heading level0 row2\" >tax</th>\n",
       "      <td id=\"T_24094_row2_col0\" class=\"data row2 col0\" >0.5048</td>\n",
       "      <td id=\"T_24094_row2_col1\" class=\"data row2 col1\" >0.5043</td>\n",
       "      <td id=\"T_24094_row2_col2\" class=\"data row2 col2\" >0.0004</td>\n",
       "      <td id=\"T_24094_row2_col3\" class=\"data row2 col3\" >0.0296</td>\n",
       "      <td id=\"T_24094_row2_col4\" class=\"data row2 col4\" >0.0288</td>\n",
       "      <td id=\"T_24094_row2_col5\" class=\"data row2 col5\" >2.71</td>\n",
       "      <td id=\"T_24094_row2_col6\" class=\"data row2 col6\" >0.4483</td>\n",
       "      <td id=\"T_24094_row2_col7\" class=\"data row2 col7\" >0.5597</td>\n",
       "    </tr>\n",
       "  </tbody>\n",
       "</table>\n"
      ],
      "text/plain": [
       "<pandas.io.formats.style.Styler at 0x7fbc3298eaf0>"
      ]
     },
     "metadata": {},
     "output_type": "display_data"
    }
   ],
   "source": [
    "wb_rad_not_scaled.summary()"
   ]
  },
  {
   "cell_type": "code",
   "execution_count": 33,
   "metadata": {},
   "outputs": [
    {
     "data": {
      "text/html": [
       "<style type=\"text/css\">\n",
       "</style>\n",
       "<table id=\"T_47a67_\">\n",
       "  <caption>Wild Bootstrap with Rademacher results with 1000 obs and 1000 BS reps using HC3 SE-s and 95.00% BC CI</caption>\n",
       "  <thead>\n",
       "    <tr>\n",
       "      <th class=\"blank level0\" >&nbsp;</th>\n",
       "      <th class=\"col_heading level0 col0\" >ols_params</th>\n",
       "      <th class=\"col_heading level0 col1\" >avg_bs_params</th>\n",
       "      <th class=\"col_heading level0 col2\" >bias</th>\n",
       "      <th class=\"col_heading level0 col3\" >ols_params_se</th>\n",
       "      <th class=\"col_heading level0 col4\" >bs_params_se</th>\n",
       "      <th class=\"col_heading level0 col5\" >perc_of_se_diff</th>\n",
       "      <th class=\"col_heading level0 col6\" >ci_lower</th>\n",
       "      <th class=\"col_heading level0 col7\" >ci_upper</th>\n",
       "    </tr>\n",
       "    <tr>\n",
       "      <th class=\"index_name level0\" >var</th>\n",
       "      <th class=\"blank col0\" >&nbsp;</th>\n",
       "      <th class=\"blank col1\" >&nbsp;</th>\n",
       "      <th class=\"blank col2\" >&nbsp;</th>\n",
       "      <th class=\"blank col3\" >&nbsp;</th>\n",
       "      <th class=\"blank col4\" >&nbsp;</th>\n",
       "      <th class=\"blank col5\" >&nbsp;</th>\n",
       "      <th class=\"blank col6\" >&nbsp;</th>\n",
       "      <th class=\"blank col7\" >&nbsp;</th>\n",
       "    </tr>\n",
       "  </thead>\n",
       "  <tbody>\n",
       "    <tr>\n",
       "      <th id=\"T_47a67_level0_row0\" class=\"row_heading level0 row0\" >const</th>\n",
       "      <td id=\"T_47a67_row0_col0\" class=\"data row0 col0\" >6.0961</td>\n",
       "      <td id=\"T_47a67_row0_col1\" class=\"data row0 col1\" >6.0982</td>\n",
       "      <td id=\"T_47a67_row0_col2\" class=\"data row0 col2\" >0.0021</td>\n",
       "      <td id=\"T_47a67_row0_col3\" class=\"data row0 col3\" >0.1392</td>\n",
       "      <td id=\"T_47a67_row0_col4\" class=\"data row0 col4\" >0.1403</td>\n",
       "      <td id=\"T_47a67_row0_col5\" class=\"data row0 col5\" >-0.79</td>\n",
       "      <td id=\"T_47a67_row0_col6\" class=\"data row0 col6\" >5.8361</td>\n",
       "      <td id=\"T_47a67_row0_col7\" class=\"data row0 col7\" >6.3677</td>\n",
       "    </tr>\n",
       "    <tr>\n",
       "      <th id=\"T_47a67_level0_row1\" class=\"row_heading level0 row1\" >tanass_clean</th>\n",
       "      <td id=\"T_47a67_row1_col0\" class=\"data row1 col0\" >0.2021</td>\n",
       "      <td id=\"T_47a67_row1_col1\" class=\"data row1 col1\" >0.2016</td>\n",
       "      <td id=\"T_47a67_row1_col2\" class=\"data row1 col2\" >0.0005</td>\n",
       "      <td id=\"T_47a67_row1_col3\" class=\"data row1 col3\" >0.0181</td>\n",
       "      <td id=\"T_47a67_row1_col4\" class=\"data row1 col4\" >0.0182</td>\n",
       "      <td id=\"T_47a67_row1_col5\" class=\"data row1 col5\" >-0.54</td>\n",
       "      <td id=\"T_47a67_row1_col6\" class=\"data row1 col6\" >0.1688</td>\n",
       "      <td id=\"T_47a67_row1_col7\" class=\"data row1 col7\" >0.2375</td>\n",
       "    </tr>\n",
       "    <tr>\n",
       "      <th id=\"T_47a67_level0_row2\" class=\"row_heading level0 row2\" >tax</th>\n",
       "      <td id=\"T_47a67_row2_col0\" class=\"data row2 col0\" >0.5048</td>\n",
       "      <td id=\"T_47a67_row2_col1\" class=\"data row2 col1\" >0.5043</td>\n",
       "      <td id=\"T_47a67_row2_col2\" class=\"data row2 col2\" >0.0004</td>\n",
       "      <td id=\"T_47a67_row2_col3\" class=\"data row2 col3\" >0.0296</td>\n",
       "      <td id=\"T_47a67_row2_col4\" class=\"data row2 col4\" >0.029</td>\n",
       "      <td id=\"T_47a67_row2_col5\" class=\"data row2 col5\" >2.0</td>\n",
       "      <td id=\"T_47a67_row2_col6\" class=\"data row2 col6\" >0.4479</td>\n",
       "      <td id=\"T_47a67_row2_col7\" class=\"data row2 col7\" >0.5603</td>\n",
       "    </tr>\n",
       "  </tbody>\n",
       "</table>\n"
      ],
      "text/plain": [
       "<pandas.io.formats.style.Styler at 0x7fbc3298e2b0>"
      ]
     },
     "metadata": {},
     "output_type": "display_data"
    }
   ],
   "source": [
    "wb_rad.summary()"
   ]
  },
  {
   "cell_type": "code",
   "execution_count": 34,
   "metadata": {},
   "outputs": [
    {
     "data": {
      "text/html": [
       "<style type=\"text/css\">\n",
       "</style>\n",
       "<table id=\"T_e1104_\">\n",
       "  <caption>Wild Bootstrap with Rademacher results with 1000 obs and 1000 BS reps using HC3 SE-s and 95.00% BCa CI</caption>\n",
       "  <thead>\n",
       "    <tr>\n",
       "      <th class=\"blank level0\" >&nbsp;</th>\n",
       "      <th class=\"col_heading level0 col0\" >ols_params</th>\n",
       "      <th class=\"col_heading level0 col1\" >avg_bs_params</th>\n",
       "      <th class=\"col_heading level0 col2\" >bias</th>\n",
       "      <th class=\"col_heading level0 col3\" >ols_params_se</th>\n",
       "      <th class=\"col_heading level0 col4\" >bs_params_se</th>\n",
       "      <th class=\"col_heading level0 col5\" >perc_of_se_diff</th>\n",
       "      <th class=\"col_heading level0 col6\" >ci_lower</th>\n",
       "      <th class=\"col_heading level0 col7\" >ci_upper</th>\n",
       "    </tr>\n",
       "    <tr>\n",
       "      <th class=\"index_name level0\" >var</th>\n",
       "      <th class=\"blank col0\" >&nbsp;</th>\n",
       "      <th class=\"blank col1\" >&nbsp;</th>\n",
       "      <th class=\"blank col2\" >&nbsp;</th>\n",
       "      <th class=\"blank col3\" >&nbsp;</th>\n",
       "      <th class=\"blank col4\" >&nbsp;</th>\n",
       "      <th class=\"blank col5\" >&nbsp;</th>\n",
       "      <th class=\"blank col6\" >&nbsp;</th>\n",
       "      <th class=\"blank col7\" >&nbsp;</th>\n",
       "    </tr>\n",
       "  </thead>\n",
       "  <tbody>\n",
       "    <tr>\n",
       "      <th id=\"T_e1104_level0_row0\" class=\"row_heading level0 row0\" >const</th>\n",
       "      <td id=\"T_e1104_row0_col0\" class=\"data row0 col0\" >6.0961</td>\n",
       "      <td id=\"T_e1104_row0_col1\" class=\"data row0 col1\" >6.0982</td>\n",
       "      <td id=\"T_e1104_row0_col2\" class=\"data row0 col2\" >0.0021</td>\n",
       "      <td id=\"T_e1104_row0_col3\" class=\"data row0 col3\" >0.1392</td>\n",
       "      <td id=\"T_e1104_row0_col4\" class=\"data row0 col4\" >0.1403</td>\n",
       "      <td id=\"T_e1104_row0_col5\" class=\"data row0 col5\" >-0.79</td>\n",
       "      <td id=\"T_e1104_row0_col6\" class=\"data row0 col6\" >5.8358</td>\n",
       "      <td id=\"T_e1104_row0_col7\" class=\"data row0 col7\" >6.3674</td>\n",
       "    </tr>\n",
       "    <tr>\n",
       "      <th id=\"T_e1104_level0_row1\" class=\"row_heading level0 row1\" >tanass_clean</th>\n",
       "      <td id=\"T_e1104_row1_col0\" class=\"data row1 col0\" >0.2021</td>\n",
       "      <td id=\"T_e1104_row1_col1\" class=\"data row1 col1\" >0.2016</td>\n",
       "      <td id=\"T_e1104_row1_col2\" class=\"data row1 col2\" >0.0005</td>\n",
       "      <td id=\"T_e1104_row1_col3\" class=\"data row1 col3\" >0.0181</td>\n",
       "      <td id=\"T_e1104_row1_col4\" class=\"data row1 col4\" >0.0182</td>\n",
       "      <td id=\"T_e1104_row1_col5\" class=\"data row1 col5\" >-0.54</td>\n",
       "      <td id=\"T_e1104_row1_col6\" class=\"data row1 col6\" >0.1696</td>\n",
       "      <td id=\"T_e1104_row1_col7\" class=\"data row1 col7\" >0.238</td>\n",
       "    </tr>\n",
       "    <tr>\n",
       "      <th id=\"T_e1104_level0_row2\" class=\"row_heading level0 row2\" >tax</th>\n",
       "      <td id=\"T_e1104_row2_col0\" class=\"data row2 col0\" >0.5048</td>\n",
       "      <td id=\"T_e1104_row2_col1\" class=\"data row2 col1\" >0.5043</td>\n",
       "      <td id=\"T_e1104_row2_col2\" class=\"data row2 col2\" >0.0004</td>\n",
       "      <td id=\"T_e1104_row2_col3\" class=\"data row2 col3\" >0.0296</td>\n",
       "      <td id=\"T_e1104_row2_col4\" class=\"data row2 col4\" >0.029</td>\n",
       "      <td id=\"T_e1104_row2_col5\" class=\"data row2 col5\" >2.0</td>\n",
       "      <td id=\"T_e1104_row2_col6\" class=\"data row2 col6\" >0.4474</td>\n",
       "      <td id=\"T_e1104_row2_col7\" class=\"data row2 col7\" >0.5593</td>\n",
       "    </tr>\n",
       "  </tbody>\n",
       "</table>\n"
      ],
      "text/plain": [
       "<pandas.io.formats.style.Styler at 0x7fbc329b8c10>"
      ]
     },
     "metadata": {},
     "output_type": "display_data"
    }
   ],
   "source": [
    "wb_rad_bca.summary()"
   ]
  },
  {
   "cell_type": "code",
   "execution_count": 35,
   "metadata": {},
   "outputs": [
    {
     "data": {
      "text/html": [
       "<style type=\"text/css\">\n",
       "</style>\n",
       "<table id=\"T_24fa8_\">\n",
       "  <caption>Wild Bootstrap with Rademacher results with 1000 obs and 1000 BS reps using HC3 SE-s and 95.00% BCa CI</caption>\n",
       "  <thead>\n",
       "    <tr>\n",
       "      <th class=\"blank level0\" >&nbsp;</th>\n",
       "      <th class=\"col_heading level0 col0\" >ols_params</th>\n",
       "      <th class=\"col_heading level0 col1\" >avg_bs_params</th>\n",
       "      <th class=\"col_heading level0 col2\" >bias</th>\n",
       "      <th class=\"col_heading level0 col3\" >ols_params_se</th>\n",
       "      <th class=\"col_heading level0 col4\" >bs_params_se</th>\n",
       "      <th class=\"col_heading level0 col5\" >perc_of_se_diff</th>\n",
       "      <th class=\"col_heading level0 col6\" >ci_lower</th>\n",
       "      <th class=\"col_heading level0 col7\" >ci_upper</th>\n",
       "    </tr>\n",
       "    <tr>\n",
       "      <th class=\"index_name level0\" >var</th>\n",
       "      <th class=\"blank col0\" >&nbsp;</th>\n",
       "      <th class=\"blank col1\" >&nbsp;</th>\n",
       "      <th class=\"blank col2\" >&nbsp;</th>\n",
       "      <th class=\"blank col3\" >&nbsp;</th>\n",
       "      <th class=\"blank col4\" >&nbsp;</th>\n",
       "      <th class=\"blank col5\" >&nbsp;</th>\n",
       "      <th class=\"blank col6\" >&nbsp;</th>\n",
       "      <th class=\"blank col7\" >&nbsp;</th>\n",
       "    </tr>\n",
       "  </thead>\n",
       "  <tbody>\n",
       "    <tr>\n",
       "      <th id=\"T_24fa8_level0_row0\" class=\"row_heading level0 row0\" >const</th>\n",
       "      <td id=\"T_24fa8_row0_col0\" class=\"data row0 col0\" >6.0961</td>\n",
       "      <td id=\"T_24fa8_row0_col1\" class=\"data row0 col1\" >6.0982</td>\n",
       "      <td id=\"T_24fa8_row0_col2\" class=\"data row0 col2\" >0.0021</td>\n",
       "      <td id=\"T_24fa8_row0_col3\" class=\"data row0 col3\" >0.1392</td>\n",
       "      <td id=\"T_24fa8_row0_col4\" class=\"data row0 col4\" >0.1403</td>\n",
       "      <td id=\"T_24fa8_row0_col5\" class=\"data row0 col5\" >-0.79</td>\n",
       "      <td id=\"T_24fa8_row0_col6\" class=\"data row0 col6\" >5.8301</td>\n",
       "      <td id=\"T_24fa8_row0_col7\" class=\"data row0 col7\" >6.366</td>\n",
       "    </tr>\n",
       "    <tr>\n",
       "      <th id=\"T_24fa8_level0_row1\" class=\"row_heading level0 row1\" >tanass_clean</th>\n",
       "      <td id=\"T_24fa8_row1_col0\" class=\"data row1 col0\" >0.2021</td>\n",
       "      <td id=\"T_24fa8_row1_col1\" class=\"data row1 col1\" >0.2016</td>\n",
       "      <td id=\"T_24fa8_row1_col2\" class=\"data row1 col2\" >0.0005</td>\n",
       "      <td id=\"T_24fa8_row1_col3\" class=\"data row1 col3\" >0.0181</td>\n",
       "      <td id=\"T_24fa8_row1_col4\" class=\"data row1 col4\" >0.0182</td>\n",
       "      <td id=\"T_24fa8_row1_col5\" class=\"data row1 col5\" >-0.54</td>\n",
       "      <td id=\"T_24fa8_row1_col6\" class=\"data row1 col6\" >0.1702</td>\n",
       "      <td id=\"T_24fa8_row1_col7\" class=\"data row1 col7\" >0.2393</td>\n",
       "    </tr>\n",
       "    <tr>\n",
       "      <th id=\"T_24fa8_level0_row2\" class=\"row_heading level0 row2\" >tax</th>\n",
       "      <td id=\"T_24fa8_row2_col0\" class=\"data row2 col0\" >0.5048</td>\n",
       "      <td id=\"T_24fa8_row2_col1\" class=\"data row2 col1\" >0.5043</td>\n",
       "      <td id=\"T_24fa8_row2_col2\" class=\"data row2 col2\" >0.0004</td>\n",
       "      <td id=\"T_24fa8_row2_col3\" class=\"data row2 col3\" >0.0296</td>\n",
       "      <td id=\"T_24fa8_row2_col4\" class=\"data row2 col4\" >0.029</td>\n",
       "      <td id=\"T_24fa8_row2_col5\" class=\"data row2 col5\" >2.0</td>\n",
       "      <td id=\"T_24fa8_row2_col6\" class=\"data row2 col6\" >0.4473</td>\n",
       "      <td id=\"T_24fa8_row2_col7\" class=\"data row2 col7\" >0.559</td>\n",
       "    </tr>\n",
       "  </tbody>\n",
       "</table>\n"
      ],
      "text/plain": [
       "<pandas.io.formats.style.Styler at 0x7fbc329b8f70>"
      ]
     },
     "metadata": {},
     "output_type": "display_data"
    }
   ],
   "source": [
    "wb_rad_bca_jack = WildBootstrap(Y_data, X_data, reps = 1000, ci_type='bca', from_distro = \"rademacher\", subset_jack_ratio=0.5, seed = 42) #using partial jacknife estimation for a_hat acceleration param \n",
    "wb_rad_bca_jack.fit()\n",
    "wb_rad_bca_jack.summary()"
   ]
  },
  {
   "cell_type": "code",
   "execution_count": 36,
   "metadata": {},
   "outputs": [
    {
     "data": {
      "text/html": [
       "<style type=\"text/css\">\n",
       "</style>\n",
       "<table id=\"T_1a74f_\">\n",
       "  <caption>Wild Bootstrap with Rademacher results with 1000 obs and 1000 BS reps using HC3 SE-s and 95.00% Studentized CI</caption>\n",
       "  <thead>\n",
       "    <tr>\n",
       "      <th class=\"blank level0\" >&nbsp;</th>\n",
       "      <th class=\"col_heading level0 col0\" >ols_params</th>\n",
       "      <th class=\"col_heading level0 col1\" >avg_bs_params</th>\n",
       "      <th class=\"col_heading level0 col2\" >bias</th>\n",
       "      <th class=\"col_heading level0 col3\" >ols_params_se</th>\n",
       "      <th class=\"col_heading level0 col4\" >bs_params_se</th>\n",
       "      <th class=\"col_heading level0 col5\" >perc_of_se_diff</th>\n",
       "      <th class=\"col_heading level0 col6\" >ci_lower</th>\n",
       "      <th class=\"col_heading level0 col7\" >ci_upper</th>\n",
       "    </tr>\n",
       "    <tr>\n",
       "      <th class=\"index_name level0\" >var</th>\n",
       "      <th class=\"blank col0\" >&nbsp;</th>\n",
       "      <th class=\"blank col1\" >&nbsp;</th>\n",
       "      <th class=\"blank col2\" >&nbsp;</th>\n",
       "      <th class=\"blank col3\" >&nbsp;</th>\n",
       "      <th class=\"blank col4\" >&nbsp;</th>\n",
       "      <th class=\"blank col5\" >&nbsp;</th>\n",
       "      <th class=\"blank col6\" >&nbsp;</th>\n",
       "      <th class=\"blank col7\" >&nbsp;</th>\n",
       "    </tr>\n",
       "  </thead>\n",
       "  <tbody>\n",
       "    <tr>\n",
       "      <th id=\"T_1a74f_level0_row0\" class=\"row_heading level0 row0\" >const</th>\n",
       "      <td id=\"T_1a74f_row0_col0\" class=\"data row0 col0\" >6.0961</td>\n",
       "      <td id=\"T_1a74f_row0_col1\" class=\"data row0 col1\" >6.0982</td>\n",
       "      <td id=\"T_1a74f_row0_col2\" class=\"data row0 col2\" >0.0021</td>\n",
       "      <td id=\"T_1a74f_row0_col3\" class=\"data row0 col3\" >0.1392</td>\n",
       "      <td id=\"T_1a74f_row0_col4\" class=\"data row0 col4\" >0.1403</td>\n",
       "      <td id=\"T_1a74f_row0_col5\" class=\"data row0 col5\" >-0.79</td>\n",
       "      <td id=\"T_1a74f_row0_col6\" class=\"data row0 col6\" >5.826</td>\n",
       "      <td id=\"T_1a74f_row0_col7\" class=\"data row0 col7\" >6.3629</td>\n",
       "    </tr>\n",
       "    <tr>\n",
       "      <th id=\"T_1a74f_level0_row1\" class=\"row_heading level0 row1\" >tanass_clean</th>\n",
       "      <td id=\"T_1a74f_row1_col0\" class=\"data row1 col0\" >0.2021</td>\n",
       "      <td id=\"T_1a74f_row1_col1\" class=\"data row1 col1\" >0.2016</td>\n",
       "      <td id=\"T_1a74f_row1_col2\" class=\"data row1 col2\" >0.0005</td>\n",
       "      <td id=\"T_1a74f_row1_col3\" class=\"data row1 col3\" >0.0181</td>\n",
       "      <td id=\"T_1a74f_row1_col4\" class=\"data row1 col4\" >0.0182</td>\n",
       "      <td id=\"T_1a74f_row1_col5\" class=\"data row1 col5\" >-0.54</td>\n",
       "      <td id=\"T_1a74f_row1_col6\" class=\"data row1 col6\" >0.1671</td>\n",
       "      <td id=\"T_1a74f_row1_col7\" class=\"data row1 col7\" >0.2371</td>\n",
       "    </tr>\n",
       "    <tr>\n",
       "      <th id=\"T_1a74f_level0_row2\" class=\"row_heading level0 row2\" >tax</th>\n",
       "      <td id=\"T_1a74f_row2_col0\" class=\"data row2 col0\" >0.5048</td>\n",
       "      <td id=\"T_1a74f_row2_col1\" class=\"data row2 col1\" >0.5043</td>\n",
       "      <td id=\"T_1a74f_row2_col2\" class=\"data row2 col2\" >0.0004</td>\n",
       "      <td id=\"T_1a74f_row2_col3\" class=\"data row2 col3\" >0.0296</td>\n",
       "      <td id=\"T_1a74f_row2_col4\" class=\"data row2 col4\" >0.029</td>\n",
       "      <td id=\"T_1a74f_row2_col5\" class=\"data row2 col5\" >2.0</td>\n",
       "      <td id=\"T_1a74f_row2_col6\" class=\"data row2 col6\" >0.4491</td>\n",
       "      <td id=\"T_1a74f_row2_col7\" class=\"data row2 col7\" >0.5618</td>\n",
       "    </tr>\n",
       "  </tbody>\n",
       "</table>\n"
      ],
      "text/plain": [
       "<pandas.io.formats.style.Styler at 0x7fbc329c03d0>"
      ]
     },
     "metadata": {},
     "output_type": "display_data"
    }
   ],
   "source": [
    "wb_rad_t.summary()"
   ]
  },
  {
   "cell_type": "code",
   "execution_count": 37,
   "metadata": {},
   "outputs": [
    {
     "data": {
      "text/html": [
       "<style type=\"text/css\">\n",
       "</style>\n",
       "<table id=\"T_db0aa_\">\n",
       "  <caption>Wild Bootstrap with Rademacher results with 1000 obs and 1000 BS reps using HC3 SE-s and 95.00% Empirical CI</caption>\n",
       "  <thead>\n",
       "    <tr>\n",
       "      <th class=\"blank level0\" >&nbsp;</th>\n",
       "      <th class=\"col_heading level0 col0\" >ols_params</th>\n",
       "      <th class=\"col_heading level0 col1\" >avg_bs_params</th>\n",
       "      <th class=\"col_heading level0 col2\" >bias</th>\n",
       "      <th class=\"col_heading level0 col3\" >ols_params_se</th>\n",
       "      <th class=\"col_heading level0 col4\" >bs_params_se</th>\n",
       "      <th class=\"col_heading level0 col5\" >perc_of_se_diff</th>\n",
       "      <th class=\"col_heading level0 col6\" >ci_lower</th>\n",
       "      <th class=\"col_heading level0 col7\" >ci_upper</th>\n",
       "    </tr>\n",
       "    <tr>\n",
       "      <th class=\"index_name level0\" >var</th>\n",
       "      <th class=\"blank col0\" >&nbsp;</th>\n",
       "      <th class=\"blank col1\" >&nbsp;</th>\n",
       "      <th class=\"blank col2\" >&nbsp;</th>\n",
       "      <th class=\"blank col3\" >&nbsp;</th>\n",
       "      <th class=\"blank col4\" >&nbsp;</th>\n",
       "      <th class=\"blank col5\" >&nbsp;</th>\n",
       "      <th class=\"blank col6\" >&nbsp;</th>\n",
       "      <th class=\"blank col7\" >&nbsp;</th>\n",
       "    </tr>\n",
       "  </thead>\n",
       "  <tbody>\n",
       "    <tr>\n",
       "      <th id=\"T_db0aa_level0_row0\" class=\"row_heading level0 row0\" >const</th>\n",
       "      <td id=\"T_db0aa_row0_col0\" class=\"data row0 col0\" >6.0961</td>\n",
       "      <td id=\"T_db0aa_row0_col1\" class=\"data row0 col1\" >6.0982</td>\n",
       "      <td id=\"T_db0aa_row0_col2\" class=\"data row0 col2\" >0.0021</td>\n",
       "      <td id=\"T_db0aa_row0_col3\" class=\"data row0 col3\" >0.1392</td>\n",
       "      <td id=\"T_db0aa_row0_col4\" class=\"data row0 col4\" >0.1403</td>\n",
       "      <td id=\"T_db0aa_row0_col5\" class=\"data row0 col5\" >-0.79</td>\n",
       "      <td id=\"T_db0aa_row0_col6\" class=\"data row0 col6\" >5.8267</td>\n",
       "      <td id=\"T_db0aa_row0_col7\" class=\"data row0 col7\" >6.3623</td>\n",
       "    </tr>\n",
       "    <tr>\n",
       "      <th id=\"T_db0aa_level0_row1\" class=\"row_heading level0 row1\" >tanass_clean</th>\n",
       "      <td id=\"T_db0aa_row1_col0\" class=\"data row1 col0\" >0.2021</td>\n",
       "      <td id=\"T_db0aa_row1_col1\" class=\"data row1 col1\" >0.2016</td>\n",
       "      <td id=\"T_db0aa_row1_col2\" class=\"data row1 col2\" >0.0005</td>\n",
       "      <td id=\"T_db0aa_row1_col3\" class=\"data row1 col3\" >0.0181</td>\n",
       "      <td id=\"T_db0aa_row1_col4\" class=\"data row1 col4\" >0.0182</td>\n",
       "      <td id=\"T_db0aa_row1_col5\" class=\"data row1 col5\" >-0.54</td>\n",
       "      <td id=\"T_db0aa_row1_col6\" class=\"data row1 col6\" >0.1676</td>\n",
       "      <td id=\"T_db0aa_row1_col7\" class=\"data row1 col7\" >0.2366</td>\n",
       "    </tr>\n",
       "    <tr>\n",
       "      <th id=\"T_db0aa_level0_row2\" class=\"row_heading level0 row2\" >tax</th>\n",
       "      <td id=\"T_db0aa_row2_col0\" class=\"data row2 col0\" >0.5048</td>\n",
       "      <td id=\"T_db0aa_row2_col1\" class=\"data row2 col1\" >0.5043</td>\n",
       "      <td id=\"T_db0aa_row2_col2\" class=\"data row2 col2\" >0.0004</td>\n",
       "      <td id=\"T_db0aa_row2_col3\" class=\"data row2 col3\" >0.0296</td>\n",
       "      <td id=\"T_db0aa_row2_col4\" class=\"data row2 col4\" >0.029</td>\n",
       "      <td id=\"T_db0aa_row2_col5\" class=\"data row2 col5\" >2.0</td>\n",
       "      <td id=\"T_db0aa_row2_col6\" class=\"data row2 col6\" >0.4496</td>\n",
       "      <td id=\"T_db0aa_row2_col7\" class=\"data row2 col7\" >0.5616</td>\n",
       "    </tr>\n",
       "  </tbody>\n",
       "</table>\n"
      ],
      "text/plain": [
       "<pandas.io.formats.style.Styler at 0x7fbc329c0520>"
      ]
     },
     "metadata": {},
     "output_type": "display_data"
    }
   ],
   "source": [
    "wb_rad_emp.summary()"
   ]
  },
  {
   "cell_type": "code",
   "execution_count": 38,
   "metadata": {},
   "outputs": [
    {
     "data": {
      "text/html": [
       "<style type=\"text/css\">\n",
       "</style>\n",
       "<table id=\"T_34dd8_\">\n",
       "  <caption>Wild Bootstrap with Rademacher results with 1000 obs and 1000 BS reps using HC3 SE-s and 95.00% Percentile CI</caption>\n",
       "  <thead>\n",
       "    <tr>\n",
       "      <th class=\"blank level0\" >&nbsp;</th>\n",
       "      <th class=\"col_heading level0 col0\" >ols_params</th>\n",
       "      <th class=\"col_heading level0 col1\" >avg_bs_params</th>\n",
       "      <th class=\"col_heading level0 col2\" >bias</th>\n",
       "      <th class=\"col_heading level0 col3\" >ols_params_se</th>\n",
       "      <th class=\"col_heading level0 col4\" >bs_params_se</th>\n",
       "      <th class=\"col_heading level0 col5\" >perc_of_se_diff</th>\n",
       "      <th class=\"col_heading level0 col6\" >ci_lower</th>\n",
       "      <th class=\"col_heading level0 col7\" >ci_upper</th>\n",
       "    </tr>\n",
       "    <tr>\n",
       "      <th class=\"index_name level0\" >var</th>\n",
       "      <th class=\"blank col0\" >&nbsp;</th>\n",
       "      <th class=\"blank col1\" >&nbsp;</th>\n",
       "      <th class=\"blank col2\" >&nbsp;</th>\n",
       "      <th class=\"blank col3\" >&nbsp;</th>\n",
       "      <th class=\"blank col4\" >&nbsp;</th>\n",
       "      <th class=\"blank col5\" >&nbsp;</th>\n",
       "      <th class=\"blank col6\" >&nbsp;</th>\n",
       "      <th class=\"blank col7\" >&nbsp;</th>\n",
       "    </tr>\n",
       "  </thead>\n",
       "  <tbody>\n",
       "    <tr>\n",
       "      <th id=\"T_34dd8_level0_row0\" class=\"row_heading level0 row0\" >const</th>\n",
       "      <td id=\"T_34dd8_row0_col0\" class=\"data row0 col0\" >6.0961</td>\n",
       "      <td id=\"T_34dd8_row0_col1\" class=\"data row0 col1\" >6.0982</td>\n",
       "      <td id=\"T_34dd8_row0_col2\" class=\"data row0 col2\" >0.0021</td>\n",
       "      <td id=\"T_34dd8_row0_col3\" class=\"data row0 col3\" >0.1392</td>\n",
       "      <td id=\"T_34dd8_row0_col4\" class=\"data row0 col4\" >0.1403</td>\n",
       "      <td id=\"T_34dd8_row0_col5\" class=\"data row0 col5\" >-0.79</td>\n",
       "      <td id=\"T_34dd8_row0_col6\" class=\"data row0 col6\" >5.8299</td>\n",
       "      <td id=\"T_34dd8_row0_col7\" class=\"data row0 col7\" >6.3655</td>\n",
       "    </tr>\n",
       "    <tr>\n",
       "      <th id=\"T_34dd8_level0_row1\" class=\"row_heading level0 row1\" >tanass_clean</th>\n",
       "      <td id=\"T_34dd8_row1_col0\" class=\"data row1 col0\" >0.2021</td>\n",
       "      <td id=\"T_34dd8_row1_col1\" class=\"data row1 col1\" >0.2016</td>\n",
       "      <td id=\"T_34dd8_row1_col2\" class=\"data row1 col2\" >0.0005</td>\n",
       "      <td id=\"T_34dd8_row1_col3\" class=\"data row1 col3\" >0.0181</td>\n",
       "      <td id=\"T_34dd8_row1_col4\" class=\"data row1 col4\" >0.0182</td>\n",
       "      <td id=\"T_34dd8_row1_col5\" class=\"data row1 col5\" >-0.54</td>\n",
       "      <td id=\"T_34dd8_row1_col6\" class=\"data row1 col6\" >0.1676</td>\n",
       "      <td id=\"T_34dd8_row1_col7\" class=\"data row1 col7\" >0.2366</td>\n",
       "    </tr>\n",
       "    <tr>\n",
       "      <th id=\"T_34dd8_level0_row2\" class=\"row_heading level0 row2\" >tax</th>\n",
       "      <td id=\"T_34dd8_row2_col0\" class=\"data row2 col0\" >0.5048</td>\n",
       "      <td id=\"T_34dd8_row2_col1\" class=\"data row2 col1\" >0.5043</td>\n",
       "      <td id=\"T_34dd8_row2_col2\" class=\"data row2 col2\" >0.0004</td>\n",
       "      <td id=\"T_34dd8_row2_col3\" class=\"data row2 col3\" >0.0296</td>\n",
       "      <td id=\"T_34dd8_row2_col4\" class=\"data row2 col4\" >0.029</td>\n",
       "      <td id=\"T_34dd8_row2_col5\" class=\"data row2 col5\" >2.0</td>\n",
       "      <td id=\"T_34dd8_row2_col6\" class=\"data row2 col6\" >0.4479</td>\n",
       "      <td id=\"T_34dd8_row2_col7\" class=\"data row2 col7\" >0.5599</td>\n",
       "    </tr>\n",
       "  </tbody>\n",
       "</table>\n"
      ],
      "text/plain": [
       "<pandas.io.formats.style.Styler at 0x7fbc329c0100>"
      ]
     },
     "metadata": {},
     "output_type": "display_data"
    }
   ],
   "source": [
    "wb_rad_perc.summary()"
   ]
  },
  {
   "cell_type": "code",
   "execution_count": 39,
   "metadata": {},
   "outputs": [
    {
     "data": {
      "text/html": [
       "<style type=\"text/css\">\n",
       "</style>\n",
       "<table id=\"T_cf303_\">\n",
       "  <caption>Wild Bootstrap with Rademacher results with 1000 obs and 1000 BS reps using HC3 SE-s and 95.00% Basic CI</caption>\n",
       "  <thead>\n",
       "    <tr>\n",
       "      <th class=\"blank level0\" >&nbsp;</th>\n",
       "      <th class=\"col_heading level0 col0\" >ols_params</th>\n",
       "      <th class=\"col_heading level0 col1\" >avg_bs_params</th>\n",
       "      <th class=\"col_heading level0 col2\" >bias</th>\n",
       "      <th class=\"col_heading level0 col3\" >ols_params_se</th>\n",
       "      <th class=\"col_heading level0 col4\" >bs_params_se</th>\n",
       "      <th class=\"col_heading level0 col5\" >perc_of_se_diff</th>\n",
       "      <th class=\"col_heading level0 col6\" >ci_lower</th>\n",
       "      <th class=\"col_heading level0 col7\" >ci_upper</th>\n",
       "    </tr>\n",
       "    <tr>\n",
       "      <th class=\"index_name level0\" >var</th>\n",
       "      <th class=\"blank col0\" >&nbsp;</th>\n",
       "      <th class=\"blank col1\" >&nbsp;</th>\n",
       "      <th class=\"blank col2\" >&nbsp;</th>\n",
       "      <th class=\"blank col3\" >&nbsp;</th>\n",
       "      <th class=\"blank col4\" >&nbsp;</th>\n",
       "      <th class=\"blank col5\" >&nbsp;</th>\n",
       "      <th class=\"blank col6\" >&nbsp;</th>\n",
       "      <th class=\"blank col7\" >&nbsp;</th>\n",
       "    </tr>\n",
       "  </thead>\n",
       "  <tbody>\n",
       "    <tr>\n",
       "      <th id=\"T_cf303_level0_row0\" class=\"row_heading level0 row0\" >const</th>\n",
       "      <td id=\"T_cf303_row0_col0\" class=\"data row0 col0\" >6.0961</td>\n",
       "      <td id=\"T_cf303_row0_col1\" class=\"data row0 col1\" >6.0982</td>\n",
       "      <td id=\"T_cf303_row0_col2\" class=\"data row0 col2\" >0.0021</td>\n",
       "      <td id=\"T_cf303_row0_col3\" class=\"data row0 col3\" >0.1392</td>\n",
       "      <td id=\"T_cf303_row0_col4\" class=\"data row0 col4\" >0.1403</td>\n",
       "      <td id=\"T_cf303_row0_col5\" class=\"data row0 col5\" >-0.79</td>\n",
       "      <td id=\"T_cf303_row0_col6\" class=\"data row0 col6\" >5.8267</td>\n",
       "      <td id=\"T_cf303_row0_col7\" class=\"data row0 col7\" >6.3623</td>\n",
       "    </tr>\n",
       "    <tr>\n",
       "      <th id=\"T_cf303_level0_row1\" class=\"row_heading level0 row1\" >tanass_clean</th>\n",
       "      <td id=\"T_cf303_row1_col0\" class=\"data row1 col0\" >0.2021</td>\n",
       "      <td id=\"T_cf303_row1_col1\" class=\"data row1 col1\" >0.2016</td>\n",
       "      <td id=\"T_cf303_row1_col2\" class=\"data row1 col2\" >0.0005</td>\n",
       "      <td id=\"T_cf303_row1_col3\" class=\"data row1 col3\" >0.0181</td>\n",
       "      <td id=\"T_cf303_row1_col4\" class=\"data row1 col4\" >0.0182</td>\n",
       "      <td id=\"T_cf303_row1_col5\" class=\"data row1 col5\" >-0.54</td>\n",
       "      <td id=\"T_cf303_row1_col6\" class=\"data row1 col6\" >0.1676</td>\n",
       "      <td id=\"T_cf303_row1_col7\" class=\"data row1 col7\" >0.2366</td>\n",
       "    </tr>\n",
       "    <tr>\n",
       "      <th id=\"T_cf303_level0_row2\" class=\"row_heading level0 row2\" >tax</th>\n",
       "      <td id=\"T_cf303_row2_col0\" class=\"data row2 col0\" >0.5048</td>\n",
       "      <td id=\"T_cf303_row2_col1\" class=\"data row2 col1\" >0.5043</td>\n",
       "      <td id=\"T_cf303_row2_col2\" class=\"data row2 col2\" >0.0004</td>\n",
       "      <td id=\"T_cf303_row2_col3\" class=\"data row2 col3\" >0.0296</td>\n",
       "      <td id=\"T_cf303_row2_col4\" class=\"data row2 col4\" >0.029</td>\n",
       "      <td id=\"T_cf303_row2_col5\" class=\"data row2 col5\" >2.0</td>\n",
       "      <td id=\"T_cf303_row2_col6\" class=\"data row2 col6\" >0.4496</td>\n",
       "      <td id=\"T_cf303_row2_col7\" class=\"data row2 col7\" >0.5616</td>\n",
       "    </tr>\n",
       "  </tbody>\n",
       "</table>\n"
      ],
      "text/plain": [
       "<pandas.io.formats.style.Styler at 0x7fbc329c0280>"
      ]
     },
     "metadata": {},
     "output_type": "display_data"
    }
   ],
   "source": [
    "wb_rad_basic.summary()"
   ]
  },
  {
   "cell_type": "code",
   "execution_count": 40,
   "metadata": {},
   "outputs": [
    {
     "data": {
      "text/html": [
       "<style type=\"text/css\">\n",
       "</style>\n",
       "<table id=\"T_ae931_\">\n",
       "  <caption>Wild Bootstrap with Webb4 results with 1000 obs and 1000 BS reps using HC3 SE-s and 95.00% BC CI</caption>\n",
       "  <thead>\n",
       "    <tr>\n",
       "      <th class=\"blank level0\" >&nbsp;</th>\n",
       "      <th class=\"col_heading level0 col0\" >ols_params</th>\n",
       "      <th class=\"col_heading level0 col1\" >avg_bs_params</th>\n",
       "      <th class=\"col_heading level0 col2\" >bias</th>\n",
       "      <th class=\"col_heading level0 col3\" >ols_params_se</th>\n",
       "      <th class=\"col_heading level0 col4\" >bs_params_se</th>\n",
       "      <th class=\"col_heading level0 col5\" >perc_of_se_diff</th>\n",
       "      <th class=\"col_heading level0 col6\" >ci_lower</th>\n",
       "      <th class=\"col_heading level0 col7\" >ci_upper</th>\n",
       "    </tr>\n",
       "    <tr>\n",
       "      <th class=\"index_name level0\" >var</th>\n",
       "      <th class=\"blank col0\" >&nbsp;</th>\n",
       "      <th class=\"blank col1\" >&nbsp;</th>\n",
       "      <th class=\"blank col2\" >&nbsp;</th>\n",
       "      <th class=\"blank col3\" >&nbsp;</th>\n",
       "      <th class=\"blank col4\" >&nbsp;</th>\n",
       "      <th class=\"blank col5\" >&nbsp;</th>\n",
       "      <th class=\"blank col6\" >&nbsp;</th>\n",
       "      <th class=\"blank col7\" >&nbsp;</th>\n",
       "    </tr>\n",
       "  </thead>\n",
       "  <tbody>\n",
       "    <tr>\n",
       "      <th id=\"T_ae931_level0_row0\" class=\"row_heading level0 row0\" >const</th>\n",
       "      <td id=\"T_ae931_row0_col0\" class=\"data row0 col0\" >6.0961</td>\n",
       "      <td id=\"T_ae931_row0_col1\" class=\"data row0 col1\" >6.0937</td>\n",
       "      <td id=\"T_ae931_row0_col2\" class=\"data row0 col2\" >0.0024</td>\n",
       "      <td id=\"T_ae931_row0_col3\" class=\"data row0 col3\" >0.1392</td>\n",
       "      <td id=\"T_ae931_row0_col4\" class=\"data row0 col4\" >0.1405</td>\n",
       "      <td id=\"T_ae931_row0_col5\" class=\"data row0 col5\" >-0.99</td>\n",
       "      <td id=\"T_ae931_row0_col6\" class=\"data row0 col6\" >5.8205</td>\n",
       "      <td id=\"T_ae931_row0_col7\" class=\"data row0 col7\" >6.3652</td>\n",
       "    </tr>\n",
       "    <tr>\n",
       "      <th id=\"T_ae931_level0_row1\" class=\"row_heading level0 row1\" >tanass_clean</th>\n",
       "      <td id=\"T_ae931_row1_col0\" class=\"data row1 col0\" >0.2021</td>\n",
       "      <td id=\"T_ae931_row1_col1\" class=\"data row1 col1\" >0.2028</td>\n",
       "      <td id=\"T_ae931_row1_col2\" class=\"data row1 col2\" >0.0007</td>\n",
       "      <td id=\"T_ae931_row1_col3\" class=\"data row1 col3\" >0.0181</td>\n",
       "      <td id=\"T_ae931_row1_col4\" class=\"data row1 col4\" >0.0182</td>\n",
       "      <td id=\"T_ae931_row1_col5\" class=\"data row1 col5\" >-1.0</td>\n",
       "      <td id=\"T_ae931_row1_col6\" class=\"data row1 col6\" >0.1652</td>\n",
       "      <td id=\"T_ae931_row1_col7\" class=\"data row1 col7\" >0.2339</td>\n",
       "    </tr>\n",
       "    <tr>\n",
       "      <th id=\"T_ae931_level0_row2\" class=\"row_heading level0 row2\" >tax</th>\n",
       "      <td id=\"T_ae931_row2_col0\" class=\"data row2 col0\" >0.5048</td>\n",
       "      <td id=\"T_ae931_row2_col1\" class=\"data row2 col1\" >0.5049</td>\n",
       "      <td id=\"T_ae931_row2_col2\" class=\"data row2 col2\" >0.0002</td>\n",
       "      <td id=\"T_ae931_row2_col3\" class=\"data row2 col3\" >0.0296</td>\n",
       "      <td id=\"T_ae931_row2_col4\" class=\"data row2 col4\" >0.0294</td>\n",
       "      <td id=\"T_ae931_row2_col5\" class=\"data row2 col5\" >0.82</td>\n",
       "      <td id=\"T_ae931_row2_col6\" class=\"data row2 col6\" >0.4457</td>\n",
       "      <td id=\"T_ae931_row2_col7\" class=\"data row2 col7\" >0.5631</td>\n",
       "    </tr>\n",
       "  </tbody>\n",
       "</table>\n"
      ],
      "text/plain": [
       "<pandas.io.formats.style.Styler at 0x7fbc329c0730>"
      ]
     },
     "metadata": {},
     "output_type": "display_data"
    }
   ],
   "source": [
    "wb_webb4.summary()"
   ]
  },
  {
   "cell_type": "code",
   "execution_count": 41,
   "metadata": {},
   "outputs": [
    {
     "data": {
      "text/html": [
       "<style type=\"text/css\">\n",
       "</style>\n",
       "<table id=\"T_af0b9_\">\n",
       "  <caption>Wild Bootstrap with Webb6 results with 1000 obs and 1000 BS reps using HC3 SE-s and 95.00% BC CI</caption>\n",
       "  <thead>\n",
       "    <tr>\n",
       "      <th class=\"blank level0\" >&nbsp;</th>\n",
       "      <th class=\"col_heading level0 col0\" >ols_params</th>\n",
       "      <th class=\"col_heading level0 col1\" >avg_bs_params</th>\n",
       "      <th class=\"col_heading level0 col2\" >bias</th>\n",
       "      <th class=\"col_heading level0 col3\" >ols_params_se</th>\n",
       "      <th class=\"col_heading level0 col4\" >bs_params_se</th>\n",
       "      <th class=\"col_heading level0 col5\" >perc_of_se_diff</th>\n",
       "      <th class=\"col_heading level0 col6\" >ci_lower</th>\n",
       "      <th class=\"col_heading level0 col7\" >ci_upper</th>\n",
       "    </tr>\n",
       "    <tr>\n",
       "      <th class=\"index_name level0\" >var</th>\n",
       "      <th class=\"blank col0\" >&nbsp;</th>\n",
       "      <th class=\"blank col1\" >&nbsp;</th>\n",
       "      <th class=\"blank col2\" >&nbsp;</th>\n",
       "      <th class=\"blank col3\" >&nbsp;</th>\n",
       "      <th class=\"blank col4\" >&nbsp;</th>\n",
       "      <th class=\"blank col5\" >&nbsp;</th>\n",
       "      <th class=\"blank col6\" >&nbsp;</th>\n",
       "      <th class=\"blank col7\" >&nbsp;</th>\n",
       "    </tr>\n",
       "  </thead>\n",
       "  <tbody>\n",
       "    <tr>\n",
       "      <th id=\"T_af0b9_level0_row0\" class=\"row_heading level0 row0\" >const</th>\n",
       "      <td id=\"T_af0b9_row0_col0\" class=\"data row0 col0\" >6.0961</td>\n",
       "      <td id=\"T_af0b9_row0_col1\" class=\"data row0 col1\" >6.0925</td>\n",
       "      <td id=\"T_af0b9_row0_col2\" class=\"data row0 col2\" >0.0036</td>\n",
       "      <td id=\"T_af0b9_row0_col3\" class=\"data row0 col3\" >0.1392</td>\n",
       "      <td id=\"T_af0b9_row0_col4\" class=\"data row0 col4\" >0.1407</td>\n",
       "      <td id=\"T_af0b9_row0_col5\" class=\"data row0 col5\" >-1.14</td>\n",
       "      <td id=\"T_af0b9_row0_col6\" class=\"data row0 col6\" >5.816</td>\n",
       "      <td id=\"T_af0b9_row0_col7\" class=\"data row0 col7\" >6.3722</td>\n",
       "    </tr>\n",
       "    <tr>\n",
       "      <th id=\"T_af0b9_level0_row1\" class=\"row_heading level0 row1\" >tanass_clean</th>\n",
       "      <td id=\"T_af0b9_row1_col0\" class=\"data row1 col0\" >0.2021</td>\n",
       "      <td id=\"T_af0b9_row1_col1\" class=\"data row1 col1\" >0.2027</td>\n",
       "      <td id=\"T_af0b9_row1_col2\" class=\"data row1 col2\" >0.0006</td>\n",
       "      <td id=\"T_af0b9_row1_col3\" class=\"data row1 col3\" >0.0181</td>\n",
       "      <td id=\"T_af0b9_row1_col4\" class=\"data row1 col4\" >0.0182</td>\n",
       "      <td id=\"T_af0b9_row1_col5\" class=\"data row1 col5\" >-0.6</td>\n",
       "      <td id=\"T_af0b9_row1_col6\" class=\"data row1 col6\" >0.1655</td>\n",
       "      <td id=\"T_af0b9_row1_col7\" class=\"data row1 col7\" >0.2358</td>\n",
       "    </tr>\n",
       "    <tr>\n",
       "      <th id=\"T_af0b9_level0_row2\" class=\"row_heading level0 row2\" >tax</th>\n",
       "      <td id=\"T_af0b9_row2_col0\" class=\"data row2 col0\" >0.5048</td>\n",
       "      <td id=\"T_af0b9_row2_col1\" class=\"data row2 col1\" >0.5052</td>\n",
       "      <td id=\"T_af0b9_row2_col2\" class=\"data row2 col2\" >0.0005</td>\n",
       "      <td id=\"T_af0b9_row2_col3\" class=\"data row2 col3\" >0.0296</td>\n",
       "      <td id=\"T_af0b9_row2_col4\" class=\"data row2 col4\" >0.0293</td>\n",
       "      <td id=\"T_af0b9_row2_col5\" class=\"data row2 col5\" >0.91</td>\n",
       "      <td id=\"T_af0b9_row2_col6\" class=\"data row2 col6\" >0.4481</td>\n",
       "      <td id=\"T_af0b9_row2_col7\" class=\"data row2 col7\" >0.5611</td>\n",
       "    </tr>\n",
       "  </tbody>\n",
       "</table>\n"
      ],
      "text/plain": [
       "<pandas.io.formats.style.Styler at 0x7fbc329c0c40>"
      ]
     },
     "metadata": {},
     "output_type": "display_data"
    }
   ],
   "source": [
    "wb_webb6.summary()"
   ]
  },
  {
   "cell_type": "code",
   "execution_count": 42,
   "metadata": {},
   "outputs": [
    {
     "data": {
      "text/html": [
       "<style type=\"text/css\">\n",
       "</style>\n",
       "<table id=\"T_0ed04_\">\n",
       "  <caption>Wild Bootstrap with Mammen Cont results with 1000 obs and 1000 BS reps using HC3 SE-s and 95.00% BC CI</caption>\n",
       "  <thead>\n",
       "    <tr>\n",
       "      <th class=\"blank level0\" >&nbsp;</th>\n",
       "      <th class=\"col_heading level0 col0\" >ols_params</th>\n",
       "      <th class=\"col_heading level0 col1\" >avg_bs_params</th>\n",
       "      <th class=\"col_heading level0 col2\" >bias</th>\n",
       "      <th class=\"col_heading level0 col3\" >ols_params_se</th>\n",
       "      <th class=\"col_heading level0 col4\" >bs_params_se</th>\n",
       "      <th class=\"col_heading level0 col5\" >perc_of_se_diff</th>\n",
       "      <th class=\"col_heading level0 col6\" >ci_lower</th>\n",
       "      <th class=\"col_heading level0 col7\" >ci_upper</th>\n",
       "    </tr>\n",
       "    <tr>\n",
       "      <th class=\"index_name level0\" >var</th>\n",
       "      <th class=\"blank col0\" >&nbsp;</th>\n",
       "      <th class=\"blank col1\" >&nbsp;</th>\n",
       "      <th class=\"blank col2\" >&nbsp;</th>\n",
       "      <th class=\"blank col3\" >&nbsp;</th>\n",
       "      <th class=\"blank col4\" >&nbsp;</th>\n",
       "      <th class=\"blank col5\" >&nbsp;</th>\n",
       "      <th class=\"blank col6\" >&nbsp;</th>\n",
       "      <th class=\"blank col7\" >&nbsp;</th>\n",
       "    </tr>\n",
       "  </thead>\n",
       "  <tbody>\n",
       "    <tr>\n",
       "      <th id=\"T_0ed04_level0_row0\" class=\"row_heading level0 row0\" >const</th>\n",
       "      <td id=\"T_0ed04_row0_col0\" class=\"data row0 col0\" >6.0961</td>\n",
       "      <td id=\"T_0ed04_row0_col1\" class=\"data row0 col1\" >6.0967</td>\n",
       "      <td id=\"T_0ed04_row0_col2\" class=\"data row0 col2\" >0.0006</td>\n",
       "      <td id=\"T_0ed04_row0_col3\" class=\"data row0 col3\" >0.1392</td>\n",
       "      <td id=\"T_0ed04_row0_col4\" class=\"data row0 col4\" >0.139</td>\n",
       "      <td id=\"T_0ed04_row0_col5\" class=\"data row0 col5\" >0.13</td>\n",
       "      <td id=\"T_0ed04_row0_col6\" class=\"data row0 col6\" >5.8078</td>\n",
       "      <td id=\"T_0ed04_row0_col7\" class=\"data row0 col7\" >6.3478</td>\n",
       "    </tr>\n",
       "    <tr>\n",
       "      <th id=\"T_0ed04_level0_row1\" class=\"row_heading level0 row1\" >tanass_clean</th>\n",
       "      <td id=\"T_0ed04_row1_col0\" class=\"data row1 col0\" >0.2021</td>\n",
       "      <td id=\"T_0ed04_row1_col1\" class=\"data row1 col1\" >0.2016</td>\n",
       "      <td id=\"T_0ed04_row1_col2\" class=\"data row1 col2\" >0.0005</td>\n",
       "      <td id=\"T_0ed04_row1_col3\" class=\"data row1 col3\" >0.0181</td>\n",
       "      <td id=\"T_0ed04_row1_col4\" class=\"data row1 col4\" >0.0178</td>\n",
       "      <td id=\"T_0ed04_row1_col5\" class=\"data row1 col5\" >1.57</td>\n",
       "      <td id=\"T_0ed04_row1_col6\" class=\"data row1 col6\" >0.1689</td>\n",
       "      <td id=\"T_0ed04_row1_col7\" class=\"data row1 col7\" >0.2405</td>\n",
       "    </tr>\n",
       "    <tr>\n",
       "      <th id=\"T_0ed04_level0_row2\" class=\"row_heading level0 row2\" >tax</th>\n",
       "      <td id=\"T_0ed04_row2_col0\" class=\"data row2 col0\" >0.5048</td>\n",
       "      <td id=\"T_0ed04_row2_col1\" class=\"data row2 col1\" >0.5052</td>\n",
       "      <td id=\"T_0ed04_row2_col2\" class=\"data row2 col2\" >0.0005</td>\n",
       "      <td id=\"T_0ed04_row2_col3\" class=\"data row2 col3\" >0.0296</td>\n",
       "      <td id=\"T_0ed04_row2_col4\" class=\"data row2 col4\" >0.0294</td>\n",
       "      <td id=\"T_0ed04_row2_col5\" class=\"data row2 col5\" >0.74</td>\n",
       "      <td id=\"T_0ed04_row2_col6\" class=\"data row2 col6\" >0.4409</td>\n",
       "      <td id=\"T_0ed04_row2_col7\" class=\"data row2 col7\" >0.5604</td>\n",
       "    </tr>\n",
       "  </tbody>\n",
       "</table>\n"
      ],
      "text/plain": [
       "<pandas.io.formats.style.Styler at 0x7fbc329c0880>"
      ]
     },
     "metadata": {},
     "output_type": "display_data"
    }
   ],
   "source": [
    "wb_cont_mam.summary()"
   ]
  },
  {
   "cell_type": "code",
   "execution_count": 43,
   "metadata": {},
   "outputs": [
    {
     "data": {
      "text/html": [
       "<style type=\"text/css\">\n",
       "</style>\n",
       "<table id=\"T_56e13_\">\n",
       "  <caption>Wild Bootstrap with Mammen results with 1000 obs and 1000 BS reps using HC3 SE-s and 95.00% BC CI</caption>\n",
       "  <thead>\n",
       "    <tr>\n",
       "      <th class=\"blank level0\" >&nbsp;</th>\n",
       "      <th class=\"col_heading level0 col0\" >ols_params</th>\n",
       "      <th class=\"col_heading level0 col1\" >avg_bs_params</th>\n",
       "      <th class=\"col_heading level0 col2\" >bias</th>\n",
       "      <th class=\"col_heading level0 col3\" >ols_params_se</th>\n",
       "      <th class=\"col_heading level0 col4\" >bs_params_se</th>\n",
       "      <th class=\"col_heading level0 col5\" >perc_of_se_diff</th>\n",
       "      <th class=\"col_heading level0 col6\" >ci_lower</th>\n",
       "      <th class=\"col_heading level0 col7\" >ci_upper</th>\n",
       "    </tr>\n",
       "    <tr>\n",
       "      <th class=\"index_name level0\" >var</th>\n",
       "      <th class=\"blank col0\" >&nbsp;</th>\n",
       "      <th class=\"blank col1\" >&nbsp;</th>\n",
       "      <th class=\"blank col2\" >&nbsp;</th>\n",
       "      <th class=\"blank col3\" >&nbsp;</th>\n",
       "      <th class=\"blank col4\" >&nbsp;</th>\n",
       "      <th class=\"blank col5\" >&nbsp;</th>\n",
       "      <th class=\"blank col6\" >&nbsp;</th>\n",
       "      <th class=\"blank col7\" >&nbsp;</th>\n",
       "    </tr>\n",
       "  </thead>\n",
       "  <tbody>\n",
       "    <tr>\n",
       "      <th id=\"T_56e13_level0_row0\" class=\"row_heading level0 row0\" >const</th>\n",
       "      <td id=\"T_56e13_row0_col0\" class=\"data row0 col0\" >6.0961</td>\n",
       "      <td id=\"T_56e13_row0_col1\" class=\"data row0 col1\" >6.0972</td>\n",
       "      <td id=\"T_56e13_row0_col2\" class=\"data row0 col2\" >0.0011</td>\n",
       "      <td id=\"T_56e13_row0_col3\" class=\"data row0 col3\" >0.1392</td>\n",
       "      <td id=\"T_56e13_row0_col4\" class=\"data row0 col4\" >0.1418</td>\n",
       "      <td id=\"T_56e13_row0_col5\" class=\"data row0 col5\" >-1.88</td>\n",
       "      <td id=\"T_56e13_row0_col6\" class=\"data row0 col6\" >5.8174</td>\n",
       "      <td id=\"T_56e13_row0_col7\" class=\"data row0 col7\" >6.3642</td>\n",
       "    </tr>\n",
       "    <tr>\n",
       "      <th id=\"T_56e13_level0_row1\" class=\"row_heading level0 row1\" >tanass_clean</th>\n",
       "      <td id=\"T_56e13_row1_col0\" class=\"data row1 col0\" >0.2021</td>\n",
       "      <td id=\"T_56e13_row1_col1\" class=\"data row1 col1\" >0.2028</td>\n",
       "      <td id=\"T_56e13_row1_col2\" class=\"data row1 col2\" >0.0007</td>\n",
       "      <td id=\"T_56e13_row1_col3\" class=\"data row1 col3\" >0.0181</td>\n",
       "      <td id=\"T_56e13_row1_col4\" class=\"data row1 col4\" >0.0185</td>\n",
       "      <td id=\"T_56e13_row1_col5\" class=\"data row1 col5\" >-2.35</td>\n",
       "      <td id=\"T_56e13_row1_col6\" class=\"data row1 col6\" >0.1657</td>\n",
       "      <td id=\"T_56e13_row1_col7\" class=\"data row1 col7\" >0.2393</td>\n",
       "    </tr>\n",
       "    <tr>\n",
       "      <th id=\"T_56e13_level0_row2\" class=\"row_heading level0 row2\" >tax</th>\n",
       "      <td id=\"T_56e13_row2_col0\" class=\"data row2 col0\" >0.5048</td>\n",
       "      <td id=\"T_56e13_row2_col1\" class=\"data row2 col1\" >0.5042</td>\n",
       "      <td id=\"T_56e13_row2_col2\" class=\"data row2 col2\" >0.0006</td>\n",
       "      <td id=\"T_56e13_row2_col3\" class=\"data row2 col3\" >0.0296</td>\n",
       "      <td id=\"T_56e13_row2_col4\" class=\"data row2 col4\" >0.0306</td>\n",
       "      <td id=\"T_56e13_row2_col5\" class=\"data row2 col5\" >-3.42</td>\n",
       "      <td id=\"T_56e13_row2_col6\" class=\"data row2 col6\" >0.4459</td>\n",
       "      <td id=\"T_56e13_row2_col7\" class=\"data row2 col7\" >0.5656</td>\n",
       "    </tr>\n",
       "  </tbody>\n",
       "</table>\n"
      ],
      "text/plain": [
       "<pandas.io.formats.style.Styler at 0x7fbc329c0730>"
      ]
     },
     "metadata": {},
     "output_type": "display_data"
    }
   ],
   "source": [
    "wb_mam.summary()"
   ]
  },
  {
   "cell_type": "markdown",
   "metadata": {},
   "source": [
    "Same output for wb_mam_np as in the case for wb_mam, but the difference is the independent variables' name. wb_mam was constructed with pd.DataFrame the input which holds information about the column name. \n",
    "When it comes to wb_mam_np, it was constructed with np.ndarray as the input which DOES NOT hold info about the column name originally. Because of this, x1, x2, ...., xn were generated as alternative independent variable names. "
   ]
  },
  {
   "cell_type": "code",
   "execution_count": 44,
   "metadata": {},
   "outputs": [
    {
     "data": {
      "text/html": [
       "<style type=\"text/css\">\n",
       "</style>\n",
       "<table id=\"T_d3a86_\">\n",
       "  <caption>Wild Bootstrap with Mammen results with 1000 obs and 1000 BS reps using HC3 SE-s and 95.00% BC CI</caption>\n",
       "  <thead>\n",
       "    <tr>\n",
       "      <th class=\"blank level0\" >&nbsp;</th>\n",
       "      <th class=\"col_heading level0 col0\" >ols_params</th>\n",
       "      <th class=\"col_heading level0 col1\" >avg_bs_params</th>\n",
       "      <th class=\"col_heading level0 col2\" >bias</th>\n",
       "      <th class=\"col_heading level0 col3\" >ols_params_se</th>\n",
       "      <th class=\"col_heading level0 col4\" >bs_params_se</th>\n",
       "      <th class=\"col_heading level0 col5\" >perc_of_se_diff</th>\n",
       "      <th class=\"col_heading level0 col6\" >ci_lower</th>\n",
       "      <th class=\"col_heading level0 col7\" >ci_upper</th>\n",
       "    </tr>\n",
       "    <tr>\n",
       "      <th class=\"index_name level0\" >var</th>\n",
       "      <th class=\"blank col0\" >&nbsp;</th>\n",
       "      <th class=\"blank col1\" >&nbsp;</th>\n",
       "      <th class=\"blank col2\" >&nbsp;</th>\n",
       "      <th class=\"blank col3\" >&nbsp;</th>\n",
       "      <th class=\"blank col4\" >&nbsp;</th>\n",
       "      <th class=\"blank col5\" >&nbsp;</th>\n",
       "      <th class=\"blank col6\" >&nbsp;</th>\n",
       "      <th class=\"blank col7\" >&nbsp;</th>\n",
       "    </tr>\n",
       "  </thead>\n",
       "  <tbody>\n",
       "    <tr>\n",
       "      <th id=\"T_d3a86_level0_row0\" class=\"row_heading level0 row0\" >const</th>\n",
       "      <td id=\"T_d3a86_row0_col0\" class=\"data row0 col0\" >6.0961</td>\n",
       "      <td id=\"T_d3a86_row0_col1\" class=\"data row0 col1\" >6.0972</td>\n",
       "      <td id=\"T_d3a86_row0_col2\" class=\"data row0 col2\" >0.0011</td>\n",
       "      <td id=\"T_d3a86_row0_col3\" class=\"data row0 col3\" >0.1392</td>\n",
       "      <td id=\"T_d3a86_row0_col4\" class=\"data row0 col4\" >0.1418</td>\n",
       "      <td id=\"T_d3a86_row0_col5\" class=\"data row0 col5\" >-1.88</td>\n",
       "      <td id=\"T_d3a86_row0_col6\" class=\"data row0 col6\" >5.8174</td>\n",
       "      <td id=\"T_d3a86_row0_col7\" class=\"data row0 col7\" >6.3642</td>\n",
       "    </tr>\n",
       "    <tr>\n",
       "      <th id=\"T_d3a86_level0_row1\" class=\"row_heading level0 row1\" >x1</th>\n",
       "      <td id=\"T_d3a86_row1_col0\" class=\"data row1 col0\" >0.2021</td>\n",
       "      <td id=\"T_d3a86_row1_col1\" class=\"data row1 col1\" >0.2028</td>\n",
       "      <td id=\"T_d3a86_row1_col2\" class=\"data row1 col2\" >0.0007</td>\n",
       "      <td id=\"T_d3a86_row1_col3\" class=\"data row1 col3\" >0.0181</td>\n",
       "      <td id=\"T_d3a86_row1_col4\" class=\"data row1 col4\" >0.0185</td>\n",
       "      <td id=\"T_d3a86_row1_col5\" class=\"data row1 col5\" >-2.35</td>\n",
       "      <td id=\"T_d3a86_row1_col6\" class=\"data row1 col6\" >0.1657</td>\n",
       "      <td id=\"T_d3a86_row1_col7\" class=\"data row1 col7\" >0.2393</td>\n",
       "    </tr>\n",
       "    <tr>\n",
       "      <th id=\"T_d3a86_level0_row2\" class=\"row_heading level0 row2\" >x2</th>\n",
       "      <td id=\"T_d3a86_row2_col0\" class=\"data row2 col0\" >0.5048</td>\n",
       "      <td id=\"T_d3a86_row2_col1\" class=\"data row2 col1\" >0.5042</td>\n",
       "      <td id=\"T_d3a86_row2_col2\" class=\"data row2 col2\" >0.0006</td>\n",
       "      <td id=\"T_d3a86_row2_col3\" class=\"data row2 col3\" >0.0296</td>\n",
       "      <td id=\"T_d3a86_row2_col4\" class=\"data row2 col4\" >0.0306</td>\n",
       "      <td id=\"T_d3a86_row2_col5\" class=\"data row2 col5\" >-3.42</td>\n",
       "      <td id=\"T_d3a86_row2_col6\" class=\"data row2 col6\" >0.4459</td>\n",
       "      <td id=\"T_d3a86_row2_col7\" class=\"data row2 col7\" >0.5656</td>\n",
       "    </tr>\n",
       "  </tbody>\n",
       "</table>\n"
      ],
      "text/plain": [
       "<pandas.io.formats.style.Styler at 0x7fbc329c0e80>"
      ]
     },
     "metadata": {},
     "output_type": "display_data"
    }
   ],
   "source": [
    "wb_mam_np.summary()"
   ]
  },
  {
   "cell_type": "markdown",
   "metadata": {},
   "source": [
    "## Some useful methods were implemented (let's use it on wb_mam object of Wild Bootstrap with Mammen)\n",
    "\n",
    "- The common in the following three methods is that either a string (if one wishes to capture one variable or ci) or 1-D like array can be provided to 'which_var' and/or 'which_ci' (the latter if exists in that object class)."
   ]
  },
  {
   "cell_type": "markdown",
   "metadata": {},
   "source": [
    "### get_ci() method"
   ]
  },
  {
   "cell_type": "markdown",
   "metadata": {},
   "source": [
    "#### Vanila version is when only the actual CI was used with all independent variables"
   ]
  },
  {
   "cell_type": "code",
   "execution_count": 45,
   "metadata": {},
   "outputs": [
    {
     "data": {
      "text/html": [
       "<div>\n",
       "<style scoped>\n",
       "    .dataframe tbody tr th:only-of-type {\n",
       "        vertical-align: middle;\n",
       "    }\n",
       "\n",
       "    .dataframe tbody tr th {\n",
       "        vertical-align: top;\n",
       "    }\n",
       "\n",
       "    .dataframe thead tr th {\n",
       "        text-align: left;\n",
       "    }\n",
       "</style>\n",
       "<table border=\"1\" class=\"dataframe\">\n",
       "  <thead>\n",
       "    <tr>\n",
       "      <th></th>\n",
       "      <th colspan=\"2\" halign=\"left\">bc</th>\n",
       "    </tr>\n",
       "    <tr>\n",
       "      <th></th>\n",
       "      <th>lwb</th>\n",
       "      <th>upb</th>\n",
       "    </tr>\n",
       "  </thead>\n",
       "  <tbody>\n",
       "    <tr>\n",
       "      <th>const</th>\n",
       "      <td>5.81744</td>\n",
       "      <td>6.36415</td>\n",
       "    </tr>\n",
       "    <tr>\n",
       "      <th>tanass_clean</th>\n",
       "      <td>0.16574</td>\n",
       "      <td>0.23934</td>\n",
       "    </tr>\n",
       "    <tr>\n",
       "      <th>tax</th>\n",
       "      <td>0.44588</td>\n",
       "      <td>0.56560</td>\n",
       "    </tr>\n",
       "  </tbody>\n",
       "</table>\n",
       "</div>"
      ],
      "text/plain": [
       "                               bc                     \n",
       "                              lwb                  upb\n",
       "const                     5.81744              6.36415\n",
       "tanass_clean              0.16574              0.23934\n",
       "tax                       0.44588              0.56560"
      ]
     },
     "execution_count": 45,
     "metadata": {},
     "output_type": "execute_result"
    }
   ],
   "source": [
    "wb_mam.get_ci()"
   ]
  },
  {
   "cell_type": "markdown",
   "metadata": {},
   "source": [
    "#### However, any combination of ('bc', 'bca', 'percentile) CI types could be selected and any combinations of independent variables can be chosen with 'which_ci' and 'which_var' optional arguments, respectively.\n",
    "\n",
    "Please note that if choosing 'bca' the calculation can take a while as it uses jacknife resampling for calculating the acceleration factor"
   ]
  },
  {
   "cell_type": "code",
   "execution_count": 46,
   "metadata": {},
   "outputs": [
    {
     "data": {
      "text/html": [
       "<div>\n",
       "<style scoped>\n",
       "    .dataframe tbody tr th:only-of-type {\n",
       "        vertical-align: middle;\n",
       "    }\n",
       "\n",
       "    .dataframe tbody tr th {\n",
       "        vertical-align: top;\n",
       "    }\n",
       "\n",
       "    .dataframe thead tr th {\n",
       "        text-align: left;\n",
       "    }\n",
       "</style>\n",
       "<table border=\"1\" class=\"dataframe\">\n",
       "  <thead>\n",
       "    <tr>\n",
       "      <th></th>\n",
       "      <th colspan=\"2\" halign=\"left\">bc</th>\n",
       "      <th colspan=\"2\" halign=\"left\">bca</th>\n",
       "      <th colspan=\"2\" halign=\"left\">percentile</th>\n",
       "    </tr>\n",
       "    <tr>\n",
       "      <th></th>\n",
       "      <th>lwb</th>\n",
       "      <th>upb</th>\n",
       "      <th>lwb</th>\n",
       "      <th>upb</th>\n",
       "      <th>lwb</th>\n",
       "      <th>upb</th>\n",
       "    </tr>\n",
       "  </thead>\n",
       "  <tbody>\n",
       "    <tr>\n",
       "      <th>const</th>\n",
       "      <td>5.81744</td>\n",
       "      <td>6.36415</td>\n",
       "      <td>5.81644</td>\n",
       "      <td>6.36328</td>\n",
       "      <td>5.81898</td>\n",
       "      <td>6.36552</td>\n",
       "    </tr>\n",
       "    <tr>\n",
       "      <th>tanass_clean</th>\n",
       "      <td>0.16574</td>\n",
       "      <td>0.23934</td>\n",
       "      <td>0.16660</td>\n",
       "      <td>0.24041</td>\n",
       "      <td>0.16591</td>\n",
       "      <td>0.24008</td>\n",
       "    </tr>\n",
       "    <tr>\n",
       "      <th>tax</th>\n",
       "      <td>0.44588</td>\n",
       "      <td>0.56560</td>\n",
       "      <td>0.44387</td>\n",
       "      <td>0.56414</td>\n",
       "      <td>0.44362</td>\n",
       "      <td>0.56271</td>\n",
       "    </tr>\n",
       "  </tbody>\n",
       "</table>\n",
       "</div>"
      ],
      "text/plain": [
       "                               bc                                       bca  \\\n",
       "                              lwb                  upb                  lwb   \n",
       "const                     5.81744              6.36415              5.81644   \n",
       "tanass_clean              0.16574              0.23934              0.16660   \n",
       "tax                       0.44588              0.56560              0.44387   \n",
       "\n",
       "                                            percentile                       \n",
       "                              upb                  lwb                  upb  \n",
       "const                     6.36328              5.81898              6.36552  \n",
       "tanass_clean              0.24041              0.16591              0.24008  \n",
       "tax                       0.56414              0.44362              0.56271  "
      ]
     },
     "execution_count": 46,
     "metadata": {},
     "output_type": "execute_result"
    }
   ],
   "source": [
    "wb_mam.get_ci(which_ci='all', which_var='all')"
   ]
  },
  {
   "cell_type": "code",
   "execution_count": 47,
   "metadata": {},
   "outputs": [
    {
     "data": {
      "text/html": [
       "<div>\n",
       "<style scoped>\n",
       "    .dataframe tbody tr th:only-of-type {\n",
       "        vertical-align: middle;\n",
       "    }\n",
       "\n",
       "    .dataframe tbody tr th {\n",
       "        vertical-align: top;\n",
       "    }\n",
       "\n",
       "    .dataframe thead tr th {\n",
       "        text-align: left;\n",
       "    }\n",
       "</style>\n",
       "<table border=\"1\" class=\"dataframe\">\n",
       "  <thead>\n",
       "    <tr>\n",
       "      <th></th>\n",
       "      <th colspan=\"2\" halign=\"left\">bc</th>\n",
       "      <th colspan=\"2\" halign=\"left\">percentile</th>\n",
       "    </tr>\n",
       "    <tr>\n",
       "      <th></th>\n",
       "      <th>lwb</th>\n",
       "      <th>upb</th>\n",
       "      <th>lwb</th>\n",
       "      <th>upb</th>\n",
       "    </tr>\n",
       "  </thead>\n",
       "  <tbody>\n",
       "    <tr>\n",
       "      <th>tax</th>\n",
       "      <td>0.44588</td>\n",
       "      <td>0.56560</td>\n",
       "      <td>0.44362</td>\n",
       "      <td>0.56271</td>\n",
       "    </tr>\n",
       "    <tr>\n",
       "      <th>const</th>\n",
       "      <td>5.81744</td>\n",
       "      <td>6.36415</td>\n",
       "      <td>5.81898</td>\n",
       "      <td>6.36552</td>\n",
       "    </tr>\n",
       "  </tbody>\n",
       "</table>\n",
       "</div>"
      ],
      "text/plain": [
       "                        bc                                percentile  \\\n",
       "                       lwb                  upb                  lwb   \n",
       "tax                0.44588              0.56560              0.44362   \n",
       "const              5.81744              6.36415              5.81898   \n",
       "\n",
       "                            \n",
       "                       upb  \n",
       "tax                0.56271  \n",
       "const              6.36552  "
      ]
     },
     "execution_count": 47,
     "metadata": {},
     "output_type": "execute_result"
    }
   ],
   "source": [
    "wb_mam.get_ci(which_ci=['bc', 'percentile'], which_var=['tax', 'const'])"
   ]
  },
  {
   "cell_type": "code",
   "execution_count": 48,
   "metadata": {},
   "outputs": [
    {
     "data": {
      "text/html": [
       "<div>\n",
       "<style scoped>\n",
       "    .dataframe tbody tr th:only-of-type {\n",
       "        vertical-align: middle;\n",
       "    }\n",
       "\n",
       "    .dataframe tbody tr th {\n",
       "        vertical-align: top;\n",
       "    }\n",
       "\n",
       "    .dataframe thead tr th {\n",
       "        text-align: left;\n",
       "    }\n",
       "</style>\n",
       "<table border=\"1\" class=\"dataframe\">\n",
       "  <thead>\n",
       "    <tr>\n",
       "      <th></th>\n",
       "      <th colspan=\"2\" halign=\"left\">bc</th>\n",
       "      <th colspan=\"2\" halign=\"left\">bca</th>\n",
       "    </tr>\n",
       "    <tr>\n",
       "      <th></th>\n",
       "      <th>lwb</th>\n",
       "      <th>upb</th>\n",
       "      <th>lwb</th>\n",
       "      <th>upb</th>\n",
       "    </tr>\n",
       "  </thead>\n",
       "  <tbody>\n",
       "    <tr>\n",
       "      <th>tanass_clean</th>\n",
       "      <td>0.16574</td>\n",
       "      <td>0.23934</td>\n",
       "      <td>0.16660</td>\n",
       "      <td>0.24041</td>\n",
       "    </tr>\n",
       "  </tbody>\n",
       "</table>\n",
       "</div>"
      ],
      "text/plain": [
       "                               bc                                       bca  \\\n",
       "                              lwb                  upb                  lwb   \n",
       "tanass_clean              0.16574              0.23934              0.16660   \n",
       "\n",
       "                                   \n",
       "                              upb  \n",
       "tanass_clean              0.24041  "
      ]
     },
     "execution_count": 48,
     "metadata": {},
     "output_type": "execute_result"
    }
   ],
   "source": [
    "wb_mam.get_ci(which_ci=['bca', 'bc'], which_var='tanass_clean')"
   ]
  },
  {
   "cell_type": "code",
   "execution_count": 49,
   "metadata": {},
   "outputs": [
    {
     "data": {
      "text/html": [
       "<div>\n",
       "<style scoped>\n",
       "    .dataframe tbody tr th:only-of-type {\n",
       "        vertical-align: middle;\n",
       "    }\n",
       "\n",
       "    .dataframe tbody tr th {\n",
       "        vertical-align: top;\n",
       "    }\n",
       "\n",
       "    .dataframe thead tr th {\n",
       "        text-align: left;\n",
       "    }\n",
       "</style>\n",
       "<table border=\"1\" class=\"dataframe\">\n",
       "  <thead>\n",
       "    <tr>\n",
       "      <th></th>\n",
       "      <th colspan=\"2\" halign=\"left\">bc</th>\n",
       "    </tr>\n",
       "    <tr>\n",
       "      <th></th>\n",
       "      <th>lwb</th>\n",
       "      <th>upb</th>\n",
       "    </tr>\n",
       "  </thead>\n",
       "  <tbody>\n",
       "    <tr>\n",
       "      <th>tanass_clean</th>\n",
       "      <td>0.16574</td>\n",
       "      <td>0.23934</td>\n",
       "    </tr>\n",
       "  </tbody>\n",
       "</table>\n",
       "</div>"
      ],
      "text/plain": [
       "                               bc                     \n",
       "                              lwb                  upb\n",
       "tanass_clean              0.16574              0.23934"
      ]
     },
     "execution_count": 49,
     "metadata": {},
     "output_type": "execute_result"
    }
   ],
   "source": [
    "wb_mam.get_ci(which_ci='bc', which_var='tanass_clean')"
   ]
  },
  {
   "cell_type": "markdown",
   "metadata": {},
   "source": [
    "### get_all_se() method\n",
    "\n",
    "The following SE-s are calculated: \n",
    "- bootstrapped - standard error of the bootstrapped parameters\n",
    "- constant - model-based OLS Standard Errors, that is, constant variance is assumed \n",
    "- HC0, HC1, HC2, HC3, HC4, HC4m, HC5 - Heteroskedasticity-Consistent Standard Errors (HCE) using sandwich estimators "
   ]
  },
  {
   "cell_type": "markdown",
   "metadata": {},
   "source": [
    "#### Vanila version is when using all indepencdent variables. "
   ]
  },
  {
   "cell_type": "code",
   "execution_count": 50,
   "metadata": {},
   "outputs": [],
   "source": [
    "#wb_mam.get_all_se()"
   ]
  },
  {
   "cell_type": "markdown",
   "metadata": {},
   "source": [
    "#### A subset of independent variables can be chosen with 'which_var' argument to calculate the above-mentioned 9 SE-s"
   ]
  },
  {
   "cell_type": "code",
   "execution_count": 51,
   "metadata": {},
   "outputs": [],
   "source": [
    "#wb_mam.get_all_se(which_var=['tanass_clean', 'tax'])"
   ]
  },
  {
   "cell_type": "code",
   "execution_count": 52,
   "metadata": {},
   "outputs": [],
   "source": [
    "#wb_mam.get_all_se(which_var='tax')"
   ]
  },
  {
   "cell_type": "markdown",
   "metadata": {},
   "source": [
    "### get_bootstrap_params() method"
   ]
  },
  {
   "cell_type": "markdown",
   "metadata": {},
   "source": [
    "#### Vanila version: Returning a dataframe capturing the parameter estimate of ALL each independent variables in each (wild) bootstrap."
   ]
  },
  {
   "cell_type": "code",
   "execution_count": 53,
   "metadata": {},
   "outputs": [
    {
     "data": {
      "text/html": [
       "<div>\n",
       "<style scoped>\n",
       "    .dataframe tbody tr th:only-of-type {\n",
       "        vertical-align: middle;\n",
       "    }\n",
       "\n",
       "    .dataframe tbody tr th {\n",
       "        vertical-align: top;\n",
       "    }\n",
       "\n",
       "    .dataframe thead th {\n",
       "        text-align: right;\n",
       "    }\n",
       "</style>\n",
       "<table border=\"1\" class=\"dataframe\">\n",
       "  <thead>\n",
       "    <tr style=\"text-align: right;\">\n",
       "      <th></th>\n",
       "      <th>const</th>\n",
       "      <th>tanass_clean</th>\n",
       "      <th>tax</th>\n",
       "    </tr>\n",
       "  </thead>\n",
       "  <tbody>\n",
       "    <tr>\n",
       "      <th>0</th>\n",
       "      <td>6.13846</td>\n",
       "      <td>0.20314</td>\n",
       "      <td>0.49943</td>\n",
       "    </tr>\n",
       "    <tr>\n",
       "      <th>1</th>\n",
       "      <td>6.23415</td>\n",
       "      <td>0.20213</td>\n",
       "      <td>0.46960</td>\n",
       "    </tr>\n",
       "    <tr>\n",
       "      <th>2</th>\n",
       "      <td>6.42391</td>\n",
       "      <td>0.17546</td>\n",
       "      <td>0.48686</td>\n",
       "    </tr>\n",
       "    <tr>\n",
       "      <th>3</th>\n",
       "      <td>6.08326</td>\n",
       "      <td>0.22741</td>\n",
       "      <td>0.48363</td>\n",
       "    </tr>\n",
       "    <tr>\n",
       "      <th>4</th>\n",
       "      <td>6.01685</td>\n",
       "      <td>0.19635</td>\n",
       "      <td>0.52267</td>\n",
       "    </tr>\n",
       "    <tr>\n",
       "      <th>...</th>\n",
       "      <td>...</td>\n",
       "      <td>...</td>\n",
       "      <td>...</td>\n",
       "    </tr>\n",
       "    <tr>\n",
       "      <th>995</th>\n",
       "      <td>6.04760</td>\n",
       "      <td>0.19344</td>\n",
       "      <td>0.53570</td>\n",
       "    </tr>\n",
       "    <tr>\n",
       "      <th>996</th>\n",
       "      <td>6.14364</td>\n",
       "      <td>0.24250</td>\n",
       "      <td>0.44653</td>\n",
       "    </tr>\n",
       "    <tr>\n",
       "      <th>997</th>\n",
       "      <td>6.17723</td>\n",
       "      <td>0.15745</td>\n",
       "      <td>0.53618</td>\n",
       "    </tr>\n",
       "    <tr>\n",
       "      <th>998</th>\n",
       "      <td>5.88356</td>\n",
       "      <td>0.19920</td>\n",
       "      <td>0.56767</td>\n",
       "    </tr>\n",
       "    <tr>\n",
       "      <th>999</th>\n",
       "      <td>5.93417</td>\n",
       "      <td>0.22947</td>\n",
       "      <td>0.47852</td>\n",
       "    </tr>\n",
       "  </tbody>\n",
       "</table>\n",
       "<p>1000 rows × 3 columns</p>\n",
       "</div>"
      ],
      "text/plain": [
       "                   const         tanass_clean                  tax\n",
       "0                6.13846              0.20314              0.49943\n",
       "1                6.23415              0.20213              0.46960\n",
       "2                6.42391              0.17546              0.48686\n",
       "3                6.08326              0.22741              0.48363\n",
       "4                6.01685              0.19635              0.52267\n",
       "..                   ...                  ...                  ...\n",
       "995              6.04760              0.19344              0.53570\n",
       "996              6.14364              0.24250              0.44653\n",
       "997              6.17723              0.15745              0.53618\n",
       "998              5.88356              0.19920              0.56767\n",
       "999              5.93417              0.22947              0.47852\n",
       "\n",
       "[1000 rows x 3 columns]"
      ]
     },
     "execution_count": 53,
     "metadata": {},
     "output_type": "execute_result"
    }
   ],
   "source": [
    "wb_mam.get_bootstrap_params()"
   ]
  },
  {
   "cell_type": "markdown",
   "metadata": {},
   "source": [
    "#### As usual, the desired independent variable can be chosen with 'which_var' argument"
   ]
  },
  {
   "cell_type": "code",
   "execution_count": 54,
   "metadata": {},
   "outputs": [
    {
     "data": {
      "text/html": [
       "<div>\n",
       "<style scoped>\n",
       "    .dataframe tbody tr th:only-of-type {\n",
       "        vertical-align: middle;\n",
       "    }\n",
       "\n",
       "    .dataframe tbody tr th {\n",
       "        vertical-align: top;\n",
       "    }\n",
       "\n",
       "    .dataframe thead th {\n",
       "        text-align: right;\n",
       "    }\n",
       "</style>\n",
       "<table border=\"1\" class=\"dataframe\">\n",
       "  <thead>\n",
       "    <tr style=\"text-align: right;\">\n",
       "      <th></th>\n",
       "      <th>tax</th>\n",
       "    </tr>\n",
       "  </thead>\n",
       "  <tbody>\n",
       "    <tr>\n",
       "      <th>0</th>\n",
       "      <td>0.49943</td>\n",
       "    </tr>\n",
       "    <tr>\n",
       "      <th>1</th>\n",
       "      <td>0.46960</td>\n",
       "    </tr>\n",
       "    <tr>\n",
       "      <th>2</th>\n",
       "      <td>0.48686</td>\n",
       "    </tr>\n",
       "    <tr>\n",
       "      <th>3</th>\n",
       "      <td>0.48363</td>\n",
       "    </tr>\n",
       "    <tr>\n",
       "      <th>4</th>\n",
       "      <td>0.52267</td>\n",
       "    </tr>\n",
       "    <tr>\n",
       "      <th>...</th>\n",
       "      <td>...</td>\n",
       "    </tr>\n",
       "    <tr>\n",
       "      <th>995</th>\n",
       "      <td>0.53570</td>\n",
       "    </tr>\n",
       "    <tr>\n",
       "      <th>996</th>\n",
       "      <td>0.44653</td>\n",
       "    </tr>\n",
       "    <tr>\n",
       "      <th>997</th>\n",
       "      <td>0.53618</td>\n",
       "    </tr>\n",
       "    <tr>\n",
       "      <th>998</th>\n",
       "      <td>0.56767</td>\n",
       "    </tr>\n",
       "    <tr>\n",
       "      <th>999</th>\n",
       "      <td>0.47852</td>\n",
       "    </tr>\n",
       "  </tbody>\n",
       "</table>\n",
       "<p>1000 rows × 1 columns</p>\n",
       "</div>"
      ],
      "text/plain": [
       "                     tax\n",
       "0                0.49943\n",
       "1                0.46960\n",
       "2                0.48686\n",
       "3                0.48363\n",
       "4                0.52267\n",
       "..                   ...\n",
       "995              0.53570\n",
       "996              0.44653\n",
       "997              0.53618\n",
       "998              0.56767\n",
       "999              0.47852\n",
       "\n",
       "[1000 rows x 1 columns]"
      ]
     },
     "execution_count": 54,
     "metadata": {},
     "output_type": "execute_result"
    }
   ],
   "source": [
    "wb_mam.get_bootstrap_params(which_var='tax')"
   ]
  },
  {
   "cell_type": "code",
   "execution_count": 55,
   "metadata": {},
   "outputs": [
    {
     "data": {
      "text/html": [
       "<div>\n",
       "<style scoped>\n",
       "    .dataframe tbody tr th:only-of-type {\n",
       "        vertical-align: middle;\n",
       "    }\n",
       "\n",
       "    .dataframe tbody tr th {\n",
       "        vertical-align: top;\n",
       "    }\n",
       "\n",
       "    .dataframe thead th {\n",
       "        text-align: right;\n",
       "    }\n",
       "</style>\n",
       "<table border=\"1\" class=\"dataframe\">\n",
       "  <thead>\n",
       "    <tr style=\"text-align: right;\">\n",
       "      <th></th>\n",
       "      <th>const</th>\n",
       "      <th>tanass_clean</th>\n",
       "    </tr>\n",
       "  </thead>\n",
       "  <tbody>\n",
       "    <tr>\n",
       "      <th>0</th>\n",
       "      <td>6.13846</td>\n",
       "      <td>0.20314</td>\n",
       "    </tr>\n",
       "    <tr>\n",
       "      <th>1</th>\n",
       "      <td>6.23415</td>\n",
       "      <td>0.20213</td>\n",
       "    </tr>\n",
       "    <tr>\n",
       "      <th>2</th>\n",
       "      <td>6.42391</td>\n",
       "      <td>0.17546</td>\n",
       "    </tr>\n",
       "    <tr>\n",
       "      <th>3</th>\n",
       "      <td>6.08326</td>\n",
       "      <td>0.22741</td>\n",
       "    </tr>\n",
       "    <tr>\n",
       "      <th>4</th>\n",
       "      <td>6.01685</td>\n",
       "      <td>0.19635</td>\n",
       "    </tr>\n",
       "    <tr>\n",
       "      <th>...</th>\n",
       "      <td>...</td>\n",
       "      <td>...</td>\n",
       "    </tr>\n",
       "    <tr>\n",
       "      <th>995</th>\n",
       "      <td>6.04760</td>\n",
       "      <td>0.19344</td>\n",
       "    </tr>\n",
       "    <tr>\n",
       "      <th>996</th>\n",
       "      <td>6.14364</td>\n",
       "      <td>0.24250</td>\n",
       "    </tr>\n",
       "    <tr>\n",
       "      <th>997</th>\n",
       "      <td>6.17723</td>\n",
       "      <td>0.15745</td>\n",
       "    </tr>\n",
       "    <tr>\n",
       "      <th>998</th>\n",
       "      <td>5.88356</td>\n",
       "      <td>0.19920</td>\n",
       "    </tr>\n",
       "    <tr>\n",
       "      <th>999</th>\n",
       "      <td>5.93417</td>\n",
       "      <td>0.22947</td>\n",
       "    </tr>\n",
       "  </tbody>\n",
       "</table>\n",
       "<p>1000 rows × 2 columns</p>\n",
       "</div>"
      ],
      "text/plain": [
       "                   const         tanass_clean\n",
       "0                6.13846              0.20314\n",
       "1                6.23415              0.20213\n",
       "2                6.42391              0.17546\n",
       "3                6.08326              0.22741\n",
       "4                6.01685              0.19635\n",
       "..                   ...                  ...\n",
       "995              6.04760              0.19344\n",
       "996              6.14364              0.24250\n",
       "997              6.17723              0.15745\n",
       "998              5.88356              0.19920\n",
       "999              5.93417              0.22947\n",
       "\n",
       "[1000 rows x 2 columns]"
      ]
     },
     "execution_count": 55,
     "metadata": {},
     "output_type": "execute_result"
    }
   ],
   "source": [
    "wb_mam.get_bootstrap_params(which_var=('const', 'tanass_clean'))"
   ]
  },
  {
   "cell_type": "markdown",
   "metadata": {},
   "source": [
    "### bp_test() and white_test() methods"
   ]
  },
  {
   "cell_type": "markdown",
   "metadata": {},
   "source": [
    "#### Vanila version: for bp_test() returning the robust version (proposed by Roger Koenker) of this test when the presence of the heteroscedasticity is examined on the residual of the OLS on the original sample data. For white_test(), there are no optional arguments"
   ]
  },
  {
   "cell_type": "code",
   "execution_count": 56,
   "metadata": {},
   "outputs": [
    {
     "data": {
      "text/plain": [
       "(56.702329897241775,\n",
       " 4.866822501071809e-13,\n",
       " 29.965208597086683,\n",
       " 2.3036035267823517e-13)"
      ]
     },
     "execution_count": 56,
     "metadata": {},
     "output_type": "execute_result"
    }
   ],
   "source": [
    "wb_mam.bp_test()"
   ]
  },
  {
   "cell_type": "code",
   "execution_count": 57,
   "metadata": {},
   "outputs": [
    {
     "data": {
      "text/plain": [
       "(200.37774678235587,\n",
       " 2.358326510723417e-41,\n",
       " 49.81739302531628,\n",
       " 4.114335824295388e-46)"
      ]
     },
     "execution_count": 57,
     "metadata": {},
     "output_type": "execute_result"
    }
   ],
   "source": [
    "wb_mam.white_test()"
   ]
  },
  {
   "cell_type": "markdown",
   "metadata": {},
   "source": [
    "#### The non-robust version of bp_test() can be achieved by setting bp_test(robust = False)."
   ]
  },
  {
   "cell_type": "code",
   "execution_count": 58,
   "metadata": {},
   "outputs": [
    {
     "data": {
      "text/plain": [
       "(126.38966088406505,\n",
       " 3.5878465000474625e-28,\n",
       " 29.965208597086807,\n",
       " 2.3036035267820897e-13)"
      ]
     },
     "execution_count": 58,
     "metadata": {},
     "output_type": "execute_result"
    }
   ],
   "source": [
    "wb_mam.bp_test(robust = False)"
   ]
  },
  {
   "cell_type": "markdown",
   "metadata": {},
   "source": [
    "At each test, the first value is the calculated LM-test stats, the second is the 'LM p-value' corresponding to the LM-test stats, the third value is the F-test stats and last one is the 'F p-value'.\n",
    "\n",
    "As it can be seen the p-values are 0, so we can rejcet the null hypothesis of homoscedasticity, and accept the alternative hypothesis that the variance of the residuals is heteroscedastic."
   ]
  },
  {
   "cell_type": "markdown",
   "metadata": {},
   "source": [
    "### Some built-in attributes"
   ]
  },
  {
   "cell_type": "code",
   "execution_count": 59,
   "metadata": {},
   "outputs": [
    {
     "data": {
      "text/plain": [
       "['const', 'tanass_clean', 'tax']"
      ]
     },
     "execution_count": 59,
     "metadata": {},
     "output_type": "execute_result"
    }
   ],
   "source": [
    "wb_mam.indep_varname"
   ]
  },
  {
   "cell_type": "markdown",
   "metadata": {},
   "source": [
    "#### wb_mam.bs_params and wb_mam.get_bootstrap_params() basically output the same thing with the exception that the latter one is transposed and is in pd.DataFrame."
   ]
  },
  {
   "cell_type": "code",
   "execution_count": 60,
   "metadata": {},
   "outputs": [
    {
     "data": {
      "text/plain": [
       "array([[6.13846258, 6.2341534 , 6.42391213, ..., 6.1772337 , 5.88356481,\n",
       "        5.93416761],\n",
       "       [0.20314385, 0.20213401, 0.17545997, ..., 0.15744657, 0.19920325,\n",
       "        0.22947161],\n",
       "       [0.49943104, 0.46959608, 0.48686301, ..., 0.53617785, 0.56767433,\n",
       "        0.47852104]])"
      ]
     },
     "execution_count": 60,
     "metadata": {},
     "output_type": "execute_result"
    }
   ],
   "source": [
    "wb_mam.bs_params"
   ]
  },
  {
   "cell_type": "code",
   "execution_count": 61,
   "metadata": {},
   "outputs": [
    {
     "data": {
      "text/plain": [
       "array([6.09609653, 0.20207703, 0.50475146])"
      ]
     },
     "execution_count": 61,
     "metadata": {},
     "output_type": "execute_result"
    }
   ],
   "source": [
    "wb_mam.orig_params"
   ]
  },
  {
   "cell_type": "code",
   "execution_count": 62,
   "metadata": {},
   "outputs": [
    {
     "data": {
      "text/plain": [
       "array([6.09716622, 0.20280901, 0.50417834])"
      ]
     },
     "execution_count": 62,
     "metadata": {},
     "output_type": "execute_result"
    }
   ],
   "source": [
    "wb_mam.bs_mean"
   ]
  },
  {
   "cell_type": "code",
   "execution_count": 63,
   "metadata": {},
   "outputs": [
    {
     "data": {
      "text/plain": [
       "array([0.13915933, 0.01806678, 0.0296142 ])"
      ]
     },
     "execution_count": 63,
     "metadata": {},
     "output_type": "execute_result"
    }
   ],
   "source": [
    "wb_mam.orig_se"
   ]
  },
  {
   "cell_type": "code",
   "execution_count": 64,
   "metadata": {},
   "outputs": [
    {
     "data": {
      "text/plain": [
       "array([0.1417777 , 0.01849049, 0.03062783])"
      ]
     },
     "execution_count": 64,
     "metadata": {},
     "output_type": "execute_result"
    }
   ],
   "source": [
    "wb_mam.bs_se"
   ]
  },
  {
   "cell_type": "code",
   "execution_count": 65,
   "metadata": {},
   "outputs": [
    {
     "data": {
      "text/plain": [
       "array([[5.81743618, 6.36415247],\n",
       "       [0.16574285, 0.23933644],\n",
       "       [0.44587847, 0.56559804]])"
      ]
     },
     "execution_count": 65,
     "metadata": {},
     "output_type": "execute_result"
    }
   ],
   "source": [
    "wb_mam.bs_ci"
   ]
  }
 ],
 "metadata": {
  "interpreter": {
   "hash": "e7370f93d1d0cde622a1f8e1c04877d8463912d04d973331ad4851f04de6915a"
  },
  "kernelspec": {
   "display_name": "Python 3 (ipykernel)",
   "language": "python",
   "name": "python3"
  },
  "language_info": {
   "codemirror_mode": {
    "name": "ipython",
    "version": 3
   },
   "file_extension": ".py",
   "mimetype": "text/x-python",
   "name": "python",
   "nbconvert_exporter": "python",
   "pygments_lexer": "ipython3",
   "version": "3.8.10"
  },
  "toc": {
   "base_numbering": 1,
   "nav_menu": {},
   "number_sections": true,
   "sideBar": true,
   "skip_h1_title": false,
   "title_cell": "Table of Contents",
   "title_sidebar": "Contents",
   "toc_cell": false,
   "toc_position": {},
   "toc_section_display": true,
   "toc_window_display": false
  }
 },
 "nbformat": 4,
 "nbformat_minor": 2
}
