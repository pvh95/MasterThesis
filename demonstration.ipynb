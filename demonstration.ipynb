{
 "cells": [
  {
   "cell_type": "code",
   "execution_count": 1,
   "metadata": {},
   "outputs": [],
   "source": [
    "import numpy as np\n",
    "import pandas as pd\n",
    "\n",
    "from ols_bootstrap.pairs import PairsBootstrap\n",
    "from ols_bootstrap.residual import ResidualBootstrap\n",
    "from ols_bootstrap.wild import WildBootstrap"
   ]
  },
  {
   "cell_type": "code",
   "execution_count": 2,
   "metadata": {},
   "outputs": [
    {
     "name": "stderr",
     "output_type": "stream",
     "text": [
      "/home/phamv/.local/lib/python3.8/site-packages/IPython/core/interactiveshell.py:3444: DtypeWarning: Columns (66) have mixed types.Specify dtype option on import or set low_memory=False.\n",
      "  exec(code_obj, self.user_global_ns, self.user_ns)\n"
     ]
    }
   ],
   "source": [
    "df = pd.read_csv('./balance2018.csv')\n",
    "df = df[df['sales_clean'] != 0]\n",
    "df = df[['sales_clean', 'tanass_clean', 'tax']]\n",
    "df = df.dropna(subset=['tanass_clean', 'tax'])\n",
    "\n",
    "df_scaled = df.applymap(lambda x: np.log(x + 1))"
   ]
  },
  {
   "cell_type": "code",
   "execution_count": 3,
   "metadata": {},
   "outputs": [],
   "source": [
    "df_sample = df_scaled.sample(n=10000, replace=False)\n",
    "\n",
    "Y_data = pd.DataFrame(df_sample.iloc[:, 0])\n",
    "X_data = pd.DataFrame(df_sample.iloc[:, 1:])"
   ]
  },
  {
   "cell_type": "markdown",
   "metadata": {},
   "source": [
    "## Default SE on the original OLS is HC3, default CI on bootstrapped parameter is BC. "
   ]
  },
  {
   "cell_type": "code",
   "execution_count": 4,
   "metadata": {},
   "outputs": [],
   "source": [
    "psb = PairsBootstrap(Y_data, X_data, reps = 1000)\n",
    "psb.fit()"
   ]
  },
  {
   "cell_type": "code",
   "execution_count": 5,
   "metadata": {},
   "outputs": [],
   "source": [
    "rsb = ResidualBootstrap(Y_data, X_data, reps = 1000)\n",
    "rsb.fit()"
   ]
  },
  {
   "cell_type": "code",
   "execution_count": 6,
   "metadata": {},
   "outputs": [],
   "source": [
    "wb_stdn = WildBootstrap(Y_data, X_data, reps = 1000, from_distro = \"standard_normal\")\n",
    "wb_stdn.fit()"
   ]
  },
  {
   "cell_type": "code",
   "execution_count": 7,
   "metadata": {},
   "outputs": [],
   "source": [
    "wb_rad = WildBootstrap(Y_data, X_data, reps = 1000, from_distro = \"rademacher\")\n",
    "wb_rad.fit()"
   ]
  },
  {
   "cell_type": "code",
   "execution_count": 8,
   "metadata": {},
   "outputs": [],
   "source": [
    "wb_mam = WildBootstrap(Y_data, X_data, reps = 1000, from_distro = \"mammen\")\n",
    "wb_mam.fit()"
   ]
  },
  {
   "cell_type": "code",
   "execution_count": 9,
   "metadata": {},
   "outputs": [
    {
     "name": "stdout",
     "output_type": "stream",
     "text": [
      "+----------------------------------------------------------------------------------------------------------------------------------+\n",
      "|                     Pairs Bootstrap results with 10000 obs and 1000 BS reps using HC3 SE-s and 95.00% BC CI                      |\n",
      "+--------------+------------+------------------+--------+---------------+--------------+--------------+------------------+---------+\n",
      "|     Var      | OLS Params | Avg of BS Params |  Bias  | OLS Params SE | BS Params SE | % of SE Diff |        CI        | CI Diff |\n",
      "+--------------+------------+------------------+--------+---------------+--------------+--------------+------------------+---------+\n",
      "|    const     |   6.1778   |      6.1775      | 0.0002 |     0.0440    |    0.0446    |    -1.39     | [6.0923, 6.2645] |  0.1722 |\n",
      "+--------------+------------+------------------+--------+---------------+--------------+--------------+------------------+---------+\n",
      "| tanass_clean |   0.1788   |      0.1788      | 0.0000 |     0.0051    |    0.0051    |     0.17     | [0.1688, 0.1883] |  0.0195 |\n",
      "+--------------+------------+------------------+--------+---------------+--------------+--------------+------------------+---------+\n",
      "|     tax      |   0.5187   |      0.5186      | 0.0001 |     0.0093    |    0.0096    |    -2.89     | [0.5004, 0.5373] |  0.0369 |\n",
      "+--------------+------------+------------------+--------+---------------+--------------+--------------+------------------+---------+\n"
     ]
    }
   ],
   "source": [
    "psb.summary()"
   ]
  },
  {
   "cell_type": "code",
   "execution_count": 10,
   "metadata": {},
   "outputs": [
    {
     "name": "stdout",
     "output_type": "stream",
     "text": [
      "+----------------------------------------------------------------------------------------------------------------------------------+\n",
      "|                    Residual Bootstrap results with 10000 obs and 1000 BS reps using HC3 SE-s and 95.00% BC CI                    |\n",
      "+--------------+------------+------------------+--------+---------------+--------------+--------------+------------------+---------+\n",
      "|     Var      | OLS Params | Avg of BS Params |  Bias  | OLS Params SE | BS Params SE | % of SE Diff |        CI        | CI Diff |\n",
      "+--------------+------------+------------------+--------+---------------+--------------+--------------+------------------+---------+\n",
      "|    const     |   6.1778   |      6.1783      | 0.0005 |     0.0440    |    0.0355    |    19.29     | [6.1044, 6.2455] |  0.1410 |\n",
      "+--------------+------------+------------------+--------+---------------+--------------+--------------+------------------+---------+\n",
      "| tanass_clean |   0.1788   |      0.1787      | 0.0000 |     0.0051    |    0.0040    |    22.28     | [0.1713, 0.1868] |  0.0155 |\n",
      "+--------------+------------+------------------+--------+---------------+--------------+--------------+------------------+---------+\n",
      "|     tax      |   0.5187   |      0.5187      | 0.0000 |     0.0093    |    0.0066    |    29.83     | [0.5066, 0.5320] |  0.0254 |\n",
      "+--------------+------------+------------------+--------+---------------+--------------+--------------+------------------+---------+\n"
     ]
    }
   ],
   "source": [
    "rsb.summary()"
   ]
  },
  {
   "cell_type": "code",
   "execution_count": 11,
   "metadata": {},
   "outputs": [
    {
     "name": "stdout",
     "output_type": "stream",
     "text": [
      "+----------------------------------------------------------------------------------------------------------------------------------+\n",
      "|           Wild Bootstrap with Standard Normal results with 10000 obs and 1000 BS reps using HC3 SE-s and 95.00% BC CI            |\n",
      "+--------------+------------+------------------+--------+---------------+--------------+--------------+------------------+---------+\n",
      "|     Var      | OLS Params | Avg of BS Params |  Bias  | OLS Params SE | BS Params SE | % of SE Diff |        CI        | CI Diff |\n",
      "+--------------+------------+------------------+--------+---------------+--------------+--------------+------------------+---------+\n",
      "|    const     |   6.1778   |      6.1783      | 0.0005 |     0.0440    |    0.0351    |    20.18     | [6.1107, 6.2471] |  0.1365 |\n",
      "+--------------+------------+------------------+--------+---------------+--------------+--------------+------------------+---------+\n",
      "| tanass_clean |   0.1788   |      0.1787      | 0.0001 |     0.0051    |    0.0037    |    26.97     | [0.1715, 0.1858] |  0.0143 |\n",
      "+--------------+------------+------------------+--------+---------------+--------------+--------------+------------------+---------+\n",
      "|     tax      |   0.5187   |      0.5185      | 0.0002 |     0.0093    |    0.0063    |    32.18     | [0.5060, 0.5301] |  0.0241 |\n",
      "+--------------+------------+------------------+--------+---------------+--------------+--------------+------------------+---------+\n"
     ]
    }
   ],
   "source": [
    "wb_stdn.summary()"
   ]
  },
  {
   "cell_type": "code",
   "execution_count": 12,
   "metadata": {},
   "outputs": [
    {
     "name": "stdout",
     "output_type": "stream",
     "text": [
      "+----------------------------------------------------------------------------------------------------------------------------------+\n",
      "|              Wild Bootstrap with Rademacher results with 10000 obs and 1000 BS reps using HC3 SE-s and 95.00% BC CI              |\n",
      "+--------------+------------+------------------+--------+---------------+--------------+--------------+------------------+---------+\n",
      "|     Var      | OLS Params | Avg of BS Params |  Bias  | OLS Params SE | BS Params SE | % of SE Diff |        CI        | CI Diff |\n",
      "+--------------+------------+------------------+--------+---------------+--------------+--------------+------------------+---------+\n",
      "|    const     |   6.1778   |      6.1777      | 0.0000 |     0.0440    |    0.0352    |    19.89     | [6.1098, 6.2489] |  0.1391 |\n",
      "+--------------+------------+------------------+--------+---------------+--------------+--------------+------------------+---------+\n",
      "| tanass_clean |   0.1788   |      0.1788      | 0.0000 |     0.0051    |    0.0040    |    22.30     | [0.1710, 0.1864] |  0.0155 |\n",
      "+--------------+------------+------------------+--------+---------------+--------------+--------------+------------------+---------+\n",
      "|     tax      |   0.5187   |      0.5187      | 0.0001 |     0.0093    |    0.0065    |    30.05     | [0.5055, 0.5308] |  0.0253 |\n",
      "+--------------+------------+------------------+--------+---------------+--------------+--------------+------------------+---------+\n"
     ]
    }
   ],
   "source": [
    "wb_rad.summary()"
   ]
  },
  {
   "cell_type": "code",
   "execution_count": 13,
   "metadata": {},
   "outputs": [
    {
     "name": "stdout",
     "output_type": "stream",
     "text": [
      "+----------------------------------------------------------------------------------------------------------------------------------+\n",
      "|                Wild Bootstrap with Mammen results with 10000 obs and 1000 BS reps using HC3 SE-s and 95.00% BC CI                |\n",
      "+--------------+------------+------------------+--------+---------------+--------------+--------------+------------------+---------+\n",
      "|     Var      | OLS Params | Avg of BS Params |  Bias  | OLS Params SE | BS Params SE | % of SE Diff |        CI        | CI Diff |\n",
      "+--------------+------------+------------------+--------+---------------+--------------+--------------+------------------+---------+\n",
      "|    const     |   6.1778   |      6.1761      | 0.0017 |     0.0440    |    0.0355    |    19.36     | [6.1026, 6.2431] |  0.1404 |\n",
      "+--------------+------------+------------------+--------+---------------+--------------+--------------+------------------+---------+\n",
      "| tanass_clean |   0.1788   |      0.1790      | 0.0002 |     0.0051    |    0.0039    |    23.26     | [0.1712, 0.1866] |  0.0155 |\n",
      "+--------------+------------+------------------+--------+---------------+--------------+--------------+------------------+---------+\n",
      "|     tax      |   0.5187   |      0.5188      | 0.0000 |     0.0093    |    0.0066    |    29.38     | [0.5062, 0.5318] |  0.0256 |\n",
      "+--------------+------------+------------------+--------+---------------+--------------+--------------+------------------+---------+\n"
     ]
    }
   ],
   "source": [
    "wb_mam.summary()"
   ]
  },
  {
   "cell_type": "markdown",
   "metadata": {},
   "source": [
    "## Some useful methods were implemented (let's use it on wb_mam object of Wild Bootstrap with Mammen)"
   ]
  },
  {
   "cell_type": "markdown",
   "metadata": {},
   "source": [
    "### get_ci() method"
   ]
  },
  {
   "cell_type": "markdown",
   "metadata": {},
   "source": [
    "#### Vanila version is when only the actual CI was used with all independent variables"
   ]
  },
  {
   "cell_type": "code",
   "execution_count": 14,
   "metadata": {},
   "outputs": [
    {
     "data": {
      "text/html": [
       "<div>\n",
       "<style scoped>\n",
       "    .dataframe tbody tr th:only-of-type {\n",
       "        vertical-align: middle;\n",
       "    }\n",
       "\n",
       "    .dataframe tbody tr th {\n",
       "        vertical-align: top;\n",
       "    }\n",
       "\n",
       "    .dataframe thead tr th {\n",
       "        text-align: left;\n",
       "    }\n",
       "</style>\n",
       "<table border=\"1\" class=\"dataframe\">\n",
       "  <thead>\n",
       "    <tr>\n",
       "      <th></th>\n",
       "      <th colspan=\"2\" halign=\"left\">bc</th>\n",
       "    </tr>\n",
       "    <tr>\n",
       "      <th></th>\n",
       "      <th>lwb</th>\n",
       "      <th>upb</th>\n",
       "    </tr>\n",
       "  </thead>\n",
       "  <tbody>\n",
       "    <tr>\n",
       "      <th>const</th>\n",
       "      <td>6.1026</td>\n",
       "      <td>6.2431</td>\n",
       "    </tr>\n",
       "    <tr>\n",
       "      <th>tanass_clean</th>\n",
       "      <td>0.1712</td>\n",
       "      <td>0.1866</td>\n",
       "    </tr>\n",
       "    <tr>\n",
       "      <th>tax</th>\n",
       "      <td>0.5062</td>\n",
       "      <td>0.5318</td>\n",
       "    </tr>\n",
       "  </tbody>\n",
       "</table>\n",
       "</div>"
      ],
      "text/plain": [
       "                  bc        \n",
       "                 lwb     upb\n",
       "const         6.1026  6.2431\n",
       "tanass_clean  0.1712  0.1866\n",
       "tax           0.5062  0.5318"
      ]
     },
     "execution_count": 14,
     "metadata": {},
     "output_type": "execute_result"
    }
   ],
   "source": [
    "wb_mam.get_ci()"
   ]
  },
  {
   "cell_type": "markdown",
   "metadata": {},
   "source": [
    "#### However, any combination of ('bc', 'bca', 'percentile) CI types could be selected and any combinations of independent variables can be chosen with 'which_ci' and 'which_var' optional arguments, respectively.\n",
    "\n",
    "Please note that if choosing 'bca' the calculation can take a while as it uses jacknife resampling for calculating the acceleration factor"
   ]
  },
  {
   "cell_type": "code",
   "execution_count": 15,
   "metadata": {},
   "outputs": [
    {
     "data": {
      "text/html": [
       "<div>\n",
       "<style scoped>\n",
       "    .dataframe tbody tr th:only-of-type {\n",
       "        vertical-align: middle;\n",
       "    }\n",
       "\n",
       "    .dataframe tbody tr th {\n",
       "        vertical-align: top;\n",
       "    }\n",
       "\n",
       "    .dataframe thead tr th {\n",
       "        text-align: left;\n",
       "    }\n",
       "</style>\n",
       "<table border=\"1\" class=\"dataframe\">\n",
       "  <thead>\n",
       "    <tr>\n",
       "      <th></th>\n",
       "      <th colspan=\"2\" halign=\"left\">bc</th>\n",
       "      <th colspan=\"2\" halign=\"left\">percentile</th>\n",
       "    </tr>\n",
       "    <tr>\n",
       "      <th></th>\n",
       "      <th>lwb</th>\n",
       "      <th>upb</th>\n",
       "      <th>lwb</th>\n",
       "      <th>upb</th>\n",
       "    </tr>\n",
       "  </thead>\n",
       "  <tbody>\n",
       "    <tr>\n",
       "      <th>tax</th>\n",
       "      <td>0.5062</td>\n",
       "      <td>0.5318</td>\n",
       "      <td>0.5058</td>\n",
       "      <td>0.5316</td>\n",
       "    </tr>\n",
       "    <tr>\n",
       "      <th>const</th>\n",
       "      <td>6.1026</td>\n",
       "      <td>6.2431</td>\n",
       "      <td>6.1031</td>\n",
       "      <td>6.2441</td>\n",
       "    </tr>\n",
       "  </tbody>\n",
       "</table>\n",
       "</div>"
      ],
      "text/plain": [
       "           bc         percentile        \n",
       "          lwb     upb        lwb     upb\n",
       "tax    0.5062  0.5318     0.5058  0.5316\n",
       "const  6.1026  6.2431     6.1031  6.2441"
      ]
     },
     "execution_count": 15,
     "metadata": {},
     "output_type": "execute_result"
    }
   ],
   "source": [
    "wb_mam.get_ci(which_ci=['bc', 'percentile'], which_var=['tax', 'const'])"
   ]
  },
  {
   "cell_type": "markdown",
   "metadata": {},
   "source": [
    "### get_all_se() method\n",
    "\n",
    "The following SE-s are calculated: \n",
    "- bootstrapped - standard error of the bootstrapped parameters\n",
    "- constant - model-based ols standard error, that is, constant variance is assumed \n",
    "- hc0, hc1, hc2, hc3, hc4, hc4m, hc5 - Heteroscedastic-consistan standard errors using sandwich estimators "
   ]
  },
  {
   "cell_type": "markdown",
   "metadata": {},
   "source": [
    "#### Vanila version is when using all indepencdent variables. "
   ]
  },
  {
   "cell_type": "code",
   "execution_count": 16,
   "metadata": {},
   "outputs": [
    {
     "data": {
      "text/html": [
       "<div>\n",
       "<style scoped>\n",
       "    .dataframe tbody tr th:only-of-type {\n",
       "        vertical-align: middle;\n",
       "    }\n",
       "\n",
       "    .dataframe tbody tr th {\n",
       "        vertical-align: top;\n",
       "    }\n",
       "\n",
       "    .dataframe thead th {\n",
       "        text-align: right;\n",
       "    }\n",
       "</style>\n",
       "<table border=\"1\" class=\"dataframe\">\n",
       "  <thead>\n",
       "    <tr style=\"text-align: right;\">\n",
       "      <th></th>\n",
       "      <th>bootstrapped</th>\n",
       "      <th>constant</th>\n",
       "      <th>hc0</th>\n",
       "      <th>hc1</th>\n",
       "      <th>hc2</th>\n",
       "      <th>hc3</th>\n",
       "      <th>hc4</th>\n",
       "      <th>hc4m</th>\n",
       "      <th>hc5</th>\n",
       "    </tr>\n",
       "  </thead>\n",
       "  <tbody>\n",
       "    <tr>\n",
       "      <th>const</th>\n",
       "      <td>0.0355</td>\n",
       "      <td>0.0351</td>\n",
       "      <td>0.0440</td>\n",
       "      <td>0.0440</td>\n",
       "      <td>0.0440</td>\n",
       "      <td>0.0440</td>\n",
       "      <td>0.0440</td>\n",
       "      <td>0.0440</td>\n",
       "      <td>0.0440</td>\n",
       "    </tr>\n",
       "    <tr>\n",
       "      <th>tanass_clean</th>\n",
       "      <td>0.0039</td>\n",
       "      <td>0.0039</td>\n",
       "      <td>0.0051</td>\n",
       "      <td>0.0051</td>\n",
       "      <td>0.0051</td>\n",
       "      <td>0.0051</td>\n",
       "      <td>0.0051</td>\n",
       "      <td>0.0051</td>\n",
       "      <td>0.0051</td>\n",
       "    </tr>\n",
       "    <tr>\n",
       "      <th>tax</th>\n",
       "      <td>0.0066</td>\n",
       "      <td>0.0066</td>\n",
       "      <td>0.0093</td>\n",
       "      <td>0.0093</td>\n",
       "      <td>0.0093</td>\n",
       "      <td>0.0093</td>\n",
       "      <td>0.0093</td>\n",
       "      <td>0.0093</td>\n",
       "      <td>0.0093</td>\n",
       "    </tr>\n",
       "  </tbody>\n",
       "</table>\n",
       "</div>"
      ],
      "text/plain": [
       "              bootstrapped  constant     hc0     hc1     hc2     hc3     hc4  \\\n",
       "const               0.0355    0.0351  0.0440  0.0440  0.0440  0.0440  0.0440   \n",
       "tanass_clean        0.0039    0.0039  0.0051  0.0051  0.0051  0.0051  0.0051   \n",
       "tax                 0.0066    0.0066  0.0093  0.0093  0.0093  0.0093  0.0093   \n",
       "\n",
       "                hc4m     hc5  \n",
       "const         0.0440  0.0440  \n",
       "tanass_clean  0.0051  0.0051  \n",
       "tax           0.0093  0.0093  "
      ]
     },
     "execution_count": 16,
     "metadata": {},
     "output_type": "execute_result"
    }
   ],
   "source": [
    "wb_mam.get_all_se()"
   ]
  },
  {
   "cell_type": "markdown",
   "metadata": {},
   "source": [
    "#### Can provide a subset of indepent vars to calculate the above-mentioned 9 SE-s with 'which_var' argument"
   ]
  },
  {
   "cell_type": "code",
   "execution_count": 17,
   "metadata": {},
   "outputs": [
    {
     "data": {
      "text/html": [
       "<div>\n",
       "<style scoped>\n",
       "    .dataframe tbody tr th:only-of-type {\n",
       "        vertical-align: middle;\n",
       "    }\n",
       "\n",
       "    .dataframe tbody tr th {\n",
       "        vertical-align: top;\n",
       "    }\n",
       "\n",
       "    .dataframe thead th {\n",
       "        text-align: right;\n",
       "    }\n",
       "</style>\n",
       "<table border=\"1\" class=\"dataframe\">\n",
       "  <thead>\n",
       "    <tr style=\"text-align: right;\">\n",
       "      <th></th>\n",
       "      <th>bootstrapped</th>\n",
       "      <th>constant</th>\n",
       "      <th>hc0</th>\n",
       "      <th>hc1</th>\n",
       "      <th>hc2</th>\n",
       "      <th>hc3</th>\n",
       "      <th>hc4</th>\n",
       "      <th>hc4m</th>\n",
       "      <th>hc5</th>\n",
       "    </tr>\n",
       "  </thead>\n",
       "  <tbody>\n",
       "    <tr>\n",
       "      <th>tanass_clean</th>\n",
       "      <td>0.0039</td>\n",
       "      <td>0.0039</td>\n",
       "      <td>0.0051</td>\n",
       "      <td>0.0051</td>\n",
       "      <td>0.0051</td>\n",
       "      <td>0.0051</td>\n",
       "      <td>0.0051</td>\n",
       "      <td>0.0051</td>\n",
       "      <td>0.0051</td>\n",
       "    </tr>\n",
       "    <tr>\n",
       "      <th>tax</th>\n",
       "      <td>0.0066</td>\n",
       "      <td>0.0066</td>\n",
       "      <td>0.0093</td>\n",
       "      <td>0.0093</td>\n",
       "      <td>0.0093</td>\n",
       "      <td>0.0093</td>\n",
       "      <td>0.0093</td>\n",
       "      <td>0.0093</td>\n",
       "      <td>0.0093</td>\n",
       "    </tr>\n",
       "  </tbody>\n",
       "</table>\n",
       "</div>"
      ],
      "text/plain": [
       "              bootstrapped  constant     hc0     hc1     hc2     hc3     hc4  \\\n",
       "tanass_clean        0.0039    0.0039  0.0051  0.0051  0.0051  0.0051  0.0051   \n",
       "tax                 0.0066    0.0066  0.0093  0.0093  0.0093  0.0093  0.0093   \n",
       "\n",
       "                hc4m     hc5  \n",
       "tanass_clean  0.0051  0.0051  \n",
       "tax           0.0093  0.0093  "
      ]
     },
     "execution_count": 17,
     "metadata": {},
     "output_type": "execute_result"
    }
   ],
   "source": [
    "wb_mam.get_all_se(which_var=['tanass_clean', 'tax'])"
   ]
  }
 ],
 "metadata": {
  "interpreter": {
   "hash": "e7370f93d1d0cde622a1f8e1c04877d8463912d04d973331ad4851f04de6915a"
  },
  "kernelspec": {
   "display_name": "Python 3 (ipykernel)",
   "language": "python",
   "name": "python3"
  },
  "language_info": {
   "codemirror_mode": {
    "name": "ipython",
    "version": 3
   },
   "file_extension": ".py",
   "mimetype": "text/x-python",
   "name": "python",
   "nbconvert_exporter": "python",
   "pygments_lexer": "ipython3",
   "version": "3.8.10"
  },
  "toc": {
   "base_numbering": 1,
   "nav_menu": {},
   "number_sections": true,
   "sideBar": true,
   "skip_h1_title": false,
   "title_cell": "Table of Contents",
   "title_sidebar": "Contents",
   "toc_cell": false,
   "toc_position": {},
   "toc_section_display": true,
   "toc_window_display": false
  }
 },
 "nbformat": 4,
 "nbformat_minor": 2
}
