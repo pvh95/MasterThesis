{
 "cells": [
  {
   "cell_type": "code",
   "execution_count": 1,
   "metadata": {},
   "outputs": [],
   "source": [
    "import numpy as np\n",
    "import pandas as pd\n",
    "\n",
    "from ols_bootstrap.pairs import PairsBootstrap\n",
    "from ols_bootstrap.residual import ResidualBootstrap\n",
    "from ols_bootstrap.wild import WildBootstrap"
   ]
  },
  {
   "cell_type": "code",
   "execution_count": 2,
   "metadata": {},
   "outputs": [
    {
     "name": "stderr",
     "output_type": "stream",
     "text": [
      "/home/phamv/.local/lib/python3.8/site-packages/IPython/core/interactiveshell.py:3444: DtypeWarning: Columns (66) have mixed types.Specify dtype option on import or set low_memory=False.\n",
      "  exec(code_obj, self.user_global_ns, self.user_ns)\n"
     ]
    }
   ],
   "source": [
    "df = pd.read_csv('./balance2018.csv')\n",
    "df = df[df['sales_clean'] != 0]\n",
    "df = df[['sales_clean', 'tanass_clean', 'tax']]\n",
    "df = df.dropna(subset=['tanass_clean', 'tax'])\n",
    "\n",
    "df_scaled = df.applymap(lambda x: np.log(x + 1))"
   ]
  },
  {
   "cell_type": "code",
   "execution_count": 3,
   "metadata": {},
   "outputs": [],
   "source": [
    "df_sample = df_scaled.sample(n=10000, replace=False)\n",
    "\n",
    "Y_data = pd.DataFrame(df_sample.iloc[:, 0])\n",
    "X_data = pd.DataFrame(df_sample.iloc[:, 1:])"
   ]
  },
  {
   "cell_type": "code",
   "execution_count": 4,
   "metadata": {},
   "outputs": [
    {
     "data": {
      "text/html": [
       "<div>\n",
       "<style scoped>\n",
       "    .dataframe tbody tr th:only-of-type {\n",
       "        vertical-align: middle;\n",
       "    }\n",
       "\n",
       "    .dataframe tbody tr th {\n",
       "        vertical-align: top;\n",
       "    }\n",
       "\n",
       "    .dataframe thead th {\n",
       "        text-align: right;\n",
       "    }\n",
       "</style>\n",
       "<table border=\"1\" class=\"dataframe\">\n",
       "  <thead>\n",
       "    <tr style=\"text-align: right;\">\n",
       "      <th></th>\n",
       "      <th>tanass_clean</th>\n",
       "      <th>tax</th>\n",
       "    </tr>\n",
       "  </thead>\n",
       "  <tbody>\n",
       "    <tr>\n",
       "      <th>117733</th>\n",
       "      <td>9.040026</td>\n",
       "      <td>6.035481</td>\n",
       "    </tr>\n",
       "    <tr>\n",
       "      <th>158600</th>\n",
       "      <td>11.561239</td>\n",
       "      <td>8.974112</td>\n",
       "    </tr>\n",
       "    <tr>\n",
       "      <th>71880</th>\n",
       "      <td>13.828938</td>\n",
       "      <td>7.812378</td>\n",
       "    </tr>\n",
       "    <tr>\n",
       "      <th>255800</th>\n",
       "      <td>9.420034</td>\n",
       "      <td>4.890349</td>\n",
       "    </tr>\n",
       "    <tr>\n",
       "      <th>346298</th>\n",
       "      <td>0.000000</td>\n",
       "      <td>5.159055</td>\n",
       "    </tr>\n",
       "  </tbody>\n",
       "</table>\n",
       "</div>"
      ],
      "text/plain": [
       "        tanass_clean       tax\n",
       "117733      9.040026  6.035481\n",
       "158600     11.561239  8.974112\n",
       "71880      13.828938  7.812378\n",
       "255800      9.420034  4.890349\n",
       "346298      0.000000  5.159055"
      ]
     },
     "execution_count": 4,
     "metadata": {},
     "output_type": "execute_result"
    }
   ],
   "source": [
    "X_data.head()"
   ]
  },
  {
   "cell_type": "code",
   "execution_count": 5,
   "metadata": {},
   "outputs": [
    {
     "data": {
      "text/html": [
       "<div>\n",
       "<style scoped>\n",
       "    .dataframe tbody tr th:only-of-type {\n",
       "        vertical-align: middle;\n",
       "    }\n",
       "\n",
       "    .dataframe tbody tr th {\n",
       "        vertical-align: top;\n",
       "    }\n",
       "\n",
       "    .dataframe thead th {\n",
       "        text-align: right;\n",
       "    }\n",
       "</style>\n",
       "<table border=\"1\" class=\"dataframe\">\n",
       "  <thead>\n",
       "    <tr style=\"text-align: right;\">\n",
       "      <th></th>\n",
       "      <th>sales_clean</th>\n",
       "    </tr>\n",
       "  </thead>\n",
       "  <tbody>\n",
       "    <tr>\n",
       "      <th>117733</th>\n",
       "      <td>9.534017</td>\n",
       "    </tr>\n",
       "    <tr>\n",
       "      <th>158600</th>\n",
       "      <td>11.042970</td>\n",
       "    </tr>\n",
       "    <tr>\n",
       "      <th>71880</th>\n",
       "      <td>14.016592</td>\n",
       "    </tr>\n",
       "    <tr>\n",
       "      <th>255800</th>\n",
       "      <td>8.160804</td>\n",
       "    </tr>\n",
       "    <tr>\n",
       "      <th>346298</th>\n",
       "      <td>8.493515</td>\n",
       "    </tr>\n",
       "  </tbody>\n",
       "</table>\n",
       "</div>"
      ],
      "text/plain": [
       "        sales_clean\n",
       "117733     9.534017\n",
       "158600    11.042970\n",
       "71880     14.016592\n",
       "255800     8.160804\n",
       "346298     8.493515"
      ]
     },
     "execution_count": 5,
     "metadata": {},
     "output_type": "execute_result"
    }
   ],
   "source": [
    "Y_data.head()"
   ]
  },
  {
   "cell_type": "code",
   "execution_count": 6,
   "metadata": {},
   "outputs": [],
   "source": [
    "psb = PairsBootstrap(Y_data, X_data, iter = 1000)\n",
    "psb.fit()"
   ]
  },
  {
   "cell_type": "code",
   "execution_count": 7,
   "metadata": {},
   "outputs": [],
   "source": [
    "rsb = ResidualBootstrap(Y_data, X_data, iter = 1000)\n",
    "rsb.fit()"
   ]
  },
  {
   "cell_type": "code",
   "execution_count": 8,
   "metadata": {},
   "outputs": [],
   "source": [
    "wb_stdn = WildBootstrap(Y_data, X_data, iter = 1000, from_distro = 'standard_normal')\n",
    "wb_stdn.fit()"
   ]
  },
  {
   "cell_type": "code",
   "execution_count": 9,
   "metadata": {},
   "outputs": [],
   "source": [
    "wb_rad = WildBootstrap(Y_data, X_data, iter = 1000, from_distro = 'rademacher')\n",
    "wb_rad.fit()"
   ]
  },
  {
   "cell_type": "code",
   "execution_count": 10,
   "metadata": {},
   "outputs": [],
   "source": [
    "wb_mam = WildBootstrap(Y_data, X_data, iter = 1000, from_distro = 'mammen')\n",
    "wb_mam.fit()"
   ]
  },
  {
   "cell_type": "code",
   "execution_count": 11,
   "metadata": {},
   "outputs": [
    {
     "name": "stdout",
     "output_type": "stream",
     "text": [
      "+------------------------------------------------------------------------------------------------------------------------------------------------------------------------------------+\n",
      "|                                      Pairs Bootstrap results with sample size of 10000 and bootstrap resampling size of 1000 using 95.00% CI                                       |\n",
      "+----------------+---------------+-------------------------------+----------+-----------------+-----------------------------+-------------------+--------------------+---------------+\n",
      "|     Params     |  Orig Coeffs  |  Mean of Bootstrapped Coeffs  |   Bias   |  Orig Coeff SE  |  SE of Bootstrapped Coeffs  |  % of Diff in SE  |       PCT CI       |  PCT CI Diff  |\n",
      "+----------------+---------------+-------------------------------+----------+-----------------+-----------------------------+-------------------+--------------------+---------------+\n",
      "|     const      |     6.2845    |             6.2854            |  0.0009  |      0.0350     |            0.0447           |       -27.65      |  [6.1986, 6.3738]  |     0.1751    |\n",
      "+----------------+---------------+-------------------------------+----------+-----------------+-----------------------------+-------------------+--------------------+---------------+\n",
      "|  tanass_clean  |     0.1698    |             0.1696            |  0.0003  |      0.0039     |            0.0050           |       -27.11      |  [0.1595, 0.1786]  |     0.0191    |\n",
      "+----------------+---------------+-------------------------------+----------+-----------------+-----------------------------+-------------------+--------------------+---------------+\n",
      "|      tax       |     0.5100    |             0.5101            |  0.0000  |      0.0066     |            0.0089           |       -36.11      |  [0.4940, 0.5282]  |     0.0341    |\n",
      "+----------------+---------------+-------------------------------+----------+-----------------+-----------------------------+-------------------+--------------------+---------------+\n"
     ]
    }
   ],
   "source": [
    "psb.summary()"
   ]
  },
  {
   "cell_type": "code",
   "execution_count": 12,
   "metadata": {},
   "outputs": [
    {
     "name": "stdout",
     "output_type": "stream",
     "text": [
      "+------------------------------------------------------------------------------------------------------------------------------------------------------------------------------------+\n",
      "|                                     Residual Bootstrap results with sample size of 10000 and bootstrap resampling size of 1000 using 95.00% CI                                     |\n",
      "+----------------+---------------+-------------------------------+----------+-----------------+-----------------------------+-------------------+--------------------+---------------+\n",
      "|     Params     |  Orig Coeffs  |  Mean of Bootstrapped Coeffs  |   Bias   |  Orig Coeff SE  |  SE of Bootstrapped Coeffs  |  % of Diff in SE  |       PCT CI       |  PCT CI Diff  |\n",
      "+----------------+---------------+-------------------------------+----------+-----------------+-----------------------------+-------------------+--------------------+---------------+\n",
      "|     const      |     6.2845    |             6.2834            |  0.0011  |      0.0350     |            0.0346           |        1.25       |  [6.2143, 6.3504]  |     0.1361    |\n",
      "+----------------+---------------+-------------------------------+----------+-----------------+-----------------------------+-------------------+--------------------+---------------+\n",
      "|  tanass_clean  |     0.1698    |             0.1697            |  0.0001  |      0.0039     |            0.0039           |       -0.46       |  [0.1628, 0.1778]  |     0.0150    |\n",
      "+----------------+---------------+-------------------------------+----------+-----------------+-----------------------------+-------------------+--------------------+---------------+\n",
      "|      tax       |     0.5100    |             0.5104            |  0.0003  |      0.0066     |            0.0066           |        0.16       |  [0.4980, 0.5231]  |     0.0250    |\n",
      "+----------------+---------------+-------------------------------+----------+-----------------+-----------------------------+-------------------+--------------------+---------------+\n"
     ]
    }
   ],
   "source": [
    "rsb.summary()"
   ]
  },
  {
   "cell_type": "code",
   "execution_count": 13,
   "metadata": {},
   "outputs": [
    {
     "name": "stdout",
     "output_type": "stream",
     "text": [
      "+------------------------------------------------------------------------------------------------------------------------------------------------------------------------------------+\n",
      "|                            Wild Bootstrap with Standard Normal results with sample size of 10000 and bootstrap resampling size of 1000 using 95.00% CI                             |\n",
      "+----------------+---------------+-------------------------------+----------+-----------------+-----------------------------+-------------------+--------------------+---------------+\n",
      "|     Params     |  Orig Coeffs  |  Mean of Bootstrapped Coeffs  |   Bias   |  Orig Coeff SE  |  SE of Bootstrapped Coeffs  |  % of Diff in SE  |       PCT CI       |  PCT CI Diff  |\n",
      "+----------------+---------------+-------------------------------+----------+-----------------+-----------------------------+-------------------+--------------------+---------------+\n",
      "|     const      |     6.2845    |             6.2871            |  0.0026  |      0.0350     |            0.0327           |        6.51       |  [6.2217, 6.3502]  |     0.1285    |\n",
      "+----------------+---------------+-------------------------------+----------+-----------------+-----------------------------+-------------------+--------------------+---------------+\n",
      "|  tanass_clean  |     0.1698    |             0.1699            |  0.0000  |      0.0039     |            0.0038           |        1.89       |  [0.1624, 0.1772]  |     0.0148    |\n",
      "+----------------+---------------+-------------------------------+----------+-----------------+-----------------------------+-------------------+--------------------+---------------+\n",
      "|      tax       |     0.5100    |             0.5095            |  0.0005  |      0.0066     |            0.0064           |        1.87       |  [0.4973, 0.5218]  |     0.0245    |\n",
      "+----------------+---------------+-------------------------------+----------+-----------------+-----------------------------+-------------------+--------------------+---------------+\n"
     ]
    }
   ],
   "source": [
    "wb_stdn.summary()"
   ]
  },
  {
   "cell_type": "code",
   "execution_count": 14,
   "metadata": {},
   "outputs": [
    {
     "name": "stdout",
     "output_type": "stream",
     "text": [
      "+------------------------------------------------------------------------------------------------------------------------------------------------------------------------------------+\n",
      "|                               Wild Bootstrap with Rademacher results with sample size of 10000 and bootstrap resampling size of 1000 using 95.00% CI                               |\n",
      "+----------------+---------------+-------------------------------+----------+-----------------+-----------------------------+-------------------+--------------------+---------------+\n",
      "|     Params     |  Orig Coeffs  |  Mean of Bootstrapped Coeffs  |   Bias   |  Orig Coeff SE  |  SE of Bootstrapped Coeffs  |  % of Diff in SE  |       PCT CI       |  PCT CI Diff  |\n",
      "+----------------+---------------+-------------------------------+----------+-----------------+-----------------------------+-------------------+--------------------+---------------+\n",
      "|     const      |     6.2845    |             6.2864            |  0.0019  |      0.0350     |            0.0351           |       -0.28       |  [6.2185, 6.3556]  |     0.1371    |\n",
      "+----------------+---------------+-------------------------------+----------+-----------------+-----------------------------+-------------------+--------------------+---------------+\n",
      "|  tanass_clean  |     0.1698    |             0.1696            |  0.0002  |      0.0039     |            0.0039           |        1.09       |  [0.1623, 0.1775]  |     0.0152    |\n",
      "+----------------+---------------+-------------------------------+----------+-----------------+-----------------------------+-------------------+--------------------+---------------+\n",
      "|      tax       |     0.5100    |             0.5100            |  0.0000  |      0.0066     |            0.0065           |        1.24       |  [0.4976, 0.5227]  |     0.0251    |\n",
      "+----------------+---------------+-------------------------------+----------+-----------------+-----------------------------+-------------------+--------------------+---------------+\n"
     ]
    }
   ],
   "source": [
    "wb_rad.summary()"
   ]
  },
  {
   "cell_type": "code",
   "execution_count": 15,
   "metadata": {},
   "outputs": [
    {
     "name": "stdout",
     "output_type": "stream",
     "text": [
      "+------------------------------------------------------------------------------------------------------------------------------------------------------------------------------------+\n",
      "|                                 Wild Bootstrap with Mammen results with sample size of 10000 and bootstrap resampling size of 1000 using 95.00% CI                                 |\n",
      "+----------------+---------------+-------------------------------+----------+-----------------+-----------------------------+-------------------+--------------------+---------------+\n",
      "|     Params     |  Orig Coeffs  |  Mean of Bootstrapped Coeffs  |   Bias   |  Orig Coeff SE  |  SE of Bootstrapped Coeffs  |  % of Diff in SE  |       PCT CI       |  PCT CI Diff  |\n",
      "+----------------+---------------+-------------------------------+----------+-----------------+-----------------------------+-------------------+--------------------+---------------+\n",
      "|     const      |     6.2845    |             6.2840            |  0.0006  |      0.0350     |            0.0346           |        1.13       |  [6.2201, 6.3513]  |     0.1311    |\n",
      "+----------------+---------------+-------------------------------+----------+-----------------+-----------------------------+-------------------+--------------------+---------------+\n",
      "|  tanass_clean  |     0.1698    |             0.1700            |  0.0002  |      0.0039     |            0.0038           |        1.33       |  [0.1620, 0.1772]  |     0.0152    |\n",
      "+----------------+---------------+-------------------------------+----------+-----------------+-----------------------------+-------------------+--------------------+---------------+\n",
      "|      tax       |     0.5100    |             0.5099            |  0.0002  |      0.0066     |            0.0066           |       -1.23       |  [0.4969, 0.5230]  |     0.0260    |\n",
      "+----------------+---------------+-------------------------------+----------+-----------------+-----------------------------+-------------------+--------------------+---------------+\n"
     ]
    }
   ],
   "source": [
    "wb_mam.summary()"
   ]
  },
  {
   "cell_type": "code",
   "execution_count": null,
   "metadata": {},
   "outputs": [],
   "source": []
  },
  {
   "cell_type": "code",
   "execution_count": null,
   "metadata": {},
   "outputs": [],
   "source": []
  }
 ],
 "metadata": {
  "interpreter": {
   "hash": "e7370f93d1d0cde622a1f8e1c04877d8463912d04d973331ad4851f04de6915a"
  },
  "kernelspec": {
   "display_name": "Python 3 (ipykernel)",
   "language": "python",
   "name": "python3"
  },
  "language_info": {
   "codemirror_mode": {
    "name": "ipython",
    "version": 3
   },
   "file_extension": ".py",
   "mimetype": "text/x-python",
   "name": "python",
   "nbconvert_exporter": "python",
   "pygments_lexer": "ipython3",
   "version": "3.8.10"
  },
  "toc": {
   "base_numbering": 1,
   "nav_menu": {},
   "number_sections": true,
   "sideBar": true,
   "skip_h1_title": false,
   "title_cell": "Table of Contents",
   "title_sidebar": "Contents",
   "toc_cell": false,
   "toc_position": {},
   "toc_section_display": true,
   "toc_window_display": false
  }
 },
 "nbformat": 4,
 "nbformat_minor": 2
}
