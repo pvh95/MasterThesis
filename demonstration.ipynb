{
 "cells": [
  {
   "cell_type": "code",
   "execution_count": 1,
   "metadata": {},
   "outputs": [],
   "source": [
    "import numpy as np\n",
    "import pandas as pd\n",
    "\n",
    "from ols_bootstrap.pairs import PairsBootstrap\n",
    "from ols_bootstrap.residual import ResidualBootstrap\n",
    "from ols_bootstrap.wild import WildBootstrap\n",
    "\n",
    "pd.options.display.float_format = '{:20,.5f}'.format  ### Setting pd to have a numerical precision up to 5 decimal points"
   ]
  },
  {
   "cell_type": "code",
   "execution_count": 2,
   "metadata": {},
   "outputs": [
    {
     "name": "stderr",
     "output_type": "stream",
     "text": [
      "/home/phamv/.local/lib/python3.8/site-packages/IPython/core/interactiveshell.py:3444: DtypeWarning: Columns (66) have mixed types.Specify dtype option on import or set low_memory=False.\n",
      "  exec(code_obj, self.user_global_ns, self.user_ns)\n"
     ]
    }
   ],
   "source": [
    "df = pd.read_csv('./balance2018.csv')\n",
    "df = df[df['sales_clean'] != 0]\n",
    "df = df[['sales_clean', 'tanass_clean', 'tax']]\n",
    "df = df.dropna(subset=['tanass_clean', 'tax'])\n",
    "\n",
    "df_scaled = df.applymap(lambda x: np.log(x + 1))"
   ]
  },
  {
   "cell_type": "code",
   "execution_count": 3,
   "metadata": {},
   "outputs": [],
   "source": [
    "df_sample = df_scaled.sample(n=10000, replace=False)\n",
    "\n",
    "Y_data = pd.DataFrame(df_sample.iloc[:, 0])\n",
    "X_data = pd.DataFrame(df_sample.iloc[:, 1:])"
   ]
  },
  {
   "cell_type": "markdown",
   "metadata": {},
   "source": [
    "## Default SE on the original OLS is HC3, default CI on bootstrapped parameter is BC. \n",
    "\n",
    "That is by default se_type = 'hc3', ci_type = 'bc'."
   ]
  },
  {
   "cell_type": "code",
   "execution_count": 4,
   "metadata": {},
   "outputs": [],
   "source": [
    "psb = PairsBootstrap(Y_data, X_data, reps = 1000, se_type='hc3', ci_type = 'bc')  # se_type = 'hc3' and ci_type = 'bc' are default options for these arguments.\n",
    "psb.fit()"
   ]
  },
  {
   "cell_type": "code",
   "execution_count": 5,
   "metadata": {},
   "outputs": [],
   "source": [
    "rsb = ResidualBootstrap(Y_data, X_data, reps = 1000)\n",
    "rsb.fit()"
   ]
  },
  {
   "cell_type": "code",
   "execution_count": 6,
   "metadata": {},
   "outputs": [],
   "source": [
    "wb_stdn = WildBootstrap(Y_data, X_data, reps = 1000, from_distro = \"standard_normal\")\n",
    "wb_stdn.fit()"
   ]
  },
  {
   "cell_type": "code",
   "execution_count": 7,
   "metadata": {},
   "outputs": [],
   "source": [
    "wb_rad = WildBootstrap(Y_data, X_data, reps = 1000, from_distro = \"rademacher\")\n",
    "wb_rad.fit()"
   ]
  },
  {
   "cell_type": "code",
   "execution_count": 8,
   "metadata": {},
   "outputs": [],
   "source": [
    "wb_mam = WildBootstrap(Y_data, X_data, reps = 1000, from_distro = \"mammen\")\n",
    "wb_mam.fit()"
   ]
  },
  {
   "cell_type": "code",
   "execution_count": 9,
   "metadata": {},
   "outputs": [
    {
     "name": "stdout",
     "output_type": "stream",
     "text": [
      "+----------------------------------------------------------------------------------------------------------------------------------+\n",
      "|                     Pairs Bootstrap results with 10000 obs and 1000 BS reps using HC3 SE-s and 95.00% BC CI                      |\n",
      "+--------------+------------+------------------+--------+---------------+--------------+--------------+------------------+---------+\n",
      "|     Var      | OLS Params | Avg of BS Params |  Bias  | OLS Params SE | BS Params SE | % of SE Diff |        CI        | CI Diff |\n",
      "+--------------+------------+------------------+--------+---------------+--------------+--------------+------------------+---------+\n",
      "|    const     |   6.2030   |      6.2012      | 0.0018 |     0.0451    |    0.0436    |     3.39     | [6.1174, 6.2903] |  0.1729 |\n",
      "+--------------+------------+------------------+--------+---------------+--------------+--------------+------------------+---------+\n",
      "| tanass_clean |   0.1739   |      0.1738      | 0.0000 |     0.0050    |    0.0050    |     0.83     | [0.1643, 0.1840] |  0.0197 |\n",
      "+--------------+------------+------------------+--------+---------------+--------------+--------------+------------------+---------+\n",
      "|     tax      |   0.5227   |      0.5229      | 0.0003 |     0.0090    |    0.0089    |     1.91     | [0.5048, 0.5405] |  0.0357 |\n",
      "+--------------+------------+------------------+--------+---------------+--------------+--------------+------------------+---------+\n"
     ]
    }
   ],
   "source": [
    "psb.summary()"
   ]
  },
  {
   "cell_type": "code",
   "execution_count": 10,
   "metadata": {},
   "outputs": [
    {
     "name": "stdout",
     "output_type": "stream",
     "text": [
      "+----------------------------------------------------------------------------------------------------------------------------------+\n",
      "|                    Residual Bootstrap results with 10000 obs and 1000 BS reps using HC3 SE-s and 95.00% BC CI                    |\n",
      "+--------------+------------+------------------+--------+---------------+--------------+--------------+------------------+---------+\n",
      "|     Var      | OLS Params | Avg of BS Params |  Bias  | OLS Params SE | BS Params SE | % of SE Diff |        CI        | CI Diff |\n",
      "+--------------+------------+------------------+--------+---------------+--------------+--------------+------------------+---------+\n",
      "|    const     |   6.2030   |      6.2038      | 0.0007 |     0.0451    |    0.0354    |    21.49     | [6.1327, 6.2674] |  0.1347 |\n",
      "+--------------+------------+------------------+--------+---------------+--------------+--------------+------------------+---------+\n",
      "| tanass_clean |   0.1739   |      0.1741      | 0.0002 |     0.0050    |    0.0038    |    23.25     | [0.1663, 0.1812] |  0.0149 |\n",
      "+--------------+------------+------------------+--------+---------------+--------------+--------------+------------------+---------+\n",
      "|     tax      |   0.5227   |      0.5223      | 0.0004 |     0.0090    |    0.0067    |    25.92     | [0.5097, 0.5368] |  0.0271 |\n",
      "+--------------+------------+------------------+--------+---------------+--------------+--------------+------------------+---------+\n"
     ]
    }
   ],
   "source": [
    "rsb.summary()"
   ]
  },
  {
   "cell_type": "code",
   "execution_count": 11,
   "metadata": {},
   "outputs": [
    {
     "name": "stdout",
     "output_type": "stream",
     "text": [
      "+----------------------------------------------------------------------------------------------------------------------------------+\n",
      "|           Wild Bootstrap with Standard Normal results with 10000 obs and 1000 BS reps using HC3 SE-s and 95.00% BC CI            |\n",
      "+--------------+------------+------------------+--------+---------------+--------------+--------------+------------------+---------+\n",
      "|     Var      | OLS Params | Avg of BS Params |  Bias  | OLS Params SE | BS Params SE | % of SE Diff |        CI        | CI Diff |\n",
      "+--------------+------------+------------------+--------+---------------+--------------+--------------+------------------+---------+\n",
      "|    const     |   6.2030   |      6.2032      | 0.0002 |     0.0451    |    0.0343    |    23.97     | [6.1339, 6.2685] |  0.1345 |\n",
      "+--------------+------------+------------------+--------+---------------+--------------+--------------+------------------+---------+\n",
      "| tanass_clean |   0.1739   |      0.1738      | 0.0000 |     0.0050    |    0.0038    |    23.21     | [0.1666, 0.1815] |  0.0149 |\n",
      "+--------------+------------+------------------+--------+---------------+--------------+--------------+------------------+---------+\n",
      "|     tax      |   0.5227   |      0.5227      | 0.0000 |     0.0090    |    0.0065    |    28.43     | [0.5101, 0.5360] |  0.0259 |\n",
      "+--------------+------------+------------------+--------+---------------+--------------+--------------+------------------+---------+\n"
     ]
    }
   ],
   "source": [
    "wb_stdn.summary()"
   ]
  },
  {
   "cell_type": "code",
   "execution_count": 12,
   "metadata": {},
   "outputs": [
    {
     "name": "stdout",
     "output_type": "stream",
     "text": [
      "+----------------------------------------------------------------------------------------------------------------------------------+\n",
      "|              Wild Bootstrap with Rademacher results with 10000 obs and 1000 BS reps using HC3 SE-s and 95.00% BC CI              |\n",
      "+--------------+------------+------------------+--------+---------------+--------------+--------------+------------------+---------+\n",
      "|     Var      | OLS Params | Avg of BS Params |  Bias  | OLS Params SE | BS Params SE | % of SE Diff |        CI        | CI Diff |\n",
      "+--------------+------------+------------------+--------+---------------+--------------+--------------+------------------+---------+\n",
      "|    const     |   6.2030   |      6.2023      | 0.0007 |     0.0451    |    0.0368    |    18.36     | [6.1350, 6.2766] |  0.1416 |\n",
      "+--------------+------------+------------------+--------+---------------+--------------+--------------+------------------+---------+\n",
      "| tanass_clean |   0.1739   |      0.1738      | 0.0001 |     0.0050    |    0.0039    |    21.86     | [0.1662, 0.1816] |  0.0154 |\n",
      "+--------------+------------+------------------+--------+---------------+--------------+--------------+------------------+---------+\n",
      "|     tax      |   0.5227   |      0.5228      | 0.0001 |     0.0090    |    0.0068    |    24.67     | [0.5083, 0.5345] |  0.0262 |\n",
      "+--------------+------------+------------------+--------+---------------+--------------+--------------+------------------+---------+\n"
     ]
    }
   ],
   "source": [
    "wb_rad.summary()"
   ]
  },
  {
   "cell_type": "code",
   "execution_count": 13,
   "metadata": {},
   "outputs": [
    {
     "name": "stdout",
     "output_type": "stream",
     "text": [
      "+----------------------------------------------------------------------------------------------------------------------------------+\n",
      "|                Wild Bootstrap with Mammen results with 10000 obs and 1000 BS reps using HC3 SE-s and 95.00% BC CI                |\n",
      "+--------------+------------+------------------+--------+---------------+--------------+--------------+------------------+---------+\n",
      "|     Var      | OLS Params | Avg of BS Params |  Bias  | OLS Params SE | BS Params SE | % of SE Diff |        CI        | CI Diff |\n",
      "+--------------+------------+------------------+--------+---------------+--------------+--------------+------------------+---------+\n",
      "|    const     |   6.2030   |      6.2034      | 0.0004 |     0.0451    |    0.0354    |    21.50     | [6.1338, 6.2728] |  0.1390 |\n",
      "+--------------+------------+------------------+--------+---------------+--------------+--------------+------------------+---------+\n",
      "| tanass_clean |   0.1739   |      0.1738      | 0.0001 |     0.0050    |    0.0039    |    22.03     | [0.1665, 0.1813] |  0.0147 |\n",
      "+--------------+------------+------------------+--------+---------------+--------------+--------------+------------------+---------+\n",
      "|     tax      |   0.5227   |      0.5227      | 0.0000 |     0.0090    |    0.0065    |    27.70     | [0.5101, 0.5350] |  0.0249 |\n",
      "+--------------+------------+------------------+--------+---------------+--------------+--------------+------------------+---------+\n"
     ]
    }
   ],
   "source": [
    "wb_mam.summary()"
   ]
  },
  {
   "cell_type": "markdown",
   "metadata": {},
   "source": [
    "## Some useful methods were implemented (let's use it on wb_mam object of Wild Bootstrap with Mammen)\n",
    "\n",
    "- The common in the following three methods is that either a string (if one wishes to capture one variable or ci) or 1-D like array can be provided to 'which_var' and/or 'which_ci' (the latter if exists in that object class)."
   ]
  },
  {
   "cell_type": "markdown",
   "metadata": {},
   "source": [
    "### get_ci() method"
   ]
  },
  {
   "cell_type": "markdown",
   "metadata": {},
   "source": [
    "#### Vanila version is when only the actual CI was used with all independent variables"
   ]
  },
  {
   "cell_type": "code",
   "execution_count": 14,
   "metadata": {},
   "outputs": [
    {
     "data": {
      "text/html": [
       "<div>\n",
       "<style scoped>\n",
       "    .dataframe tbody tr th:only-of-type {\n",
       "        vertical-align: middle;\n",
       "    }\n",
       "\n",
       "    .dataframe tbody tr th {\n",
       "        vertical-align: top;\n",
       "    }\n",
       "\n",
       "    .dataframe thead tr th {\n",
       "        text-align: left;\n",
       "    }\n",
       "</style>\n",
       "<table border=\"1\" class=\"dataframe\">\n",
       "  <thead>\n",
       "    <tr>\n",
       "      <th></th>\n",
       "      <th colspan=\"2\" halign=\"left\">bc</th>\n",
       "    </tr>\n",
       "    <tr>\n",
       "      <th></th>\n",
       "      <th>lwb</th>\n",
       "      <th>upb</th>\n",
       "    </tr>\n",
       "  </thead>\n",
       "  <tbody>\n",
       "    <tr>\n",
       "      <th>const</th>\n",
       "      <td>6.13380</td>\n",
       "      <td>6.27276</td>\n",
       "    </tr>\n",
       "    <tr>\n",
       "      <th>tanass_clean</th>\n",
       "      <td>0.16653</td>\n",
       "      <td>0.18127</td>\n",
       "    </tr>\n",
       "    <tr>\n",
       "      <th>tax</th>\n",
       "      <td>0.51007</td>\n",
       "      <td>0.53500</td>\n",
       "    </tr>\n",
       "  </tbody>\n",
       "</table>\n",
       "</div>"
      ],
      "text/plain": [
       "                               bc                     \n",
       "                              lwb                  upb\n",
       "const                     6.13380              6.27276\n",
       "tanass_clean              0.16653              0.18127\n",
       "tax                       0.51007              0.53500"
      ]
     },
     "execution_count": 14,
     "metadata": {},
     "output_type": "execute_result"
    }
   ],
   "source": [
    "wb_mam.get_ci()"
   ]
  },
  {
   "cell_type": "markdown",
   "metadata": {},
   "source": [
    "#### However, any combination of ('bc', 'bca', 'percentile) CI types could be selected and any combinations of independent variables can be chosen with 'which_ci' and 'which_var' optional arguments, respectively.\n",
    "\n",
    "Please note that if choosing 'bca' the calculation can take a while as it uses jacknife resampling for calculating the acceleration factor"
   ]
  },
  {
   "cell_type": "code",
   "execution_count": 15,
   "metadata": {},
   "outputs": [
    {
     "data": {
      "text/html": [
       "<div>\n",
       "<style scoped>\n",
       "    .dataframe tbody tr th:only-of-type {\n",
       "        vertical-align: middle;\n",
       "    }\n",
       "\n",
       "    .dataframe tbody tr th {\n",
       "        vertical-align: top;\n",
       "    }\n",
       "\n",
       "    .dataframe thead tr th {\n",
       "        text-align: left;\n",
       "    }\n",
       "</style>\n",
       "<table border=\"1\" class=\"dataframe\">\n",
       "  <thead>\n",
       "    <tr>\n",
       "      <th></th>\n",
       "      <th colspan=\"2\" halign=\"left\">bc</th>\n",
       "      <th colspan=\"2\" halign=\"left\">percentile</th>\n",
       "    </tr>\n",
       "    <tr>\n",
       "      <th></th>\n",
       "      <th>lwb</th>\n",
       "      <th>upb</th>\n",
       "      <th>lwb</th>\n",
       "      <th>upb</th>\n",
       "    </tr>\n",
       "  </thead>\n",
       "  <tbody>\n",
       "    <tr>\n",
       "      <th>tax</th>\n",
       "      <td>0.51007</td>\n",
       "      <td>0.53500</td>\n",
       "      <td>0.51025</td>\n",
       "      <td>0.53517</td>\n",
       "    </tr>\n",
       "    <tr>\n",
       "      <th>const</th>\n",
       "      <td>6.13380</td>\n",
       "      <td>6.27276</td>\n",
       "      <td>6.13366</td>\n",
       "      <td>6.27276</td>\n",
       "    </tr>\n",
       "  </tbody>\n",
       "</table>\n",
       "</div>"
      ],
      "text/plain": [
       "                        bc                                percentile  \\\n",
       "                       lwb                  upb                  lwb   \n",
       "tax                0.51007              0.53500              0.51025   \n",
       "const              6.13380              6.27276              6.13366   \n",
       "\n",
       "                            \n",
       "                       upb  \n",
       "tax                0.53517  \n",
       "const              6.27276  "
      ]
     },
     "execution_count": 15,
     "metadata": {},
     "output_type": "execute_result"
    }
   ],
   "source": [
    "wb_mam.get_ci(which_ci=['bc', 'percentile'], which_var=['tax', 'const'])"
   ]
  },
  {
   "cell_type": "code",
   "execution_count": 16,
   "metadata": {},
   "outputs": [
    {
     "data": {
      "text/html": [
       "<div>\n",
       "<style scoped>\n",
       "    .dataframe tbody tr th:only-of-type {\n",
       "        vertical-align: middle;\n",
       "    }\n",
       "\n",
       "    .dataframe tbody tr th {\n",
       "        vertical-align: top;\n",
       "    }\n",
       "\n",
       "    .dataframe thead tr th {\n",
       "        text-align: left;\n",
       "    }\n",
       "</style>\n",
       "<table border=\"1\" class=\"dataframe\">\n",
       "  <thead>\n",
       "    <tr>\n",
       "      <th></th>\n",
       "      <th colspan=\"2\" halign=\"left\">bc</th>\n",
       "      <th colspan=\"2\" halign=\"left\">bca</th>\n",
       "    </tr>\n",
       "    <tr>\n",
       "      <th></th>\n",
       "      <th>lwb</th>\n",
       "      <th>upb</th>\n",
       "      <th>lwb</th>\n",
       "      <th>upb</th>\n",
       "    </tr>\n",
       "  </thead>\n",
       "  <tbody>\n",
       "    <tr>\n",
       "      <th>tanass_clean</th>\n",
       "      <td>0.16653</td>\n",
       "      <td>0.18127</td>\n",
       "      <td>0.16656</td>\n",
       "      <td>0.18140</td>\n",
       "    </tr>\n",
       "  </tbody>\n",
       "</table>\n",
       "</div>"
      ],
      "text/plain": [
       "                               bc                                       bca  \\\n",
       "                              lwb                  upb                  lwb   \n",
       "tanass_clean              0.16653              0.18127              0.16656   \n",
       "\n",
       "                                   \n",
       "                              upb  \n",
       "tanass_clean              0.18140  "
      ]
     },
     "execution_count": 16,
     "metadata": {},
     "output_type": "execute_result"
    }
   ],
   "source": [
    "wb_mam.get_ci(which_ci=['bca', 'bc'], which_var='tanass_clean')"
   ]
  },
  {
   "cell_type": "code",
   "execution_count": 17,
   "metadata": {},
   "outputs": [
    {
     "data": {
      "text/html": [
       "<div>\n",
       "<style scoped>\n",
       "    .dataframe tbody tr th:only-of-type {\n",
       "        vertical-align: middle;\n",
       "    }\n",
       "\n",
       "    .dataframe tbody tr th {\n",
       "        vertical-align: top;\n",
       "    }\n",
       "\n",
       "    .dataframe thead tr th {\n",
       "        text-align: left;\n",
       "    }\n",
       "</style>\n",
       "<table border=\"1\" class=\"dataframe\">\n",
       "  <thead>\n",
       "    <tr>\n",
       "      <th></th>\n",
       "      <th colspan=\"2\" halign=\"left\">bc</th>\n",
       "    </tr>\n",
       "    <tr>\n",
       "      <th></th>\n",
       "      <th>lwb</th>\n",
       "      <th>upb</th>\n",
       "    </tr>\n",
       "  </thead>\n",
       "  <tbody>\n",
       "    <tr>\n",
       "      <th>tanass_clean</th>\n",
       "      <td>0.16653</td>\n",
       "      <td>0.18127</td>\n",
       "    </tr>\n",
       "  </tbody>\n",
       "</table>\n",
       "</div>"
      ],
      "text/plain": [
       "                               bc                     \n",
       "                              lwb                  upb\n",
       "tanass_clean              0.16653              0.18127"
      ]
     },
     "execution_count": 17,
     "metadata": {},
     "output_type": "execute_result"
    }
   ],
   "source": [
    "wb_mam.get_ci(which_ci='bc', which_var='tanass_clean')"
   ]
  },
  {
   "cell_type": "markdown",
   "metadata": {},
   "source": [
    "### get_all_se() method\n",
    "\n",
    "The following SE-s are calculated: \n",
    "- bootstrapped - standard error of the bootstrapped parameters\n",
    "- constant - model-based OLS Standard Errors, that is, constant variance is assumed \n",
    "- HC0, HC1, HC2, HC3, HC4, HC4m, HC5 - Heteroskedasticity-Consistent Standard Errors (HCE) using sandwich estimators "
   ]
  },
  {
   "cell_type": "markdown",
   "metadata": {},
   "source": [
    "#### Vanila version is when using all indepencdent variables. "
   ]
  },
  {
   "cell_type": "code",
   "execution_count": 18,
   "metadata": {},
   "outputs": [
    {
     "data": {
      "text/html": [
       "<div>\n",
       "<style scoped>\n",
       "    .dataframe tbody tr th:only-of-type {\n",
       "        vertical-align: middle;\n",
       "    }\n",
       "\n",
       "    .dataframe tbody tr th {\n",
       "        vertical-align: top;\n",
       "    }\n",
       "\n",
       "    .dataframe thead th {\n",
       "        text-align: right;\n",
       "    }\n",
       "</style>\n",
       "<table border=\"1\" class=\"dataframe\">\n",
       "  <thead>\n",
       "    <tr style=\"text-align: right;\">\n",
       "      <th></th>\n",
       "      <th>bootstrapped</th>\n",
       "      <th>constant</th>\n",
       "      <th>hc0</th>\n",
       "      <th>hc1</th>\n",
       "      <th>hc2</th>\n",
       "      <th>hc3</th>\n",
       "      <th>hc4</th>\n",
       "      <th>hc4m</th>\n",
       "      <th>hc5</th>\n",
       "    </tr>\n",
       "  </thead>\n",
       "  <tbody>\n",
       "    <tr>\n",
       "      <th>const</th>\n",
       "      <td>0.03542</td>\n",
       "      <td>0.03534</td>\n",
       "      <td>0.04510</td>\n",
       "      <td>0.04511</td>\n",
       "      <td>0.04512</td>\n",
       "      <td>0.04513</td>\n",
       "      <td>0.04513</td>\n",
       "      <td>0.04513</td>\n",
       "      <td>0.04513</td>\n",
       "    </tr>\n",
       "    <tr>\n",
       "      <th>tanass_clean</th>\n",
       "      <td>0.00390</td>\n",
       "      <td>0.00390</td>\n",
       "      <td>0.00500</td>\n",
       "      <td>0.00500</td>\n",
       "      <td>0.00500</td>\n",
       "      <td>0.00500</td>\n",
       "      <td>0.00501</td>\n",
       "      <td>0.00501</td>\n",
       "      <td>0.00501</td>\n",
       "    </tr>\n",
       "    <tr>\n",
       "      <th>tax</th>\n",
       "      <td>0.00652</td>\n",
       "      <td>0.00654</td>\n",
       "      <td>0.00902</td>\n",
       "      <td>0.00902</td>\n",
       "      <td>0.00902</td>\n",
       "      <td>0.00902</td>\n",
       "      <td>0.00903</td>\n",
       "      <td>0.00903</td>\n",
       "      <td>0.00903</td>\n",
       "    </tr>\n",
       "  </tbody>\n",
       "</table>\n",
       "</div>"
      ],
      "text/plain": [
       "                     bootstrapped             constant                  hc0  \\\n",
       "const                     0.03542              0.03534              0.04510   \n",
       "tanass_clean              0.00390              0.00390              0.00500   \n",
       "tax                       0.00652              0.00654              0.00902   \n",
       "\n",
       "                              hc1                  hc2                  hc3  \\\n",
       "const                     0.04511              0.04512              0.04513   \n",
       "tanass_clean              0.00500              0.00500              0.00500   \n",
       "tax                       0.00902              0.00902              0.00902   \n",
       "\n",
       "                              hc4                 hc4m                  hc5  \n",
       "const                     0.04513              0.04513              0.04513  \n",
       "tanass_clean              0.00501              0.00501              0.00501  \n",
       "tax                       0.00903              0.00903              0.00903  "
      ]
     },
     "execution_count": 18,
     "metadata": {},
     "output_type": "execute_result"
    }
   ],
   "source": [
    "wb_mam.get_all_se()"
   ]
  },
  {
   "cell_type": "markdown",
   "metadata": {},
   "source": [
    "#### A subset of indepent variables can be chosen with 'which_var' argument to calculate the above-mentioned 9 SE-s"
   ]
  },
  {
   "cell_type": "code",
   "execution_count": 19,
   "metadata": {},
   "outputs": [
    {
     "data": {
      "text/html": [
       "<div>\n",
       "<style scoped>\n",
       "    .dataframe tbody tr th:only-of-type {\n",
       "        vertical-align: middle;\n",
       "    }\n",
       "\n",
       "    .dataframe tbody tr th {\n",
       "        vertical-align: top;\n",
       "    }\n",
       "\n",
       "    .dataframe thead th {\n",
       "        text-align: right;\n",
       "    }\n",
       "</style>\n",
       "<table border=\"1\" class=\"dataframe\">\n",
       "  <thead>\n",
       "    <tr style=\"text-align: right;\">\n",
       "      <th></th>\n",
       "      <th>bootstrapped</th>\n",
       "      <th>constant</th>\n",
       "      <th>hc0</th>\n",
       "      <th>hc1</th>\n",
       "      <th>hc2</th>\n",
       "      <th>hc3</th>\n",
       "      <th>hc4</th>\n",
       "      <th>hc4m</th>\n",
       "      <th>hc5</th>\n",
       "    </tr>\n",
       "  </thead>\n",
       "  <tbody>\n",
       "    <tr>\n",
       "      <th>tanass_clean</th>\n",
       "      <td>0.00390</td>\n",
       "      <td>0.00390</td>\n",
       "      <td>0.00500</td>\n",
       "      <td>0.00500</td>\n",
       "      <td>0.00500</td>\n",
       "      <td>0.00500</td>\n",
       "      <td>0.00501</td>\n",
       "      <td>0.00501</td>\n",
       "      <td>0.00501</td>\n",
       "    </tr>\n",
       "    <tr>\n",
       "      <th>tax</th>\n",
       "      <td>0.00652</td>\n",
       "      <td>0.00654</td>\n",
       "      <td>0.00902</td>\n",
       "      <td>0.00902</td>\n",
       "      <td>0.00902</td>\n",
       "      <td>0.00902</td>\n",
       "      <td>0.00903</td>\n",
       "      <td>0.00903</td>\n",
       "      <td>0.00903</td>\n",
       "    </tr>\n",
       "  </tbody>\n",
       "</table>\n",
       "</div>"
      ],
      "text/plain": [
       "                     bootstrapped             constant                  hc0  \\\n",
       "tanass_clean              0.00390              0.00390              0.00500   \n",
       "tax                       0.00652              0.00654              0.00902   \n",
       "\n",
       "                              hc1                  hc2                  hc3  \\\n",
       "tanass_clean              0.00500              0.00500              0.00500   \n",
       "tax                       0.00902              0.00902              0.00902   \n",
       "\n",
       "                              hc4                 hc4m                  hc5  \n",
       "tanass_clean              0.00501              0.00501              0.00501  \n",
       "tax                       0.00903              0.00903              0.00903  "
      ]
     },
     "execution_count": 19,
     "metadata": {},
     "output_type": "execute_result"
    }
   ],
   "source": [
    "wb_mam.get_all_se(which_var=['tanass_clean', 'tax'])"
   ]
  },
  {
   "cell_type": "code",
   "execution_count": 20,
   "metadata": {},
   "outputs": [
    {
     "data": {
      "text/html": [
       "<div>\n",
       "<style scoped>\n",
       "    .dataframe tbody tr th:only-of-type {\n",
       "        vertical-align: middle;\n",
       "    }\n",
       "\n",
       "    .dataframe tbody tr th {\n",
       "        vertical-align: top;\n",
       "    }\n",
       "\n",
       "    .dataframe thead th {\n",
       "        text-align: right;\n",
       "    }\n",
       "</style>\n",
       "<table border=\"1\" class=\"dataframe\">\n",
       "  <thead>\n",
       "    <tr style=\"text-align: right;\">\n",
       "      <th></th>\n",
       "      <th>bootstrapped</th>\n",
       "      <th>constant</th>\n",
       "      <th>hc0</th>\n",
       "      <th>hc1</th>\n",
       "      <th>hc2</th>\n",
       "      <th>hc3</th>\n",
       "      <th>hc4</th>\n",
       "      <th>hc4m</th>\n",
       "      <th>hc5</th>\n",
       "    </tr>\n",
       "  </thead>\n",
       "  <tbody>\n",
       "    <tr>\n",
       "      <th>tax</th>\n",
       "      <td>0.00652</td>\n",
       "      <td>0.00654</td>\n",
       "      <td>0.00902</td>\n",
       "      <td>0.00902</td>\n",
       "      <td>0.00902</td>\n",
       "      <td>0.00902</td>\n",
       "      <td>0.00903</td>\n",
       "      <td>0.00903</td>\n",
       "      <td>0.00903</td>\n",
       "    </tr>\n",
       "  </tbody>\n",
       "</table>\n",
       "</div>"
      ],
      "text/plain": [
       "            bootstrapped             constant                  hc0  \\\n",
       "tax              0.00652              0.00654              0.00902   \n",
       "\n",
       "                     hc1                  hc2                  hc3  \\\n",
       "tax              0.00902              0.00902              0.00902   \n",
       "\n",
       "                     hc4                 hc4m                  hc5  \n",
       "tax              0.00903              0.00903              0.00903  "
      ]
     },
     "execution_count": 20,
     "metadata": {},
     "output_type": "execute_result"
    }
   ],
   "source": [
    "wb_mam.get_all_se(which_var='tax')"
   ]
  },
  {
   "cell_type": "markdown",
   "metadata": {},
   "source": [
    "### get_bootstrap_params() method"
   ]
  },
  {
   "cell_type": "markdown",
   "metadata": {},
   "source": [
    "#### Vanila version: Returning a dataframe capturing the parameter estimate of ALL each independent variables in each (wild) bootstrap."
   ]
  },
  {
   "cell_type": "code",
   "execution_count": 21,
   "metadata": {},
   "outputs": [
    {
     "data": {
      "text/html": [
       "<div>\n",
       "<style scoped>\n",
       "    .dataframe tbody tr th:only-of-type {\n",
       "        vertical-align: middle;\n",
       "    }\n",
       "\n",
       "    .dataframe tbody tr th {\n",
       "        vertical-align: top;\n",
       "    }\n",
       "\n",
       "    .dataframe thead th {\n",
       "        text-align: right;\n",
       "    }\n",
       "</style>\n",
       "<table border=\"1\" class=\"dataframe\">\n",
       "  <thead>\n",
       "    <tr style=\"text-align: right;\">\n",
       "      <th></th>\n",
       "      <th>const</th>\n",
       "      <th>tanass_clean</th>\n",
       "      <th>tax</th>\n",
       "    </tr>\n",
       "  </thead>\n",
       "  <tbody>\n",
       "    <tr>\n",
       "      <th>0</th>\n",
       "      <td>6.17783</td>\n",
       "      <td>0.17751</td>\n",
       "      <td>0.51911</td>\n",
       "    </tr>\n",
       "    <tr>\n",
       "      <th>1</th>\n",
       "      <td>6.13784</td>\n",
       "      <td>0.18012</td>\n",
       "      <td>0.52724</td>\n",
       "    </tr>\n",
       "    <tr>\n",
       "      <th>2</th>\n",
       "      <td>6.16870</td>\n",
       "      <td>0.17626</td>\n",
       "      <td>0.52511</td>\n",
       "    </tr>\n",
       "    <tr>\n",
       "      <th>3</th>\n",
       "      <td>6.26846</td>\n",
       "      <td>0.17586</td>\n",
       "      <td>0.50987</td>\n",
       "    </tr>\n",
       "    <tr>\n",
       "      <th>4</th>\n",
       "      <td>6.17768</td>\n",
       "      <td>0.17875</td>\n",
       "      <td>0.52023</td>\n",
       "    </tr>\n",
       "    <tr>\n",
       "      <th>...</th>\n",
       "      <td>...</td>\n",
       "      <td>...</td>\n",
       "      <td>...</td>\n",
       "    </tr>\n",
       "    <tr>\n",
       "      <th>995</th>\n",
       "      <td>6.08984</td>\n",
       "      <td>0.18517</td>\n",
       "      <td>0.52929</td>\n",
       "    </tr>\n",
       "    <tr>\n",
       "      <th>996</th>\n",
       "      <td>6.22827</td>\n",
       "      <td>0.17306</td>\n",
       "      <td>0.51343</td>\n",
       "    </tr>\n",
       "    <tr>\n",
       "      <th>997</th>\n",
       "      <td>6.21688</td>\n",
       "      <td>0.17489</td>\n",
       "      <td>0.51683</td>\n",
       "    </tr>\n",
       "    <tr>\n",
       "      <th>998</th>\n",
       "      <td>6.20410</td>\n",
       "      <td>0.17807</td>\n",
       "      <td>0.51713</td>\n",
       "    </tr>\n",
       "    <tr>\n",
       "      <th>999</th>\n",
       "      <td>6.14532</td>\n",
       "      <td>0.17527</td>\n",
       "      <td>0.53335</td>\n",
       "    </tr>\n",
       "  </tbody>\n",
       "</table>\n",
       "<p>1000 rows × 3 columns</p>\n",
       "</div>"
      ],
      "text/plain": [
       "                   const         tanass_clean                  tax\n",
       "0                6.17783              0.17751              0.51911\n",
       "1                6.13784              0.18012              0.52724\n",
       "2                6.16870              0.17626              0.52511\n",
       "3                6.26846              0.17586              0.50987\n",
       "4                6.17768              0.17875              0.52023\n",
       "..                   ...                  ...                  ...\n",
       "995              6.08984              0.18517              0.52929\n",
       "996              6.22827              0.17306              0.51343\n",
       "997              6.21688              0.17489              0.51683\n",
       "998              6.20410              0.17807              0.51713\n",
       "999              6.14532              0.17527              0.53335\n",
       "\n",
       "[1000 rows x 3 columns]"
      ]
     },
     "execution_count": 21,
     "metadata": {},
     "output_type": "execute_result"
    }
   ],
   "source": [
    "wb_mam.get_bootstrap_params()"
   ]
  },
  {
   "cell_type": "markdown",
   "metadata": {},
   "source": [
    "#### As usual, the desired independent variable can be chosen with 'which_var' argument"
   ]
  },
  {
   "cell_type": "code",
   "execution_count": 22,
   "metadata": {},
   "outputs": [
    {
     "data": {
      "text/html": [
       "<div>\n",
       "<style scoped>\n",
       "    .dataframe tbody tr th:only-of-type {\n",
       "        vertical-align: middle;\n",
       "    }\n",
       "\n",
       "    .dataframe tbody tr th {\n",
       "        vertical-align: top;\n",
       "    }\n",
       "\n",
       "    .dataframe thead th {\n",
       "        text-align: right;\n",
       "    }\n",
       "</style>\n",
       "<table border=\"1\" class=\"dataframe\">\n",
       "  <thead>\n",
       "    <tr style=\"text-align: right;\">\n",
       "      <th></th>\n",
       "      <th>tax</th>\n",
       "    </tr>\n",
       "  </thead>\n",
       "  <tbody>\n",
       "    <tr>\n",
       "      <th>0</th>\n",
       "      <td>0.51911</td>\n",
       "    </tr>\n",
       "    <tr>\n",
       "      <th>1</th>\n",
       "      <td>0.52724</td>\n",
       "    </tr>\n",
       "    <tr>\n",
       "      <th>2</th>\n",
       "      <td>0.52511</td>\n",
       "    </tr>\n",
       "    <tr>\n",
       "      <th>3</th>\n",
       "      <td>0.50987</td>\n",
       "    </tr>\n",
       "    <tr>\n",
       "      <th>4</th>\n",
       "      <td>0.52023</td>\n",
       "    </tr>\n",
       "    <tr>\n",
       "      <th>...</th>\n",
       "      <td>...</td>\n",
       "    </tr>\n",
       "    <tr>\n",
       "      <th>995</th>\n",
       "      <td>0.52929</td>\n",
       "    </tr>\n",
       "    <tr>\n",
       "      <th>996</th>\n",
       "      <td>0.51343</td>\n",
       "    </tr>\n",
       "    <tr>\n",
       "      <th>997</th>\n",
       "      <td>0.51683</td>\n",
       "    </tr>\n",
       "    <tr>\n",
       "      <th>998</th>\n",
       "      <td>0.51713</td>\n",
       "    </tr>\n",
       "    <tr>\n",
       "      <th>999</th>\n",
       "      <td>0.53335</td>\n",
       "    </tr>\n",
       "  </tbody>\n",
       "</table>\n",
       "<p>1000 rows × 1 columns</p>\n",
       "</div>"
      ],
      "text/plain": [
       "                     tax\n",
       "0                0.51911\n",
       "1                0.52724\n",
       "2                0.52511\n",
       "3                0.50987\n",
       "4                0.52023\n",
       "..                   ...\n",
       "995              0.52929\n",
       "996              0.51343\n",
       "997              0.51683\n",
       "998              0.51713\n",
       "999              0.53335\n",
       "\n",
       "[1000 rows x 1 columns]"
      ]
     },
     "execution_count": 22,
     "metadata": {},
     "output_type": "execute_result"
    }
   ],
   "source": [
    "wb_mam.get_bootstrap_params(which_var='tax')"
   ]
  },
  {
   "cell_type": "code",
   "execution_count": 23,
   "metadata": {},
   "outputs": [
    {
     "data": {
      "text/html": [
       "<div>\n",
       "<style scoped>\n",
       "    .dataframe tbody tr th:only-of-type {\n",
       "        vertical-align: middle;\n",
       "    }\n",
       "\n",
       "    .dataframe tbody tr th {\n",
       "        vertical-align: top;\n",
       "    }\n",
       "\n",
       "    .dataframe thead th {\n",
       "        text-align: right;\n",
       "    }\n",
       "</style>\n",
       "<table border=\"1\" class=\"dataframe\">\n",
       "  <thead>\n",
       "    <tr style=\"text-align: right;\">\n",
       "      <th></th>\n",
       "      <th>const</th>\n",
       "      <th>tanass_clean</th>\n",
       "    </tr>\n",
       "  </thead>\n",
       "  <tbody>\n",
       "    <tr>\n",
       "      <th>0</th>\n",
       "      <td>6.17783</td>\n",
       "      <td>0.17751</td>\n",
       "    </tr>\n",
       "    <tr>\n",
       "      <th>1</th>\n",
       "      <td>6.13784</td>\n",
       "      <td>0.18012</td>\n",
       "    </tr>\n",
       "    <tr>\n",
       "      <th>2</th>\n",
       "      <td>6.16870</td>\n",
       "      <td>0.17626</td>\n",
       "    </tr>\n",
       "    <tr>\n",
       "      <th>3</th>\n",
       "      <td>6.26846</td>\n",
       "      <td>0.17586</td>\n",
       "    </tr>\n",
       "    <tr>\n",
       "      <th>4</th>\n",
       "      <td>6.17768</td>\n",
       "      <td>0.17875</td>\n",
       "    </tr>\n",
       "    <tr>\n",
       "      <th>...</th>\n",
       "      <td>...</td>\n",
       "      <td>...</td>\n",
       "    </tr>\n",
       "    <tr>\n",
       "      <th>995</th>\n",
       "      <td>6.08984</td>\n",
       "      <td>0.18517</td>\n",
       "    </tr>\n",
       "    <tr>\n",
       "      <th>996</th>\n",
       "      <td>6.22827</td>\n",
       "      <td>0.17306</td>\n",
       "    </tr>\n",
       "    <tr>\n",
       "      <th>997</th>\n",
       "      <td>6.21688</td>\n",
       "      <td>0.17489</td>\n",
       "    </tr>\n",
       "    <tr>\n",
       "      <th>998</th>\n",
       "      <td>6.20410</td>\n",
       "      <td>0.17807</td>\n",
       "    </tr>\n",
       "    <tr>\n",
       "      <th>999</th>\n",
       "      <td>6.14532</td>\n",
       "      <td>0.17527</td>\n",
       "    </tr>\n",
       "  </tbody>\n",
       "</table>\n",
       "<p>1000 rows × 2 columns</p>\n",
       "</div>"
      ],
      "text/plain": [
       "                   const         tanass_clean\n",
       "0                6.17783              0.17751\n",
       "1                6.13784              0.18012\n",
       "2                6.16870              0.17626\n",
       "3                6.26846              0.17586\n",
       "4                6.17768              0.17875\n",
       "..                   ...                  ...\n",
       "995              6.08984              0.18517\n",
       "996              6.22827              0.17306\n",
       "997              6.21688              0.17489\n",
       "998              6.20410              0.17807\n",
       "999              6.14532              0.17527\n",
       "\n",
       "[1000 rows x 2 columns]"
      ]
     },
     "execution_count": 23,
     "metadata": {},
     "output_type": "execute_result"
    }
   ],
   "source": [
    "wb_mam.get_bootstrap_params(which_var=('const', 'tanass_clean'))"
   ]
  },
  {
   "cell_type": "markdown",
   "metadata": {},
   "source": [
    "### bp_test() and white_test() methods"
   ]
  },
  {
   "cell_type": "markdown",
   "metadata": {},
   "source": [
    "#### Vanila version: for bp_test() returning the robust version (proposed by Roger Koenker) of this test when the presence of the heteroscedasticity is examined on the residual of the OLS on the original sample data. For white_test(), there are no optional arguments"
   ]
  },
  {
   "cell_type": "code",
   "execution_count": 24,
   "metadata": {},
   "outputs": [
    {
     "data": {
      "text/plain": [
       "(471.4999600925629,\n",
       " 4.121777622602409e-103,\n",
       " 247.341401128395,\n",
       " 1.4261454830003312e-105)"
      ]
     },
     "execution_count": 24,
     "metadata": {},
     "output_type": "execute_result"
    }
   ],
   "source": [
    "wb_mam.bp_test()"
   ]
  },
  {
   "cell_type": "code",
   "execution_count": 25,
   "metadata": {},
   "outputs": [
    {
     "data": {
      "text/plain": [
       "(1577.3564210084555, 0.0, 374.3266570338708, 0.0)"
      ]
     },
     "execution_count": 25,
     "metadata": {},
     "output_type": "execute_result"
    }
   ],
   "source": [
    "wb_mam.white_test()"
   ]
  },
  {
   "cell_type": "markdown",
   "metadata": {},
   "source": [
    "#### The non-robust version of bp_test() can be achieved by setting bp_test(robust = False)."
   ]
  },
  {
   "cell_type": "code",
   "execution_count": 26,
   "metadata": {},
   "outputs": [
    {
     "data": {
      "text/plain": [
       "(989.0384882393482,\n",
       " 1.7100983338654616e-215,\n",
       " 247.34140112839475,\n",
       " 1.4261454830003312e-105)"
      ]
     },
     "execution_count": 26,
     "metadata": {},
     "output_type": "execute_result"
    }
   ],
   "source": [
    "wb_mam.bp_test(robust = False)"
   ]
  },
  {
   "cell_type": "markdown",
   "metadata": {},
   "source": [
    "At each test, the first value is the calculated LM-test stats, the second is the 'LM p-value' corresponding to the LM-test stats, the third value is the F-test stats and last one is the 'F p-value'.\n",
    "\n",
    "As it can be seen the p-values are 0, so we can rejcet the null hypothesis of homoscedasticity, and accept the alternative hypothesis that the variance of the residuals is heteroscedastic."
   ]
  }
 ],
 "metadata": {
  "interpreter": {
   "hash": "e7370f93d1d0cde622a1f8e1c04877d8463912d04d973331ad4851f04de6915a"
  },
  "kernelspec": {
   "display_name": "Python 3 (ipykernel)",
   "language": "python",
   "name": "python3"
  },
  "language_info": {
   "codemirror_mode": {
    "name": "ipython",
    "version": 3
   },
   "file_extension": ".py",
   "mimetype": "text/x-python",
   "name": "python",
   "nbconvert_exporter": "python",
   "pygments_lexer": "ipython3",
   "version": "3.8.10"
  },
  "toc": {
   "base_numbering": 1,
   "nav_menu": {},
   "number_sections": true,
   "sideBar": true,
   "skip_h1_title": false,
   "title_cell": "Table of Contents",
   "title_sidebar": "Contents",
   "toc_cell": false,
   "toc_position": {},
   "toc_section_display": true,
   "toc_window_display": false
  }
 },
 "nbformat": 4,
 "nbformat_minor": 2
}
