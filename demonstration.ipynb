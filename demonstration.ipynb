{
 "cells": [
  {
   "cell_type": "code",
   "execution_count": 1,
   "metadata": {},
   "outputs": [],
   "source": [
    "import numpy as np\n",
    "import pandas as pd\n",
    "\n",
    "from ols_bootstrap.pairs import PairsBootstrap\n",
    "from ols_bootstrap.residual import ResidualBootstrap\n",
    "from ols_bootstrap.wild import WildBootstrap\n",
    "\n",
    "pd.options.display.float_format = '{:20,.5f}'.format  ### Setting pd to have a numerical precision up to 5 decimal points"
   ]
  },
  {
   "cell_type": "code",
   "execution_count": 2,
   "metadata": {},
   "outputs": [
    {
     "name": "stderr",
     "output_type": "stream",
     "text": [
      "/home/phamv/.local/lib/python3.8/site-packages/IPython/core/interactiveshell.py:3444: DtypeWarning: Columns (66) have mixed types.Specify dtype option on import or set low_memory=False.\n",
      "  exec(code_obj, self.user_global_ns, self.user_ns)\n"
     ]
    }
   ],
   "source": [
    "df = pd.read_csv('./balance2018.csv')\n",
    "df = df[df['sales_clean'] != 0]\n",
    "df = df[['sales_clean', 'tanass_clean', 'tax']]\n",
    "df = df.dropna(subset=['tanass_clean', 'tax'])\n",
    "\n",
    "df_scaled = df.applymap(lambda x: np.log(x + 1))"
   ]
  },
  {
   "cell_type": "code",
   "execution_count": 3,
   "metadata": {},
   "outputs": [],
   "source": [
    "df_sample = df_scaled.sample(n=10000, replace=False, random_state=42)\n",
    "\n",
    "Y_data = pd.DataFrame(df_sample.iloc[:, 0])\n",
    "X_data = pd.DataFrame(df_sample.iloc[:, 1:])"
   ]
  },
  {
   "cell_type": "markdown",
   "metadata": {},
   "source": [
    "## Default SE on the original OLS is HC3, default CI on bootstrapped parameter is BC. \n",
    "\n",
    "That is by default se_type = 'hc3', ci_type = 'bc'.\n",
    "\n",
    "The default seed value is None. For reproducability, use an integer of your choice. "
   ]
  },
  {
   "cell_type": "code",
   "execution_count": 4,
   "metadata": {},
   "outputs": [],
   "source": [
    "psb = PairsBootstrap(Y_data, X_data, reps = 1000, se_type='hc3', ci_type = 'bc', seed = 42)  # seed = None, se_type = 'hc3' and ci_type = 'bc' are the default options for these arguments.\n",
    "psb.fit()"
   ]
  },
  {
   "cell_type": "code",
   "execution_count": 5,
   "metadata": {},
   "outputs": [],
   "source": [
    "rsb = ResidualBootstrap(Y_data, X_data, reps = 1000, seed = 42)\n",
    "rsb.fit()"
   ]
  },
  {
   "cell_type": "code",
   "execution_count": 6,
   "metadata": {},
   "outputs": [],
   "source": [
    "wb_unif = WildBootstrap(Y_data, X_data, reps = 1000, from_distro = \"uniform\", seed = 42)\n",
    "wb_unif.fit()"
   ]
  },
  {
   "cell_type": "code",
   "execution_count": 7,
   "metadata": {},
   "outputs": [],
   "source": [
    "wb_stdn = WildBootstrap(Y_data, X_data, reps = 1000, from_distro = \"standard_normal\", seed = 42)\n",
    "wb_stdn.fit()"
   ]
  },
  {
   "cell_type": "code",
   "execution_count": 8,
   "metadata": {},
   "outputs": [],
   "source": [
    "wb_rad = WildBootstrap(Y_data, X_data, reps = 1000, from_distro = \"rademacher\", seed = 42)\n",
    "wb_rad.fit()"
   ]
  },
  {
   "cell_type": "code",
   "execution_count": 9,
   "metadata": {},
   "outputs": [],
   "source": [
    "wb_webb4 = WildBootstrap(Y_data, X_data, reps = 1000, from_distro = \"webb4\", seed = 42)\n",
    "wb_webb4.fit()"
   ]
  },
  {
   "cell_type": "code",
   "execution_count": 10,
   "metadata": {},
   "outputs": [],
   "source": [
    "wb_webb6 = WildBootstrap(Y_data, X_data, reps = 1000, from_distro = \"webb6\", seed = 42)\n",
    "wb_webb6.fit()"
   ]
  },
  {
   "cell_type": "code",
   "execution_count": 11,
   "metadata": {},
   "outputs": [],
   "source": [
    "wb_cont_mam = WildBootstrap(Y_data, X_data, reps = 1000, from_distro = \"mammen_cont\", seed = 42)\n",
    "wb_cont_mam.fit()"
   ]
  },
  {
   "cell_type": "code",
   "execution_count": 12,
   "metadata": {},
   "outputs": [],
   "source": [
    "wb_mam = WildBootstrap(Y_data, X_data, reps = 1000, from_distro = \"mammen\", seed = 42)\n",
    "wb_mam.fit()"
   ]
  },
  {
   "cell_type": "code",
   "execution_count": 13,
   "metadata": {},
   "outputs": [],
   "source": [
    "# Now: np.ndarray was supported as an input array. pd.Series, list, and tuples were also added to the supported list for an input array. \n",
    "# Before that only pd.DataFrame had been supported. \n",
    "X_data_np = X_data.to_numpy()\n",
    "Y_data_np = Y_data.to_numpy()"
   ]
  },
  {
   "cell_type": "code",
   "execution_count": 14,
   "metadata": {},
   "outputs": [],
   "source": [
    "wb_mam_np = WildBootstrap(Y_data_np, X_data_np, reps = 1000, from_distro = \"mammen\", seed = 42)\n",
    "wb_mam_np.fit()"
   ]
  },
  {
   "cell_type": "code",
   "execution_count": 15,
   "metadata": {},
   "outputs": [
    {
     "name": "stdout",
     "output_type": "stream",
     "text": [
      "+---------------------------------------------------------------------------------------------------------------------+\n",
      "|               Pairs Bootstrap results with 10000 obs and 1000 BS reps using HC3 SE-s and 95.00% BC CI               |\n",
      "+--------------+------------+---------------+--------+---------------+--------------+--------------+------------------+\n",
      "|     Var      | OLS Params | Avg BS Params |  Bias  | OLS Params SE | BS Params SE | % of SE Diff |        CI        |\n",
      "+--------------+------------+---------------+--------+---------------+--------------+--------------+------------------+\n",
      "|    const     |   6.2070   |     6.2070    | 0.0000 |     0.0454    |    0.0462    |    -1.70     | [6.1273, 6.3045] |\n",
      "+--------------+------------+---------------+--------+---------------+--------------+--------------+------------------+\n",
      "| tanass_clean |   0.1693   |     0.1691    | 0.0002 |     0.0050    |    0.0051    |    -1.56     | [0.1591, 0.1785] |\n",
      "+--------------+------------+---------------+--------+---------------+--------------+--------------+------------------+\n",
      "|     tax      |   0.5293   |     0.5296    | 0.0003 |     0.0091    |    0.0090    |     1.12     | [0.5106, 0.5455] |\n",
      "+--------------+------------+---------------+--------+---------------+--------------+--------------+------------------+\n"
     ]
    }
   ],
   "source": [
    "psb.summary()"
   ]
  },
  {
   "cell_type": "code",
   "execution_count": 16,
   "metadata": {},
   "outputs": [
    {
     "name": "stdout",
     "output_type": "stream",
     "text": [
      "+---------------------------------------------------------------------------------------------------------------------+\n",
      "|              Residual Bootstrap results with 10000 obs and 1000 BS reps using HC3 SE-s and 95.00% BC CI             |\n",
      "+--------------+------------+---------------+--------+---------------+--------------+--------------+------------------+\n",
      "|     Var      | OLS Params | Avg BS Params |  Bias  | OLS Params SE | BS Params SE | % of SE Diff |        CI        |\n",
      "+--------------+------------+---------------+--------+---------------+--------------+--------------+------------------+\n",
      "|    const     |   6.2070   |     6.2058    | 0.0012 |     0.0454    |    0.0349    |    23.00     | [6.1420, 6.2788] |\n",
      "+--------------+------------+---------------+--------+---------------+--------------+--------------+------------------+\n",
      "| tanass_clean |   0.1693   |     0.1694    | 0.0001 |     0.0050    |    0.0039    |    22.09     | [0.1617, 0.1772] |\n",
      "+--------------+------------+---------------+--------+---------------+--------------+--------------+------------------+\n",
      "|     tax      |   0.5293   |     0.5293    | 0.0000 |     0.0091    |    0.0064    |    29.36     | [0.5166, 0.5425] |\n",
      "+--------------+------------+---------------+--------+---------------+--------------+--------------+------------------+\n"
     ]
    }
   ],
   "source": [
    "rsb.summary()"
   ]
  },
  {
   "cell_type": "code",
   "execution_count": 17,
   "metadata": {},
   "outputs": [
    {
     "name": "stdout",
     "output_type": "stream",
     "text": [
      "+---------------------------------------------------------------------------------------------------------------------+\n",
      "|         Wild Bootstrap with Uniform results with 10000 obs and 1000 BS reps using HC3 SE-s and 95.00% BC CI         |\n",
      "+--------------+------------+---------------+--------+---------------+--------------+--------------+------------------+\n",
      "|     Var      | OLS Params | Avg BS Params |  Bias  | OLS Params SE | BS Params SE | % of SE Diff |        CI        |\n",
      "+--------------+------------+---------------+--------+---------------+--------------+--------------+------------------+\n",
      "|    const     |   6.2070   |     6.2082    | 0.0013 |     0.0454    |    0.0447    |     1.48     | [6.1200, 6.2935] |\n",
      "+--------------+------------+---------------+--------+---------------+--------------+--------------+------------------+\n",
      "| tanass_clean |   0.1693   |     0.1693    | 0.0000 |     0.0050    |    0.0051    |    -3.06     | [0.1598, 0.1794] |\n",
      "+--------------+------------+---------------+--------+---------------+--------------+--------------+------------------+\n",
      "|     tax      |   0.5293   |     0.5290    | 0.0003 |     0.0091    |    0.0092    |    -0.72     | [0.5121, 0.5486] |\n",
      "+--------------+------------+---------------+--------+---------------+--------------+--------------+------------------+\n"
     ]
    }
   ],
   "source": [
    "wb_unif.summary()"
   ]
  },
  {
   "cell_type": "code",
   "execution_count": 18,
   "metadata": {},
   "outputs": [
    {
     "name": "stdout",
     "output_type": "stream",
     "text": [
      "+---------------------------------------------------------------------------------------------------------------------+\n",
      "|     Wild Bootstrap with Standard Normal results with 10000 obs and 1000 BS reps using HC3 SE-s and 95.00% BC CI     |\n",
      "+--------------+------------+---------------+--------+---------------+--------------+--------------+------------------+\n",
      "|     Var      | OLS Params | Avg BS Params |  Bias  | OLS Params SE | BS Params SE | % of SE Diff |        CI        |\n",
      "+--------------+------------+---------------+--------+---------------+--------------+--------------+------------------+\n",
      "|    const     |   6.2070   |     6.2059    | 0.0011 |     0.0454    |    0.0478    |    -5.42     | [6.1210, 6.3076] |\n",
      "+--------------+------------+---------------+--------+---------------+--------------+--------------+------------------+\n",
      "| tanass_clean |   0.1693   |     0.1689    | 0.0004 |     0.0050    |    0.0050    |    -0.77     | [0.1595, 0.1785] |\n",
      "+--------------+------------+---------------+--------+---------------+--------------+--------------+------------------+\n",
      "|     tax      |   0.5293   |     0.5301    | 0.0008 |     0.0091    |    0.0093    |    -2.51     | [0.5095, 0.5468] |\n",
      "+--------------+------------+---------------+--------+---------------+--------------+--------------+------------------+\n"
     ]
    }
   ],
   "source": [
    "wb_stdn.summary()"
   ]
  },
  {
   "cell_type": "code",
   "execution_count": 19,
   "metadata": {},
   "outputs": [
    {
     "name": "stdout",
     "output_type": "stream",
     "text": [
      "+---------------------------------------------------------------------------------------------------------------------+\n",
      "|        Wild Bootstrap with Rademacher results with 10000 obs and 1000 BS reps using HC3 SE-s and 95.00% BC CI       |\n",
      "+--------------+------------+---------------+--------+---------------+--------------+--------------+------------------+\n",
      "|     Var      | OLS Params | Avg BS Params |  Bias  | OLS Params SE | BS Params SE | % of SE Diff |        CI        |\n",
      "+--------------+------------+---------------+--------+---------------+--------------+--------------+------------------+\n",
      "|    const     |   6.2070   |     6.2042    | 0.0028 |     0.0454    |    0.0446    |     1.61     | [6.1227, 6.3006] |\n",
      "+--------------+------------+---------------+--------+---------------+--------------+--------------+------------------+\n",
      "| tanass_clean |   0.1693   |     0.1694    | 0.0001 |     0.0050    |    0.0051    |    -2.73     | [0.1592, 0.1791] |\n",
      "+--------------+------------+---------------+--------+---------------+--------------+--------------+------------------+\n",
      "|     tax      |   0.5293   |     0.5296    | 0.0003 |     0.0091    |    0.0092    |    -0.78     | [0.5105, 0.5465] |\n",
      "+--------------+------------+---------------+--------+---------------+--------------+--------------+------------------+\n"
     ]
    }
   ],
   "source": [
    "wb_rad.summary()"
   ]
  },
  {
   "cell_type": "code",
   "execution_count": 20,
   "metadata": {},
   "outputs": [
    {
     "name": "stdout",
     "output_type": "stream",
     "text": [
      "+---------------------------------------------------------------------------------------------------------------------+\n",
      "|          Wild Bootstrap with Webb4 results with 10000 obs and 1000 BS reps using HC3 SE-s and 95.00% BC CI          |\n",
      "+--------------+------------+---------------+--------+---------------+--------------+--------------+------------------+\n",
      "|     Var      | OLS Params | Avg BS Params |  Bias  | OLS Params SE | BS Params SE | % of SE Diff |        CI        |\n",
      "+--------------+------------+---------------+--------+---------------+--------------+--------------+------------------+\n",
      "|    const     |   6.2070   |     6.2091    | 0.0021 |     0.0454    |    0.0446    |     1.74     | [6.1190, 6.2954] |\n",
      "+--------------+------------+---------------+--------+---------------+--------------+--------------+------------------+\n",
      "| tanass_clean |   0.1693   |     0.1692    | 0.0001 |     0.0050    |    0.0051    |    -3.07     | [0.1599, 0.1799] |\n",
      "+--------------+------------+---------------+--------+---------------+--------------+--------------+------------------+\n",
      "|     tax      |   0.5293   |     0.5290    | 0.0003 |     0.0091    |    0.0091    |    -0.23     | [0.5120, 0.5479] |\n",
      "+--------------+------------+---------------+--------+---------------+--------------+--------------+------------------+\n"
     ]
    }
   ],
   "source": [
    "wb_webb4.summary()"
   ]
  },
  {
   "cell_type": "code",
   "execution_count": 21,
   "metadata": {},
   "outputs": [
    {
     "name": "stdout",
     "output_type": "stream",
     "text": [
      "+---------------------------------------------------------------------------------------------------------------------+\n",
      "|          Wild Bootstrap with Webb6 results with 10000 obs and 1000 BS reps using HC3 SE-s and 95.00% BC CI          |\n",
      "+--------------+------------+---------------+--------+---------------+--------------+--------------+------------------+\n",
      "|     Var      | OLS Params | Avg BS Params |  Bias  | OLS Params SE | BS Params SE | % of SE Diff |        CI        |\n",
      "+--------------+------------+---------------+--------+---------------+--------------+--------------+------------------+\n",
      "|    const     |   6.2070   |     6.2093    | 0.0023 |     0.0454    |    0.0445    |     2.00     | [6.1194, 6.2943] |\n",
      "+--------------+------------+---------------+--------+---------------+--------------+--------------+------------------+\n",
      "| tanass_clean |   0.1693   |     0.1692    | 0.0001 |     0.0050    |    0.0051    |    -2.69     | [0.1595, 0.1794] |\n",
      "+--------------+------------+---------------+--------+---------------+--------------+--------------+------------------+\n",
      "|     tax      |   0.5293   |     0.5290    | 0.0003 |     0.0091    |    0.0091    |    -0.30     | [0.5123, 0.5479] |\n",
      "+--------------+------------+---------------+--------+---------------+--------------+--------------+------------------+\n"
     ]
    }
   ],
   "source": [
    "wb_webb6.summary()"
   ]
  },
  {
   "cell_type": "code",
   "execution_count": 22,
   "metadata": {},
   "outputs": [
    {
     "name": "stdout",
     "output_type": "stream",
     "text": [
      "+---------------------------------------------------------------------------------------------------------------------+\n",
      "|       Wild Bootstrap with Mammen Cont results with 10000 obs and 1000 BS reps using HC3 SE-s and 95.00% BC CI       |\n",
      "+--------------+------------+---------------+--------+---------------+--------------+--------------+------------------+\n",
      "|     Var      | OLS Params | Avg BS Params |  Bias  | OLS Params SE | BS Params SE | % of SE Diff |        CI        |\n",
      "+--------------+------------+---------------+--------+---------------+--------------+--------------+------------------+\n",
      "|    const     |   6.2070   |     6.2049    | 0.0021 |     0.0454    |    0.0435    |     4.14     | [6.1300, 6.2952] |\n",
      "+--------------+------------+---------------+--------+---------------+--------------+--------------+------------------+\n",
      "| tanass_clean |   0.1693   |     0.1692    | 0.0001 |     0.0050    |    0.0051    |    -2.93     | [0.1592, 0.1791] |\n",
      "+--------------+------------+---------------+--------+---------------+--------------+--------------+------------------+\n",
      "|     tax      |   0.5293   |     0.5296    | 0.0003 |     0.0091    |    0.0090    |     1.28     | [0.5100, 0.5457] |\n",
      "+--------------+------------+---------------+--------+---------------+--------------+--------------+------------------+\n"
     ]
    }
   ],
   "source": [
    "wb_cont_mam.summary()"
   ]
  },
  {
   "cell_type": "code",
   "execution_count": 23,
   "metadata": {},
   "outputs": [
    {
     "name": "stdout",
     "output_type": "stream",
     "text": [
      "+---------------------------------------------------------------------------------------------------------------------+\n",
      "|          Wild Bootstrap with Mammen results with 10000 obs and 1000 BS reps using HC3 SE-s and 95.00% BC CI         |\n",
      "+--------------+------------+---------------+--------+---------------+--------------+--------------+------------------+\n",
      "|     Var      | OLS Params | Avg BS Params |  Bias  | OLS Params SE | BS Params SE | % of SE Diff |        CI        |\n",
      "+--------------+------------+---------------+--------+---------------+--------------+--------------+------------------+\n",
      "|    const     |   6.2070   |     6.2068    | 0.0002 |     0.0454    |    0.0462    |    -1.75     | [6.1173, 6.3003] |\n",
      "+--------------+------------+---------------+--------+---------------+--------------+--------------+------------------+\n",
      "| tanass_clean |   0.1693   |     0.1692    | 0.0000 |     0.0050    |    0.0052    |    -3.26     | [0.1591, 0.1788] |\n",
      "+--------------+------------+---------------+--------+---------------+--------------+--------------+------------------+\n",
      "|     tax      |   0.5293   |     0.5294    | 0.0001 |     0.0091    |    0.0093    |    -2.52     | [0.5117, 0.5470] |\n",
      "+--------------+------------+---------------+--------+---------------+--------------+--------------+------------------+\n"
     ]
    }
   ],
   "source": [
    "wb_mam.summary()"
   ]
  },
  {
   "cell_type": "markdown",
   "metadata": {},
   "source": [
    "Same output for wb_mam_np as in the case for wb_mam, but the difference is the independent variables' name. wb_mam was constructed with pd.DataFrame the input which holds information about the column name. \n",
    "When it comes to wb_mam_np, it was constructed with np.ndarray as the input which DOES NOT hold info about the column name originally. Because of this, x1, x2, ...., xn were generated as alternative independent variable names. "
   ]
  },
  {
   "cell_type": "code",
   "execution_count": 24,
   "metadata": {},
   "outputs": [
    {
     "name": "stdout",
     "output_type": "stream",
     "text": [
      "+--------------------------------------------------------------------------------------------------------------+\n",
      "|      Wild Bootstrap with Mammen results with 10000 obs and 1000 BS reps using HC3 SE-s and 95.00% BC CI      |\n",
      "+-------+------------+---------------+--------+---------------+--------------+--------------+------------------+\n",
      "|  Var  | OLS Params | Avg BS Params |  Bias  | OLS Params SE | BS Params SE | % of SE Diff |        CI        |\n",
      "+-------+------------+---------------+--------+---------------+--------------+--------------+------------------+\n",
      "| const |   6.2070   |     6.2068    | 0.0002 |     0.0454    |    0.0462    |    -1.75     | [6.1173, 6.3003] |\n",
      "+-------+------------+---------------+--------+---------------+--------------+--------------+------------------+\n",
      "|   x1  |   0.1693   |     0.1692    | 0.0000 |     0.0050    |    0.0052    |    -3.26     | [0.1591, 0.1788] |\n",
      "+-------+------------+---------------+--------+---------------+--------------+--------------+------------------+\n",
      "|   x2  |   0.5293   |     0.5294    | 0.0001 |     0.0091    |    0.0093    |    -2.52     | [0.5117, 0.5470] |\n",
      "+-------+------------+---------------+--------+---------------+--------------+--------------+------------------+\n"
     ]
    }
   ],
   "source": [
    "wb_mam_np.summary()"
   ]
  },
  {
   "cell_type": "markdown",
   "metadata": {},
   "source": [
    "## Some useful methods were implemented (let's use it on wb_mam object of Wild Bootstrap with Mammen)\n",
    "\n",
    "- The common in the following three methods is that either a string (if one wishes to capture one variable or ci) or 1-D like array can be provided to 'which_var' and/or 'which_ci' (the latter if exists in that object class)."
   ]
  },
  {
   "cell_type": "markdown",
   "metadata": {},
   "source": [
    "### get_ci() method"
   ]
  },
  {
   "cell_type": "markdown",
   "metadata": {},
   "source": [
    "#### Vanila version is when only the actual CI was used with all independent variables"
   ]
  },
  {
   "cell_type": "code",
   "execution_count": 25,
   "metadata": {},
   "outputs": [
    {
     "data": {
      "text/html": [
       "<div>\n",
       "<style scoped>\n",
       "    .dataframe tbody tr th:only-of-type {\n",
       "        vertical-align: middle;\n",
       "    }\n",
       "\n",
       "    .dataframe tbody tr th {\n",
       "        vertical-align: top;\n",
       "    }\n",
       "\n",
       "    .dataframe thead tr th {\n",
       "        text-align: left;\n",
       "    }\n",
       "</style>\n",
       "<table border=\"1\" class=\"dataframe\">\n",
       "  <thead>\n",
       "    <tr>\n",
       "      <th></th>\n",
       "      <th colspan=\"2\" halign=\"left\">bc</th>\n",
       "    </tr>\n",
       "    <tr>\n",
       "      <th></th>\n",
       "      <th>lwb</th>\n",
       "      <th>upb</th>\n",
       "    </tr>\n",
       "  </thead>\n",
       "  <tbody>\n",
       "    <tr>\n",
       "      <th>const</th>\n",
       "      <td>6.11731</td>\n",
       "      <td>6.30032</td>\n",
       "    </tr>\n",
       "    <tr>\n",
       "      <th>tanass_clean</th>\n",
       "      <td>0.15910</td>\n",
       "      <td>0.17883</td>\n",
       "    </tr>\n",
       "    <tr>\n",
       "      <th>tax</th>\n",
       "      <td>0.51172</td>\n",
       "      <td>0.54700</td>\n",
       "    </tr>\n",
       "  </tbody>\n",
       "</table>\n",
       "</div>"
      ],
      "text/plain": [
       "                               bc                     \n",
       "                              lwb                  upb\n",
       "const                     6.11731              6.30032\n",
       "tanass_clean              0.15910              0.17883\n",
       "tax                       0.51172              0.54700"
      ]
     },
     "execution_count": 25,
     "metadata": {},
     "output_type": "execute_result"
    }
   ],
   "source": [
    "wb_mam.get_ci()"
   ]
  },
  {
   "cell_type": "markdown",
   "metadata": {},
   "source": [
    "#### However, any combination of ('bc', 'bca', 'percentile) CI types could be selected and any combinations of independent variables can be chosen with 'which_ci' and 'which_var' optional arguments, respectively.\n",
    "\n",
    "Please note that if choosing 'bca' the calculation can take a while as it uses jacknife resampling for calculating the acceleration factor"
   ]
  },
  {
   "cell_type": "code",
   "execution_count": 26,
   "metadata": {},
   "outputs": [
    {
     "data": {
      "text/html": [
       "<div>\n",
       "<style scoped>\n",
       "    .dataframe tbody tr th:only-of-type {\n",
       "        vertical-align: middle;\n",
       "    }\n",
       "\n",
       "    .dataframe tbody tr th {\n",
       "        vertical-align: top;\n",
       "    }\n",
       "\n",
       "    .dataframe thead tr th {\n",
       "        text-align: left;\n",
       "    }\n",
       "</style>\n",
       "<table border=\"1\" class=\"dataframe\">\n",
       "  <thead>\n",
       "    <tr>\n",
       "      <th></th>\n",
       "      <th colspan=\"2\" halign=\"left\">bc</th>\n",
       "      <th colspan=\"2\" halign=\"left\">bca</th>\n",
       "      <th colspan=\"2\" halign=\"left\">percentile</th>\n",
       "    </tr>\n",
       "    <tr>\n",
       "      <th></th>\n",
       "      <th>lwb</th>\n",
       "      <th>upb</th>\n",
       "      <th>lwb</th>\n",
       "      <th>upb</th>\n",
       "      <th>lwb</th>\n",
       "      <th>upb</th>\n",
       "    </tr>\n",
       "  </thead>\n",
       "  <tbody>\n",
       "    <tr>\n",
       "      <th>const</th>\n",
       "      <td>6.11731</td>\n",
       "      <td>6.30032</td>\n",
       "      <td>6.11736</td>\n",
       "      <td>6.30035</td>\n",
       "      <td>6.11720</td>\n",
       "      <td>6.30024</td>\n",
       "    </tr>\n",
       "    <tr>\n",
       "      <th>tanass_clean</th>\n",
       "      <td>0.15910</td>\n",
       "      <td>0.17883</td>\n",
       "      <td>0.15921</td>\n",
       "      <td>0.17886</td>\n",
       "      <td>0.15943</td>\n",
       "      <td>0.17903</td>\n",
       "    </tr>\n",
       "    <tr>\n",
       "      <th>tax</th>\n",
       "      <td>0.51172</td>\n",
       "      <td>0.54700</td>\n",
       "      <td>0.51145</td>\n",
       "      <td>0.54688</td>\n",
       "      <td>0.51167</td>\n",
       "      <td>0.54698</td>\n",
       "    </tr>\n",
       "  </tbody>\n",
       "</table>\n",
       "</div>"
      ],
      "text/plain": [
       "                               bc                                       bca  \\\n",
       "                              lwb                  upb                  lwb   \n",
       "const                     6.11731              6.30032              6.11736   \n",
       "tanass_clean              0.15910              0.17883              0.15921   \n",
       "tax                       0.51172              0.54700              0.51145   \n",
       "\n",
       "                                            percentile                       \n",
       "                              upb                  lwb                  upb  \n",
       "const                     6.30035              6.11720              6.30024  \n",
       "tanass_clean              0.17886              0.15943              0.17903  \n",
       "tax                       0.54688              0.51167              0.54698  "
      ]
     },
     "execution_count": 26,
     "metadata": {},
     "output_type": "execute_result"
    }
   ],
   "source": [
    "wb_mam.get_ci(which_ci='all', which_var='all')"
   ]
  },
  {
   "cell_type": "code",
   "execution_count": 27,
   "metadata": {},
   "outputs": [
    {
     "data": {
      "text/html": [
       "<div>\n",
       "<style scoped>\n",
       "    .dataframe tbody tr th:only-of-type {\n",
       "        vertical-align: middle;\n",
       "    }\n",
       "\n",
       "    .dataframe tbody tr th {\n",
       "        vertical-align: top;\n",
       "    }\n",
       "\n",
       "    .dataframe thead tr th {\n",
       "        text-align: left;\n",
       "    }\n",
       "</style>\n",
       "<table border=\"1\" class=\"dataframe\">\n",
       "  <thead>\n",
       "    <tr>\n",
       "      <th></th>\n",
       "      <th colspan=\"2\" halign=\"left\">bc</th>\n",
       "      <th colspan=\"2\" halign=\"left\">percentile</th>\n",
       "    </tr>\n",
       "    <tr>\n",
       "      <th></th>\n",
       "      <th>lwb</th>\n",
       "      <th>upb</th>\n",
       "      <th>lwb</th>\n",
       "      <th>upb</th>\n",
       "    </tr>\n",
       "  </thead>\n",
       "  <tbody>\n",
       "    <tr>\n",
       "      <th>tax</th>\n",
       "      <td>0.51172</td>\n",
       "      <td>0.54700</td>\n",
       "      <td>0.51167</td>\n",
       "      <td>0.54698</td>\n",
       "    </tr>\n",
       "    <tr>\n",
       "      <th>const</th>\n",
       "      <td>6.11731</td>\n",
       "      <td>6.30032</td>\n",
       "      <td>6.11720</td>\n",
       "      <td>6.30024</td>\n",
       "    </tr>\n",
       "  </tbody>\n",
       "</table>\n",
       "</div>"
      ],
      "text/plain": [
       "                        bc                                percentile  \\\n",
       "                       lwb                  upb                  lwb   \n",
       "tax                0.51172              0.54700              0.51167   \n",
       "const              6.11731              6.30032              6.11720   \n",
       "\n",
       "                            \n",
       "                       upb  \n",
       "tax                0.54698  \n",
       "const              6.30024  "
      ]
     },
     "execution_count": 27,
     "metadata": {},
     "output_type": "execute_result"
    }
   ],
   "source": [
    "wb_mam.get_ci(which_ci=['bc', 'percentile'], which_var=['tax', 'const'])"
   ]
  },
  {
   "cell_type": "code",
   "execution_count": 28,
   "metadata": {},
   "outputs": [
    {
     "data": {
      "text/html": [
       "<div>\n",
       "<style scoped>\n",
       "    .dataframe tbody tr th:only-of-type {\n",
       "        vertical-align: middle;\n",
       "    }\n",
       "\n",
       "    .dataframe tbody tr th {\n",
       "        vertical-align: top;\n",
       "    }\n",
       "\n",
       "    .dataframe thead tr th {\n",
       "        text-align: left;\n",
       "    }\n",
       "</style>\n",
       "<table border=\"1\" class=\"dataframe\">\n",
       "  <thead>\n",
       "    <tr>\n",
       "      <th></th>\n",
       "      <th colspan=\"2\" halign=\"left\">bc</th>\n",
       "      <th colspan=\"2\" halign=\"left\">bca</th>\n",
       "    </tr>\n",
       "    <tr>\n",
       "      <th></th>\n",
       "      <th>lwb</th>\n",
       "      <th>upb</th>\n",
       "      <th>lwb</th>\n",
       "      <th>upb</th>\n",
       "    </tr>\n",
       "  </thead>\n",
       "  <tbody>\n",
       "    <tr>\n",
       "      <th>tanass_clean</th>\n",
       "      <td>0.15910</td>\n",
       "      <td>0.17883</td>\n",
       "      <td>0.15921</td>\n",
       "      <td>0.17886</td>\n",
       "    </tr>\n",
       "  </tbody>\n",
       "</table>\n",
       "</div>"
      ],
      "text/plain": [
       "                               bc                                       bca  \\\n",
       "                              lwb                  upb                  lwb   \n",
       "tanass_clean              0.15910              0.17883              0.15921   \n",
       "\n",
       "                                   \n",
       "                              upb  \n",
       "tanass_clean              0.17886  "
      ]
     },
     "execution_count": 28,
     "metadata": {},
     "output_type": "execute_result"
    }
   ],
   "source": [
    "wb_mam.get_ci(which_ci=['bca', 'bc'], which_var='tanass_clean')"
   ]
  },
  {
   "cell_type": "code",
   "execution_count": 29,
   "metadata": {},
   "outputs": [
    {
     "data": {
      "text/html": [
       "<div>\n",
       "<style scoped>\n",
       "    .dataframe tbody tr th:only-of-type {\n",
       "        vertical-align: middle;\n",
       "    }\n",
       "\n",
       "    .dataframe tbody tr th {\n",
       "        vertical-align: top;\n",
       "    }\n",
       "\n",
       "    .dataframe thead tr th {\n",
       "        text-align: left;\n",
       "    }\n",
       "</style>\n",
       "<table border=\"1\" class=\"dataframe\">\n",
       "  <thead>\n",
       "    <tr>\n",
       "      <th></th>\n",
       "      <th colspan=\"2\" halign=\"left\">bc</th>\n",
       "    </tr>\n",
       "    <tr>\n",
       "      <th></th>\n",
       "      <th>lwb</th>\n",
       "      <th>upb</th>\n",
       "    </tr>\n",
       "  </thead>\n",
       "  <tbody>\n",
       "    <tr>\n",
       "      <th>tanass_clean</th>\n",
       "      <td>0.15910</td>\n",
       "      <td>0.17883</td>\n",
       "    </tr>\n",
       "  </tbody>\n",
       "</table>\n",
       "</div>"
      ],
      "text/plain": [
       "                               bc                     \n",
       "                              lwb                  upb\n",
       "tanass_clean              0.15910              0.17883"
      ]
     },
     "execution_count": 29,
     "metadata": {},
     "output_type": "execute_result"
    }
   ],
   "source": [
    "wb_mam.get_ci(which_ci='bc', which_var='tanass_clean')"
   ]
  },
  {
   "cell_type": "markdown",
   "metadata": {},
   "source": [
    "### get_all_se() method\n",
    "\n",
    "The following SE-s are calculated: \n",
    "- bootstrapped - standard error of the bootstrapped parameters\n",
    "- constant - model-based OLS Standard Errors, that is, constant variance is assumed \n",
    "- HC0, HC1, HC2, HC3, HC4, HC4m, HC5 - Heteroskedasticity-Consistent Standard Errors (HCE) using sandwich estimators "
   ]
  },
  {
   "cell_type": "markdown",
   "metadata": {},
   "source": [
    "#### Vanila version is when using all indepencdent variables. "
   ]
  },
  {
   "cell_type": "code",
   "execution_count": 30,
   "metadata": {},
   "outputs": [
    {
     "data": {
      "text/html": [
       "<div>\n",
       "<style scoped>\n",
       "    .dataframe tbody tr th:only-of-type {\n",
       "        vertical-align: middle;\n",
       "    }\n",
       "\n",
       "    .dataframe tbody tr th {\n",
       "        vertical-align: top;\n",
       "    }\n",
       "\n",
       "    .dataframe thead th {\n",
       "        text-align: right;\n",
       "    }\n",
       "</style>\n",
       "<table border=\"1\" class=\"dataframe\">\n",
       "  <thead>\n",
       "    <tr style=\"text-align: right;\">\n",
       "      <th></th>\n",
       "      <th>constant</th>\n",
       "      <th>hc0</th>\n",
       "      <th>hc1</th>\n",
       "      <th>hc2</th>\n",
       "      <th>hc3</th>\n",
       "      <th>hc4</th>\n",
       "      <th>hc4m</th>\n",
       "      <th>hc5</th>\n",
       "      <th>bootstrapped</th>\n",
       "    </tr>\n",
       "  </thead>\n",
       "  <tbody>\n",
       "    <tr>\n",
       "      <th>const</th>\n",
       "      <td>0.03532</td>\n",
       "      <td>0.04536</td>\n",
       "      <td>0.04536</td>\n",
       "      <td>0.04537</td>\n",
       "      <td>0.04538</td>\n",
       "      <td>0.04538</td>\n",
       "      <td>0.04538</td>\n",
       "      <td>0.04538</td>\n",
       "      <td>0.04617</td>\n",
       "    </tr>\n",
       "    <tr>\n",
       "      <th>tanass_clean</th>\n",
       "      <td>0.00391</td>\n",
       "      <td>0.00499</td>\n",
       "      <td>0.00499</td>\n",
       "      <td>0.00499</td>\n",
       "      <td>0.00499</td>\n",
       "      <td>0.00499</td>\n",
       "      <td>0.00499</td>\n",
       "      <td>0.00499</td>\n",
       "      <td>0.00515</td>\n",
       "    </tr>\n",
       "    <tr>\n",
       "      <th>tax</th>\n",
       "      <td>0.00657</td>\n",
       "      <td>0.00910</td>\n",
       "      <td>0.00910</td>\n",
       "      <td>0.00911</td>\n",
       "      <td>0.00911</td>\n",
       "      <td>0.00911</td>\n",
       "      <td>0.00911</td>\n",
       "      <td>0.00911</td>\n",
       "      <td>0.00934</td>\n",
       "    </tr>\n",
       "  </tbody>\n",
       "</table>\n",
       "</div>"
      ],
      "text/plain": [
       "                         constant                  hc0                  hc1  \\\n",
       "const                     0.03532              0.04536              0.04536   \n",
       "tanass_clean              0.00391              0.00499              0.00499   \n",
       "tax                       0.00657              0.00910              0.00910   \n",
       "\n",
       "                              hc2                  hc3                  hc4  \\\n",
       "const                     0.04537              0.04538              0.04538   \n",
       "tanass_clean              0.00499              0.00499              0.00499   \n",
       "tax                       0.00911              0.00911              0.00911   \n",
       "\n",
       "                             hc4m                  hc5         bootstrapped  \n",
       "const                     0.04538              0.04538              0.04617  \n",
       "tanass_clean              0.00499              0.00499              0.00515  \n",
       "tax                       0.00911              0.00911              0.00934  "
      ]
     },
     "execution_count": 30,
     "metadata": {},
     "output_type": "execute_result"
    }
   ],
   "source": [
    "wb_mam.get_all_se()"
   ]
  },
  {
   "cell_type": "markdown",
   "metadata": {},
   "source": [
    "#### A subset of independent variables can be chosen with 'which_var' argument to calculate the above-mentioned 9 SE-s"
   ]
  },
  {
   "cell_type": "code",
   "execution_count": 31,
   "metadata": {},
   "outputs": [
    {
     "data": {
      "text/html": [
       "<div>\n",
       "<style scoped>\n",
       "    .dataframe tbody tr th:only-of-type {\n",
       "        vertical-align: middle;\n",
       "    }\n",
       "\n",
       "    .dataframe tbody tr th {\n",
       "        vertical-align: top;\n",
       "    }\n",
       "\n",
       "    .dataframe thead th {\n",
       "        text-align: right;\n",
       "    }\n",
       "</style>\n",
       "<table border=\"1\" class=\"dataframe\">\n",
       "  <thead>\n",
       "    <tr style=\"text-align: right;\">\n",
       "      <th></th>\n",
       "      <th>constant</th>\n",
       "      <th>hc0</th>\n",
       "      <th>hc1</th>\n",
       "      <th>hc2</th>\n",
       "      <th>hc3</th>\n",
       "      <th>hc4</th>\n",
       "      <th>hc4m</th>\n",
       "      <th>hc5</th>\n",
       "      <th>bootstrapped</th>\n",
       "    </tr>\n",
       "  </thead>\n",
       "  <tbody>\n",
       "    <tr>\n",
       "      <th>tanass_clean</th>\n",
       "      <td>0.00391</td>\n",
       "      <td>0.00499</td>\n",
       "      <td>0.00499</td>\n",
       "      <td>0.00499</td>\n",
       "      <td>0.00499</td>\n",
       "      <td>0.00499</td>\n",
       "      <td>0.00499</td>\n",
       "      <td>0.00499</td>\n",
       "      <td>0.00515</td>\n",
       "    </tr>\n",
       "    <tr>\n",
       "      <th>tax</th>\n",
       "      <td>0.00657</td>\n",
       "      <td>0.00910</td>\n",
       "      <td>0.00910</td>\n",
       "      <td>0.00911</td>\n",
       "      <td>0.00911</td>\n",
       "      <td>0.00911</td>\n",
       "      <td>0.00911</td>\n",
       "      <td>0.00911</td>\n",
       "      <td>0.00934</td>\n",
       "    </tr>\n",
       "  </tbody>\n",
       "</table>\n",
       "</div>"
      ],
      "text/plain": [
       "                         constant                  hc0                  hc1  \\\n",
       "tanass_clean              0.00391              0.00499              0.00499   \n",
       "tax                       0.00657              0.00910              0.00910   \n",
       "\n",
       "                              hc2                  hc3                  hc4  \\\n",
       "tanass_clean              0.00499              0.00499              0.00499   \n",
       "tax                       0.00911              0.00911              0.00911   \n",
       "\n",
       "                             hc4m                  hc5         bootstrapped  \n",
       "tanass_clean              0.00499              0.00499              0.00515  \n",
       "tax                       0.00911              0.00911              0.00934  "
      ]
     },
     "execution_count": 31,
     "metadata": {},
     "output_type": "execute_result"
    }
   ],
   "source": [
    "wb_mam.get_all_se(which_var=['tanass_clean', 'tax'])"
   ]
  },
  {
   "cell_type": "code",
   "execution_count": 32,
   "metadata": {},
   "outputs": [
    {
     "data": {
      "text/html": [
       "<div>\n",
       "<style scoped>\n",
       "    .dataframe tbody tr th:only-of-type {\n",
       "        vertical-align: middle;\n",
       "    }\n",
       "\n",
       "    .dataframe tbody tr th {\n",
       "        vertical-align: top;\n",
       "    }\n",
       "\n",
       "    .dataframe thead th {\n",
       "        text-align: right;\n",
       "    }\n",
       "</style>\n",
       "<table border=\"1\" class=\"dataframe\">\n",
       "  <thead>\n",
       "    <tr style=\"text-align: right;\">\n",
       "      <th></th>\n",
       "      <th>constant</th>\n",
       "      <th>hc0</th>\n",
       "      <th>hc1</th>\n",
       "      <th>hc2</th>\n",
       "      <th>hc3</th>\n",
       "      <th>hc4</th>\n",
       "      <th>hc4m</th>\n",
       "      <th>hc5</th>\n",
       "      <th>bootstrapped</th>\n",
       "    </tr>\n",
       "  </thead>\n",
       "  <tbody>\n",
       "    <tr>\n",
       "      <th>tax</th>\n",
       "      <td>0.00657</td>\n",
       "      <td>0.00910</td>\n",
       "      <td>0.00910</td>\n",
       "      <td>0.00911</td>\n",
       "      <td>0.00911</td>\n",
       "      <td>0.00911</td>\n",
       "      <td>0.00911</td>\n",
       "      <td>0.00911</td>\n",
       "      <td>0.00934</td>\n",
       "    </tr>\n",
       "  </tbody>\n",
       "</table>\n",
       "</div>"
      ],
      "text/plain": [
       "                constant                  hc0                  hc1  \\\n",
       "tax              0.00657              0.00910              0.00910   \n",
       "\n",
       "                     hc2                  hc3                  hc4  \\\n",
       "tax              0.00911              0.00911              0.00911   \n",
       "\n",
       "                    hc4m                  hc5         bootstrapped  \n",
       "tax              0.00911              0.00911              0.00934  "
      ]
     },
     "execution_count": 32,
     "metadata": {},
     "output_type": "execute_result"
    }
   ],
   "source": [
    "wb_mam.get_all_se(which_var='tax')"
   ]
  },
  {
   "cell_type": "markdown",
   "metadata": {},
   "source": [
    "### get_bootstrap_params() method"
   ]
  },
  {
   "cell_type": "markdown",
   "metadata": {},
   "source": [
    "#### Vanila version: Returning a dataframe capturing the parameter estimate of ALL each independent variables in each (wild) bootstrap."
   ]
  },
  {
   "cell_type": "code",
   "execution_count": 33,
   "metadata": {},
   "outputs": [
    {
     "data": {
      "text/html": [
       "<div>\n",
       "<style scoped>\n",
       "    .dataframe tbody tr th:only-of-type {\n",
       "        vertical-align: middle;\n",
       "    }\n",
       "\n",
       "    .dataframe tbody tr th {\n",
       "        vertical-align: top;\n",
       "    }\n",
       "\n",
       "    .dataframe thead th {\n",
       "        text-align: right;\n",
       "    }\n",
       "</style>\n",
       "<table border=\"1\" class=\"dataframe\">\n",
       "  <thead>\n",
       "    <tr style=\"text-align: right;\">\n",
       "      <th></th>\n",
       "      <th>const</th>\n",
       "      <th>tanass_clean</th>\n",
       "      <th>tax</th>\n",
       "    </tr>\n",
       "  </thead>\n",
       "  <tbody>\n",
       "    <tr>\n",
       "      <th>0</th>\n",
       "      <td>6.12845</td>\n",
       "      <td>0.17665</td>\n",
       "      <td>0.53513</td>\n",
       "    </tr>\n",
       "    <tr>\n",
       "      <th>1</th>\n",
       "      <td>6.14831</td>\n",
       "      <td>0.17589</td>\n",
       "      <td>0.52740</td>\n",
       "    </tr>\n",
       "    <tr>\n",
       "      <th>2</th>\n",
       "      <td>6.16231</td>\n",
       "      <td>0.17062</td>\n",
       "      <td>0.53366</td>\n",
       "    </tr>\n",
       "    <tr>\n",
       "      <th>3</th>\n",
       "      <td>6.26950</td>\n",
       "      <td>0.16372</td>\n",
       "      <td>0.52545</td>\n",
       "    </tr>\n",
       "    <tr>\n",
       "      <th>4</th>\n",
       "      <td>6.22074</td>\n",
       "      <td>0.16960</td>\n",
       "      <td>0.52395</td>\n",
       "    </tr>\n",
       "    <tr>\n",
       "      <th>...</th>\n",
       "      <td>...</td>\n",
       "      <td>...</td>\n",
       "      <td>...</td>\n",
       "    </tr>\n",
       "    <tr>\n",
       "      <th>995</th>\n",
       "      <td>6.17476</td>\n",
       "      <td>0.17185</td>\n",
       "      <td>0.52916</td>\n",
       "    </tr>\n",
       "    <tr>\n",
       "      <th>996</th>\n",
       "      <td>6.19431</td>\n",
       "      <td>0.17210</td>\n",
       "      <td>0.52284</td>\n",
       "    </tr>\n",
       "    <tr>\n",
       "      <th>997</th>\n",
       "      <td>6.20963</td>\n",
       "      <td>0.17164</td>\n",
       "      <td>0.52893</td>\n",
       "    </tr>\n",
       "    <tr>\n",
       "      <th>998</th>\n",
       "      <td>6.19527</td>\n",
       "      <td>0.16879</td>\n",
       "      <td>0.53375</td>\n",
       "    </tr>\n",
       "    <tr>\n",
       "      <th>999</th>\n",
       "      <td>6.25778</td>\n",
       "      <td>0.17450</td>\n",
       "      <td>0.51450</td>\n",
       "    </tr>\n",
       "  </tbody>\n",
       "</table>\n",
       "<p>1000 rows × 3 columns</p>\n",
       "</div>"
      ],
      "text/plain": [
       "                   const         tanass_clean                  tax\n",
       "0                6.12845              0.17665              0.53513\n",
       "1                6.14831              0.17589              0.52740\n",
       "2                6.16231              0.17062              0.53366\n",
       "3                6.26950              0.16372              0.52545\n",
       "4                6.22074              0.16960              0.52395\n",
       "..                   ...                  ...                  ...\n",
       "995              6.17476              0.17185              0.52916\n",
       "996              6.19431              0.17210              0.52284\n",
       "997              6.20963              0.17164              0.52893\n",
       "998              6.19527              0.16879              0.53375\n",
       "999              6.25778              0.17450              0.51450\n",
       "\n",
       "[1000 rows x 3 columns]"
      ]
     },
     "execution_count": 33,
     "metadata": {},
     "output_type": "execute_result"
    }
   ],
   "source": [
    "wb_mam.get_bootstrap_params()"
   ]
  },
  {
   "cell_type": "markdown",
   "metadata": {},
   "source": [
    "#### As usual, the desired independent variable can be chosen with 'which_var' argument"
   ]
  },
  {
   "cell_type": "code",
   "execution_count": 34,
   "metadata": {},
   "outputs": [
    {
     "data": {
      "text/html": [
       "<div>\n",
       "<style scoped>\n",
       "    .dataframe tbody tr th:only-of-type {\n",
       "        vertical-align: middle;\n",
       "    }\n",
       "\n",
       "    .dataframe tbody tr th {\n",
       "        vertical-align: top;\n",
       "    }\n",
       "\n",
       "    .dataframe thead th {\n",
       "        text-align: right;\n",
       "    }\n",
       "</style>\n",
       "<table border=\"1\" class=\"dataframe\">\n",
       "  <thead>\n",
       "    <tr style=\"text-align: right;\">\n",
       "      <th></th>\n",
       "      <th>tax</th>\n",
       "    </tr>\n",
       "  </thead>\n",
       "  <tbody>\n",
       "    <tr>\n",
       "      <th>0</th>\n",
       "      <td>0.53513</td>\n",
       "    </tr>\n",
       "    <tr>\n",
       "      <th>1</th>\n",
       "      <td>0.52740</td>\n",
       "    </tr>\n",
       "    <tr>\n",
       "      <th>2</th>\n",
       "      <td>0.53366</td>\n",
       "    </tr>\n",
       "    <tr>\n",
       "      <th>3</th>\n",
       "      <td>0.52545</td>\n",
       "    </tr>\n",
       "    <tr>\n",
       "      <th>4</th>\n",
       "      <td>0.52395</td>\n",
       "    </tr>\n",
       "    <tr>\n",
       "      <th>...</th>\n",
       "      <td>...</td>\n",
       "    </tr>\n",
       "    <tr>\n",
       "      <th>995</th>\n",
       "      <td>0.52916</td>\n",
       "    </tr>\n",
       "    <tr>\n",
       "      <th>996</th>\n",
       "      <td>0.52284</td>\n",
       "    </tr>\n",
       "    <tr>\n",
       "      <th>997</th>\n",
       "      <td>0.52893</td>\n",
       "    </tr>\n",
       "    <tr>\n",
       "      <th>998</th>\n",
       "      <td>0.53375</td>\n",
       "    </tr>\n",
       "    <tr>\n",
       "      <th>999</th>\n",
       "      <td>0.51450</td>\n",
       "    </tr>\n",
       "  </tbody>\n",
       "</table>\n",
       "<p>1000 rows × 1 columns</p>\n",
       "</div>"
      ],
      "text/plain": [
       "                     tax\n",
       "0                0.53513\n",
       "1                0.52740\n",
       "2                0.53366\n",
       "3                0.52545\n",
       "4                0.52395\n",
       "..                   ...\n",
       "995              0.52916\n",
       "996              0.52284\n",
       "997              0.52893\n",
       "998              0.53375\n",
       "999              0.51450\n",
       "\n",
       "[1000 rows x 1 columns]"
      ]
     },
     "execution_count": 34,
     "metadata": {},
     "output_type": "execute_result"
    }
   ],
   "source": [
    "wb_mam.get_bootstrap_params(which_var='tax')"
   ]
  },
  {
   "cell_type": "code",
   "execution_count": 35,
   "metadata": {},
   "outputs": [
    {
     "data": {
      "text/html": [
       "<div>\n",
       "<style scoped>\n",
       "    .dataframe tbody tr th:only-of-type {\n",
       "        vertical-align: middle;\n",
       "    }\n",
       "\n",
       "    .dataframe tbody tr th {\n",
       "        vertical-align: top;\n",
       "    }\n",
       "\n",
       "    .dataframe thead th {\n",
       "        text-align: right;\n",
       "    }\n",
       "</style>\n",
       "<table border=\"1\" class=\"dataframe\">\n",
       "  <thead>\n",
       "    <tr style=\"text-align: right;\">\n",
       "      <th></th>\n",
       "      <th>const</th>\n",
       "      <th>tanass_clean</th>\n",
       "    </tr>\n",
       "  </thead>\n",
       "  <tbody>\n",
       "    <tr>\n",
       "      <th>0</th>\n",
       "      <td>6.12845</td>\n",
       "      <td>0.17665</td>\n",
       "    </tr>\n",
       "    <tr>\n",
       "      <th>1</th>\n",
       "      <td>6.14831</td>\n",
       "      <td>0.17589</td>\n",
       "    </tr>\n",
       "    <tr>\n",
       "      <th>2</th>\n",
       "      <td>6.16231</td>\n",
       "      <td>0.17062</td>\n",
       "    </tr>\n",
       "    <tr>\n",
       "      <th>3</th>\n",
       "      <td>6.26950</td>\n",
       "      <td>0.16372</td>\n",
       "    </tr>\n",
       "    <tr>\n",
       "      <th>4</th>\n",
       "      <td>6.22074</td>\n",
       "      <td>0.16960</td>\n",
       "    </tr>\n",
       "    <tr>\n",
       "      <th>...</th>\n",
       "      <td>...</td>\n",
       "      <td>...</td>\n",
       "    </tr>\n",
       "    <tr>\n",
       "      <th>995</th>\n",
       "      <td>6.17476</td>\n",
       "      <td>0.17185</td>\n",
       "    </tr>\n",
       "    <tr>\n",
       "      <th>996</th>\n",
       "      <td>6.19431</td>\n",
       "      <td>0.17210</td>\n",
       "    </tr>\n",
       "    <tr>\n",
       "      <th>997</th>\n",
       "      <td>6.20963</td>\n",
       "      <td>0.17164</td>\n",
       "    </tr>\n",
       "    <tr>\n",
       "      <th>998</th>\n",
       "      <td>6.19527</td>\n",
       "      <td>0.16879</td>\n",
       "    </tr>\n",
       "    <tr>\n",
       "      <th>999</th>\n",
       "      <td>6.25778</td>\n",
       "      <td>0.17450</td>\n",
       "    </tr>\n",
       "  </tbody>\n",
       "</table>\n",
       "<p>1000 rows × 2 columns</p>\n",
       "</div>"
      ],
      "text/plain": [
       "                   const         tanass_clean\n",
       "0                6.12845              0.17665\n",
       "1                6.14831              0.17589\n",
       "2                6.16231              0.17062\n",
       "3                6.26950              0.16372\n",
       "4                6.22074              0.16960\n",
       "..                   ...                  ...\n",
       "995              6.17476              0.17185\n",
       "996              6.19431              0.17210\n",
       "997              6.20963              0.17164\n",
       "998              6.19527              0.16879\n",
       "999              6.25778              0.17450\n",
       "\n",
       "[1000 rows x 2 columns]"
      ]
     },
     "execution_count": 35,
     "metadata": {},
     "output_type": "execute_result"
    }
   ],
   "source": [
    "wb_mam.get_bootstrap_params(which_var=('const', 'tanass_clean'))"
   ]
  },
  {
   "cell_type": "markdown",
   "metadata": {},
   "source": [
    "### bp_test() and white_test() methods"
   ]
  },
  {
   "cell_type": "markdown",
   "metadata": {},
   "source": [
    "#### Vanila version: for bp_test() returning the robust version (proposed by Roger Koenker) of this test when the presence of the heteroscedasticity is examined on the residual of the OLS on the original sample data. For white_test(), there are no optional arguments"
   ]
  },
  {
   "cell_type": "code",
   "execution_count": 36,
   "metadata": {},
   "outputs": [
    {
     "data": {
      "text/plain": [
       "(432.43914611970746,\n",
       " 1.2503527125935506e-94,\n",
       " 225.92457000184137,\n",
       " 1.083837549448663e-96)"
      ]
     },
     "execution_count": 36,
     "metadata": {},
     "output_type": "execute_result"
    }
   ],
   "source": [
    "wb_mam.bp_test()"
   ]
  },
  {
   "cell_type": "code",
   "execution_count": 37,
   "metadata": {},
   "outputs": [
    {
     "data": {
      "text/plain": [
       "(1437.6088470921256, 9.758682033770634e-309, 335.59463848972536, 0.0)"
      ]
     },
     "execution_count": 37,
     "metadata": {},
     "output_type": "execute_result"
    }
   ],
   "source": [
    "wb_mam.white_test()"
   ]
  },
  {
   "cell_type": "markdown",
   "metadata": {},
   "source": [
    "#### The non-robust version of bp_test() can be achieved by setting bp_test(robust = False)."
   ]
  },
  {
   "cell_type": "code",
   "execution_count": 38,
   "metadata": {},
   "outputs": [
    {
     "data": {
      "text/plain": [
       "(1035.8816259850282,\n",
       " 1.1512322968569012e-225,\n",
       " 225.92457000184234,\n",
       " 1.083837549446753e-96)"
      ]
     },
     "execution_count": 38,
     "metadata": {},
     "output_type": "execute_result"
    }
   ],
   "source": [
    "wb_mam.bp_test(robust = False)"
   ]
  },
  {
   "cell_type": "markdown",
   "metadata": {},
   "source": [
    "At each test, the first value is the calculated LM-test stats, the second is the 'LM p-value' corresponding to the LM-test stats, the third value is the F-test stats and last one is the 'F p-value'.\n",
    "\n",
    "As it can be seen the p-values are 0, so we can rejcet the null hypothesis of homoscedasticity, and accept the alternative hypothesis that the variance of the residuals is heteroscedastic."
   ]
  },
  {
   "cell_type": "markdown",
   "metadata": {},
   "source": [
    "### Some built-in attributes"
   ]
  },
  {
   "cell_type": "code",
   "execution_count": 39,
   "metadata": {},
   "outputs": [
    {
     "data": {
      "text/plain": [
       "['const', 'tanass_clean', 'tax']"
      ]
     },
     "execution_count": 39,
     "metadata": {},
     "output_type": "execute_result"
    }
   ],
   "source": [
    "wb_mam.indep_varname"
   ]
  },
  {
   "cell_type": "markdown",
   "metadata": {},
   "source": [
    "#### wb_mam.bs_params and wb_mam.get_bootstrap_params() basically output the same thing with the exception that the latter one is transposed and is in pd.DataFrame."
   ]
  },
  {
   "cell_type": "code",
   "execution_count": 40,
   "metadata": {},
   "outputs": [
    {
     "data": {
      "text/plain": [
       "array([[6.12844641, 6.14830663, 6.16230646, ..., 6.20962879, 6.19526923,\n",
       "        6.25778397],\n",
       "       [0.17665437, 0.17588706, 0.17061541, ..., 0.17164358, 0.16878517,\n",
       "        0.17449918],\n",
       "       [0.53512931, 0.52739577, 0.53366326, ..., 0.5289288 , 0.53375046,\n",
       "        0.51449554]])"
      ]
     },
     "execution_count": 40,
     "metadata": {},
     "output_type": "execute_result"
    }
   ],
   "source": [
    "wb_mam.bs_params"
   ]
  },
  {
   "cell_type": "code",
   "execution_count": 41,
   "metadata": {},
   "outputs": [
    {
     "data": {
      "text/plain": [
       "array([6.20695725, 0.16929278, 0.52929771])"
      ]
     },
     "execution_count": 41,
     "metadata": {},
     "output_type": "execute_result"
    }
   ],
   "source": [
    "wb_mam.orig_params"
   ]
  },
  {
   "cell_type": "code",
   "execution_count": 42,
   "metadata": {},
   "outputs": [
    {
     "data": {
      "text/plain": [
       "array([6.20678835, 0.16924469, 0.52938636])"
      ]
     },
     "execution_count": 42,
     "metadata": {},
     "output_type": "execute_result"
    }
   ],
   "source": [
    "wb_mam.bs_mean"
   ]
  },
  {
   "cell_type": "code",
   "execution_count": 43,
   "metadata": {},
   "outputs": [
    {
     "data": {
      "text/plain": [
       "array([0.0453789 , 0.00499137, 0.00910921])"
      ]
     },
     "execution_count": 43,
     "metadata": {},
     "output_type": "execute_result"
    }
   ],
   "source": [
    "wb_mam.orig_se"
   ]
  },
  {
   "cell_type": "code",
   "execution_count": 44,
   "metadata": {},
   "outputs": [
    {
     "data": {
      "text/plain": [
       "array([0.04617403, 0.00515419, 0.00933865])"
      ]
     },
     "execution_count": 44,
     "metadata": {},
     "output_type": "execute_result"
    }
   ],
   "source": [
    "wb_mam.bs_se"
   ]
  },
  {
   "cell_type": "code",
   "execution_count": 45,
   "metadata": {},
   "outputs": [
    {
     "data": {
      "text/plain": [
       "array([[6.11731089, 6.3003165 ],\n",
       "       [0.15909888, 0.17882641],\n",
       "       [0.51172172, 0.54700073]])"
      ]
     },
     "execution_count": 45,
     "metadata": {},
     "output_type": "execute_result"
    }
   ],
   "source": [
    "wb_mam.bs_ci"
   ]
  }
 ],
 "metadata": {
  "interpreter": {
   "hash": "e7370f93d1d0cde622a1f8e1c04877d8463912d04d973331ad4851f04de6915a"
  },
  "kernelspec": {
   "display_name": "Python 3 (ipykernel)",
   "language": "python",
   "name": "python3"
  },
  "language_info": {
   "codemirror_mode": {
    "name": "ipython",
    "version": 3
   },
   "file_extension": ".py",
   "mimetype": "text/x-python",
   "name": "python",
   "nbconvert_exporter": "python",
   "pygments_lexer": "ipython3",
   "version": "3.8.10"
  },
  "toc": {
   "base_numbering": 1,
   "nav_menu": {},
   "number_sections": true,
   "sideBar": true,
   "skip_h1_title": false,
   "title_cell": "Table of Contents",
   "title_sidebar": "Contents",
   "toc_cell": false,
   "toc_position": {},
   "toc_section_display": true,
   "toc_window_display": false
  }
 },
 "nbformat": 4,
 "nbformat_minor": 2
}
