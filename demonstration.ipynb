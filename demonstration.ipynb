{
 "cells": [
  {
   "cell_type": "code",
   "execution_count": 1,
   "metadata": {},
   "outputs": [],
   "source": [
    "import numpy as np\n",
    "import pandas as pd\n",
    "\n",
    "from ols_bootstrap.pairs import PairsBootstrap\n",
    "from ols_bootstrap.residual import ResidualBootstrap\n",
    "from ols_bootstrap.wild import WildBootstrap\n",
    "\n",
    "pd.options.display.float_format = '{:20,.5f}'.format  ### Setting pd to have a numerical precision up to 5 decimal points"
   ]
  },
  {
   "cell_type": "code",
   "execution_count": 2,
   "metadata": {},
   "outputs": [
    {
     "name": "stderr",
     "output_type": "stream",
     "text": [
      "/home/phamv/.local/lib/python3.8/site-packages/IPython/core/interactiveshell.py:3444: DtypeWarning: Columns (66) have mixed types.Specify dtype option on import or set low_memory=False.\n",
      "  exec(code_obj, self.user_global_ns, self.user_ns)\n"
     ]
    }
   ],
   "source": [
    "df = pd.read_csv('./balance2018.csv')\n",
    "df = df[df['sales_clean'] != 0]\n",
    "df = df[['sales_clean', 'tanass_clean', 'tax']]\n",
    "df = df.dropna(subset=['tanass_clean', 'tax'])\n",
    "\n",
    "df_scaled = df.applymap(lambda x: np.log(x + 1))"
   ]
  },
  {
   "cell_type": "code",
   "execution_count": 3,
   "metadata": {},
   "outputs": [],
   "source": [
    "df_sample = df_scaled.sample(n=10000, replace=False)\n",
    "\n",
    "Y_data = pd.DataFrame(df_sample.iloc[:, 0])\n",
    "X_data = pd.DataFrame(df_sample.iloc[:, 1:])"
   ]
  },
  {
   "cell_type": "markdown",
   "metadata": {},
   "source": [
    "## Default SE on the original OLS is HC3, default CI on bootstrapped parameter is BC. \n",
    "\n",
    "That is by default se_type = 'hc3', ci_type = 'bc'."
   ]
  },
  {
   "cell_type": "code",
   "execution_count": 4,
   "metadata": {},
   "outputs": [],
   "source": [
    "psb = PairsBootstrap(Y_data, X_data, reps = 1000, se_type='hc3', ci_type = 'bc')  # se_type = 'hc3' and ci_type = 'bc' are default options for these arguments.\n",
    "psb.fit()"
   ]
  },
  {
   "cell_type": "code",
   "execution_count": 5,
   "metadata": {},
   "outputs": [],
   "source": [
    "rsb = ResidualBootstrap(Y_data, X_data, reps = 1000)\n",
    "rsb.fit()"
   ]
  },
  {
   "cell_type": "code",
   "execution_count": 6,
   "metadata": {},
   "outputs": [],
   "source": [
    "wb_unif = WildBootstrap(Y_data, X_data, reps = 1000, from_distro = \"uniform\")\n",
    "wb_unif.fit()"
   ]
  },
  {
   "cell_type": "code",
   "execution_count": 7,
   "metadata": {},
   "outputs": [],
   "source": [
    "wb_stdn = WildBootstrap(Y_data, X_data, reps = 1000, from_distro = \"standard_normal\")\n",
    "wb_stdn.fit()"
   ]
  },
  {
   "cell_type": "code",
   "execution_count": 8,
   "metadata": {},
   "outputs": [],
   "source": [
    "wb_rad = WildBootstrap(Y_data, X_data, reps = 1000, from_distro = \"rademacher\")\n",
    "wb_rad.fit()"
   ]
  },
  {
   "cell_type": "code",
   "execution_count": 9,
   "metadata": {},
   "outputs": [],
   "source": [
    "wb_web4 = WildBootstrap(Y_data, X_data, reps = 1000, from_distro = \"webb4\")\n",
    "wb_web4.fit()"
   ]
  },
  {
   "cell_type": "code",
   "execution_count": 10,
   "metadata": {},
   "outputs": [],
   "source": [
    "wb_web6 = WildBootstrap(Y_data, X_data, reps = 1000, from_distro = \"webb6\")\n",
    "wb_web6.fit()"
   ]
  },
  {
   "cell_type": "code",
   "execution_count": 11,
   "metadata": {},
   "outputs": [],
   "source": [
    "wb_cont_mam = WildBootstrap(Y_data, X_data, reps = 1000, from_distro = \"mammen_cont\")\n",
    "wb_cont_mam.fit()"
   ]
  },
  {
   "cell_type": "code",
   "execution_count": 12,
   "metadata": {},
   "outputs": [],
   "source": [
    "wb_mam = WildBootstrap(Y_data, X_data, reps = 1000, from_distro = \"mammen\")\n",
    "wb_mam.fit()"
   ]
  },
  {
   "cell_type": "code",
   "execution_count": 13,
   "metadata": {},
   "outputs": [
    {
     "name": "stdout",
     "output_type": "stream",
     "text": [
      "+----------------------------------------------------------------------------------------------------------------------------------+\n",
      "|                     Pairs Bootstrap results with 10000 obs and 1000 BS reps using HC3 SE-s and 95.00% BC CI                      |\n",
      "+--------------+------------+------------------+--------+---------------+--------------+--------------+------------------+---------+\n",
      "|     Var      | OLS Params | Avg of BS Params |  Bias  | OLS Params SE | BS Params SE | % of SE Diff |        CI        | CI Diff |\n",
      "+--------------+------------+------------------+--------+---------------+--------------+--------------+------------------+---------+\n",
      "|    const     |   6.2413   |      6.2430      | 0.0017 |     0.0447    |    0.0453    |    -1.36     | [6.1426, 6.3223] |  0.1798 |\n",
      "+--------------+------------+------------------+--------+---------------+--------------+--------------+------------------+---------+\n",
      "| tanass_clean |   0.1719   |      0.1717      | 0.0002 |     0.0051    |    0.0051    |    -0.68     | [0.1621, 0.1822] |  0.0202 |\n",
      "+--------------+------------+------------------+--------+---------------+--------------+--------------+------------------+---------+\n",
      "|     tax      |   0.5206   |      0.5205      | 0.0001 |     0.0091    |    0.0093    |    -1.87     | [0.5020, 0.5384] |  0.0364 |\n",
      "+--------------+------------+------------------+--------+---------------+--------------+--------------+------------------+---------+\n"
     ]
    }
   ],
   "source": [
    "psb.summary()"
   ]
  },
  {
   "cell_type": "code",
   "execution_count": 14,
   "metadata": {},
   "outputs": [
    {
     "name": "stdout",
     "output_type": "stream",
     "text": [
      "+----------------------------------------------------------------------------------------------------------------------------------+\n",
      "|                    Residual Bootstrap results with 10000 obs and 1000 BS reps using HC3 SE-s and 95.00% BC CI                    |\n",
      "+--------------+------------+------------------+--------+---------------+--------------+--------------+------------------+---------+\n",
      "|     Var      | OLS Params | Avg of BS Params |  Bias  | OLS Params SE | BS Params SE | % of SE Diff |        CI        | CI Diff |\n",
      "+--------------+------------+------------------+--------+---------------+--------------+--------------+------------------+---------+\n",
      "|    const     |   6.2413   |      6.2412      | 0.0001 |     0.0447    |    0.0355    |    20.61     | [6.1772, 6.3204] |  0.1432 |\n",
      "+--------------+------------+------------------+--------+---------------+--------------+--------------+------------------+---------+\n",
      "| tanass_clean |   0.1719   |      0.1718      | 0.0001 |     0.0051    |    0.0038    |    25.29     | [0.1646, 0.1794] |  0.0147 |\n",
      "+--------------+------------+------------------+--------+---------------+--------------+--------------+------------------+---------+\n",
      "|     tax      |   0.5206   |      0.5208      | 0.0002 |     0.0091    |    0.0066    |    27.71     | [0.5074, 0.5330] |  0.0255 |\n",
      "+--------------+------------+------------------+--------+---------------+--------------+--------------+------------------+---------+\n"
     ]
    }
   ],
   "source": [
    "rsb.summary()"
   ]
  },
  {
   "cell_type": "code",
   "execution_count": 15,
   "metadata": {},
   "outputs": [
    {
     "name": "stdout",
     "output_type": "stream",
     "text": [
      "+----------------------------------------------------------------------------------------------------------------------------------+\n",
      "|               Wild Bootstrap with Uniform results with 10000 obs and 1000 BS reps using HC3 SE-s and 95.00% BC CI                |\n",
      "+--------------+------------+------------------+--------+---------------+--------------+--------------+------------------+---------+\n",
      "|     Var      | OLS Params | Avg of BS Params |  Bias  | OLS Params SE | BS Params SE | % of SE Diff |        CI        | CI Diff |\n",
      "+--------------+------------+------------------+--------+---------------+--------------+--------------+------------------+---------+\n",
      "|    const     |   6.2413   |      6.2403      | 0.0010 |     0.0447    |    0.0361    |    19.21     | [6.1723, 6.3097] |  0.1374 |\n",
      "+--------------+------------+------------------+--------+---------------+--------------+--------------+------------------+---------+\n",
      "| tanass_clean |   0.1719   |      0.1719      | 0.0001 |     0.0051    |    0.0041    |    19.83     | [0.1643, 0.1803] |  0.0160 |\n",
      "+--------------+------------+------------------+--------+---------------+--------------+--------------+------------------+---------+\n",
      "|     tax      |   0.5206   |      0.5205      | 0.0000 |     0.0091    |    0.0068    |    24.98     | [0.5077, 0.5335] |  0.0258 |\n",
      "+--------------+------------+------------------+--------+---------------+--------------+--------------+------------------+---------+\n"
     ]
    }
   ],
   "source": [
    "wb_unif.summary()"
   ]
  },
  {
   "cell_type": "code",
   "execution_count": 16,
   "metadata": {},
   "outputs": [
    {
     "name": "stdout",
     "output_type": "stream",
     "text": [
      "+----------------------------------------------------------------------------------------------------------------------------------+\n",
      "|           Wild Bootstrap with Standard Normal results with 10000 obs and 1000 BS reps using HC3 SE-s and 95.00% BC CI            |\n",
      "+--------------+------------+------------------+--------+---------------+--------------+--------------+------------------+---------+\n",
      "|     Var      | OLS Params | Avg of BS Params |  Bias  | OLS Params SE | BS Params SE | % of SE Diff |        CI        | CI Diff |\n",
      "+--------------+------------+------------------+--------+---------------+--------------+--------------+------------------+---------+\n",
      "|    const     |   6.2413   |      6.2405      | 0.0008 |     0.0447    |    0.0341    |    23.65     | [6.1767, 6.3129] |  0.1362 |\n",
      "+--------------+------------+------------------+--------+---------------+--------------+--------------+------------------+---------+\n",
      "| tanass_clean |   0.1719   |      0.1720      | 0.0001 |     0.0051    |    0.0039    |    22.13     | [0.1629, 0.1788] |  0.0159 |\n",
      "+--------------+------------+------------------+--------+---------------+--------------+--------------+------------------+---------+\n",
      "|     tax      |   0.5206   |      0.5206      | 0.0000 |     0.0091    |    0.0064    |    29.64     | [0.5074, 0.5321] |  0.0247 |\n",
      "+--------------+------------+------------------+--------+---------------+--------------+--------------+------------------+---------+\n"
     ]
    }
   ],
   "source": [
    "wb_stdn.summary()"
   ]
  },
  {
   "cell_type": "code",
   "execution_count": 17,
   "metadata": {},
   "outputs": [
    {
     "name": "stdout",
     "output_type": "stream",
     "text": [
      "+----------------------------------------------------------------------------------------------------------------------------------+\n",
      "|              Wild Bootstrap with Rademacher results with 10000 obs and 1000 BS reps using HC3 SE-s and 95.00% BC CI              |\n",
      "+--------------+------------+------------------+--------+---------------+--------------+--------------+------------------+---------+\n",
      "|     Var      | OLS Params | Avg of BS Params |  Bias  | OLS Params SE | BS Params SE | % of SE Diff |        CI        | CI Diff |\n",
      "+--------------+------------+------------------+--------+---------------+--------------+--------------+------------------+---------+\n",
      "|    const     |   6.2413   |      6.2408      | 0.0005 |     0.0447    |    0.0345    |    22.89     | [6.1816, 6.3106] |  0.1290 |\n",
      "+--------------+------------+------------------+--------+---------------+--------------+--------------+------------------+---------+\n",
      "| tanass_clean |   0.1719   |      0.1719      | 0.0000 |     0.0051    |    0.0040    |    21.00     | [0.1640, 0.1794] |  0.0154 |\n",
      "+--------------+------------+------------------+--------+---------------+--------------+--------------+------------------+---------+\n",
      "|     tax      |   0.5206   |      0.5207      | 0.0002 |     0.0091    |    0.0067    |    26.07     | [0.5071, 0.5336] |  0.0265 |\n",
      "+--------------+------------+------------------+--------+---------------+--------------+--------------+------------------+---------+\n"
     ]
    }
   ],
   "source": [
    "wb_rad.summary()"
   ]
  },
  {
   "cell_type": "code",
   "execution_count": 18,
   "metadata": {},
   "outputs": [
    {
     "name": "stdout",
     "output_type": "stream",
     "text": [
      "+----------------------------------------------------------------------------------------------------------------------------------+\n",
      "|                Wild Bootstrap with Webb4 results with 10000 obs and 1000 BS reps using HC3 SE-s and 95.00% BC CI                 |\n",
      "+--------------+------------+------------------+--------+---------------+--------------+--------------+------------------+---------+\n",
      "|     Var      | OLS Params | Avg of BS Params |  Bias  | OLS Params SE | BS Params SE | % of SE Diff |        CI        | CI Diff |\n",
      "+--------------+------------+------------------+--------+---------------+--------------+--------------+------------------+---------+\n",
      "|    const     |   6.2413   |      6.2424      | 0.0011 |     0.0447    |    0.0344    |    23.04     | [6.1730, 6.3054] |  0.1324 |\n",
      "+--------------+------------+------------------+--------+---------------+--------------+--------------+------------------+---------+\n",
      "| tanass_clean |   0.1719   |      0.1716      | 0.0003 |     0.0051    |    0.0039    |    22.86     | [0.1651, 0.1807] |  0.0156 |\n",
      "+--------------+------------+------------------+--------+---------------+--------------+--------------+------------------+---------+\n",
      "|     tax      |   0.5206   |      0.5207      | 0.0001 |     0.0091    |    0.0066    |    27.65     | [0.5069, 0.5334] |  0.0265 |\n",
      "+--------------+------------+------------------+--------+---------------+--------------+--------------+------------------+---------+\n"
     ]
    }
   ],
   "source": [
    "wb_web4.summary()"
   ]
  },
  {
   "cell_type": "code",
   "execution_count": 19,
   "metadata": {},
   "outputs": [
    {
     "name": "stdout",
     "output_type": "stream",
     "text": [
      "+----------------------------------------------------------------------------------------------------------------------------------+\n",
      "|                Wild Bootstrap with Webb6 results with 10000 obs and 1000 BS reps using HC3 SE-s and 95.00% BC CI                 |\n",
      "+--------------+------------+------------------+--------+---------------+--------------+--------------+------------------+---------+\n",
      "|     Var      | OLS Params | Avg of BS Params |  Bias  | OLS Params SE | BS Params SE | % of SE Diff |        CI        | CI Diff |\n",
      "+--------------+------------+------------------+--------+---------------+--------------+--------------+------------------+---------+\n",
      "|    const     |   6.2413   |      6.2432      | 0.0019 |     0.0447    |    0.0336    |    24.95     | [6.1793, 6.3113] |  0.1320 |\n",
      "+--------------+------------+------------------+--------+---------------+--------------+--------------+------------------+---------+\n",
      "| tanass_clean |   0.1719   |      0.1719      | 0.0000 |     0.0051    |    0.0038    |    25.45     | [0.1649, 0.1794] |  0.0145 |\n",
      "+--------------+------------+------------------+--------+---------------+--------------+--------------+------------------+---------+\n",
      "|     tax      |   0.5206   |      0.5202      | 0.0004 |     0.0091    |    0.0065    |    28.80     | [0.5082, 0.5342] |  0.0259 |\n",
      "+--------------+------------+------------------+--------+---------------+--------------+--------------+------------------+---------+\n"
     ]
    }
   ],
   "source": [
    "wb_web6.summary()"
   ]
  },
  {
   "cell_type": "code",
   "execution_count": 20,
   "metadata": {},
   "outputs": [
    {
     "name": "stdout",
     "output_type": "stream",
     "text": [
      "+----------------------------------------------------------------------------------------------------------------------------------+\n",
      "|             Wild Bootstrap with Mammen Cont results with 10000 obs and 1000 BS reps using HC3 SE-s and 95.00% BC CI              |\n",
      "+--------------+------------+------------------+--------+---------------+--------------+--------------+------------------+---------+\n",
      "|     Var      | OLS Params | Avg of BS Params |  Bias  | OLS Params SE | BS Params SE | % of SE Diff |        CI        | CI Diff |\n",
      "+--------------+------------+------------------+--------+---------------+--------------+--------------+------------------+---------+\n",
      "|    const     |   6.2413   |      6.2425      | 0.0012 |     0.0447    |    0.0359    |    19.64     | [6.1678, 6.3103] |  0.1425 |\n",
      "+--------------+------------+------------------+--------+---------------+--------------+--------------+------------------+---------+\n",
      "| tanass_clean |   0.1719   |      0.1717      | 0.0002 |     0.0051    |    0.0037    |    25.90     | [0.1649, 0.1793] |  0.0144 |\n",
      "+--------------+------------+------------------+--------+---------------+--------------+--------------+------------------+---------+\n",
      "|     tax      |   0.5206   |      0.5207      | 0.0001 |     0.0091    |    0.0064    |    30.13     | [0.5080, 0.5329] |  0.0249 |\n",
      "+--------------+------------+------------------+--------+---------------+--------------+--------------+------------------+---------+\n"
     ]
    }
   ],
   "source": [
    "wb_cont_mam.summary()"
   ]
  },
  {
   "cell_type": "code",
   "execution_count": 21,
   "metadata": {},
   "outputs": [
    {
     "name": "stdout",
     "output_type": "stream",
     "text": [
      "+----------------------------------------------------------------------------------------------------------------------------------+\n",
      "|                Wild Bootstrap with Mammen results with 10000 obs and 1000 BS reps using HC3 SE-s and 95.00% BC CI                |\n",
      "+--------------+------------+------------------+--------+---------------+--------------+--------------+------------------+---------+\n",
      "|     Var      | OLS Params | Avg of BS Params |  Bias  | OLS Params SE | BS Params SE | % of SE Diff |        CI        | CI Diff |\n",
      "+--------------+------------+------------------+--------+---------------+--------------+--------------+------------------+---------+\n",
      "|    const     |   6.2413   |      6.2412      | 0.0001 |     0.0447    |    0.0346    |    22.53     | [6.1773, 6.3071] |  0.1298 |\n",
      "+--------------+------------+------------------+--------+---------------+--------------+--------------+------------------+---------+\n",
      "| tanass_clean |   0.1719   |      0.1721      | 0.0002 |     0.0051    |    0.0039    |    22.39     | [0.1635, 0.1791] |  0.0156 |\n",
      "+--------------+------------+------------------+--------+---------------+--------------+--------------+------------------+---------+\n",
      "|     tax      |   0.5206   |      0.5203      | 0.0003 |     0.0091    |    0.0065    |    28.81     | [0.5087, 0.5333] |  0.0246 |\n",
      "+--------------+------------+------------------+--------+---------------+--------------+--------------+------------------+---------+\n"
     ]
    }
   ],
   "source": [
    "wb_mam.summary()"
   ]
  },
  {
   "cell_type": "markdown",
   "metadata": {},
   "source": [
    "## Some useful methods were implemented (let's use it on wb_mam object of Wild Bootstrap with Mammen)\n",
    "\n",
    "- The common in the following three methods is that either a string (if one wishes to capture one variable or ci) or 1-D like array can be provided to 'which_var' and/or 'which_ci' (the latter if exists in that object class)."
   ]
  },
  {
   "cell_type": "markdown",
   "metadata": {},
   "source": [
    "### get_ci() method"
   ]
  },
  {
   "cell_type": "markdown",
   "metadata": {},
   "source": [
    "#### Vanila version is when only the actual CI was used with all independent variables"
   ]
  },
  {
   "cell_type": "code",
   "execution_count": 22,
   "metadata": {},
   "outputs": [
    {
     "data": {
      "text/html": [
       "<div>\n",
       "<style scoped>\n",
       "    .dataframe tbody tr th:only-of-type {\n",
       "        vertical-align: middle;\n",
       "    }\n",
       "\n",
       "    .dataframe tbody tr th {\n",
       "        vertical-align: top;\n",
       "    }\n",
       "\n",
       "    .dataframe thead tr th {\n",
       "        text-align: left;\n",
       "    }\n",
       "</style>\n",
       "<table border=\"1\" class=\"dataframe\">\n",
       "  <thead>\n",
       "    <tr>\n",
       "      <th></th>\n",
       "      <th colspan=\"2\" halign=\"left\">bc</th>\n",
       "    </tr>\n",
       "    <tr>\n",
       "      <th></th>\n",
       "      <th>lwb</th>\n",
       "      <th>upb</th>\n",
       "    </tr>\n",
       "  </thead>\n",
       "  <tbody>\n",
       "    <tr>\n",
       "      <th>const</th>\n",
       "      <td>6.17730</td>\n",
       "      <td>6.30712</td>\n",
       "    </tr>\n",
       "    <tr>\n",
       "      <th>tanass_clean</th>\n",
       "      <td>0.16349</td>\n",
       "      <td>0.17912</td>\n",
       "    </tr>\n",
       "    <tr>\n",
       "      <th>tax</th>\n",
       "      <td>0.50869</td>\n",
       "      <td>0.53328</td>\n",
       "    </tr>\n",
       "  </tbody>\n",
       "</table>\n",
       "</div>"
      ],
      "text/plain": [
       "                               bc                     \n",
       "                              lwb                  upb\n",
       "const                     6.17730              6.30712\n",
       "tanass_clean              0.16349              0.17912\n",
       "tax                       0.50869              0.53328"
      ]
     },
     "execution_count": 22,
     "metadata": {},
     "output_type": "execute_result"
    }
   ],
   "source": [
    "wb_mam.get_ci()"
   ]
  },
  {
   "cell_type": "markdown",
   "metadata": {},
   "source": [
    "#### However, any combination of ('bc', 'bca', 'percentile) CI types could be selected and any combinations of independent variables can be chosen with 'which_ci' and 'which_var' optional arguments, respectively.\n",
    "\n",
    "Please note that if choosing 'bca' the calculation can take a while as it uses jacknife resampling for calculating the acceleration factor"
   ]
  },
  {
   "cell_type": "code",
   "execution_count": 23,
   "metadata": {},
   "outputs": [
    {
     "data": {
      "text/html": [
       "<div>\n",
       "<style scoped>\n",
       "    .dataframe tbody tr th:only-of-type {\n",
       "        vertical-align: middle;\n",
       "    }\n",
       "\n",
       "    .dataframe tbody tr th {\n",
       "        vertical-align: top;\n",
       "    }\n",
       "\n",
       "    .dataframe thead tr th {\n",
       "        text-align: left;\n",
       "    }\n",
       "</style>\n",
       "<table border=\"1\" class=\"dataframe\">\n",
       "  <thead>\n",
       "    <tr>\n",
       "      <th></th>\n",
       "      <th colspan=\"2\" halign=\"left\">bc</th>\n",
       "      <th colspan=\"2\" halign=\"left\">percentile</th>\n",
       "    </tr>\n",
       "    <tr>\n",
       "      <th></th>\n",
       "      <th>lwb</th>\n",
       "      <th>upb</th>\n",
       "      <th>lwb</th>\n",
       "      <th>upb</th>\n",
       "    </tr>\n",
       "  </thead>\n",
       "  <tbody>\n",
       "    <tr>\n",
       "      <th>tax</th>\n",
       "      <td>0.50869</td>\n",
       "      <td>0.53328</td>\n",
       "      <td>0.50830</td>\n",
       "      <td>0.53301</td>\n",
       "    </tr>\n",
       "    <tr>\n",
       "      <th>const</th>\n",
       "      <td>6.17730</td>\n",
       "      <td>6.30712</td>\n",
       "      <td>6.17755</td>\n",
       "      <td>6.30778</td>\n",
       "    </tr>\n",
       "  </tbody>\n",
       "</table>\n",
       "</div>"
      ],
      "text/plain": [
       "                        bc                                percentile  \\\n",
       "                       lwb                  upb                  lwb   \n",
       "tax                0.50869              0.53328              0.50830   \n",
       "const              6.17730              6.30712              6.17755   \n",
       "\n",
       "                            \n",
       "                       upb  \n",
       "tax                0.53301  \n",
       "const              6.30778  "
      ]
     },
     "execution_count": 23,
     "metadata": {},
     "output_type": "execute_result"
    }
   ],
   "source": [
    "wb_mam.get_ci(which_ci=['bc', 'percentile'], which_var=['tax', 'const'])"
   ]
  },
  {
   "cell_type": "code",
   "execution_count": 24,
   "metadata": {},
   "outputs": [
    {
     "data": {
      "text/html": [
       "<div>\n",
       "<style scoped>\n",
       "    .dataframe tbody tr th:only-of-type {\n",
       "        vertical-align: middle;\n",
       "    }\n",
       "\n",
       "    .dataframe tbody tr th {\n",
       "        vertical-align: top;\n",
       "    }\n",
       "\n",
       "    .dataframe thead tr th {\n",
       "        text-align: left;\n",
       "    }\n",
       "</style>\n",
       "<table border=\"1\" class=\"dataframe\">\n",
       "  <thead>\n",
       "    <tr>\n",
       "      <th></th>\n",
       "      <th colspan=\"2\" halign=\"left\">bc</th>\n",
       "      <th colspan=\"2\" halign=\"left\">bca</th>\n",
       "    </tr>\n",
       "    <tr>\n",
       "      <th></th>\n",
       "      <th>lwb</th>\n",
       "      <th>upb</th>\n",
       "      <th>lwb</th>\n",
       "      <th>upb</th>\n",
       "    </tr>\n",
       "  </thead>\n",
       "  <tbody>\n",
       "    <tr>\n",
       "      <th>tanass_clean</th>\n",
       "      <td>0.16349</td>\n",
       "      <td>0.17912</td>\n",
       "      <td>0.16352</td>\n",
       "      <td>0.17918</td>\n",
       "    </tr>\n",
       "  </tbody>\n",
       "</table>\n",
       "</div>"
      ],
      "text/plain": [
       "                               bc                                       bca  \\\n",
       "                              lwb                  upb                  lwb   \n",
       "tanass_clean              0.16349              0.17912              0.16352   \n",
       "\n",
       "                                   \n",
       "                              upb  \n",
       "tanass_clean              0.17918  "
      ]
     },
     "execution_count": 24,
     "metadata": {},
     "output_type": "execute_result"
    }
   ],
   "source": [
    "wb_mam.get_ci(which_ci=['bca', 'bc'], which_var='tanass_clean')"
   ]
  },
  {
   "cell_type": "code",
   "execution_count": 25,
   "metadata": {},
   "outputs": [
    {
     "data": {
      "text/html": [
       "<div>\n",
       "<style scoped>\n",
       "    .dataframe tbody tr th:only-of-type {\n",
       "        vertical-align: middle;\n",
       "    }\n",
       "\n",
       "    .dataframe tbody tr th {\n",
       "        vertical-align: top;\n",
       "    }\n",
       "\n",
       "    .dataframe thead tr th {\n",
       "        text-align: left;\n",
       "    }\n",
       "</style>\n",
       "<table border=\"1\" class=\"dataframe\">\n",
       "  <thead>\n",
       "    <tr>\n",
       "      <th></th>\n",
       "      <th colspan=\"2\" halign=\"left\">bc</th>\n",
       "    </tr>\n",
       "    <tr>\n",
       "      <th></th>\n",
       "      <th>lwb</th>\n",
       "      <th>upb</th>\n",
       "    </tr>\n",
       "  </thead>\n",
       "  <tbody>\n",
       "    <tr>\n",
       "      <th>tanass_clean</th>\n",
       "      <td>0.16349</td>\n",
       "      <td>0.17912</td>\n",
       "    </tr>\n",
       "  </tbody>\n",
       "</table>\n",
       "</div>"
      ],
      "text/plain": [
       "                               bc                     \n",
       "                              lwb                  upb\n",
       "tanass_clean              0.16349              0.17912"
      ]
     },
     "execution_count": 25,
     "metadata": {},
     "output_type": "execute_result"
    }
   ],
   "source": [
    "wb_mam.get_ci(which_ci='bc', which_var='tanass_clean')"
   ]
  },
  {
   "cell_type": "markdown",
   "metadata": {},
   "source": [
    "### get_all_se() method\n",
    "\n",
    "The following SE-s are calculated: \n",
    "- bootstrapped - standard error of the bootstrapped parameters\n",
    "- constant - model-based OLS Standard Errors, that is, constant variance is assumed \n",
    "- HC0, HC1, HC2, HC3, HC4, HC4m, HC5 - Heteroskedasticity-Consistent Standard Errors (HCE) using sandwich estimators "
   ]
  },
  {
   "cell_type": "markdown",
   "metadata": {},
   "source": [
    "#### Vanila version is when using all indepencdent variables. "
   ]
  },
  {
   "cell_type": "code",
   "execution_count": 26,
   "metadata": {},
   "outputs": [
    {
     "data": {
      "text/html": [
       "<div>\n",
       "<style scoped>\n",
       "    .dataframe tbody tr th:only-of-type {\n",
       "        vertical-align: middle;\n",
       "    }\n",
       "\n",
       "    .dataframe tbody tr th {\n",
       "        vertical-align: top;\n",
       "    }\n",
       "\n",
       "    .dataframe thead th {\n",
       "        text-align: right;\n",
       "    }\n",
       "</style>\n",
       "<table border=\"1\" class=\"dataframe\">\n",
       "  <thead>\n",
       "    <tr style=\"text-align: right;\">\n",
       "      <th></th>\n",
       "      <th>bootstrapped</th>\n",
       "      <th>constant</th>\n",
       "      <th>hc0</th>\n",
       "      <th>hc1</th>\n",
       "      <th>hc2</th>\n",
       "      <th>hc3</th>\n",
       "      <th>hc4</th>\n",
       "      <th>hc4m</th>\n",
       "      <th>hc5</th>\n",
       "    </tr>\n",
       "  </thead>\n",
       "  <tbody>\n",
       "    <tr>\n",
       "      <th>const</th>\n",
       "      <td>0.03464</td>\n",
       "      <td>0.03478</td>\n",
       "      <td>0.04469</td>\n",
       "      <td>0.04470</td>\n",
       "      <td>0.04470</td>\n",
       "      <td>0.04471</td>\n",
       "      <td>0.04471</td>\n",
       "      <td>0.04472</td>\n",
       "      <td>0.04471</td>\n",
       "    </tr>\n",
       "    <tr>\n",
       "      <th>tanass_clean</th>\n",
       "      <td>0.00392</td>\n",
       "      <td>0.00391</td>\n",
       "      <td>0.00505</td>\n",
       "      <td>0.00505</td>\n",
       "      <td>0.00505</td>\n",
       "      <td>0.00505</td>\n",
       "      <td>0.00506</td>\n",
       "      <td>0.00506</td>\n",
       "      <td>0.00506</td>\n",
       "    </tr>\n",
       "    <tr>\n",
       "      <th>tax</th>\n",
       "      <td>0.00649</td>\n",
       "      <td>0.00655</td>\n",
       "      <td>0.00912</td>\n",
       "      <td>0.00912</td>\n",
       "      <td>0.00912</td>\n",
       "      <td>0.00912</td>\n",
       "      <td>0.00913</td>\n",
       "      <td>0.00912</td>\n",
       "      <td>0.00913</td>\n",
       "    </tr>\n",
       "  </tbody>\n",
       "</table>\n",
       "</div>"
      ],
      "text/plain": [
       "                     bootstrapped             constant                  hc0  \\\n",
       "const                     0.03464              0.03478              0.04469   \n",
       "tanass_clean              0.00392              0.00391              0.00505   \n",
       "tax                       0.00649              0.00655              0.00912   \n",
       "\n",
       "                              hc1                  hc2                  hc3  \\\n",
       "const                     0.04470              0.04470              0.04471   \n",
       "tanass_clean              0.00505              0.00505              0.00505   \n",
       "tax                       0.00912              0.00912              0.00912   \n",
       "\n",
       "                              hc4                 hc4m                  hc5  \n",
       "const                     0.04471              0.04472              0.04471  \n",
       "tanass_clean              0.00506              0.00506              0.00506  \n",
       "tax                       0.00913              0.00912              0.00913  "
      ]
     },
     "execution_count": 26,
     "metadata": {},
     "output_type": "execute_result"
    }
   ],
   "source": [
    "wb_mam.get_all_se()"
   ]
  },
  {
   "cell_type": "markdown",
   "metadata": {},
   "source": [
    "#### A subset of indepent variables can be chosen with 'which_var' argument to calculate the above-mentioned 9 SE-s"
   ]
  },
  {
   "cell_type": "code",
   "execution_count": 27,
   "metadata": {},
   "outputs": [
    {
     "data": {
      "text/html": [
       "<div>\n",
       "<style scoped>\n",
       "    .dataframe tbody tr th:only-of-type {\n",
       "        vertical-align: middle;\n",
       "    }\n",
       "\n",
       "    .dataframe tbody tr th {\n",
       "        vertical-align: top;\n",
       "    }\n",
       "\n",
       "    .dataframe thead th {\n",
       "        text-align: right;\n",
       "    }\n",
       "</style>\n",
       "<table border=\"1\" class=\"dataframe\">\n",
       "  <thead>\n",
       "    <tr style=\"text-align: right;\">\n",
       "      <th></th>\n",
       "      <th>bootstrapped</th>\n",
       "      <th>constant</th>\n",
       "      <th>hc0</th>\n",
       "      <th>hc1</th>\n",
       "      <th>hc2</th>\n",
       "      <th>hc3</th>\n",
       "      <th>hc4</th>\n",
       "      <th>hc4m</th>\n",
       "      <th>hc5</th>\n",
       "    </tr>\n",
       "  </thead>\n",
       "  <tbody>\n",
       "    <tr>\n",
       "      <th>tanass_clean</th>\n",
       "      <td>0.00392</td>\n",
       "      <td>0.00391</td>\n",
       "      <td>0.00505</td>\n",
       "      <td>0.00505</td>\n",
       "      <td>0.00505</td>\n",
       "      <td>0.00505</td>\n",
       "      <td>0.00506</td>\n",
       "      <td>0.00506</td>\n",
       "      <td>0.00506</td>\n",
       "    </tr>\n",
       "    <tr>\n",
       "      <th>tax</th>\n",
       "      <td>0.00649</td>\n",
       "      <td>0.00655</td>\n",
       "      <td>0.00912</td>\n",
       "      <td>0.00912</td>\n",
       "      <td>0.00912</td>\n",
       "      <td>0.00912</td>\n",
       "      <td>0.00913</td>\n",
       "      <td>0.00912</td>\n",
       "      <td>0.00913</td>\n",
       "    </tr>\n",
       "  </tbody>\n",
       "</table>\n",
       "</div>"
      ],
      "text/plain": [
       "                     bootstrapped             constant                  hc0  \\\n",
       "tanass_clean              0.00392              0.00391              0.00505   \n",
       "tax                       0.00649              0.00655              0.00912   \n",
       "\n",
       "                              hc1                  hc2                  hc3  \\\n",
       "tanass_clean              0.00505              0.00505              0.00505   \n",
       "tax                       0.00912              0.00912              0.00912   \n",
       "\n",
       "                              hc4                 hc4m                  hc5  \n",
       "tanass_clean              0.00506              0.00506              0.00506  \n",
       "tax                       0.00913              0.00912              0.00913  "
      ]
     },
     "execution_count": 27,
     "metadata": {},
     "output_type": "execute_result"
    }
   ],
   "source": [
    "wb_mam.get_all_se(which_var=['tanass_clean', 'tax'])"
   ]
  },
  {
   "cell_type": "code",
   "execution_count": 28,
   "metadata": {},
   "outputs": [
    {
     "data": {
      "text/html": [
       "<div>\n",
       "<style scoped>\n",
       "    .dataframe tbody tr th:only-of-type {\n",
       "        vertical-align: middle;\n",
       "    }\n",
       "\n",
       "    .dataframe tbody tr th {\n",
       "        vertical-align: top;\n",
       "    }\n",
       "\n",
       "    .dataframe thead th {\n",
       "        text-align: right;\n",
       "    }\n",
       "</style>\n",
       "<table border=\"1\" class=\"dataframe\">\n",
       "  <thead>\n",
       "    <tr style=\"text-align: right;\">\n",
       "      <th></th>\n",
       "      <th>bootstrapped</th>\n",
       "      <th>constant</th>\n",
       "      <th>hc0</th>\n",
       "      <th>hc1</th>\n",
       "      <th>hc2</th>\n",
       "      <th>hc3</th>\n",
       "      <th>hc4</th>\n",
       "      <th>hc4m</th>\n",
       "      <th>hc5</th>\n",
       "    </tr>\n",
       "  </thead>\n",
       "  <tbody>\n",
       "    <tr>\n",
       "      <th>tax</th>\n",
       "      <td>0.00649</td>\n",
       "      <td>0.00655</td>\n",
       "      <td>0.00912</td>\n",
       "      <td>0.00912</td>\n",
       "      <td>0.00912</td>\n",
       "      <td>0.00912</td>\n",
       "      <td>0.00913</td>\n",
       "      <td>0.00912</td>\n",
       "      <td>0.00913</td>\n",
       "    </tr>\n",
       "  </tbody>\n",
       "</table>\n",
       "</div>"
      ],
      "text/plain": [
       "            bootstrapped             constant                  hc0  \\\n",
       "tax              0.00649              0.00655              0.00912   \n",
       "\n",
       "                     hc1                  hc2                  hc3  \\\n",
       "tax              0.00912              0.00912              0.00912   \n",
       "\n",
       "                     hc4                 hc4m                  hc5  \n",
       "tax              0.00913              0.00912              0.00913  "
      ]
     },
     "execution_count": 28,
     "metadata": {},
     "output_type": "execute_result"
    }
   ],
   "source": [
    "wb_mam.get_all_se(which_var='tax')"
   ]
  },
  {
   "cell_type": "markdown",
   "metadata": {},
   "source": [
    "### get_bootstrap_params() method"
   ]
  },
  {
   "cell_type": "markdown",
   "metadata": {},
   "source": [
    "#### Vanila version: Returning a dataframe capturing the parameter estimate of ALL each independent variables in each (wild) bootstrap."
   ]
  },
  {
   "cell_type": "code",
   "execution_count": 29,
   "metadata": {},
   "outputs": [
    {
     "data": {
      "text/html": [
       "<div>\n",
       "<style scoped>\n",
       "    .dataframe tbody tr th:only-of-type {\n",
       "        vertical-align: middle;\n",
       "    }\n",
       "\n",
       "    .dataframe tbody tr th {\n",
       "        vertical-align: top;\n",
       "    }\n",
       "\n",
       "    .dataframe thead th {\n",
       "        text-align: right;\n",
       "    }\n",
       "</style>\n",
       "<table border=\"1\" class=\"dataframe\">\n",
       "  <thead>\n",
       "    <tr style=\"text-align: right;\">\n",
       "      <th></th>\n",
       "      <th>const</th>\n",
       "      <th>tanass_clean</th>\n",
       "      <th>tax</th>\n",
       "    </tr>\n",
       "  </thead>\n",
       "  <tbody>\n",
       "    <tr>\n",
       "      <th>0</th>\n",
       "      <td>6.24269</td>\n",
       "      <td>0.17918</td>\n",
       "      <td>0.51060</td>\n",
       "    </tr>\n",
       "    <tr>\n",
       "      <th>1</th>\n",
       "      <td>6.32693</td>\n",
       "      <td>0.17228</td>\n",
       "      <td>0.50467</td>\n",
       "    </tr>\n",
       "    <tr>\n",
       "      <th>2</th>\n",
       "      <td>6.23546</td>\n",
       "      <td>0.17400</td>\n",
       "      <td>0.52060</td>\n",
       "    </tr>\n",
       "    <tr>\n",
       "      <th>3</th>\n",
       "      <td>6.22396</td>\n",
       "      <td>0.17370</td>\n",
       "      <td>0.51893</td>\n",
       "    </tr>\n",
       "    <tr>\n",
       "      <th>4</th>\n",
       "      <td>6.18961</td>\n",
       "      <td>0.17274</td>\n",
       "      <td>0.53191</td>\n",
       "    </tr>\n",
       "    <tr>\n",
       "      <th>...</th>\n",
       "      <td>...</td>\n",
       "      <td>...</td>\n",
       "      <td>...</td>\n",
       "    </tr>\n",
       "    <tr>\n",
       "      <th>995</th>\n",
       "      <td>6.25455</td>\n",
       "      <td>0.17227</td>\n",
       "      <td>0.51540</td>\n",
       "    </tr>\n",
       "    <tr>\n",
       "      <th>996</th>\n",
       "      <td>6.25166</td>\n",
       "      <td>0.17054</td>\n",
       "      <td>0.51827</td>\n",
       "    </tr>\n",
       "    <tr>\n",
       "      <th>997</th>\n",
       "      <td>6.27616</td>\n",
       "      <td>0.17121</td>\n",
       "      <td>0.51577</td>\n",
       "    </tr>\n",
       "    <tr>\n",
       "      <th>998</th>\n",
       "      <td>6.18994</td>\n",
       "      <td>0.16978</td>\n",
       "      <td>0.53236</td>\n",
       "    </tr>\n",
       "    <tr>\n",
       "      <th>999</th>\n",
       "      <td>6.21839</td>\n",
       "      <td>0.16735</td>\n",
       "      <td>0.52771</td>\n",
       "    </tr>\n",
       "  </tbody>\n",
       "</table>\n",
       "<p>1000 rows × 3 columns</p>\n",
       "</div>"
      ],
      "text/plain": [
       "                   const         tanass_clean                  tax\n",
       "0                6.24269              0.17918              0.51060\n",
       "1                6.32693              0.17228              0.50467\n",
       "2                6.23546              0.17400              0.52060\n",
       "3                6.22396              0.17370              0.51893\n",
       "4                6.18961              0.17274              0.53191\n",
       "..                   ...                  ...                  ...\n",
       "995              6.25455              0.17227              0.51540\n",
       "996              6.25166              0.17054              0.51827\n",
       "997              6.27616              0.17121              0.51577\n",
       "998              6.18994              0.16978              0.53236\n",
       "999              6.21839              0.16735              0.52771\n",
       "\n",
       "[1000 rows x 3 columns]"
      ]
     },
     "execution_count": 29,
     "metadata": {},
     "output_type": "execute_result"
    }
   ],
   "source": [
    "wb_mam.get_bootstrap_params()"
   ]
  },
  {
   "cell_type": "markdown",
   "metadata": {},
   "source": [
    "#### As usual, the desired independent variable can be chosen with 'which_var' argument"
   ]
  },
  {
   "cell_type": "code",
   "execution_count": 30,
   "metadata": {},
   "outputs": [
    {
     "data": {
      "text/html": [
       "<div>\n",
       "<style scoped>\n",
       "    .dataframe tbody tr th:only-of-type {\n",
       "        vertical-align: middle;\n",
       "    }\n",
       "\n",
       "    .dataframe tbody tr th {\n",
       "        vertical-align: top;\n",
       "    }\n",
       "\n",
       "    .dataframe thead th {\n",
       "        text-align: right;\n",
       "    }\n",
       "</style>\n",
       "<table border=\"1\" class=\"dataframe\">\n",
       "  <thead>\n",
       "    <tr style=\"text-align: right;\">\n",
       "      <th></th>\n",
       "      <th>tax</th>\n",
       "    </tr>\n",
       "  </thead>\n",
       "  <tbody>\n",
       "    <tr>\n",
       "      <th>0</th>\n",
       "      <td>0.51060</td>\n",
       "    </tr>\n",
       "    <tr>\n",
       "      <th>1</th>\n",
       "      <td>0.50467</td>\n",
       "    </tr>\n",
       "    <tr>\n",
       "      <th>2</th>\n",
       "      <td>0.52060</td>\n",
       "    </tr>\n",
       "    <tr>\n",
       "      <th>3</th>\n",
       "      <td>0.51893</td>\n",
       "    </tr>\n",
       "    <tr>\n",
       "      <th>4</th>\n",
       "      <td>0.53191</td>\n",
       "    </tr>\n",
       "    <tr>\n",
       "      <th>...</th>\n",
       "      <td>...</td>\n",
       "    </tr>\n",
       "    <tr>\n",
       "      <th>995</th>\n",
       "      <td>0.51540</td>\n",
       "    </tr>\n",
       "    <tr>\n",
       "      <th>996</th>\n",
       "      <td>0.51827</td>\n",
       "    </tr>\n",
       "    <tr>\n",
       "      <th>997</th>\n",
       "      <td>0.51577</td>\n",
       "    </tr>\n",
       "    <tr>\n",
       "      <th>998</th>\n",
       "      <td>0.53236</td>\n",
       "    </tr>\n",
       "    <tr>\n",
       "      <th>999</th>\n",
       "      <td>0.52771</td>\n",
       "    </tr>\n",
       "  </tbody>\n",
       "</table>\n",
       "<p>1000 rows × 1 columns</p>\n",
       "</div>"
      ],
      "text/plain": [
       "                     tax\n",
       "0                0.51060\n",
       "1                0.50467\n",
       "2                0.52060\n",
       "3                0.51893\n",
       "4                0.53191\n",
       "..                   ...\n",
       "995              0.51540\n",
       "996              0.51827\n",
       "997              0.51577\n",
       "998              0.53236\n",
       "999              0.52771\n",
       "\n",
       "[1000 rows x 1 columns]"
      ]
     },
     "execution_count": 30,
     "metadata": {},
     "output_type": "execute_result"
    }
   ],
   "source": [
    "wb_mam.get_bootstrap_params(which_var='tax')"
   ]
  },
  {
   "cell_type": "code",
   "execution_count": 31,
   "metadata": {},
   "outputs": [
    {
     "data": {
      "text/html": [
       "<div>\n",
       "<style scoped>\n",
       "    .dataframe tbody tr th:only-of-type {\n",
       "        vertical-align: middle;\n",
       "    }\n",
       "\n",
       "    .dataframe tbody tr th {\n",
       "        vertical-align: top;\n",
       "    }\n",
       "\n",
       "    .dataframe thead th {\n",
       "        text-align: right;\n",
       "    }\n",
       "</style>\n",
       "<table border=\"1\" class=\"dataframe\">\n",
       "  <thead>\n",
       "    <tr style=\"text-align: right;\">\n",
       "      <th></th>\n",
       "      <th>const</th>\n",
       "      <th>tanass_clean</th>\n",
       "    </tr>\n",
       "  </thead>\n",
       "  <tbody>\n",
       "    <tr>\n",
       "      <th>0</th>\n",
       "      <td>6.24269</td>\n",
       "      <td>0.17918</td>\n",
       "    </tr>\n",
       "    <tr>\n",
       "      <th>1</th>\n",
       "      <td>6.32693</td>\n",
       "      <td>0.17228</td>\n",
       "    </tr>\n",
       "    <tr>\n",
       "      <th>2</th>\n",
       "      <td>6.23546</td>\n",
       "      <td>0.17400</td>\n",
       "    </tr>\n",
       "    <tr>\n",
       "      <th>3</th>\n",
       "      <td>6.22396</td>\n",
       "      <td>0.17370</td>\n",
       "    </tr>\n",
       "    <tr>\n",
       "      <th>4</th>\n",
       "      <td>6.18961</td>\n",
       "      <td>0.17274</td>\n",
       "    </tr>\n",
       "    <tr>\n",
       "      <th>...</th>\n",
       "      <td>...</td>\n",
       "      <td>...</td>\n",
       "    </tr>\n",
       "    <tr>\n",
       "      <th>995</th>\n",
       "      <td>6.25455</td>\n",
       "      <td>0.17227</td>\n",
       "    </tr>\n",
       "    <tr>\n",
       "      <th>996</th>\n",
       "      <td>6.25166</td>\n",
       "      <td>0.17054</td>\n",
       "    </tr>\n",
       "    <tr>\n",
       "      <th>997</th>\n",
       "      <td>6.27616</td>\n",
       "      <td>0.17121</td>\n",
       "    </tr>\n",
       "    <tr>\n",
       "      <th>998</th>\n",
       "      <td>6.18994</td>\n",
       "      <td>0.16978</td>\n",
       "    </tr>\n",
       "    <tr>\n",
       "      <th>999</th>\n",
       "      <td>6.21839</td>\n",
       "      <td>0.16735</td>\n",
       "    </tr>\n",
       "  </tbody>\n",
       "</table>\n",
       "<p>1000 rows × 2 columns</p>\n",
       "</div>"
      ],
      "text/plain": [
       "                   const         tanass_clean\n",
       "0                6.24269              0.17918\n",
       "1                6.32693              0.17228\n",
       "2                6.23546              0.17400\n",
       "3                6.22396              0.17370\n",
       "4                6.18961              0.17274\n",
       "..                   ...                  ...\n",
       "995              6.25455              0.17227\n",
       "996              6.25166              0.17054\n",
       "997              6.27616              0.17121\n",
       "998              6.18994              0.16978\n",
       "999              6.21839              0.16735\n",
       "\n",
       "[1000 rows x 2 columns]"
      ]
     },
     "execution_count": 31,
     "metadata": {},
     "output_type": "execute_result"
    }
   ],
   "source": [
    "wb_mam.get_bootstrap_params(which_var=('const', 'tanass_clean'))"
   ]
  },
  {
   "cell_type": "markdown",
   "metadata": {},
   "source": [
    "### bp_test() and white_test() methods"
   ]
  },
  {
   "cell_type": "markdown",
   "metadata": {},
   "source": [
    "#### Vanila version: for bp_test() returning the robust version (proposed by Roger Koenker) of this test when the presence of the heteroscedasticity is examined on the residual of the OLS on the original sample data. For white_test(), there are no optional arguments"
   ]
  },
  {
   "cell_type": "code",
   "execution_count": 32,
   "metadata": {},
   "outputs": [
    {
     "data": {
      "text/plain": [
       "(561.1977608856,\n",
       " 1.372317480715929e-122,\n",
       " 297.19311166009385,\n",
       " 4.188505711294015e-126)"
      ]
     },
     "execution_count": 32,
     "metadata": {},
     "output_type": "execute_result"
    }
   ],
   "source": [
    "wb_mam.bp_test()"
   ]
  },
  {
   "cell_type": "code",
   "execution_count": 33,
   "metadata": {},
   "outputs": [
    {
     "data": {
      "text/plain": [
       "(1685.9373570782898, 0.0, 405.31948507713673, 0.0)"
      ]
     },
     "execution_count": 33,
     "metadata": {},
     "output_type": "execute_result"
    }
   ],
   "source": [
    "wb_mam.white_test()"
   ]
  },
  {
   "cell_type": "markdown",
   "metadata": {},
   "source": [
    "#### The non-robust version of bp_test() can be achieved by setting bp_test(robust = False)."
   ]
  },
  {
   "cell_type": "code",
   "execution_count": 34,
   "metadata": {},
   "outputs": [
    {
     "data": {
      "text/plain": [
       "(1160.6909882328728,\n",
       " 9.102366285163176e-253,\n",
       " 297.19311166009413,\n",
       " 4.188505711289015e-126)"
      ]
     },
     "execution_count": 34,
     "metadata": {},
     "output_type": "execute_result"
    }
   ],
   "source": [
    "wb_mam.bp_test(robust = False)"
   ]
  },
  {
   "cell_type": "markdown",
   "metadata": {},
   "source": [
    "At each test, the first value is the calculated LM-test stats, the second is the 'LM p-value' corresponding to the LM-test stats, the third value is the F-test stats and last one is the 'F p-value'.\n",
    "\n",
    "As it can be seen the p-values are 0, so we can rejcet the null hypothesis of homoscedasticity, and accept the alternative hypothesis that the variance of the residuals is heteroscedastic."
   ]
  }
 ],
 "metadata": {
  "interpreter": {
   "hash": "e7370f93d1d0cde622a1f8e1c04877d8463912d04d973331ad4851f04de6915a"
  },
  "kernelspec": {
   "display_name": "Python 3 (ipykernel)",
   "language": "python",
   "name": "python3"
  },
  "language_info": {
   "codemirror_mode": {
    "name": "ipython",
    "version": 3
   },
   "file_extension": ".py",
   "mimetype": "text/x-python",
   "name": "python",
   "nbconvert_exporter": "python",
   "pygments_lexer": "ipython3",
   "version": "3.8.10"
  },
  "toc": {
   "base_numbering": 1,
   "nav_menu": {},
   "number_sections": true,
   "sideBar": true,
   "skip_h1_title": false,
   "title_cell": "Table of Contents",
   "title_sidebar": "Contents",
   "toc_cell": false,
   "toc_position": {},
   "toc_section_display": true,
   "toc_window_display": false
  }
 },
 "nbformat": 4,
 "nbformat_minor": 2
}
