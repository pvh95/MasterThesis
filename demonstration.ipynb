{
 "cells": [
  {
   "cell_type": "code",
   "execution_count": 1,
   "metadata": {},
   "outputs": [],
   "source": [
    "import numpy as np\n",
    "import pandas as pd\n",
    "\n",
    "from ols_bootstrap.pairs import PairsBootstrap\n",
    "from ols_bootstrap.residual import ResidualBootstrap\n",
    "from ols_bootstrap.wild import WildBootstrap\n",
    "\n",
    "pd.options.display.float_format = '{:20,.5f}'.format  ### Setting pd to have a numerical precision up to 5 decimal points"
   ]
  },
  {
   "cell_type": "code",
   "execution_count": 2,
   "metadata": {},
   "outputs": [
    {
     "name": "stderr",
     "output_type": "stream",
     "text": [
      "/home/phamv/.local/lib/python3.8/site-packages/IPython/core/interactiveshell.py:3444: DtypeWarning: Columns (66) have mixed types.Specify dtype option on import or set low_memory=False.\n",
      "  exec(code_obj, self.user_global_ns, self.user_ns)\n"
     ]
    }
   ],
   "source": [
    "df = pd.read_csv('./balance2018.csv')\n",
    "df = df[df['sales_clean'] != 0]\n",
    "df = df[['sales_clean', 'tanass_clean', 'tax']]\n",
    "df = df.dropna(subset=['tanass_clean', 'tax'])\n",
    "\n",
    "df_scaled = df.applymap(lambda x: np.log(x + 1))"
   ]
  },
  {
   "cell_type": "code",
   "execution_count": 3,
   "metadata": {},
   "outputs": [],
   "source": [
    "df_sample = df_scaled.sample(n=10000, replace=False)\n",
    "\n",
    "Y_data = pd.DataFrame(df_sample.iloc[:, 0])\n",
    "X_data = pd.DataFrame(df_sample.iloc[:, 1:])"
   ]
  },
  {
   "cell_type": "markdown",
   "metadata": {},
   "source": [
    "## Default SE on the original OLS is HC3, default CI on bootstrapped parameter is BC. \n",
    "\n",
    "That is by default se_type = 'hc3', ci_type = 'bc'.\n",
    "\n",
    "The default seed value is None. For reprudocability, use an integer of your choice. "
   ]
  },
  {
   "cell_type": "code",
   "execution_count": 4,
   "metadata": {},
   "outputs": [],
   "source": [
    "psb = PairsBootstrap(Y_data, X_data, reps = 1000, se_type='hc3', ci_type = 'bc')  # seed = None, se_type = 'hc3' and ci_type = 'bc' are default options for these arguments.\n",
    "psb.fit()"
   ]
  },
  {
   "cell_type": "code",
   "execution_count": 5,
   "metadata": {},
   "outputs": [],
   "source": [
    "rsb = ResidualBootstrap(Y_data, X_data, reps = 1000)\n",
    "rsb.fit()"
   ]
  },
  {
   "cell_type": "code",
   "execution_count": 6,
   "metadata": {},
   "outputs": [],
   "source": [
    "wb_unif = WildBootstrap(Y_data, X_data, reps = 1000, from_distro = \"uniform\")\n",
    "wb_unif.fit()"
   ]
  },
  {
   "cell_type": "code",
   "execution_count": 7,
   "metadata": {},
   "outputs": [],
   "source": [
    "wb_stdn = WildBootstrap(Y_data, X_data, reps = 1000, from_distro = \"standard_normal\")\n",
    "wb_stdn.fit()"
   ]
  },
  {
   "cell_type": "code",
   "execution_count": 8,
   "metadata": {},
   "outputs": [],
   "source": [
    "wb_rad = WildBootstrap(Y_data, X_data, reps = 1000, from_distro = \"rademacher\")\n",
    "wb_rad.fit()"
   ]
  },
  {
   "cell_type": "code",
   "execution_count": 9,
   "metadata": {},
   "outputs": [],
   "source": [
    "wb_web4 = WildBootstrap(Y_data, X_data, reps = 1000, from_distro = \"webb4\")\n",
    "wb_web4.fit()"
   ]
  },
  {
   "cell_type": "code",
   "execution_count": 10,
   "metadata": {},
   "outputs": [],
   "source": [
    "wb_web6 = WildBootstrap(Y_data, X_data, reps = 1000, from_distro = \"webb6\")\n",
    "wb_web6.fit()"
   ]
  },
  {
   "cell_type": "code",
   "execution_count": 11,
   "metadata": {},
   "outputs": [],
   "source": [
    "wb_cont_mam = WildBootstrap(Y_data, X_data, reps = 1000, from_distro = \"mammen_cont\")\n",
    "wb_cont_mam.fit()"
   ]
  },
  {
   "cell_type": "code",
   "execution_count": 12,
   "metadata": {},
   "outputs": [],
   "source": [
    "wb_mam = WildBootstrap(Y_data, X_data, reps = 1000, from_distro = \"mammen\")\n",
    "wb_mam.fit()"
   ]
  },
  {
   "cell_type": "code",
   "execution_count": 13,
   "metadata": {},
   "outputs": [
    {
     "name": "stdout",
     "output_type": "stream",
     "text": [
      "+---------------------------------------------------------------------------------------------------------------------+\n",
      "|               Pairs Bootstrap results with 10000 obs and 1000 BS reps using HC3 SE-s and 95.00% BC CI               |\n",
      "+--------------+------------+---------------+--------+---------------+--------------+--------------+------------------+\n",
      "|     Var      | OLS Params | Avg BS Params |  Bias  | OLS Params SE | BS Params SE | % of SE Diff |        CI        |\n",
      "+--------------+------------+---------------+--------+---------------+--------------+--------------+------------------+\n",
      "|    const     |   6.1777   |     6.1771    | 0.0007 |     0.0444    |    0.0426    |     3.98     | [6.0880, 6.2579] |\n",
      "+--------------+------------+---------------+--------+---------------+--------------+--------------+------------------+\n",
      "| tanass_clean |   0.1774   |     0.1772    | 0.0002 |     0.0050    |    0.0049    |     0.49     | [0.1677, 0.1866] |\n",
      "+--------------+------------+---------------+--------+---------------+--------------+--------------+------------------+\n",
      "|     tax      |   0.5255   |     0.5258    | 0.0003 |     0.0091    |    0.0092    |    -1.91     | [0.5082, 0.5443] |\n",
      "+--------------+------------+---------------+--------+---------------+--------------+--------------+------------------+\n"
     ]
    }
   ],
   "source": [
    "psb.summary()"
   ]
  },
  {
   "cell_type": "code",
   "execution_count": 14,
   "metadata": {},
   "outputs": [
    {
     "name": "stdout",
     "output_type": "stream",
     "text": [
      "+---------------------------------------------------------------------------------------------------------------------+\n",
      "|              Residual Bootstrap results with 10000 obs and 1000 BS reps using HC3 SE-s and 95.00% BC CI             |\n",
      "+--------------+------------+---------------+--------+---------------+--------------+--------------+------------------+\n",
      "|     Var      | OLS Params | Avg BS Params |  Bias  | OLS Params SE | BS Params SE | % of SE Diff |        CI        |\n",
      "+--------------+------------+---------------+--------+---------------+--------------+--------------+------------------+\n",
      "|    const     |   6.1777   |     6.1771    | 0.0007 |     0.0444    |    0.0350    |    21.27     | [6.1090, 6.2481] |\n",
      "+--------------+------------+---------------+--------+---------------+--------------+--------------+------------------+\n",
      "| tanass_clean |   0.1774   |     0.1773    | 0.0001 |     0.0050    |    0.0040    |    19.01     | [0.1698, 0.1853] |\n",
      "+--------------+------------+---------------+--------+---------------+--------------+--------------+------------------+\n",
      "|     tax      |   0.5255   |     0.5257    | 0.0002 |     0.0091    |    0.0065    |    28.69     | [0.5117, 0.5367] |\n",
      "+--------------+------------+---------------+--------+---------------+--------------+--------------+------------------+\n"
     ]
    }
   ],
   "source": [
    "rsb.summary()"
   ]
  },
  {
   "cell_type": "code",
   "execution_count": 15,
   "metadata": {},
   "outputs": [
    {
     "name": "stdout",
     "output_type": "stream",
     "text": [
      "+---------------------------------------------------------------------------------------------------------------------+\n",
      "|         Wild Bootstrap with Uniform results with 10000 obs and 1000 BS reps using HC3 SE-s and 95.00% BC CI         |\n",
      "+--------------+------------+---------------+--------+---------------+--------------+--------------+------------------+\n",
      "|     Var      | OLS Params | Avg BS Params |  Bias  | OLS Params SE | BS Params SE | % of SE Diff |        CI        |\n",
      "+--------------+------------+---------------+--------+---------------+--------------+--------------+------------------+\n",
      "|    const     |   6.1777   |     6.1780    | 0.0003 |     0.0444    |    0.0358    |    19.40     | [6.1086, 6.2533] |\n",
      "+--------------+------------+---------------+--------+---------------+--------------+--------------+------------------+\n",
      "| tanass_clean |   0.1774   |     0.1775    | 0.0001 |     0.0050    |    0.0040    |    19.97     | [0.1700, 0.1851] |\n",
      "+--------------+------------+---------------+--------+---------------+--------------+--------------+------------------+\n",
      "|     tax      |   0.5255   |     0.5251    | 0.0003 |     0.0091    |    0.0063    |    30.15     | [0.5132, 0.5376] |\n",
      "+--------------+------------+---------------+--------+---------------+--------------+--------------+------------------+\n"
     ]
    }
   ],
   "source": [
    "wb_unif.summary()"
   ]
  },
  {
   "cell_type": "code",
   "execution_count": 16,
   "metadata": {},
   "outputs": [
    {
     "name": "stdout",
     "output_type": "stream",
     "text": [
      "+---------------------------------------------------------------------------------------------------------------------+\n",
      "|     Wild Bootstrap with Standard Normal results with 10000 obs and 1000 BS reps using HC3 SE-s and 95.00% BC CI     |\n",
      "+--------------+------------+---------------+--------+---------------+--------------+--------------+------------------+\n",
      "|     Var      | OLS Params | Avg BS Params |  Bias  | OLS Params SE | BS Params SE | % of SE Diff |        CI        |\n",
      "+--------------+------------+---------------+--------+---------------+--------------+--------------+------------------+\n",
      "|    const     |   6.1777   |     6.1776    | 0.0002 |     0.0444    |    0.0346    |    21.98     | [6.1097, 6.2483] |\n",
      "+--------------+------------+---------------+--------+---------------+--------------+--------------+------------------+\n",
      "| tanass_clean |   0.1774   |     0.1775    | 0.0001 |     0.0050    |    0.0038    |    24.03     | [0.1705, 0.1846] |\n",
      "+--------------+------------+---------------+--------+---------------+--------------+--------------+------------------+\n",
      "|     tax      |   0.5255   |     0.5254    | 0.0001 |     0.0091    |    0.0065    |    28.34     | [0.5141, 0.5390] |\n",
      "+--------------+------------+---------------+--------+---------------+--------------+--------------+------------------+\n"
     ]
    }
   ],
   "source": [
    "wb_stdn.summary()"
   ]
  },
  {
   "cell_type": "code",
   "execution_count": 17,
   "metadata": {},
   "outputs": [
    {
     "name": "stdout",
     "output_type": "stream",
     "text": [
      "+---------------------------------------------------------------------------------------------------------------------+\n",
      "|        Wild Bootstrap with Rademacher results with 10000 obs and 1000 BS reps using HC3 SE-s and 95.00% BC CI       |\n",
      "+--------------+------------+---------------+--------+---------------+--------------+--------------+------------------+\n",
      "|     Var      | OLS Params | Avg BS Params |  Bias  | OLS Params SE | BS Params SE | % of SE Diff |        CI        |\n",
      "+--------------+------------+---------------+--------+---------------+--------------+--------------+------------------+\n",
      "|    const     |   6.1777   |     6.1785    | 0.0007 |     0.0444    |    0.0352    |    20.63     | [6.1093, 6.2462] |\n",
      "+--------------+------------+---------------+--------+---------------+--------------+--------------+------------------+\n",
      "| tanass_clean |   0.1774   |     0.1774    | 0.0000 |     0.0050    |    0.0039    |    20.51     | [0.1697, 0.1849] |\n",
      "+--------------+------------+---------------+--------+---------------+--------------+--------------+------------------+\n",
      "|     tax      |   0.5255   |     0.5254    | 0.0001 |     0.0091    |    0.0066    |    26.81     | [0.5131, 0.5392] |\n",
      "+--------------+------------+---------------+--------+---------------+--------------+--------------+------------------+\n"
     ]
    }
   ],
   "source": [
    "wb_rad.summary()"
   ]
  },
  {
   "cell_type": "code",
   "execution_count": 18,
   "metadata": {},
   "outputs": [
    {
     "name": "stdout",
     "output_type": "stream",
     "text": [
      "+---------------------------------------------------------------------------------------------------------------------+\n",
      "|          Wild Bootstrap with Webb4 results with 10000 obs and 1000 BS reps using HC3 SE-s and 95.00% BC CI          |\n",
      "+--------------+------------+---------------+--------+---------------+--------------+--------------+------------------+\n",
      "|     Var      | OLS Params | Avg BS Params |  Bias  | OLS Params SE | BS Params SE | % of SE Diff |        CI        |\n",
      "+--------------+------------+---------------+--------+---------------+--------------+--------------+------------------+\n",
      "|    const     |   6.1777   |     6.1776    | 0.0002 |     0.0444    |    0.0348    |    21.53     | [6.1095, 6.2465] |\n",
      "+--------------+------------+---------------+--------+---------------+--------------+--------------+------------------+\n",
      "| tanass_clean |   0.1774   |     0.1774    | 0.0000 |     0.0050    |    0.0039    |    20.88     | [0.1697, 0.1852] |\n",
      "+--------------+------------+---------------+--------+---------------+--------------+--------------+------------------+\n",
      "|     tax      |   0.5255   |     0.5254    | 0.0001 |     0.0091    |    0.0065    |    28.63     | [0.5119, 0.5377] |\n",
      "+--------------+------------+---------------+--------+---------------+--------------+--------------+------------------+\n"
     ]
    }
   ],
   "source": [
    "wb_web4.summary()"
   ]
  },
  {
   "cell_type": "code",
   "execution_count": 19,
   "metadata": {},
   "outputs": [
    {
     "name": "stdout",
     "output_type": "stream",
     "text": [
      "+---------------------------------------------------------------------------------------------------------------------+\n",
      "|          Wild Bootstrap with Webb6 results with 10000 obs and 1000 BS reps using HC3 SE-s and 95.00% BC CI          |\n",
      "+--------------+------------+---------------+--------+---------------+--------------+--------------+------------------+\n",
      "|     Var      | OLS Params | Avg BS Params |  Bias  | OLS Params SE | BS Params SE | % of SE Diff |        CI        |\n",
      "+--------------+------------+---------------+--------+---------------+--------------+--------------+------------------+\n",
      "|    const     |   6.1777   |     6.1785    | 0.0007 |     0.0444    |    0.0353    |    20.40     | [6.1106, 6.2461] |\n",
      "+--------------+------------+---------------+--------+---------------+--------------+--------------+------------------+\n",
      "| tanass_clean |   0.1774   |     0.1775    | 0.0001 |     0.0050    |    0.0039    |    20.35     | [0.1694, 0.1844] |\n",
      "+--------------+------------+---------------+--------+---------------+--------------+--------------+------------------+\n",
      "|     tax      |   0.5255   |     0.5253    | 0.0002 |     0.0091    |    0.0065    |    27.95     | [0.5137, 0.5397] |\n",
      "+--------------+------------+---------------+--------+---------------+--------------+--------------+------------------+\n"
     ]
    }
   ],
   "source": [
    "wb_web6.summary()"
   ]
  },
  {
   "cell_type": "code",
   "execution_count": 20,
   "metadata": {},
   "outputs": [
    {
     "name": "stdout",
     "output_type": "stream",
     "text": [
      "+---------------------------------------------------------------------------------------------------------------------+\n",
      "|       Wild Bootstrap with Mammen Cont results with 10000 obs and 1000 BS reps using HC3 SE-s and 95.00% BC CI       |\n",
      "+--------------+------------+---------------+--------+---------------+--------------+--------------+------------------+\n",
      "|     Var      | OLS Params | Avg BS Params |  Bias  | OLS Params SE | BS Params SE | % of SE Diff |        CI        |\n",
      "+--------------+------------+---------------+--------+---------------+--------------+--------------+------------------+\n",
      "|    const     |   6.1777   |     6.1794    | 0.0017 |     0.0444    |    0.0352    |    20.69     | [6.1111, 6.2499] |\n",
      "+--------------+------------+---------------+--------+---------------+--------------+--------------+------------------+\n",
      "| tanass_clean |   0.1774   |     0.1772    | 0.0002 |     0.0050    |    0.0037    |    24.75     | [0.1698, 0.1842] |\n",
      "+--------------+------------+---------------+--------+---------------+--------------+--------------+------------------+\n",
      "|     tax      |   0.5255   |     0.5253    | 0.0002 |     0.0091    |    0.0067    |    26.41     | [0.5118, 0.5374] |\n",
      "+--------------+------------+---------------+--------+---------------+--------------+--------------+------------------+\n"
     ]
    }
   ],
   "source": [
    "wb_cont_mam.summary()"
   ]
  },
  {
   "cell_type": "code",
   "execution_count": 21,
   "metadata": {},
   "outputs": [
    {
     "name": "stdout",
     "output_type": "stream",
     "text": [
      "+---------------------------------------------------------------------------------------------------------------------+\n",
      "|          Wild Bootstrap with Mammen results with 10000 obs and 1000 BS reps using HC3 SE-s and 95.00% BC CI         |\n",
      "+--------------+------------+---------------+--------+---------------+--------------+--------------+------------------+\n",
      "|     Var      | OLS Params | Avg BS Params |  Bias  | OLS Params SE | BS Params SE | % of SE Diff |        CI        |\n",
      "+--------------+------------+---------------+--------+---------------+--------------+--------------+------------------+\n",
      "|    const     |   6.1777   |     6.1776    | 0.0001 |     0.0444    |    0.0361    |    18.62     | [6.1113, 6.2538] |\n",
      "+--------------+------------+---------------+--------+---------------+--------------+--------------+------------------+\n",
      "| tanass_clean |   0.1774   |     0.1776    | 0.0002 |     0.0050    |    0.0040    |    18.79     | [0.1686, 0.1847] |\n",
      "+--------------+------------+---------------+--------+---------------+--------------+--------------+------------------+\n",
      "|     tax      |   0.5255   |     0.5253    | 0.0002 |     0.0091    |    0.0065    |    27.75     | [0.5130, 0.5385] |\n",
      "+--------------+------------+---------------+--------+---------------+--------------+--------------+------------------+\n"
     ]
    }
   ],
   "source": [
    "wb_mam.summary()"
   ]
  },
  {
   "cell_type": "markdown",
   "metadata": {},
   "source": [
    "## Some useful methods were implemented (let's use it on wb_mam object of Wild Bootstrap with Mammen)\n",
    "\n",
    "- The common in the following three methods is that either a string (if one wishes to capture one variable or ci) or 1-D like array can be provided to 'which_var' and/or 'which_ci' (the latter if exists in that object class)."
   ]
  },
  {
   "cell_type": "markdown",
   "metadata": {},
   "source": [
    "### get_ci() method"
   ]
  },
  {
   "cell_type": "markdown",
   "metadata": {},
   "source": [
    "#### Vanila version is when only the actual CI was used with all independent variables"
   ]
  },
  {
   "cell_type": "code",
   "execution_count": 22,
   "metadata": {},
   "outputs": [
    {
     "data": {
      "text/html": [
       "<div>\n",
       "<style scoped>\n",
       "    .dataframe tbody tr th:only-of-type {\n",
       "        vertical-align: middle;\n",
       "    }\n",
       "\n",
       "    .dataframe tbody tr th {\n",
       "        vertical-align: top;\n",
       "    }\n",
       "\n",
       "    .dataframe thead tr th {\n",
       "        text-align: left;\n",
       "    }\n",
       "</style>\n",
       "<table border=\"1\" class=\"dataframe\">\n",
       "  <thead>\n",
       "    <tr>\n",
       "      <th></th>\n",
       "      <th colspan=\"2\" halign=\"left\">bc</th>\n",
       "    </tr>\n",
       "    <tr>\n",
       "      <th></th>\n",
       "      <th>lwb</th>\n",
       "      <th>upb</th>\n",
       "    </tr>\n",
       "  </thead>\n",
       "  <tbody>\n",
       "    <tr>\n",
       "      <th>const</th>\n",
       "      <td>6.11129</td>\n",
       "      <td>6.25384</td>\n",
       "    </tr>\n",
       "    <tr>\n",
       "      <th>tanass_clean</th>\n",
       "      <td>0.16857</td>\n",
       "      <td>0.18467</td>\n",
       "    </tr>\n",
       "    <tr>\n",
       "      <th>tax</th>\n",
       "      <td>0.51304</td>\n",
       "      <td>0.53853</td>\n",
       "    </tr>\n",
       "  </tbody>\n",
       "</table>\n",
       "</div>"
      ],
      "text/plain": [
       "                               bc                     \n",
       "                              lwb                  upb\n",
       "const                     6.11129              6.25384\n",
       "tanass_clean              0.16857              0.18467\n",
       "tax                       0.51304              0.53853"
      ]
     },
     "execution_count": 22,
     "metadata": {},
     "output_type": "execute_result"
    }
   ],
   "source": [
    "wb_mam.get_ci()"
   ]
  },
  {
   "cell_type": "markdown",
   "metadata": {},
   "source": [
    "#### However, any combination of ('bc', 'bca', 'percentile) CI types could be selected and any combinations of independent variables can be chosen with 'which_ci' and 'which_var' optional arguments, respectively.\n",
    "\n",
    "Please note that if choosing 'bca' the calculation can take a while as it uses jacknife resampling for calculating the acceleration factor"
   ]
  },
  {
   "cell_type": "code",
   "execution_count": 23,
   "metadata": {},
   "outputs": [
    {
     "data": {
      "text/html": [
       "<div>\n",
       "<style scoped>\n",
       "    .dataframe tbody tr th:only-of-type {\n",
       "        vertical-align: middle;\n",
       "    }\n",
       "\n",
       "    .dataframe tbody tr th {\n",
       "        vertical-align: top;\n",
       "    }\n",
       "\n",
       "    .dataframe thead tr th {\n",
       "        text-align: left;\n",
       "    }\n",
       "</style>\n",
       "<table border=\"1\" class=\"dataframe\">\n",
       "  <thead>\n",
       "    <tr>\n",
       "      <th></th>\n",
       "      <th colspan=\"2\" halign=\"left\">bc</th>\n",
       "      <th colspan=\"2\" halign=\"left\">percentile</th>\n",
       "    </tr>\n",
       "    <tr>\n",
       "      <th></th>\n",
       "      <th>lwb</th>\n",
       "      <th>upb</th>\n",
       "      <th>lwb</th>\n",
       "      <th>upb</th>\n",
       "    </tr>\n",
       "  </thead>\n",
       "  <tbody>\n",
       "    <tr>\n",
       "      <th>tax</th>\n",
       "      <td>0.51304</td>\n",
       "      <td>0.53853</td>\n",
       "      <td>0.51233</td>\n",
       "      <td>0.53814</td>\n",
       "    </tr>\n",
       "    <tr>\n",
       "      <th>const</th>\n",
       "      <td>6.11129</td>\n",
       "      <td>6.25384</td>\n",
       "      <td>6.10945</td>\n",
       "      <td>6.25335</td>\n",
       "    </tr>\n",
       "  </tbody>\n",
       "</table>\n",
       "</div>"
      ],
      "text/plain": [
       "                        bc                                percentile  \\\n",
       "                       lwb                  upb                  lwb   \n",
       "tax                0.51304              0.53853              0.51233   \n",
       "const              6.11129              6.25384              6.10945   \n",
       "\n",
       "                            \n",
       "                       upb  \n",
       "tax                0.53814  \n",
       "const              6.25335  "
      ]
     },
     "execution_count": 23,
     "metadata": {},
     "output_type": "execute_result"
    }
   ],
   "source": [
    "wb_mam.get_ci(which_ci=['bc', 'percentile'], which_var=['tax', 'const'])"
   ]
  },
  {
   "cell_type": "code",
   "execution_count": 24,
   "metadata": {},
   "outputs": [
    {
     "data": {
      "text/html": [
       "<div>\n",
       "<style scoped>\n",
       "    .dataframe tbody tr th:only-of-type {\n",
       "        vertical-align: middle;\n",
       "    }\n",
       "\n",
       "    .dataframe tbody tr th {\n",
       "        vertical-align: top;\n",
       "    }\n",
       "\n",
       "    .dataframe thead tr th {\n",
       "        text-align: left;\n",
       "    }\n",
       "</style>\n",
       "<table border=\"1\" class=\"dataframe\">\n",
       "  <thead>\n",
       "    <tr>\n",
       "      <th></th>\n",
       "      <th colspan=\"2\" halign=\"left\">bc</th>\n",
       "      <th colspan=\"2\" halign=\"left\">bca</th>\n",
       "    </tr>\n",
       "    <tr>\n",
       "      <th></th>\n",
       "      <th>lwb</th>\n",
       "      <th>upb</th>\n",
       "      <th>lwb</th>\n",
       "      <th>upb</th>\n",
       "    </tr>\n",
       "  </thead>\n",
       "  <tbody>\n",
       "    <tr>\n",
       "      <th>tanass_clean</th>\n",
       "      <td>0.16857</td>\n",
       "      <td>0.18467</td>\n",
       "      <td>0.16860</td>\n",
       "      <td>0.18471</td>\n",
       "    </tr>\n",
       "  </tbody>\n",
       "</table>\n",
       "</div>"
      ],
      "text/plain": [
       "                               bc                                       bca  \\\n",
       "                              lwb                  upb                  lwb   \n",
       "tanass_clean              0.16857              0.18467              0.16860   \n",
       "\n",
       "                                   \n",
       "                              upb  \n",
       "tanass_clean              0.18471  "
      ]
     },
     "execution_count": 24,
     "metadata": {},
     "output_type": "execute_result"
    }
   ],
   "source": [
    "wb_mam.get_ci(which_ci=['bca', 'bc'], which_var='tanass_clean')"
   ]
  },
  {
   "cell_type": "code",
   "execution_count": 25,
   "metadata": {},
   "outputs": [
    {
     "data": {
      "text/html": [
       "<div>\n",
       "<style scoped>\n",
       "    .dataframe tbody tr th:only-of-type {\n",
       "        vertical-align: middle;\n",
       "    }\n",
       "\n",
       "    .dataframe tbody tr th {\n",
       "        vertical-align: top;\n",
       "    }\n",
       "\n",
       "    .dataframe thead tr th {\n",
       "        text-align: left;\n",
       "    }\n",
       "</style>\n",
       "<table border=\"1\" class=\"dataframe\">\n",
       "  <thead>\n",
       "    <tr>\n",
       "      <th></th>\n",
       "      <th colspan=\"2\" halign=\"left\">bc</th>\n",
       "    </tr>\n",
       "    <tr>\n",
       "      <th></th>\n",
       "      <th>lwb</th>\n",
       "      <th>upb</th>\n",
       "    </tr>\n",
       "  </thead>\n",
       "  <tbody>\n",
       "    <tr>\n",
       "      <th>tanass_clean</th>\n",
       "      <td>0.16857</td>\n",
       "      <td>0.18467</td>\n",
       "    </tr>\n",
       "  </tbody>\n",
       "</table>\n",
       "</div>"
      ],
      "text/plain": [
       "                               bc                     \n",
       "                              lwb                  upb\n",
       "tanass_clean              0.16857              0.18467"
      ]
     },
     "execution_count": 25,
     "metadata": {},
     "output_type": "execute_result"
    }
   ],
   "source": [
    "wb_mam.get_ci(which_ci='bc', which_var='tanass_clean')"
   ]
  },
  {
   "cell_type": "markdown",
   "metadata": {},
   "source": [
    "### get_all_se() method\n",
    "\n",
    "The following SE-s are calculated: \n",
    "- bootstrapped - standard error of the bootstrapped parameters\n",
    "- constant - model-based OLS Standard Errors, that is, constant variance is assumed \n",
    "- HC0, HC1, HC2, HC3, HC4, HC4m, HC5 - Heteroskedasticity-Consistent Standard Errors (HCE) using sandwich estimators "
   ]
  },
  {
   "cell_type": "markdown",
   "metadata": {},
   "source": [
    "#### Vanila version is when using all indepencdent variables. "
   ]
  },
  {
   "cell_type": "code",
   "execution_count": 26,
   "metadata": {},
   "outputs": [
    {
     "data": {
      "text/html": [
       "<div>\n",
       "<style scoped>\n",
       "    .dataframe tbody tr th:only-of-type {\n",
       "        vertical-align: middle;\n",
       "    }\n",
       "\n",
       "    .dataframe tbody tr th {\n",
       "        vertical-align: top;\n",
       "    }\n",
       "\n",
       "    .dataframe thead th {\n",
       "        text-align: right;\n",
       "    }\n",
       "</style>\n",
       "<table border=\"1\" class=\"dataframe\">\n",
       "  <thead>\n",
       "    <tr style=\"text-align: right;\">\n",
       "      <th></th>\n",
       "      <th>constant</th>\n",
       "      <th>hc0</th>\n",
       "      <th>hc1</th>\n",
       "      <th>hc2</th>\n",
       "      <th>hc3</th>\n",
       "      <th>hc4</th>\n",
       "      <th>hc4m</th>\n",
       "      <th>hc5</th>\n",
       "    </tr>\n",
       "  </thead>\n",
       "  <tbody>\n",
       "    <tr>\n",
       "      <th>const</th>\n",
       "      <td>0.03514</td>\n",
       "      <td>0.04438</td>\n",
       "      <td>0.04439</td>\n",
       "      <td>0.04439</td>\n",
       "      <td>0.04440</td>\n",
       "      <td>0.04440</td>\n",
       "      <td>0.04441</td>\n",
       "      <td>0.04440</td>\n",
       "    </tr>\n",
       "    <tr>\n",
       "      <th>tanass_clean</th>\n",
       "      <td>0.00391</td>\n",
       "      <td>0.00495</td>\n",
       "      <td>0.00496</td>\n",
       "      <td>0.00496</td>\n",
       "      <td>0.00496</td>\n",
       "      <td>0.00496</td>\n",
       "      <td>0.00496</td>\n",
       "      <td>0.00496</td>\n",
       "    </tr>\n",
       "    <tr>\n",
       "      <th>tax</th>\n",
       "      <td>0.00653</td>\n",
       "      <td>0.00905</td>\n",
       "      <td>0.00905</td>\n",
       "      <td>0.00905</td>\n",
       "      <td>0.00906</td>\n",
       "      <td>0.00906</td>\n",
       "      <td>0.00906</td>\n",
       "      <td>0.00906</td>\n",
       "    </tr>\n",
       "  </tbody>\n",
       "</table>\n",
       "</div>"
      ],
      "text/plain": [
       "                         constant                  hc0                  hc1  \\\n",
       "const                     0.03514              0.04438              0.04439   \n",
       "tanass_clean              0.00391              0.00495              0.00496   \n",
       "tax                       0.00653              0.00905              0.00905   \n",
       "\n",
       "                              hc2                  hc3                  hc4  \\\n",
       "const                     0.04439              0.04440              0.04440   \n",
       "tanass_clean              0.00496              0.00496              0.00496   \n",
       "tax                       0.00905              0.00906              0.00906   \n",
       "\n",
       "                             hc4m                  hc5  \n",
       "const                     0.04441              0.04440  \n",
       "tanass_clean              0.00496              0.00496  \n",
       "tax                       0.00906              0.00906  "
      ]
     },
     "execution_count": 26,
     "metadata": {},
     "output_type": "execute_result"
    }
   ],
   "source": [
    "wb_mam.get_all_se()"
   ]
  },
  {
   "cell_type": "markdown",
   "metadata": {},
   "source": [
    "#### A subset of indepent variables can be chosen with 'which_var' argument to calculate the above-mentioned 9 SE-s"
   ]
  },
  {
   "cell_type": "code",
   "execution_count": 27,
   "metadata": {},
   "outputs": [
    {
     "data": {
      "text/html": [
       "<div>\n",
       "<style scoped>\n",
       "    .dataframe tbody tr th:only-of-type {\n",
       "        vertical-align: middle;\n",
       "    }\n",
       "\n",
       "    .dataframe tbody tr th {\n",
       "        vertical-align: top;\n",
       "    }\n",
       "\n",
       "    .dataframe thead th {\n",
       "        text-align: right;\n",
       "    }\n",
       "</style>\n",
       "<table border=\"1\" class=\"dataframe\">\n",
       "  <thead>\n",
       "    <tr style=\"text-align: right;\">\n",
       "      <th></th>\n",
       "      <th>constant</th>\n",
       "      <th>hc0</th>\n",
       "      <th>hc1</th>\n",
       "      <th>hc2</th>\n",
       "      <th>hc3</th>\n",
       "      <th>hc4</th>\n",
       "      <th>hc4m</th>\n",
       "      <th>hc5</th>\n",
       "    </tr>\n",
       "  </thead>\n",
       "  <tbody>\n",
       "    <tr>\n",
       "      <th>tanass_clean</th>\n",
       "      <td>0.00391</td>\n",
       "      <td>0.00495</td>\n",
       "      <td>0.00496</td>\n",
       "      <td>0.00496</td>\n",
       "      <td>0.00496</td>\n",
       "      <td>0.00496</td>\n",
       "      <td>0.00496</td>\n",
       "      <td>0.00496</td>\n",
       "    </tr>\n",
       "    <tr>\n",
       "      <th>tax</th>\n",
       "      <td>0.00653</td>\n",
       "      <td>0.00905</td>\n",
       "      <td>0.00905</td>\n",
       "      <td>0.00905</td>\n",
       "      <td>0.00906</td>\n",
       "      <td>0.00906</td>\n",
       "      <td>0.00906</td>\n",
       "      <td>0.00906</td>\n",
       "    </tr>\n",
       "  </tbody>\n",
       "</table>\n",
       "</div>"
      ],
      "text/plain": [
       "                         constant                  hc0                  hc1  \\\n",
       "tanass_clean              0.00391              0.00495              0.00496   \n",
       "tax                       0.00653              0.00905              0.00905   \n",
       "\n",
       "                              hc2                  hc3                  hc4  \\\n",
       "tanass_clean              0.00496              0.00496              0.00496   \n",
       "tax                       0.00905              0.00906              0.00906   \n",
       "\n",
       "                             hc4m                  hc5  \n",
       "tanass_clean              0.00496              0.00496  \n",
       "tax                       0.00906              0.00906  "
      ]
     },
     "execution_count": 27,
     "metadata": {},
     "output_type": "execute_result"
    }
   ],
   "source": [
    "wb_mam.get_all_se(which_var=['tanass_clean', 'tax'])"
   ]
  },
  {
   "cell_type": "code",
   "execution_count": 28,
   "metadata": {},
   "outputs": [
    {
     "data": {
      "text/html": [
       "<div>\n",
       "<style scoped>\n",
       "    .dataframe tbody tr th:only-of-type {\n",
       "        vertical-align: middle;\n",
       "    }\n",
       "\n",
       "    .dataframe tbody tr th {\n",
       "        vertical-align: top;\n",
       "    }\n",
       "\n",
       "    .dataframe thead th {\n",
       "        text-align: right;\n",
       "    }\n",
       "</style>\n",
       "<table border=\"1\" class=\"dataframe\">\n",
       "  <thead>\n",
       "    <tr style=\"text-align: right;\">\n",
       "      <th></th>\n",
       "      <th>constant</th>\n",
       "      <th>hc0</th>\n",
       "      <th>hc1</th>\n",
       "      <th>hc2</th>\n",
       "      <th>hc3</th>\n",
       "      <th>hc4</th>\n",
       "      <th>hc4m</th>\n",
       "      <th>hc5</th>\n",
       "    </tr>\n",
       "  </thead>\n",
       "  <tbody>\n",
       "    <tr>\n",
       "      <th>tax</th>\n",
       "      <td>0.00653</td>\n",
       "      <td>0.00905</td>\n",
       "      <td>0.00905</td>\n",
       "      <td>0.00905</td>\n",
       "      <td>0.00906</td>\n",
       "      <td>0.00906</td>\n",
       "      <td>0.00906</td>\n",
       "      <td>0.00906</td>\n",
       "    </tr>\n",
       "  </tbody>\n",
       "</table>\n",
       "</div>"
      ],
      "text/plain": [
       "                constant                  hc0                  hc1  \\\n",
       "tax              0.00653              0.00905              0.00905   \n",
       "\n",
       "                     hc2                  hc3                  hc4  \\\n",
       "tax              0.00905              0.00906              0.00906   \n",
       "\n",
       "                    hc4m                  hc5  \n",
       "tax              0.00906              0.00906  "
      ]
     },
     "execution_count": 28,
     "metadata": {},
     "output_type": "execute_result"
    }
   ],
   "source": [
    "wb_mam.get_all_se(which_var='tax')"
   ]
  },
  {
   "cell_type": "markdown",
   "metadata": {},
   "source": [
    "### get_bootstrap_params() method"
   ]
  },
  {
   "cell_type": "markdown",
   "metadata": {},
   "source": [
    "#### Vanila version: Returning a dataframe capturing the parameter estimate of ALL each independent variables in each (wild) bootstrap."
   ]
  },
  {
   "cell_type": "code",
   "execution_count": 29,
   "metadata": {},
   "outputs": [
    {
     "data": {
      "text/html": [
       "<div>\n",
       "<style scoped>\n",
       "    .dataframe tbody tr th:only-of-type {\n",
       "        vertical-align: middle;\n",
       "    }\n",
       "\n",
       "    .dataframe tbody tr th {\n",
       "        vertical-align: top;\n",
       "    }\n",
       "\n",
       "    .dataframe thead th {\n",
       "        text-align: right;\n",
       "    }\n",
       "</style>\n",
       "<table border=\"1\" class=\"dataframe\">\n",
       "  <thead>\n",
       "    <tr style=\"text-align: right;\">\n",
       "      <th></th>\n",
       "      <th>const</th>\n",
       "      <th>tanass_clean</th>\n",
       "      <th>tax</th>\n",
       "    </tr>\n",
       "  </thead>\n",
       "  <tbody>\n",
       "    <tr>\n",
       "      <th>0</th>\n",
       "      <td>6.17251</td>\n",
       "      <td>0.17381</td>\n",
       "      <td>0.53178</td>\n",
       "    </tr>\n",
       "    <tr>\n",
       "      <th>1</th>\n",
       "      <td>6.15438</td>\n",
       "      <td>0.18652</td>\n",
       "      <td>0.51612</td>\n",
       "    </tr>\n",
       "    <tr>\n",
       "      <th>2</th>\n",
       "      <td>6.16839</td>\n",
       "      <td>0.17612</td>\n",
       "      <td>0.52944</td>\n",
       "    </tr>\n",
       "    <tr>\n",
       "      <th>3</th>\n",
       "      <td>6.18530</td>\n",
       "      <td>0.17521</td>\n",
       "      <td>0.52542</td>\n",
       "    </tr>\n",
       "    <tr>\n",
       "      <th>4</th>\n",
       "      <td>6.13516</td>\n",
       "      <td>0.18088</td>\n",
       "      <td>0.52451</td>\n",
       "    </tr>\n",
       "    <tr>\n",
       "      <th>...</th>\n",
       "      <td>...</td>\n",
       "      <td>...</td>\n",
       "      <td>...</td>\n",
       "    </tr>\n",
       "    <tr>\n",
       "      <th>995</th>\n",
       "      <td>6.18256</td>\n",
       "      <td>0.17852</td>\n",
       "      <td>0.52412</td>\n",
       "    </tr>\n",
       "    <tr>\n",
       "      <th>996</th>\n",
       "      <td>6.14763</td>\n",
       "      <td>0.18036</td>\n",
       "      <td>0.52414</td>\n",
       "    </tr>\n",
       "    <tr>\n",
       "      <th>997</th>\n",
       "      <td>6.13147</td>\n",
       "      <td>0.17438</td>\n",
       "      <td>0.53991</td>\n",
       "    </tr>\n",
       "    <tr>\n",
       "      <th>998</th>\n",
       "      <td>6.26932</td>\n",
       "      <td>0.17529</td>\n",
       "      <td>0.50785</td>\n",
       "    </tr>\n",
       "    <tr>\n",
       "      <th>999</th>\n",
       "      <td>6.17289</td>\n",
       "      <td>0.17737</td>\n",
       "      <td>0.53060</td>\n",
       "    </tr>\n",
       "  </tbody>\n",
       "</table>\n",
       "<p>1000 rows × 3 columns</p>\n",
       "</div>"
      ],
      "text/plain": [
       "                   const         tanass_clean                  tax\n",
       "0                6.17251              0.17381              0.53178\n",
       "1                6.15438              0.18652              0.51612\n",
       "2                6.16839              0.17612              0.52944\n",
       "3                6.18530              0.17521              0.52542\n",
       "4                6.13516              0.18088              0.52451\n",
       "..                   ...                  ...                  ...\n",
       "995              6.18256              0.17852              0.52412\n",
       "996              6.14763              0.18036              0.52414\n",
       "997              6.13147              0.17438              0.53991\n",
       "998              6.26932              0.17529              0.50785\n",
       "999              6.17289              0.17737              0.53060\n",
       "\n",
       "[1000 rows x 3 columns]"
      ]
     },
     "execution_count": 29,
     "metadata": {},
     "output_type": "execute_result"
    }
   ],
   "source": [
    "wb_mam.get_bootstrap_params()"
   ]
  },
  {
   "cell_type": "markdown",
   "metadata": {},
   "source": [
    "#### As usual, the desired independent variable can be chosen with 'which_var' argument"
   ]
  },
  {
   "cell_type": "code",
   "execution_count": 30,
   "metadata": {},
   "outputs": [
    {
     "data": {
      "text/html": [
       "<div>\n",
       "<style scoped>\n",
       "    .dataframe tbody tr th:only-of-type {\n",
       "        vertical-align: middle;\n",
       "    }\n",
       "\n",
       "    .dataframe tbody tr th {\n",
       "        vertical-align: top;\n",
       "    }\n",
       "\n",
       "    .dataframe thead th {\n",
       "        text-align: right;\n",
       "    }\n",
       "</style>\n",
       "<table border=\"1\" class=\"dataframe\">\n",
       "  <thead>\n",
       "    <tr style=\"text-align: right;\">\n",
       "      <th></th>\n",
       "      <th>tax</th>\n",
       "    </tr>\n",
       "  </thead>\n",
       "  <tbody>\n",
       "    <tr>\n",
       "      <th>0</th>\n",
       "      <td>0.53178</td>\n",
       "    </tr>\n",
       "    <tr>\n",
       "      <th>1</th>\n",
       "      <td>0.51612</td>\n",
       "    </tr>\n",
       "    <tr>\n",
       "      <th>2</th>\n",
       "      <td>0.52944</td>\n",
       "    </tr>\n",
       "    <tr>\n",
       "      <th>3</th>\n",
       "      <td>0.52542</td>\n",
       "    </tr>\n",
       "    <tr>\n",
       "      <th>4</th>\n",
       "      <td>0.52451</td>\n",
       "    </tr>\n",
       "    <tr>\n",
       "      <th>...</th>\n",
       "      <td>...</td>\n",
       "    </tr>\n",
       "    <tr>\n",
       "      <th>995</th>\n",
       "      <td>0.52412</td>\n",
       "    </tr>\n",
       "    <tr>\n",
       "      <th>996</th>\n",
       "      <td>0.52414</td>\n",
       "    </tr>\n",
       "    <tr>\n",
       "      <th>997</th>\n",
       "      <td>0.53991</td>\n",
       "    </tr>\n",
       "    <tr>\n",
       "      <th>998</th>\n",
       "      <td>0.50785</td>\n",
       "    </tr>\n",
       "    <tr>\n",
       "      <th>999</th>\n",
       "      <td>0.53060</td>\n",
       "    </tr>\n",
       "  </tbody>\n",
       "</table>\n",
       "<p>1000 rows × 1 columns</p>\n",
       "</div>"
      ],
      "text/plain": [
       "                     tax\n",
       "0                0.53178\n",
       "1                0.51612\n",
       "2                0.52944\n",
       "3                0.52542\n",
       "4                0.52451\n",
       "..                   ...\n",
       "995              0.52412\n",
       "996              0.52414\n",
       "997              0.53991\n",
       "998              0.50785\n",
       "999              0.53060\n",
       "\n",
       "[1000 rows x 1 columns]"
      ]
     },
     "execution_count": 30,
     "metadata": {},
     "output_type": "execute_result"
    }
   ],
   "source": [
    "wb_mam.get_bootstrap_params(which_var='tax')"
   ]
  },
  {
   "cell_type": "code",
   "execution_count": 31,
   "metadata": {},
   "outputs": [
    {
     "data": {
      "text/html": [
       "<div>\n",
       "<style scoped>\n",
       "    .dataframe tbody tr th:only-of-type {\n",
       "        vertical-align: middle;\n",
       "    }\n",
       "\n",
       "    .dataframe tbody tr th {\n",
       "        vertical-align: top;\n",
       "    }\n",
       "\n",
       "    .dataframe thead th {\n",
       "        text-align: right;\n",
       "    }\n",
       "</style>\n",
       "<table border=\"1\" class=\"dataframe\">\n",
       "  <thead>\n",
       "    <tr style=\"text-align: right;\">\n",
       "      <th></th>\n",
       "      <th>const</th>\n",
       "      <th>tanass_clean</th>\n",
       "    </tr>\n",
       "  </thead>\n",
       "  <tbody>\n",
       "    <tr>\n",
       "      <th>0</th>\n",
       "      <td>6.17251</td>\n",
       "      <td>0.17381</td>\n",
       "    </tr>\n",
       "    <tr>\n",
       "      <th>1</th>\n",
       "      <td>6.15438</td>\n",
       "      <td>0.18652</td>\n",
       "    </tr>\n",
       "    <tr>\n",
       "      <th>2</th>\n",
       "      <td>6.16839</td>\n",
       "      <td>0.17612</td>\n",
       "    </tr>\n",
       "    <tr>\n",
       "      <th>3</th>\n",
       "      <td>6.18530</td>\n",
       "      <td>0.17521</td>\n",
       "    </tr>\n",
       "    <tr>\n",
       "      <th>4</th>\n",
       "      <td>6.13516</td>\n",
       "      <td>0.18088</td>\n",
       "    </tr>\n",
       "    <tr>\n",
       "      <th>...</th>\n",
       "      <td>...</td>\n",
       "      <td>...</td>\n",
       "    </tr>\n",
       "    <tr>\n",
       "      <th>995</th>\n",
       "      <td>6.18256</td>\n",
       "      <td>0.17852</td>\n",
       "    </tr>\n",
       "    <tr>\n",
       "      <th>996</th>\n",
       "      <td>6.14763</td>\n",
       "      <td>0.18036</td>\n",
       "    </tr>\n",
       "    <tr>\n",
       "      <th>997</th>\n",
       "      <td>6.13147</td>\n",
       "      <td>0.17438</td>\n",
       "    </tr>\n",
       "    <tr>\n",
       "      <th>998</th>\n",
       "      <td>6.26932</td>\n",
       "      <td>0.17529</td>\n",
       "    </tr>\n",
       "    <tr>\n",
       "      <th>999</th>\n",
       "      <td>6.17289</td>\n",
       "      <td>0.17737</td>\n",
       "    </tr>\n",
       "  </tbody>\n",
       "</table>\n",
       "<p>1000 rows × 2 columns</p>\n",
       "</div>"
      ],
      "text/plain": [
       "                   const         tanass_clean\n",
       "0                6.17251              0.17381\n",
       "1                6.15438              0.18652\n",
       "2                6.16839              0.17612\n",
       "3                6.18530              0.17521\n",
       "4                6.13516              0.18088\n",
       "..                   ...                  ...\n",
       "995              6.18256              0.17852\n",
       "996              6.14763              0.18036\n",
       "997              6.13147              0.17438\n",
       "998              6.26932              0.17529\n",
       "999              6.17289              0.17737\n",
       "\n",
       "[1000 rows x 2 columns]"
      ]
     },
     "execution_count": 31,
     "metadata": {},
     "output_type": "execute_result"
    }
   ],
   "source": [
    "wb_mam.get_bootstrap_params(which_var=('const', 'tanass_clean'))"
   ]
  },
  {
   "cell_type": "markdown",
   "metadata": {},
   "source": [
    "### bp_test() and white_test() methods"
   ]
  },
  {
   "cell_type": "markdown",
   "metadata": {},
   "source": [
    "#### Vanila version: for bp_test() returning the robust version (proposed by Roger Koenker) of this test when the presence of the heteroscedasticity is examined on the residual of the OLS on the original sample data. For white_test(), there are no optional arguments"
   ]
  },
  {
   "cell_type": "code",
   "execution_count": 32,
   "metadata": {},
   "outputs": [
    {
     "data": {
      "text/plain": [
       "(479.50829047321395,\n",
       " 7.517920179004794e-105,\n",
       " 251.75403362117885,\n",
       " 2.1325874810483277e-107)"
      ]
     },
     "execution_count": 32,
     "metadata": {},
     "output_type": "execute_result"
    }
   ],
   "source": [
    "wb_mam.bp_test()"
   ]
  },
  {
   "cell_type": "code",
   "execution_count": 33,
   "metadata": {},
   "outputs": [
    {
     "data": {
      "text/plain": [
       "(1615.7207993722554, 0.0, 385.18549496102986, 0.0)"
      ]
     },
     "execution_count": 33,
     "metadata": {},
     "output_type": "execute_result"
    }
   ],
   "source": [
    "wb_mam.white_test()"
   ]
  },
  {
   "cell_type": "markdown",
   "metadata": {},
   "source": [
    "#### The non-robust version of bp_test() can be achieved by setting bp_test(robust = False)."
   ]
  },
  {
   "cell_type": "code",
   "execution_count": 34,
   "metadata": {},
   "outputs": [
    {
     "data": {
      "text/plain": [
       "(986.8644687798769,\n",
       " 5.071114438388376e-215,\n",
       " 251.75403362117981,\n",
       " 2.132587481047055e-107)"
      ]
     },
     "execution_count": 34,
     "metadata": {},
     "output_type": "execute_result"
    }
   ],
   "source": [
    "wb_mam.bp_test(robust = False)"
   ]
  },
  {
   "cell_type": "markdown",
   "metadata": {},
   "source": [
    "At each test, the first value is the calculated LM-test stats, the second is the 'LM p-value' corresponding to the LM-test stats, the third value is the F-test stats and last one is the 'F p-value'.\n",
    "\n",
    "As it can be seen the p-values are 0, so we can rejcet the null hypothesis of homoscedasticity, and accept the alternative hypothesis that the variance of the residuals is heteroscedastic."
   ]
  }
 ],
 "metadata": {
  "interpreter": {
   "hash": "e7370f93d1d0cde622a1f8e1c04877d8463912d04d973331ad4851f04de6915a"
  },
  "kernelspec": {
   "display_name": "Python 3 (ipykernel)",
   "language": "python",
   "name": "python3"
  },
  "language_info": {
   "codemirror_mode": {
    "name": "ipython",
    "version": 3
   },
   "file_extension": ".py",
   "mimetype": "text/x-python",
   "name": "python",
   "nbconvert_exporter": "python",
   "pygments_lexer": "ipython3",
   "version": "3.8.10"
  },
  "toc": {
   "base_numbering": 1,
   "nav_menu": {},
   "number_sections": true,
   "sideBar": true,
   "skip_h1_title": false,
   "title_cell": "Table of Contents",
   "title_sidebar": "Contents",
   "toc_cell": false,
   "toc_position": {},
   "toc_section_display": true,
   "toc_window_display": false
  }
 },
 "nbformat": 4,
 "nbformat_minor": 2
}
