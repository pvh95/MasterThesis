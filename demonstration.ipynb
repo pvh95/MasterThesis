{
 "cells": [
  {
   "cell_type": "code",
   "execution_count": 1,
   "metadata": {},
   "outputs": [],
   "source": [
    "import numpy as np\n",
    "import pandas as pd\n",
    "\n",
    "from ols_bootstrap.pairs import PairsBootstrap\n",
    "from ols_bootstrap.residual import ResidualBootstrap\n",
    "from ols_bootstrap.wild import WildBootstrap\n",
    "\n",
    "pd.options.display.float_format = '{:20,.5f}'.format  ### Setting pd to have a numerical precision up to 5 decimal points"
   ]
  },
  {
   "cell_type": "code",
   "execution_count": 2,
   "metadata": {},
   "outputs": [
    {
     "name": "stderr",
     "output_type": "stream",
     "text": [
      "/home/phamv/.local/lib/python3.8/site-packages/IPython/core/interactiveshell.py:3444: DtypeWarning: Columns (66) have mixed types.Specify dtype option on import or set low_memory=False.\n",
      "  exec(code_obj, self.user_global_ns, self.user_ns)\n"
     ]
    }
   ],
   "source": [
    "df = pd.read_csv('./balance2018.csv')\n",
    "df = df[df['sales_clean'] != 0]\n",
    "df = df[['sales_clean', 'tanass_clean', 'tax']]\n",
    "df = df.dropna(subset=['tanass_clean', 'tax'])\n",
    "\n",
    "df_scaled = df.applymap(lambda x: np.log(x + 1))"
   ]
  },
  {
   "cell_type": "code",
   "execution_count": 3,
   "metadata": {},
   "outputs": [],
   "source": [
    "df_sample = df_scaled.sample(n=10000, replace=False, random_state=42)\n",
    "\n",
    "Y_data = pd.DataFrame(df_sample.iloc[:, 0])\n",
    "X_data = pd.DataFrame(df_sample.iloc[:, 1:])"
   ]
  },
  {
   "cell_type": "markdown",
   "metadata": {},
   "source": [
    "## Default SE on the original OLS is HC3, default CI on bootstrapped parameter is BC. \n",
    "\n",
    "That is by default se_type = 'hc3', ci_type = 'bc'.\n",
    "\n",
    "The default seed value is None. For reproducability, use an integer of your choice. "
   ]
  },
  {
   "cell_type": "code",
   "execution_count": 4,
   "metadata": {},
   "outputs": [],
   "source": [
    "psb = PairsBootstrap(Y_data, X_data, reps = 1000, se_type='hc3', ci_type = 'bc', seed = 42)  # seed = None, se_type = 'hc3' and ci_type = 'bc' are the default options for these arguments.\n",
    "psb.fit()"
   ]
  },
  {
   "cell_type": "code",
   "execution_count": 5,
   "metadata": {},
   "outputs": [],
   "source": [
    "rsb = ResidualBootstrap(Y_data, X_data, reps = 1000, seed = 42)\n",
    "rsb.fit()"
   ]
  },
  {
   "cell_type": "code",
   "execution_count": 6,
   "metadata": {},
   "outputs": [],
   "source": [
    "wb_unif = WildBootstrap(Y_data, X_data, reps = 1000, from_distro = \"uniform\", seed = 42)\n",
    "wb_unif.fit()"
   ]
  },
  {
   "cell_type": "code",
   "execution_count": 7,
   "metadata": {},
   "outputs": [],
   "source": [
    "wb_stdn = WildBootstrap(Y_data, X_data, reps = 1000, from_distro = \"standard_normal\", seed = 42)\n",
    "wb_stdn.fit()"
   ]
  },
  {
   "cell_type": "code",
   "execution_count": 8,
   "metadata": {},
   "outputs": [],
   "source": [
    "wb_rad = WildBootstrap(Y_data, X_data, reps = 1000, from_distro = \"rademacher\", seed = 42)\n",
    "wb_rad.fit()"
   ]
  },
  {
   "cell_type": "code",
   "execution_count": 9,
   "metadata": {},
   "outputs": [],
   "source": [
    "wb_webb4 = WildBootstrap(Y_data, X_data, reps = 1000, from_distro = \"webb4\", seed = 42)\n",
    "wb_webb4.fit()"
   ]
  },
  {
   "cell_type": "code",
   "execution_count": 10,
   "metadata": {},
   "outputs": [],
   "source": [
    "wb_webb6 = WildBootstrap(Y_data, X_data, reps = 1000, from_distro = \"webb6\", seed = 42)\n",
    "wb_webb6.fit()"
   ]
  },
  {
   "cell_type": "code",
   "execution_count": 11,
   "metadata": {},
   "outputs": [],
   "source": [
    "wb_cont_mam = WildBootstrap(Y_data, X_data, reps = 1000, from_distro = \"mammen_cont\", seed = 42)\n",
    "wb_cont_mam.fit()"
   ]
  },
  {
   "cell_type": "code",
   "execution_count": 12,
   "metadata": {},
   "outputs": [],
   "source": [
    "wb_mam = WildBootstrap(Y_data, X_data, reps = 1000, from_distro = \"mammen\", seed = 42)\n",
    "wb_mam.fit()"
   ]
  },
  {
   "cell_type": "code",
   "execution_count": 13,
   "metadata": {},
   "outputs": [],
   "source": [
    "# Now: np.ndarray was supported as an input array. pd.Series, list, and tuples were also added to the supported list for an input array. \n",
    "# Before that only pd.DataFrame had been supported. \n",
    "X_data_np = X_data.to_numpy()\n",
    "Y_data_np = Y_data.to_numpy()"
   ]
  },
  {
   "cell_type": "code",
   "execution_count": 14,
   "metadata": {},
   "outputs": [],
   "source": [
    "wb_mam_np = WildBootstrap(Y_data_np, X_data_np, reps = 1000, from_distro = \"mammen\", seed = 42)\n",
    "wb_mam_np.fit()"
   ]
  },
  {
   "cell_type": "code",
   "execution_count": 15,
   "metadata": {},
   "outputs": [
    {
     "name": "stdout",
     "output_type": "stream",
     "text": [
      "+---------------------------------------------------------------------------------------------------------------------+\n",
      "|               Pairs Bootstrap results with 10000 obs and 1000 BS reps using HC3 SE-s and 95.00% BC CI               |\n",
      "+--------------+------------+---------------+--------+---------------+--------------+--------------+------------------+\n",
      "|     Var      | OLS Params | Avg BS Params |  Bias  | OLS Params SE | BS Params SE | % of SE Diff |        CI        |\n",
      "+--------------+------------+---------------+--------+---------------+--------------+--------------+------------------+\n",
      "|    const     |   6.2070   |     6.2070    | 0.0000 |     0.0454    |    0.0462    |    -1.70     | [6.1273, 6.3045] |\n",
      "+--------------+------------+---------------+--------+---------------+--------------+--------------+------------------+\n",
      "| tanass_clean |   0.1693   |     0.1691    | 0.0002 |     0.0050    |    0.0051    |    -1.56     | [0.1591, 0.1785] |\n",
      "+--------------+------------+---------------+--------+---------------+--------------+--------------+------------------+\n",
      "|     tax      |   0.5293   |     0.5296    | 0.0003 |     0.0091    |    0.0090    |     1.12     | [0.5106, 0.5455] |\n",
      "+--------------+------------+---------------+--------+---------------+--------------+--------------+------------------+\n"
     ]
    }
   ],
   "source": [
    "psb.summary()"
   ]
  },
  {
   "cell_type": "code",
   "execution_count": 16,
   "metadata": {},
   "outputs": [
    {
     "name": "stdout",
     "output_type": "stream",
     "text": [
      "+---------------------------------------------------------------------------------------------------------------------+\n",
      "|              Residual Bootstrap results with 10000 obs and 1000 BS reps using HC3 SE-s and 95.00% BC CI             |\n",
      "+--------------+------------+---------------+--------+---------------+--------------+--------------+------------------+\n",
      "|     Var      | OLS Params | Avg BS Params |  Bias  | OLS Params SE | BS Params SE | % of SE Diff |        CI        |\n",
      "+--------------+------------+---------------+--------+---------------+--------------+--------------+------------------+\n",
      "|    const     |   6.2070   |     6.2058    | 0.0012 |     0.0454    |    0.0349    |    23.00     | [6.1420, 6.2788] |\n",
      "+--------------+------------+---------------+--------+---------------+--------------+--------------+------------------+\n",
      "| tanass_clean |   0.1693   |     0.1694    | 0.0001 |     0.0050    |    0.0039    |    22.09     | [0.1617, 0.1772] |\n",
      "+--------------+------------+---------------+--------+---------------+--------------+--------------+------------------+\n",
      "|     tax      |   0.5293   |     0.5293    | 0.0000 |     0.0091    |    0.0064    |    29.36     | [0.5166, 0.5425] |\n",
      "+--------------+------------+---------------+--------+---------------+--------------+--------------+------------------+\n"
     ]
    }
   ],
   "source": [
    "rsb.summary()"
   ]
  },
  {
   "cell_type": "code",
   "execution_count": 17,
   "metadata": {},
   "outputs": [
    {
     "name": "stdout",
     "output_type": "stream",
     "text": [
      "+---------------------------------------------------------------------------------------------------------------------+\n",
      "|         Wild Bootstrap with Uniform results with 10000 obs and 1000 BS reps using HC3 SE-s and 95.00% BC CI         |\n",
      "+--------------+------------+---------------+--------+---------------+--------------+--------------+------------------+\n",
      "|     Var      | OLS Params | Avg BS Params |  Bias  | OLS Params SE | BS Params SE | % of SE Diff |        CI        |\n",
      "+--------------+------------+---------------+--------+---------------+--------------+--------------+------------------+\n",
      "|    const     |   6.2070   |     6.2075    | 0.0005 |     0.0454    |    0.0345    |    24.04     | [6.1371, 6.2737] |\n",
      "+--------------+------------+---------------+--------+---------------+--------------+--------------+------------------+\n",
      "| tanass_clean |   0.1693   |     0.1693    | 0.0000 |     0.0050    |    0.0039    |    21.25     | [0.1622, 0.1776] |\n",
      "+--------------+------------+---------------+--------+---------------+--------------+--------------+------------------+\n",
      "|     tax      |   0.5293   |     0.5292    | 0.0001 |     0.0091    |    0.0063    |    30.98     | [0.5166, 0.5417] |\n",
      "+--------------+------------+---------------+--------+---------------+--------------+--------------+------------------+\n"
     ]
    }
   ],
   "source": [
    "wb_unif.summary()"
   ]
  },
  {
   "cell_type": "code",
   "execution_count": 18,
   "metadata": {},
   "outputs": [
    {
     "name": "stdout",
     "output_type": "stream",
     "text": [
      "+---------------------------------------------------------------------------------------------------------------------+\n",
      "|     Wild Bootstrap with Standard Normal results with 10000 obs and 1000 BS reps using HC3 SE-s and 95.00% BC CI     |\n",
      "+--------------+------------+---------------+--------+---------------+--------------+--------------+------------------+\n",
      "|     Var      | OLS Params | Avg BS Params |  Bias  | OLS Params SE | BS Params SE | % of SE Diff |        CI        |\n",
      "+--------------+------------+---------------+--------+---------------+--------------+--------------+------------------+\n",
      "|    const     |   6.2070   |     6.2063    | 0.0007 |     0.0454    |    0.0358    |    21.13     | [6.1328, 6.2748] |\n",
      "+--------------+------------+---------------+--------+---------------+--------------+--------------+------------------+\n",
      "| tanass_clean |   0.1693   |     0.1693    | 0.0000 |     0.0050    |    0.0040    |    20.59     | [0.1617, 0.1771] |\n",
      "+--------------+------------+---------------+--------+---------------+--------------+--------------+------------------+\n",
      "|     tax      |   0.5293   |     0.5293    | 0.0000 |     0.0091    |    0.0065    |    28.92     | [0.5174, 0.5427] |\n",
      "+--------------+------------+---------------+--------+---------------+--------------+--------------+------------------+\n"
     ]
    }
   ],
   "source": [
    "wb_stdn.summary()"
   ]
  },
  {
   "cell_type": "code",
   "execution_count": 19,
   "metadata": {},
   "outputs": [
    {
     "name": "stdout",
     "output_type": "stream",
     "text": [
      "+---------------------------------------------------------------------------------------------------------------------+\n",
      "|        Wild Bootstrap with Rademacher results with 10000 obs and 1000 BS reps using HC3 SE-s and 95.00% BC CI       |\n",
      "+--------------+------------+---------------+--------+---------------+--------------+--------------+------------------+\n",
      "|     Var      | OLS Params | Avg BS Params |  Bias  | OLS Params SE | BS Params SE | % of SE Diff |        CI        |\n",
      "+--------------+------------+---------------+--------+---------------+--------------+--------------+------------------+\n",
      "|    const     |   6.2070   |     6.2061    | 0.0008 |     0.0454    |    0.0345    |    23.98     | [6.1416, 6.2784] |\n",
      "+--------------+------------+---------------+--------+---------------+--------------+--------------+------------------+\n",
      "| tanass_clean |   0.1693   |     0.1693    | 0.0001 |     0.0050    |    0.0039    |    22.74     | [0.1616, 0.1766] |\n",
      "+--------------+------------+---------------+--------+---------------+--------------+--------------+------------------+\n",
      "|     tax      |   0.5293   |     0.5293    | 0.0000 |     0.0091    |    0.0065    |    28.14     | [0.5161, 0.5421] |\n",
      "+--------------+------------+---------------+--------+---------------+--------------+--------------+------------------+\n"
     ]
    }
   ],
   "source": [
    "wb_rad.summary()"
   ]
  },
  {
   "cell_type": "code",
   "execution_count": 20,
   "metadata": {},
   "outputs": [
    {
     "name": "stdout",
     "output_type": "stream",
     "text": [
      "+---------------------------------------------------------------------------------------------------------------------+\n",
      "|          Wild Bootstrap with Webb4 results with 10000 obs and 1000 BS reps using HC3 SE-s and 95.00% BC CI          |\n",
      "+--------------+------------+---------------+--------+---------------+--------------+--------------+------------------+\n",
      "|     Var      | OLS Params | Avg BS Params |  Bias  | OLS Params SE | BS Params SE | % of SE Diff |        CI        |\n",
      "+--------------+------------+---------------+--------+---------------+--------------+--------------+------------------+\n",
      "|    const     |   6.2070   |     6.2077    | 0.0007 |     0.0454    |    0.0346    |    23.65     | [6.1365, 6.2756] |\n",
      "+--------------+------------+---------------+--------+---------------+--------------+--------------+------------------+\n",
      "| tanass_clean |   0.1693   |     0.1692    | 0.0001 |     0.0050    |    0.0039    |    21.56     | [0.1618, 0.1776] |\n",
      "+--------------+------------+---------------+--------+---------------+--------------+--------------+------------------+\n",
      "|     tax      |   0.5293   |     0.5293    | 0.0000 |     0.0091    |    0.0064    |    29.19     | [0.5162, 0.5421] |\n",
      "+--------------+------------+---------------+--------+---------------+--------------+--------------+------------------+\n"
     ]
    }
   ],
   "source": [
    "wb_webb4.summary()"
   ]
  },
  {
   "cell_type": "code",
   "execution_count": 21,
   "metadata": {},
   "outputs": [
    {
     "name": "stdout",
     "output_type": "stream",
     "text": [
      "+---------------------------------------------------------------------------------------------------------------------+\n",
      "|          Wild Bootstrap with Webb6 results with 10000 obs and 1000 BS reps using HC3 SE-s and 95.00% BC CI          |\n",
      "+--------------+------------+---------------+--------+---------------+--------------+--------------+------------------+\n",
      "|     Var      | OLS Params | Avg BS Params |  Bias  | OLS Params SE | BS Params SE | % of SE Diff |        CI        |\n",
      "+--------------+------------+---------------+--------+---------------+--------------+--------------+------------------+\n",
      "|    const     |   6.2070   |     6.2076    | 0.0007 |     0.0454    |    0.0347    |    23.60     | [6.1386, 6.2751] |\n",
      "+--------------+------------+---------------+--------+---------------+--------------+--------------+------------------+\n",
      "| tanass_clean |   0.1693   |     0.1693    | 0.0000 |     0.0050    |    0.0039    |    21.92     | [0.1618, 0.1773] |\n",
      "+--------------+------------+---------------+--------+---------------+--------------+--------------+------------------+\n",
      "|     tax      |   0.5293   |     0.5293    | 0.0000 |     0.0091    |    0.0065    |    28.88     | [0.5165, 0.5423] |\n",
      "+--------------+------------+---------------+--------+---------------+--------------+--------------+------------------+\n"
     ]
    }
   ],
   "source": [
    "wb_webb6.summary()"
   ]
  },
  {
   "cell_type": "code",
   "execution_count": 22,
   "metadata": {},
   "outputs": [
    {
     "name": "stdout",
     "output_type": "stream",
     "text": [
      "+---------------------------------------------------------------------------------------------------------------------+\n",
      "|       Wild Bootstrap with Mammen Cont results with 10000 obs and 1000 BS reps using HC3 SE-s and 95.00% BC CI       |\n",
      "+--------------+------------+---------------+--------+---------------+--------------+--------------+------------------+\n",
      "|     Var      | OLS Params | Avg BS Params |  Bias  | OLS Params SE | BS Params SE | % of SE Diff |        CI        |\n",
      "+--------------+------------+---------------+--------+---------------+--------------+--------------+------------------+\n",
      "|    const     |   6.2070   |     6.2065    | 0.0005 |     0.0454    |    0.0357    |    21.43     | [6.1414, 6.2805] |\n",
      "+--------------+------------+---------------+--------+---------------+--------------+--------------+------------------+\n",
      "| tanass_clean |   0.1693   |     0.1694    | 0.0001 |     0.0050    |    0.0040    |    20.39     | [0.1611, 0.1768] |\n",
      "+--------------+------------+---------------+--------+---------------+--------------+--------------+------------------+\n",
      "|     tax      |   0.5293   |     0.5293    | 0.0000 |     0.0091    |    0.0065    |    28.14     | [0.5166, 0.5421] |\n",
      "+--------------+------------+---------------+--------+---------------+--------------+--------------+------------------+\n"
     ]
    }
   ],
   "source": [
    "wb_cont_mam.summary()"
   ]
  },
  {
   "cell_type": "code",
   "execution_count": 23,
   "metadata": {},
   "outputs": [
    {
     "name": "stdout",
     "output_type": "stream",
     "text": [
      "+---------------------------------------------------------------------------------------------------------------------+\n",
      "|          Wild Bootstrap with Mammen results with 10000 obs and 1000 BS reps using HC3 SE-s and 95.00% BC CI         |\n",
      "+--------------+------------+---------------+--------+---------------+--------------+--------------+------------------+\n",
      "|     Var      | OLS Params | Avg BS Params |  Bias  | OLS Params SE | BS Params SE | % of SE Diff |        CI        |\n",
      "+--------------+------------+---------------+--------+---------------+--------------+--------------+------------------+\n",
      "|    const     |   6.2070   |     6.2074    | 0.0005 |     0.0454    |    0.0356    |    21.61     | [6.1341, 6.2722] |\n",
      "+--------------+------------+---------------+--------+---------------+--------------+--------------+------------------+\n",
      "| tanass_clean |   0.1693   |     0.1692    | 0.0001 |     0.0050    |    0.0040    |    19.52     | [0.1616, 0.1773] |\n",
      "+--------------+------------+---------------+--------+---------------+--------------+--------------+------------------+\n",
      "|     tax      |   0.5293   |     0.5293    | 0.0001 |     0.0091    |    0.0066    |    27.93     | [0.5160, 0.5422] |\n",
      "+--------------+------------+---------------+--------+---------------+--------------+--------------+------------------+\n"
     ]
    }
   ],
   "source": [
    "wb_mam.summary()"
   ]
  },
  {
   "cell_type": "markdown",
   "metadata": {},
   "source": [
    "Same output for wb_mam_np as in the case for wb_mam, but the difference is the independent variables' name. wb_mam was constructed with pd.DataFrame the input which holds information about the column name. \n",
    "When it comes to wb_mam_np, it was constructed with np.ndarray as the input which DOES NOT hold info about the column name originally. Because of this, x1, x2, ...., xn were generated as alternative independent variable names. "
   ]
  },
  {
   "cell_type": "code",
   "execution_count": 24,
   "metadata": {},
   "outputs": [
    {
     "name": "stdout",
     "output_type": "stream",
     "text": [
      "+--------------------------------------------------------------------------------------------------------------+\n",
      "|      Wild Bootstrap with Mammen results with 10000 obs and 1000 BS reps using HC3 SE-s and 95.00% BC CI      |\n",
      "+-------+------------+---------------+--------+---------------+--------------+--------------+------------------+\n",
      "|  Var  | OLS Params | Avg BS Params |  Bias  | OLS Params SE | BS Params SE | % of SE Diff |        CI        |\n",
      "+-------+------------+---------------+--------+---------------+--------------+--------------+------------------+\n",
      "| const |   6.2070   |     6.2074    | 0.0005 |     0.0454    |    0.0356    |    21.61     | [6.1341, 6.2722] |\n",
      "+-------+------------+---------------+--------+---------------+--------------+--------------+------------------+\n",
      "|   x1  |   0.1693   |     0.1692    | 0.0001 |     0.0050    |    0.0040    |    19.52     | [0.1616, 0.1773] |\n",
      "+-------+------------+---------------+--------+---------------+--------------+--------------+------------------+\n",
      "|   x2  |   0.5293   |     0.5293    | 0.0001 |     0.0091    |    0.0066    |    27.93     | [0.5160, 0.5422] |\n",
      "+-------+------------+---------------+--------+---------------+--------------+--------------+------------------+\n"
     ]
    }
   ],
   "source": [
    "wb_mam_np.summary()"
   ]
  },
  {
   "cell_type": "markdown",
   "metadata": {},
   "source": [
    "## Some useful methods were implemented (let's use it on wb_mam object of Wild Bootstrap with Mammen)\n",
    "\n",
    "- The common in the following three methods is that either a string (if one wishes to capture one variable or ci) or 1-D like array can be provided to 'which_var' and/or 'which_ci' (the latter if exists in that object class)."
   ]
  },
  {
   "cell_type": "markdown",
   "metadata": {},
   "source": [
    "### get_ci() method"
   ]
  },
  {
   "cell_type": "markdown",
   "metadata": {},
   "source": [
    "#### Vanila version is when only the actual CI was used with all independent variables"
   ]
  },
  {
   "cell_type": "code",
   "execution_count": 25,
   "metadata": {},
   "outputs": [
    {
     "data": {
      "text/html": [
       "<div>\n",
       "<style scoped>\n",
       "    .dataframe tbody tr th:only-of-type {\n",
       "        vertical-align: middle;\n",
       "    }\n",
       "\n",
       "    .dataframe tbody tr th {\n",
       "        vertical-align: top;\n",
       "    }\n",
       "\n",
       "    .dataframe thead tr th {\n",
       "        text-align: left;\n",
       "    }\n",
       "</style>\n",
       "<table border=\"1\" class=\"dataframe\">\n",
       "  <thead>\n",
       "    <tr>\n",
       "      <th></th>\n",
       "      <th colspan=\"2\" halign=\"left\">bc</th>\n",
       "    </tr>\n",
       "    <tr>\n",
       "      <th></th>\n",
       "      <th>lwb</th>\n",
       "      <th>upb</th>\n",
       "    </tr>\n",
       "  </thead>\n",
       "  <tbody>\n",
       "    <tr>\n",
       "      <th>const</th>\n",
       "      <td>6.13409</td>\n",
       "      <td>6.27220</td>\n",
       "    </tr>\n",
       "    <tr>\n",
       "      <th>tanass_clean</th>\n",
       "      <td>0.16162</td>\n",
       "      <td>0.17733</td>\n",
       "    </tr>\n",
       "    <tr>\n",
       "      <th>tax</th>\n",
       "      <td>0.51603</td>\n",
       "      <td>0.54219</td>\n",
       "    </tr>\n",
       "  </tbody>\n",
       "</table>\n",
       "</div>"
      ],
      "text/plain": [
       "                               bc                     \n",
       "                              lwb                  upb\n",
       "const                     6.13409              6.27220\n",
       "tanass_clean              0.16162              0.17733\n",
       "tax                       0.51603              0.54219"
      ]
     },
     "execution_count": 25,
     "metadata": {},
     "output_type": "execute_result"
    }
   ],
   "source": [
    "wb_mam.get_ci()"
   ]
  },
  {
   "cell_type": "markdown",
   "metadata": {},
   "source": [
    "#### However, any combination of ('bc', 'bca', 'percentile) CI types could be selected and any combinations of independent variables can be chosen with 'which_ci' and 'which_var' optional arguments, respectively.\n",
    "\n",
    "Please note that if choosing 'bca' the calculation can take a while as it uses jacknife resampling for calculating the acceleration factor"
   ]
  },
  {
   "cell_type": "code",
   "execution_count": 26,
   "metadata": {},
   "outputs": [
    {
     "data": {
      "text/html": [
       "<div>\n",
       "<style scoped>\n",
       "    .dataframe tbody tr th:only-of-type {\n",
       "        vertical-align: middle;\n",
       "    }\n",
       "\n",
       "    .dataframe tbody tr th {\n",
       "        vertical-align: top;\n",
       "    }\n",
       "\n",
       "    .dataframe thead tr th {\n",
       "        text-align: left;\n",
       "    }\n",
       "</style>\n",
       "<table border=\"1\" class=\"dataframe\">\n",
       "  <thead>\n",
       "    <tr>\n",
       "      <th></th>\n",
       "      <th colspan=\"2\" halign=\"left\">bc</th>\n",
       "      <th colspan=\"2\" halign=\"left\">bca</th>\n",
       "      <th colspan=\"2\" halign=\"left\">percentile</th>\n",
       "    </tr>\n",
       "    <tr>\n",
       "      <th></th>\n",
       "      <th>lwb</th>\n",
       "      <th>upb</th>\n",
       "      <th>lwb</th>\n",
       "      <th>upb</th>\n",
       "      <th>lwb</th>\n",
       "      <th>upb</th>\n",
       "    </tr>\n",
       "  </thead>\n",
       "  <tbody>\n",
       "    <tr>\n",
       "      <th>const</th>\n",
       "      <td>6.13409</td>\n",
       "      <td>6.27220</td>\n",
       "      <td>6.13412</td>\n",
       "      <td>6.27221</td>\n",
       "      <td>6.13621</td>\n",
       "      <td>6.27331</td>\n",
       "    </tr>\n",
       "    <tr>\n",
       "      <th>tanass_clean</th>\n",
       "      <td>0.16162</td>\n",
       "      <td>0.17733</td>\n",
       "      <td>0.16170</td>\n",
       "      <td>0.17734</td>\n",
       "      <td>0.16156</td>\n",
       "      <td>0.17723</td>\n",
       "    </tr>\n",
       "    <tr>\n",
       "      <th>tax</th>\n",
       "      <td>0.51603</td>\n",
       "      <td>0.54219</td>\n",
       "      <td>0.51587</td>\n",
       "      <td>0.54214</td>\n",
       "      <td>0.51649</td>\n",
       "      <td>0.54232</td>\n",
       "    </tr>\n",
       "  </tbody>\n",
       "</table>\n",
       "</div>"
      ],
      "text/plain": [
       "                               bc                                       bca  \\\n",
       "                              lwb                  upb                  lwb   \n",
       "const                     6.13409              6.27220              6.13412   \n",
       "tanass_clean              0.16162              0.17733              0.16170   \n",
       "tax                       0.51603              0.54219              0.51587   \n",
       "\n",
       "                                            percentile                       \n",
       "                              upb                  lwb                  upb  \n",
       "const                     6.27221              6.13621              6.27331  \n",
       "tanass_clean              0.17734              0.16156              0.17723  \n",
       "tax                       0.54214              0.51649              0.54232  "
      ]
     },
     "execution_count": 26,
     "metadata": {},
     "output_type": "execute_result"
    }
   ],
   "source": [
    "wb_mam.get_ci(which_ci='all', which_var='all')"
   ]
  },
  {
   "cell_type": "code",
   "execution_count": 27,
   "metadata": {},
   "outputs": [
    {
     "data": {
      "text/html": [
       "<div>\n",
       "<style scoped>\n",
       "    .dataframe tbody tr th:only-of-type {\n",
       "        vertical-align: middle;\n",
       "    }\n",
       "\n",
       "    .dataframe tbody tr th {\n",
       "        vertical-align: top;\n",
       "    }\n",
       "\n",
       "    .dataframe thead tr th {\n",
       "        text-align: left;\n",
       "    }\n",
       "</style>\n",
       "<table border=\"1\" class=\"dataframe\">\n",
       "  <thead>\n",
       "    <tr>\n",
       "      <th></th>\n",
       "      <th colspan=\"2\" halign=\"left\">bc</th>\n",
       "      <th colspan=\"2\" halign=\"left\">percentile</th>\n",
       "    </tr>\n",
       "    <tr>\n",
       "      <th></th>\n",
       "      <th>lwb</th>\n",
       "      <th>upb</th>\n",
       "      <th>lwb</th>\n",
       "      <th>upb</th>\n",
       "    </tr>\n",
       "  </thead>\n",
       "  <tbody>\n",
       "    <tr>\n",
       "      <th>tax</th>\n",
       "      <td>0.51603</td>\n",
       "      <td>0.54219</td>\n",
       "      <td>0.51649</td>\n",
       "      <td>0.54232</td>\n",
       "    </tr>\n",
       "    <tr>\n",
       "      <th>const</th>\n",
       "      <td>6.13409</td>\n",
       "      <td>6.27220</td>\n",
       "      <td>6.13621</td>\n",
       "      <td>6.27331</td>\n",
       "    </tr>\n",
       "  </tbody>\n",
       "</table>\n",
       "</div>"
      ],
      "text/plain": [
       "                        bc                                percentile  \\\n",
       "                       lwb                  upb                  lwb   \n",
       "tax                0.51603              0.54219              0.51649   \n",
       "const              6.13409              6.27220              6.13621   \n",
       "\n",
       "                            \n",
       "                       upb  \n",
       "tax                0.54232  \n",
       "const              6.27331  "
      ]
     },
     "execution_count": 27,
     "metadata": {},
     "output_type": "execute_result"
    }
   ],
   "source": [
    "wb_mam.get_ci(which_ci=['bc', 'percentile'], which_var=['tax', 'const'])"
   ]
  },
  {
   "cell_type": "code",
   "execution_count": 28,
   "metadata": {},
   "outputs": [
    {
     "data": {
      "text/html": [
       "<div>\n",
       "<style scoped>\n",
       "    .dataframe tbody tr th:only-of-type {\n",
       "        vertical-align: middle;\n",
       "    }\n",
       "\n",
       "    .dataframe tbody tr th {\n",
       "        vertical-align: top;\n",
       "    }\n",
       "\n",
       "    .dataframe thead tr th {\n",
       "        text-align: left;\n",
       "    }\n",
       "</style>\n",
       "<table border=\"1\" class=\"dataframe\">\n",
       "  <thead>\n",
       "    <tr>\n",
       "      <th></th>\n",
       "      <th colspan=\"2\" halign=\"left\">bc</th>\n",
       "      <th colspan=\"2\" halign=\"left\">bca</th>\n",
       "    </tr>\n",
       "    <tr>\n",
       "      <th></th>\n",
       "      <th>lwb</th>\n",
       "      <th>upb</th>\n",
       "      <th>lwb</th>\n",
       "      <th>upb</th>\n",
       "    </tr>\n",
       "  </thead>\n",
       "  <tbody>\n",
       "    <tr>\n",
       "      <th>tanass_clean</th>\n",
       "      <td>0.16162</td>\n",
       "      <td>0.17733</td>\n",
       "      <td>0.16170</td>\n",
       "      <td>0.17734</td>\n",
       "    </tr>\n",
       "  </tbody>\n",
       "</table>\n",
       "</div>"
      ],
      "text/plain": [
       "                               bc                                       bca  \\\n",
       "                              lwb                  upb                  lwb   \n",
       "tanass_clean              0.16162              0.17733              0.16170   \n",
       "\n",
       "                                   \n",
       "                              upb  \n",
       "tanass_clean              0.17734  "
      ]
     },
     "execution_count": 28,
     "metadata": {},
     "output_type": "execute_result"
    }
   ],
   "source": [
    "wb_mam.get_ci(which_ci=['bca', 'bc'], which_var='tanass_clean')"
   ]
  },
  {
   "cell_type": "code",
   "execution_count": 29,
   "metadata": {},
   "outputs": [
    {
     "data": {
      "text/html": [
       "<div>\n",
       "<style scoped>\n",
       "    .dataframe tbody tr th:only-of-type {\n",
       "        vertical-align: middle;\n",
       "    }\n",
       "\n",
       "    .dataframe tbody tr th {\n",
       "        vertical-align: top;\n",
       "    }\n",
       "\n",
       "    .dataframe thead tr th {\n",
       "        text-align: left;\n",
       "    }\n",
       "</style>\n",
       "<table border=\"1\" class=\"dataframe\">\n",
       "  <thead>\n",
       "    <tr>\n",
       "      <th></th>\n",
       "      <th colspan=\"2\" halign=\"left\">bc</th>\n",
       "    </tr>\n",
       "    <tr>\n",
       "      <th></th>\n",
       "      <th>lwb</th>\n",
       "      <th>upb</th>\n",
       "    </tr>\n",
       "  </thead>\n",
       "  <tbody>\n",
       "    <tr>\n",
       "      <th>tanass_clean</th>\n",
       "      <td>0.16162</td>\n",
       "      <td>0.17733</td>\n",
       "    </tr>\n",
       "  </tbody>\n",
       "</table>\n",
       "</div>"
      ],
      "text/plain": [
       "                               bc                     \n",
       "                              lwb                  upb\n",
       "tanass_clean              0.16162              0.17733"
      ]
     },
     "execution_count": 29,
     "metadata": {},
     "output_type": "execute_result"
    }
   ],
   "source": [
    "wb_mam.get_ci(which_ci='bc', which_var='tanass_clean')"
   ]
  },
  {
   "cell_type": "markdown",
   "metadata": {},
   "source": [
    "### get_all_se() method\n",
    "\n",
    "The following SE-s are calculated: \n",
    "- bootstrapped - standard error of the bootstrapped parameters\n",
    "- constant - model-based OLS Standard Errors, that is, constant variance is assumed \n",
    "- HC0, HC1, HC2, HC3, HC4, HC4m, HC5 - Heteroskedasticity-Consistent Standard Errors (HCE) using sandwich estimators "
   ]
  },
  {
   "cell_type": "markdown",
   "metadata": {},
   "source": [
    "#### Vanila version is when using all indepencdent variables. "
   ]
  },
  {
   "cell_type": "code",
   "execution_count": 30,
   "metadata": {},
   "outputs": [
    {
     "data": {
      "text/html": [
       "<div>\n",
       "<style scoped>\n",
       "    .dataframe tbody tr th:only-of-type {\n",
       "        vertical-align: middle;\n",
       "    }\n",
       "\n",
       "    .dataframe tbody tr th {\n",
       "        vertical-align: top;\n",
       "    }\n",
       "\n",
       "    .dataframe thead th {\n",
       "        text-align: right;\n",
       "    }\n",
       "</style>\n",
       "<table border=\"1\" class=\"dataframe\">\n",
       "  <thead>\n",
       "    <tr style=\"text-align: right;\">\n",
       "      <th></th>\n",
       "      <th>constant</th>\n",
       "      <th>hc0</th>\n",
       "      <th>hc1</th>\n",
       "      <th>hc2</th>\n",
       "      <th>hc3</th>\n",
       "      <th>hc4</th>\n",
       "      <th>hc4m</th>\n",
       "      <th>hc5</th>\n",
       "      <th>bootstrapped</th>\n",
       "    </tr>\n",
       "  </thead>\n",
       "  <tbody>\n",
       "    <tr>\n",
       "      <th>const</th>\n",
       "      <td>0.03532</td>\n",
       "      <td>0.04536</td>\n",
       "      <td>0.04536</td>\n",
       "      <td>0.04537</td>\n",
       "      <td>0.04538</td>\n",
       "      <td>0.04538</td>\n",
       "      <td>0.04538</td>\n",
       "      <td>0.04538</td>\n",
       "      <td>0.03557</td>\n",
       "    </tr>\n",
       "    <tr>\n",
       "      <th>tanass_clean</th>\n",
       "      <td>0.00391</td>\n",
       "      <td>0.00499</td>\n",
       "      <td>0.00499</td>\n",
       "      <td>0.00499</td>\n",
       "      <td>0.00499</td>\n",
       "      <td>0.00499</td>\n",
       "      <td>0.00499</td>\n",
       "      <td>0.00499</td>\n",
       "      <td>0.00402</td>\n",
       "    </tr>\n",
       "    <tr>\n",
       "      <th>tax</th>\n",
       "      <td>0.00657</td>\n",
       "      <td>0.00910</td>\n",
       "      <td>0.00910</td>\n",
       "      <td>0.00911</td>\n",
       "      <td>0.00911</td>\n",
       "      <td>0.00911</td>\n",
       "      <td>0.00911</td>\n",
       "      <td>0.00911</td>\n",
       "      <td>0.00657</td>\n",
       "    </tr>\n",
       "  </tbody>\n",
       "</table>\n",
       "</div>"
      ],
      "text/plain": [
       "                         constant                  hc0                  hc1  \\\n",
       "const                     0.03532              0.04536              0.04536   \n",
       "tanass_clean              0.00391              0.00499              0.00499   \n",
       "tax                       0.00657              0.00910              0.00910   \n",
       "\n",
       "                              hc2                  hc3                  hc4  \\\n",
       "const                     0.04537              0.04538              0.04538   \n",
       "tanass_clean              0.00499              0.00499              0.00499   \n",
       "tax                       0.00911              0.00911              0.00911   \n",
       "\n",
       "                             hc4m                  hc5         bootstrapped  \n",
       "const                     0.04538              0.04538              0.03557  \n",
       "tanass_clean              0.00499              0.00499              0.00402  \n",
       "tax                       0.00911              0.00911              0.00657  "
      ]
     },
     "execution_count": 30,
     "metadata": {},
     "output_type": "execute_result"
    }
   ],
   "source": [
    "wb_mam.get_all_se()"
   ]
  },
  {
   "cell_type": "markdown",
   "metadata": {},
   "source": [
    "#### A subset of indepent variables can be chosen with 'which_var' argument to calculate the above-mentioned 9 SE-s"
   ]
  },
  {
   "cell_type": "code",
   "execution_count": 31,
   "metadata": {},
   "outputs": [
    {
     "data": {
      "text/html": [
       "<div>\n",
       "<style scoped>\n",
       "    .dataframe tbody tr th:only-of-type {\n",
       "        vertical-align: middle;\n",
       "    }\n",
       "\n",
       "    .dataframe tbody tr th {\n",
       "        vertical-align: top;\n",
       "    }\n",
       "\n",
       "    .dataframe thead th {\n",
       "        text-align: right;\n",
       "    }\n",
       "</style>\n",
       "<table border=\"1\" class=\"dataframe\">\n",
       "  <thead>\n",
       "    <tr style=\"text-align: right;\">\n",
       "      <th></th>\n",
       "      <th>constant</th>\n",
       "      <th>hc0</th>\n",
       "      <th>hc1</th>\n",
       "      <th>hc2</th>\n",
       "      <th>hc3</th>\n",
       "      <th>hc4</th>\n",
       "      <th>hc4m</th>\n",
       "      <th>hc5</th>\n",
       "      <th>bootstrapped</th>\n",
       "    </tr>\n",
       "  </thead>\n",
       "  <tbody>\n",
       "    <tr>\n",
       "      <th>tanass_clean</th>\n",
       "      <td>0.00391</td>\n",
       "      <td>0.00499</td>\n",
       "      <td>0.00499</td>\n",
       "      <td>0.00499</td>\n",
       "      <td>0.00499</td>\n",
       "      <td>0.00499</td>\n",
       "      <td>0.00499</td>\n",
       "      <td>0.00499</td>\n",
       "      <td>0.00402</td>\n",
       "    </tr>\n",
       "    <tr>\n",
       "      <th>tax</th>\n",
       "      <td>0.00657</td>\n",
       "      <td>0.00910</td>\n",
       "      <td>0.00910</td>\n",
       "      <td>0.00911</td>\n",
       "      <td>0.00911</td>\n",
       "      <td>0.00911</td>\n",
       "      <td>0.00911</td>\n",
       "      <td>0.00911</td>\n",
       "      <td>0.00657</td>\n",
       "    </tr>\n",
       "  </tbody>\n",
       "</table>\n",
       "</div>"
      ],
      "text/plain": [
       "                         constant                  hc0                  hc1  \\\n",
       "tanass_clean              0.00391              0.00499              0.00499   \n",
       "tax                       0.00657              0.00910              0.00910   \n",
       "\n",
       "                              hc2                  hc3                  hc4  \\\n",
       "tanass_clean              0.00499              0.00499              0.00499   \n",
       "tax                       0.00911              0.00911              0.00911   \n",
       "\n",
       "                             hc4m                  hc5         bootstrapped  \n",
       "tanass_clean              0.00499              0.00499              0.00402  \n",
       "tax                       0.00911              0.00911              0.00657  "
      ]
     },
     "execution_count": 31,
     "metadata": {},
     "output_type": "execute_result"
    }
   ],
   "source": [
    "wb_mam.get_all_se(which_var=['tanass_clean', 'tax'])"
   ]
  },
  {
   "cell_type": "code",
   "execution_count": 32,
   "metadata": {},
   "outputs": [
    {
     "data": {
      "text/html": [
       "<div>\n",
       "<style scoped>\n",
       "    .dataframe tbody tr th:only-of-type {\n",
       "        vertical-align: middle;\n",
       "    }\n",
       "\n",
       "    .dataframe tbody tr th {\n",
       "        vertical-align: top;\n",
       "    }\n",
       "\n",
       "    .dataframe thead th {\n",
       "        text-align: right;\n",
       "    }\n",
       "</style>\n",
       "<table border=\"1\" class=\"dataframe\">\n",
       "  <thead>\n",
       "    <tr style=\"text-align: right;\">\n",
       "      <th></th>\n",
       "      <th>constant</th>\n",
       "      <th>hc0</th>\n",
       "      <th>hc1</th>\n",
       "      <th>hc2</th>\n",
       "      <th>hc3</th>\n",
       "      <th>hc4</th>\n",
       "      <th>hc4m</th>\n",
       "      <th>hc5</th>\n",
       "      <th>bootstrapped</th>\n",
       "    </tr>\n",
       "  </thead>\n",
       "  <tbody>\n",
       "    <tr>\n",
       "      <th>tax</th>\n",
       "      <td>0.00657</td>\n",
       "      <td>0.00910</td>\n",
       "      <td>0.00910</td>\n",
       "      <td>0.00911</td>\n",
       "      <td>0.00911</td>\n",
       "      <td>0.00911</td>\n",
       "      <td>0.00911</td>\n",
       "      <td>0.00911</td>\n",
       "      <td>0.00657</td>\n",
       "    </tr>\n",
       "  </tbody>\n",
       "</table>\n",
       "</div>"
      ],
      "text/plain": [
       "                constant                  hc0                  hc1  \\\n",
       "tax              0.00657              0.00910              0.00910   \n",
       "\n",
       "                     hc2                  hc3                  hc4  \\\n",
       "tax              0.00911              0.00911              0.00911   \n",
       "\n",
       "                    hc4m                  hc5         bootstrapped  \n",
       "tax              0.00911              0.00911              0.00657  "
      ]
     },
     "execution_count": 32,
     "metadata": {},
     "output_type": "execute_result"
    }
   ],
   "source": [
    "wb_mam.get_all_se(which_var='tax')"
   ]
  },
  {
   "cell_type": "markdown",
   "metadata": {},
   "source": [
    "### get_bootstrap_params() method"
   ]
  },
  {
   "cell_type": "markdown",
   "metadata": {},
   "source": [
    "#### Vanila version: Returning a dataframe capturing the parameter estimate of ALL each independent variables in each (wild) bootstrap."
   ]
  },
  {
   "cell_type": "code",
   "execution_count": 33,
   "metadata": {},
   "outputs": [
    {
     "data": {
      "text/html": [
       "<div>\n",
       "<style scoped>\n",
       "    .dataframe tbody tr th:only-of-type {\n",
       "        vertical-align: middle;\n",
       "    }\n",
       "\n",
       "    .dataframe tbody tr th {\n",
       "        vertical-align: top;\n",
       "    }\n",
       "\n",
       "    .dataframe thead th {\n",
       "        text-align: right;\n",
       "    }\n",
       "</style>\n",
       "<table border=\"1\" class=\"dataframe\">\n",
       "  <thead>\n",
       "    <tr style=\"text-align: right;\">\n",
       "      <th></th>\n",
       "      <th>const</th>\n",
       "      <th>tanass_clean</th>\n",
       "      <th>tax</th>\n",
       "    </tr>\n",
       "  </thead>\n",
       "  <tbody>\n",
       "    <tr>\n",
       "      <th>0</th>\n",
       "      <td>6.11794</td>\n",
       "      <td>0.17610</td>\n",
       "      <td>0.53383</td>\n",
       "    </tr>\n",
       "    <tr>\n",
       "      <th>1</th>\n",
       "      <td>6.21305</td>\n",
       "      <td>0.16659</td>\n",
       "      <td>0.53469</td>\n",
       "    </tr>\n",
       "    <tr>\n",
       "      <th>2</th>\n",
       "      <td>6.23408</td>\n",
       "      <td>0.16652</td>\n",
       "      <td>0.53049</td>\n",
       "    </tr>\n",
       "    <tr>\n",
       "      <th>3</th>\n",
       "      <td>6.21177</td>\n",
       "      <td>0.16390</td>\n",
       "      <td>0.53824</td>\n",
       "    </tr>\n",
       "    <tr>\n",
       "      <th>4</th>\n",
       "      <td>6.24215</td>\n",
       "      <td>0.16528</td>\n",
       "      <td>0.52969</td>\n",
       "    </tr>\n",
       "    <tr>\n",
       "      <th>...</th>\n",
       "      <td>...</td>\n",
       "      <td>...</td>\n",
       "      <td>...</td>\n",
       "    </tr>\n",
       "    <tr>\n",
       "      <th>995</th>\n",
       "      <td>6.23701</td>\n",
       "      <td>0.17162</td>\n",
       "      <td>0.51927</td>\n",
       "    </tr>\n",
       "    <tr>\n",
       "      <th>996</th>\n",
       "      <td>6.20005</td>\n",
       "      <td>0.17196</td>\n",
       "      <td>0.53056</td>\n",
       "    </tr>\n",
       "    <tr>\n",
       "      <th>997</th>\n",
       "      <td>6.21973</td>\n",
       "      <td>0.16943</td>\n",
       "      <td>0.53008</td>\n",
       "    </tr>\n",
       "    <tr>\n",
       "      <th>998</th>\n",
       "      <td>6.17875</td>\n",
       "      <td>0.16621</td>\n",
       "      <td>0.53192</td>\n",
       "    </tr>\n",
       "    <tr>\n",
       "      <th>999</th>\n",
       "      <td>6.26230</td>\n",
       "      <td>0.17269</td>\n",
       "      <td>0.51534</td>\n",
       "    </tr>\n",
       "  </tbody>\n",
       "</table>\n",
       "<p>1000 rows × 3 columns</p>\n",
       "</div>"
      ],
      "text/plain": [
       "                   const         tanass_clean                  tax\n",
       "0                6.11794              0.17610              0.53383\n",
       "1                6.21305              0.16659              0.53469\n",
       "2                6.23408              0.16652              0.53049\n",
       "3                6.21177              0.16390              0.53824\n",
       "4                6.24215              0.16528              0.52969\n",
       "..                   ...                  ...                  ...\n",
       "995              6.23701              0.17162              0.51927\n",
       "996              6.20005              0.17196              0.53056\n",
       "997              6.21973              0.16943              0.53008\n",
       "998              6.17875              0.16621              0.53192\n",
       "999              6.26230              0.17269              0.51534\n",
       "\n",
       "[1000 rows x 3 columns]"
      ]
     },
     "execution_count": 33,
     "metadata": {},
     "output_type": "execute_result"
    }
   ],
   "source": [
    "wb_mam.get_bootstrap_params()"
   ]
  },
  {
   "cell_type": "markdown",
   "metadata": {},
   "source": [
    "#### As usual, the desired independent variable can be chosen with 'which_var' argument"
   ]
  },
  {
   "cell_type": "code",
   "execution_count": 34,
   "metadata": {},
   "outputs": [
    {
     "data": {
      "text/html": [
       "<div>\n",
       "<style scoped>\n",
       "    .dataframe tbody tr th:only-of-type {\n",
       "        vertical-align: middle;\n",
       "    }\n",
       "\n",
       "    .dataframe tbody tr th {\n",
       "        vertical-align: top;\n",
       "    }\n",
       "\n",
       "    .dataframe thead th {\n",
       "        text-align: right;\n",
       "    }\n",
       "</style>\n",
       "<table border=\"1\" class=\"dataframe\">\n",
       "  <thead>\n",
       "    <tr style=\"text-align: right;\">\n",
       "      <th></th>\n",
       "      <th>tax</th>\n",
       "    </tr>\n",
       "  </thead>\n",
       "  <tbody>\n",
       "    <tr>\n",
       "      <th>0</th>\n",
       "      <td>0.53383</td>\n",
       "    </tr>\n",
       "    <tr>\n",
       "      <th>1</th>\n",
       "      <td>0.53469</td>\n",
       "    </tr>\n",
       "    <tr>\n",
       "      <th>2</th>\n",
       "      <td>0.53049</td>\n",
       "    </tr>\n",
       "    <tr>\n",
       "      <th>3</th>\n",
       "      <td>0.53824</td>\n",
       "    </tr>\n",
       "    <tr>\n",
       "      <th>4</th>\n",
       "      <td>0.52969</td>\n",
       "    </tr>\n",
       "    <tr>\n",
       "      <th>...</th>\n",
       "      <td>...</td>\n",
       "    </tr>\n",
       "    <tr>\n",
       "      <th>995</th>\n",
       "      <td>0.51927</td>\n",
       "    </tr>\n",
       "    <tr>\n",
       "      <th>996</th>\n",
       "      <td>0.53056</td>\n",
       "    </tr>\n",
       "    <tr>\n",
       "      <th>997</th>\n",
       "      <td>0.53008</td>\n",
       "    </tr>\n",
       "    <tr>\n",
       "      <th>998</th>\n",
       "      <td>0.53192</td>\n",
       "    </tr>\n",
       "    <tr>\n",
       "      <th>999</th>\n",
       "      <td>0.51534</td>\n",
       "    </tr>\n",
       "  </tbody>\n",
       "</table>\n",
       "<p>1000 rows × 1 columns</p>\n",
       "</div>"
      ],
      "text/plain": [
       "                     tax\n",
       "0                0.53383\n",
       "1                0.53469\n",
       "2                0.53049\n",
       "3                0.53824\n",
       "4                0.52969\n",
       "..                   ...\n",
       "995              0.51927\n",
       "996              0.53056\n",
       "997              0.53008\n",
       "998              0.53192\n",
       "999              0.51534\n",
       "\n",
       "[1000 rows x 1 columns]"
      ]
     },
     "execution_count": 34,
     "metadata": {},
     "output_type": "execute_result"
    }
   ],
   "source": [
    "wb_mam.get_bootstrap_params(which_var='tax')"
   ]
  },
  {
   "cell_type": "code",
   "execution_count": 35,
   "metadata": {},
   "outputs": [
    {
     "data": {
      "text/html": [
       "<div>\n",
       "<style scoped>\n",
       "    .dataframe tbody tr th:only-of-type {\n",
       "        vertical-align: middle;\n",
       "    }\n",
       "\n",
       "    .dataframe tbody tr th {\n",
       "        vertical-align: top;\n",
       "    }\n",
       "\n",
       "    .dataframe thead th {\n",
       "        text-align: right;\n",
       "    }\n",
       "</style>\n",
       "<table border=\"1\" class=\"dataframe\">\n",
       "  <thead>\n",
       "    <tr style=\"text-align: right;\">\n",
       "      <th></th>\n",
       "      <th>const</th>\n",
       "      <th>tanass_clean</th>\n",
       "    </tr>\n",
       "  </thead>\n",
       "  <tbody>\n",
       "    <tr>\n",
       "      <th>0</th>\n",
       "      <td>6.11794</td>\n",
       "      <td>0.17610</td>\n",
       "    </tr>\n",
       "    <tr>\n",
       "      <th>1</th>\n",
       "      <td>6.21305</td>\n",
       "      <td>0.16659</td>\n",
       "    </tr>\n",
       "    <tr>\n",
       "      <th>2</th>\n",
       "      <td>6.23408</td>\n",
       "      <td>0.16652</td>\n",
       "    </tr>\n",
       "    <tr>\n",
       "      <th>3</th>\n",
       "      <td>6.21177</td>\n",
       "      <td>0.16390</td>\n",
       "    </tr>\n",
       "    <tr>\n",
       "      <th>4</th>\n",
       "      <td>6.24215</td>\n",
       "      <td>0.16528</td>\n",
       "    </tr>\n",
       "    <tr>\n",
       "      <th>...</th>\n",
       "      <td>...</td>\n",
       "      <td>...</td>\n",
       "    </tr>\n",
       "    <tr>\n",
       "      <th>995</th>\n",
       "      <td>6.23701</td>\n",
       "      <td>0.17162</td>\n",
       "    </tr>\n",
       "    <tr>\n",
       "      <th>996</th>\n",
       "      <td>6.20005</td>\n",
       "      <td>0.17196</td>\n",
       "    </tr>\n",
       "    <tr>\n",
       "      <th>997</th>\n",
       "      <td>6.21973</td>\n",
       "      <td>0.16943</td>\n",
       "    </tr>\n",
       "    <tr>\n",
       "      <th>998</th>\n",
       "      <td>6.17875</td>\n",
       "      <td>0.16621</td>\n",
       "    </tr>\n",
       "    <tr>\n",
       "      <th>999</th>\n",
       "      <td>6.26230</td>\n",
       "      <td>0.17269</td>\n",
       "    </tr>\n",
       "  </tbody>\n",
       "</table>\n",
       "<p>1000 rows × 2 columns</p>\n",
       "</div>"
      ],
      "text/plain": [
       "                   const         tanass_clean\n",
       "0                6.11794              0.17610\n",
       "1                6.21305              0.16659\n",
       "2                6.23408              0.16652\n",
       "3                6.21177              0.16390\n",
       "4                6.24215              0.16528\n",
       "..                   ...                  ...\n",
       "995              6.23701              0.17162\n",
       "996              6.20005              0.17196\n",
       "997              6.21973              0.16943\n",
       "998              6.17875              0.16621\n",
       "999              6.26230              0.17269\n",
       "\n",
       "[1000 rows x 2 columns]"
      ]
     },
     "execution_count": 35,
     "metadata": {},
     "output_type": "execute_result"
    }
   ],
   "source": [
    "wb_mam.get_bootstrap_params(which_var=('const', 'tanass_clean'))"
   ]
  },
  {
   "cell_type": "markdown",
   "metadata": {},
   "source": [
    "### bp_test() and white_test() methods"
   ]
  },
  {
   "cell_type": "markdown",
   "metadata": {},
   "source": [
    "#### Vanila version: for bp_test() returning the robust version (proposed by Roger Koenker) of this test when the presence of the heteroscedasticity is examined on the residual of the OLS on the original sample data. For white_test(), there are no optional arguments"
   ]
  },
  {
   "cell_type": "code",
   "execution_count": 36,
   "metadata": {},
   "outputs": [
    {
     "data": {
      "text/plain": [
       "(432.43914611970746,\n",
       " 1.2503527125935506e-94,\n",
       " 225.92457000184137,\n",
       " 1.083837549448663e-96)"
      ]
     },
     "execution_count": 36,
     "metadata": {},
     "output_type": "execute_result"
    }
   ],
   "source": [
    "wb_mam.bp_test()"
   ]
  },
  {
   "cell_type": "code",
   "execution_count": 37,
   "metadata": {},
   "outputs": [
    {
     "data": {
      "text/plain": [
       "(1437.6088470921256, 9.758682033770634e-309, 335.59463848972536, 0.0)"
      ]
     },
     "execution_count": 37,
     "metadata": {},
     "output_type": "execute_result"
    }
   ],
   "source": [
    "wb_mam.white_test()"
   ]
  },
  {
   "cell_type": "markdown",
   "metadata": {},
   "source": [
    "#### The non-robust version of bp_test() can be achieved by setting bp_test(robust = False)."
   ]
  },
  {
   "cell_type": "code",
   "execution_count": 38,
   "metadata": {},
   "outputs": [
    {
     "data": {
      "text/plain": [
       "(1035.8816259850282,\n",
       " 1.1512322968569012e-225,\n",
       " 225.92457000184234,\n",
       " 1.083837549446753e-96)"
      ]
     },
     "execution_count": 38,
     "metadata": {},
     "output_type": "execute_result"
    }
   ],
   "source": [
    "wb_mam.bp_test(robust = False)"
   ]
  },
  {
   "cell_type": "markdown",
   "metadata": {},
   "source": [
    "At each test, the first value is the calculated LM-test stats, the second is the 'LM p-value' corresponding to the LM-test stats, the third value is the F-test stats and last one is the 'F p-value'.\n",
    "\n",
    "As it can be seen the p-values are 0, so we can rejcet the null hypothesis of homoscedasticity, and accept the alternative hypothesis that the variance of the residuals is heteroscedastic."
   ]
  },
  {
   "cell_type": "markdown",
   "metadata": {},
   "source": [
    "### Some built-in attributes"
   ]
  },
  {
   "cell_type": "code",
   "execution_count": 39,
   "metadata": {},
   "outputs": [
    {
     "data": {
      "text/plain": [
       "['const', 'tanass_clean', 'tax']"
      ]
     },
     "execution_count": 39,
     "metadata": {},
     "output_type": "execute_result"
    }
   ],
   "source": [
    "wb_mam.indep_varname"
   ]
  },
  {
   "cell_type": "markdown",
   "metadata": {},
   "source": [
    "#### wb_mam.bs_params and wb_mam.get_bootstrap_params() basically output the same thing with the exception that the latter one is transposed and is in pd.DataFrame."
   ]
  },
  {
   "cell_type": "code",
   "execution_count": 40,
   "metadata": {},
   "outputs": [
    {
     "data": {
      "text/plain": [
       "array([[6.11793735, 6.21304945, 6.23407723, ..., 6.21972686, 6.17874968,\n",
       "        6.26229539],\n",
       "       [0.17609648, 0.16658936, 0.16651714, ..., 0.16943475, 0.16621383,\n",
       "        0.17268631],\n",
       "       [0.53383021, 0.53468577, 0.53049401, ..., 0.53007589, 0.53192339,\n",
       "        0.51534074]])"
      ]
     },
     "execution_count": 40,
     "metadata": {},
     "output_type": "execute_result"
    }
   ],
   "source": [
    "wb_mam.bs_params"
   ]
  },
  {
   "cell_type": "code",
   "execution_count": 41,
   "metadata": {},
   "outputs": [
    {
     "data": {
      "text/plain": [
       "array([6.20695725, 0.16929278, 0.52929771])"
      ]
     },
     "execution_count": 41,
     "metadata": {},
     "output_type": "execute_result"
    }
   ],
   "source": [
    "wb_mam.orig_params"
   ]
  },
  {
   "cell_type": "code",
   "execution_count": 42,
   "metadata": {},
   "outputs": [
    {
     "data": {
      "text/plain": [
       "array([6.20741928, 0.16919201, 0.52934914])"
      ]
     },
     "execution_count": 42,
     "metadata": {},
     "output_type": "execute_result"
    }
   ],
   "source": [
    "wb_mam.bs_mean"
   ]
  },
  {
   "cell_type": "code",
   "execution_count": 43,
   "metadata": {},
   "outputs": [
    {
     "data": {
      "text/plain": [
       "array([0.0453789 , 0.00499137, 0.00910921])"
      ]
     },
     "execution_count": 43,
     "metadata": {},
     "output_type": "execute_result"
    }
   ],
   "source": [
    "wb_mam.orig_se"
   ]
  },
  {
   "cell_type": "code",
   "execution_count": 44,
   "metadata": {},
   "outputs": [
    {
     "data": {
      "text/plain": [
       "array([0.03557226, 0.00401694, 0.00656538])"
      ]
     },
     "execution_count": 44,
     "metadata": {},
     "output_type": "execute_result"
    }
   ],
   "source": [
    "wb_mam.bs_se"
   ]
  },
  {
   "cell_type": "code",
   "execution_count": 45,
   "metadata": {},
   "outputs": [
    {
     "data": {
      "text/plain": [
       "array([[6.13409065, 6.27219828],\n",
       "       [0.16162345, 0.17733217],\n",
       "       [0.51603411, 0.54218543]])"
      ]
     },
     "execution_count": 45,
     "metadata": {},
     "output_type": "execute_result"
    }
   ],
   "source": [
    "wb_mam.bs_ci"
   ]
  }
 ],
 "metadata": {
  "interpreter": {
   "hash": "e7370f93d1d0cde622a1f8e1c04877d8463912d04d973331ad4851f04de6915a"
  },
  "kernelspec": {
   "display_name": "Python 3 (ipykernel)",
   "language": "python",
   "name": "python3"
  },
  "language_info": {
   "codemirror_mode": {
    "name": "ipython",
    "version": 3
   },
   "file_extension": ".py",
   "mimetype": "text/x-python",
   "name": "python",
   "nbconvert_exporter": "python",
   "pygments_lexer": "ipython3",
   "version": "3.8.10"
  },
  "toc": {
   "base_numbering": 1,
   "nav_menu": {},
   "number_sections": true,
   "sideBar": true,
   "skip_h1_title": false,
   "title_cell": "Table of Contents",
   "title_sidebar": "Contents",
   "toc_cell": false,
   "toc_position": {},
   "toc_section_display": true,
   "toc_window_display": false
  }
 },
 "nbformat": 4,
 "nbformat_minor": 2
}
