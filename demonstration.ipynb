{
 "cells": [
  {
   "cell_type": "code",
   "execution_count": 1,
   "metadata": {},
   "outputs": [],
   "source": [
    "import numpy as np\n",
    "import pandas as pd\n",
    "\n",
    "from ols_bootstrap.pairs import PairsBootstrap\n",
    "from ols_bootstrap.residual import ResidualBootstrap\n",
    "from ols_bootstrap.wild import WildBootstrap"
   ]
  },
  {
   "cell_type": "code",
   "execution_count": 2,
   "metadata": {},
   "outputs": [
    {
     "name": "stderr",
     "output_type": "stream",
     "text": [
      "/home/phamv/.local/lib/python3.8/site-packages/IPython/core/interactiveshell.py:3444: DtypeWarning: Columns (66) have mixed types.Specify dtype option on import or set low_memory=False.\n",
      "  exec(code_obj, self.user_global_ns, self.user_ns)\n"
     ]
    }
   ],
   "source": [
    "df = pd.read_csv('./balance2018.csv')\n",
    "df = df[df['sales_clean'] != 0]\n",
    "df = df[['sales_clean', 'tanass_clean', 'tax']]\n",
    "df = df.dropna(subset=['tanass_clean', 'tax'])\n",
    "\n",
    "df_scaled = df.applymap(lambda x: np.log(x + 1))"
   ]
  },
  {
   "cell_type": "code",
   "execution_count": 3,
   "metadata": {},
   "outputs": [],
   "source": [
    "df_sample = df_scaled.sample(n=10000, replace=False)\n",
    "\n",
    "Y_data = pd.DataFrame(df_sample.iloc[:, 0])\n",
    "X_data = pd.DataFrame(df_sample.iloc[:, 1:])"
   ]
  },
  {
   "cell_type": "code",
   "execution_count": 4,
   "metadata": {},
   "outputs": [],
   "source": [
    "psb = PairsBootstrap(Y_data, X_data, iter = 1000)\n",
    "psb.fit()"
   ]
  },
  {
   "cell_type": "code",
   "execution_count": 5,
   "metadata": {},
   "outputs": [
    {
     "data": {
      "text/html": [
       "<div>\n",
       "<style scoped>\n",
       "    .dataframe tbody tr th:only-of-type {\n",
       "        vertical-align: middle;\n",
       "    }\n",
       "\n",
       "    .dataframe tbody tr th {\n",
       "        vertical-align: top;\n",
       "    }\n",
       "\n",
       "    .dataframe thead th {\n",
       "        text-align: right;\n",
       "    }\n",
       "</style>\n",
       "<table border=\"1\" class=\"dataframe\">\n",
       "  <thead>\n",
       "    <tr style=\"text-align: right;\">\n",
       "      <th></th>\n",
       "      <th>const</th>\n",
       "      <th>tanass_clean</th>\n",
       "      <th>tax</th>\n",
       "    </tr>\n",
       "  </thead>\n",
       "  <tbody>\n",
       "    <tr>\n",
       "      <th>0</th>\n",
       "      <td>6.212569</td>\n",
       "      <td>0.183145</td>\n",
       "      <td>0.510299</td>\n",
       "    </tr>\n",
       "    <tr>\n",
       "      <th>1</th>\n",
       "      <td>6.260303</td>\n",
       "      <td>0.171672</td>\n",
       "      <td>0.518026</td>\n",
       "    </tr>\n",
       "    <tr>\n",
       "      <th>2</th>\n",
       "      <td>6.290498</td>\n",
       "      <td>0.172058</td>\n",
       "      <td>0.507845</td>\n",
       "    </tr>\n",
       "    <tr>\n",
       "      <th>3</th>\n",
       "      <td>6.258767</td>\n",
       "      <td>0.177509</td>\n",
       "      <td>0.505830</td>\n",
       "    </tr>\n",
       "    <tr>\n",
       "      <th>4</th>\n",
       "      <td>6.192625</td>\n",
       "      <td>0.179320</td>\n",
       "      <td>0.516809</td>\n",
       "    </tr>\n",
       "    <tr>\n",
       "      <th>...</th>\n",
       "      <td>...</td>\n",
       "      <td>...</td>\n",
       "      <td>...</td>\n",
       "    </tr>\n",
       "    <tr>\n",
       "      <th>995</th>\n",
       "      <td>6.274089</td>\n",
       "      <td>0.171506</td>\n",
       "      <td>0.510954</td>\n",
       "    </tr>\n",
       "    <tr>\n",
       "      <th>996</th>\n",
       "      <td>6.237162</td>\n",
       "      <td>0.173298</td>\n",
       "      <td>0.514632</td>\n",
       "    </tr>\n",
       "    <tr>\n",
       "      <th>997</th>\n",
       "      <td>6.293593</td>\n",
       "      <td>0.171705</td>\n",
       "      <td>0.508194</td>\n",
       "    </tr>\n",
       "    <tr>\n",
       "      <th>998</th>\n",
       "      <td>6.220326</td>\n",
       "      <td>0.174053</td>\n",
       "      <td>0.522362</td>\n",
       "    </tr>\n",
       "    <tr>\n",
       "      <th>999</th>\n",
       "      <td>6.308433</td>\n",
       "      <td>0.176215</td>\n",
       "      <td>0.497663</td>\n",
       "    </tr>\n",
       "  </tbody>\n",
       "</table>\n",
       "<p>1000 rows × 3 columns</p>\n",
       "</div>"
      ],
      "text/plain": [
       "        const  tanass_clean       tax\n",
       "0    6.212569      0.183145  0.510299\n",
       "1    6.260303      0.171672  0.518026\n",
       "2    6.290498      0.172058  0.507845\n",
       "3    6.258767      0.177509  0.505830\n",
       "4    6.192625      0.179320  0.516809\n",
       "..        ...           ...       ...\n",
       "995  6.274089      0.171506  0.510954\n",
       "996  6.237162      0.173298  0.514632\n",
       "997  6.293593      0.171705  0.508194\n",
       "998  6.220326      0.174053  0.522362\n",
       "999  6.308433      0.176215  0.497663\n",
       "\n",
       "[1000 rows x 3 columns]"
      ]
     },
     "execution_count": 5,
     "metadata": {},
     "output_type": "execute_result"
    }
   ],
   "source": [
    "psb.get_bootstap_params()"
   ]
  },
  {
   "cell_type": "code",
   "execution_count": 6,
   "metadata": {},
   "outputs": [
    {
     "data": {
      "text/html": [
       "<div>\n",
       "<style scoped>\n",
       "    .dataframe tbody tr th:only-of-type {\n",
       "        vertical-align: middle;\n",
       "    }\n",
       "\n",
       "    .dataframe tbody tr th {\n",
       "        vertical-align: top;\n",
       "    }\n",
       "\n",
       "    .dataframe thead th {\n",
       "        text-align: right;\n",
       "    }\n",
       "</style>\n",
       "<table border=\"1\" class=\"dataframe\">\n",
       "  <thead>\n",
       "    <tr style=\"text-align: right;\">\n",
       "      <th></th>\n",
       "      <th>tax</th>\n",
       "      <th>tanass_clean</th>\n",
       "    </tr>\n",
       "  </thead>\n",
       "  <tbody>\n",
       "    <tr>\n",
       "      <th>0</th>\n",
       "      <td>0.510299</td>\n",
       "      <td>0.183145</td>\n",
       "    </tr>\n",
       "    <tr>\n",
       "      <th>1</th>\n",
       "      <td>0.518026</td>\n",
       "      <td>0.171672</td>\n",
       "    </tr>\n",
       "    <tr>\n",
       "      <th>2</th>\n",
       "      <td>0.507845</td>\n",
       "      <td>0.172058</td>\n",
       "    </tr>\n",
       "    <tr>\n",
       "      <th>3</th>\n",
       "      <td>0.505830</td>\n",
       "      <td>0.177509</td>\n",
       "    </tr>\n",
       "    <tr>\n",
       "      <th>4</th>\n",
       "      <td>0.516809</td>\n",
       "      <td>0.179320</td>\n",
       "    </tr>\n",
       "    <tr>\n",
       "      <th>...</th>\n",
       "      <td>...</td>\n",
       "      <td>...</td>\n",
       "    </tr>\n",
       "    <tr>\n",
       "      <th>995</th>\n",
       "      <td>0.510954</td>\n",
       "      <td>0.171506</td>\n",
       "    </tr>\n",
       "    <tr>\n",
       "      <th>996</th>\n",
       "      <td>0.514632</td>\n",
       "      <td>0.173298</td>\n",
       "    </tr>\n",
       "    <tr>\n",
       "      <th>997</th>\n",
       "      <td>0.508194</td>\n",
       "      <td>0.171705</td>\n",
       "    </tr>\n",
       "    <tr>\n",
       "      <th>998</th>\n",
       "      <td>0.522362</td>\n",
       "      <td>0.174053</td>\n",
       "    </tr>\n",
       "    <tr>\n",
       "      <th>999</th>\n",
       "      <td>0.497663</td>\n",
       "      <td>0.176215</td>\n",
       "    </tr>\n",
       "  </tbody>\n",
       "</table>\n",
       "<p>1000 rows × 2 columns</p>\n",
       "</div>"
      ],
      "text/plain": [
       "          tax  tanass_clean\n",
       "0    0.510299      0.183145\n",
       "1    0.518026      0.171672\n",
       "2    0.507845      0.172058\n",
       "3    0.505830      0.177509\n",
       "4    0.516809      0.179320\n",
       "..        ...           ...\n",
       "995  0.510954      0.171506\n",
       "996  0.514632      0.173298\n",
       "997  0.508194      0.171705\n",
       "998  0.522362      0.174053\n",
       "999  0.497663      0.176215\n",
       "\n",
       "[1000 rows x 2 columns]"
      ]
     },
     "execution_count": 6,
     "metadata": {},
     "output_type": "execute_result"
    }
   ],
   "source": [
    "psb.get_bootstap_params(['tax', 'tanass_clean'])"
   ]
  },
  {
   "cell_type": "code",
   "execution_count": 7,
   "metadata": {},
   "outputs": [
    {
     "data": {
      "text/html": [
       "<div>\n",
       "<style scoped>\n",
       "    .dataframe tbody tr th:only-of-type {\n",
       "        vertical-align: middle;\n",
       "    }\n",
       "\n",
       "    .dataframe tbody tr th {\n",
       "        vertical-align: top;\n",
       "    }\n",
       "\n",
       "    .dataframe thead th {\n",
       "        text-align: right;\n",
       "    }\n",
       "</style>\n",
       "<table border=\"1\" class=\"dataframe\">\n",
       "  <thead>\n",
       "    <tr style=\"text-align: right;\">\n",
       "      <th></th>\n",
       "      <th>params</th>\n",
       "      <th>0.025</th>\n",
       "      <th>0.975</th>\n",
       "    </tr>\n",
       "  </thead>\n",
       "  <tbody>\n",
       "    <tr>\n",
       "      <th>0</th>\n",
       "      <td>const</td>\n",
       "      <td>6.144603</td>\n",
       "      <td>6.319696</td>\n",
       "    </tr>\n",
       "    <tr>\n",
       "      <th>1</th>\n",
       "      <td>tanass_clean</td>\n",
       "      <td>0.160325</td>\n",
       "      <td>0.180458</td>\n",
       "    </tr>\n",
       "    <tr>\n",
       "      <th>2</th>\n",
       "      <td>tax</td>\n",
       "      <td>0.503581</td>\n",
       "      <td>0.539068</td>\n",
       "    </tr>\n",
       "  </tbody>\n",
       "</table>\n",
       "</div>"
      ],
      "text/plain": [
       "         params     0.025     0.975\n",
       "0         const  6.144603  6.319696\n",
       "1  tanass_clean  0.160325  0.180458\n",
       "2           tax  0.503581  0.539068"
      ]
     },
     "execution_count": 7,
     "metadata": {},
     "output_type": "execute_result"
    }
   ],
   "source": [
    "psb.get_pct_ci()"
   ]
  },
  {
   "cell_type": "code",
   "execution_count": 8,
   "metadata": {},
   "outputs": [
    {
     "data": {
      "text/html": [
       "<div>\n",
       "<style scoped>\n",
       "    .dataframe tbody tr th:only-of-type {\n",
       "        vertical-align: middle;\n",
       "    }\n",
       "\n",
       "    .dataframe tbody tr th {\n",
       "        vertical-align: top;\n",
       "    }\n",
       "\n",
       "    .dataframe thead th {\n",
       "        text-align: right;\n",
       "    }\n",
       "</style>\n",
       "<table border=\"1\" class=\"dataframe\">\n",
       "  <thead>\n",
       "    <tr style=\"text-align: right;\">\n",
       "      <th></th>\n",
       "      <th>params</th>\n",
       "      <th>0.025</th>\n",
       "      <th>0.975</th>\n",
       "    </tr>\n",
       "  </thead>\n",
       "  <tbody>\n",
       "    <tr>\n",
       "      <th>0</th>\n",
       "      <td>tax</td>\n",
       "      <td>0.503581</td>\n",
       "      <td>0.539068</td>\n",
       "    </tr>\n",
       "    <tr>\n",
       "      <th>1</th>\n",
       "      <td>const</td>\n",
       "      <td>6.144603</td>\n",
       "      <td>6.319696</td>\n",
       "    </tr>\n",
       "  </tbody>\n",
       "</table>\n",
       "</div>"
      ],
      "text/plain": [
       "  params     0.025     0.975\n",
       "0    tax  0.503581  0.539068\n",
       "1  const  6.144603  6.319696"
      ]
     },
     "execution_count": 8,
     "metadata": {},
     "output_type": "execute_result"
    }
   ],
   "source": [
    "psb.get_pct_ci(['tax', 'const'])"
   ]
  },
  {
   "cell_type": "code",
   "execution_count": 9,
   "metadata": {},
   "outputs": [],
   "source": [
    "rsb = ResidualBootstrap(Y_data, X_data, iter = 1000)\n",
    "rsb.fit()"
   ]
  },
  {
   "cell_type": "code",
   "execution_count": 21,
   "metadata": {},
   "outputs": [
    {
     "data": {
      "text/plain": [
       "array([6.23013459, 0.17056846, 0.52159765])"
      ]
     },
     "execution_count": 21,
     "metadata": {},
     "output_type": "execute_result"
    }
   ],
   "source": [
    "rsb.orig_params"
   ]
  },
  {
   "cell_type": "code",
   "execution_count": 20,
   "metadata": {},
   "outputs": [
    {
     "data": {
      "text/plain": [
       "array([6.2303283 , 0.17055853, 0.52143445])"
      ]
     },
     "execution_count": 20,
     "metadata": {},
     "output_type": "execute_result"
    }
   ],
   "source": [
    "rsb.bs_params_mean"
   ]
  },
  {
   "cell_type": "code",
   "execution_count": 10,
   "metadata": {},
   "outputs": [],
   "source": [
    "wb_stdn = WildBootstrap(Y_data, X_data, iter = 1000, from_distro = 'standard_normal')\n",
    "wb_stdn.fit()"
   ]
  },
  {
   "cell_type": "code",
   "execution_count": 22,
   "metadata": {},
   "outputs": [
    {
     "data": {
      "text/plain": [
       "['const', 'tanass_clean', 'tax']"
      ]
     },
     "execution_count": 22,
     "metadata": {},
     "output_type": "execute_result"
    }
   ],
   "source": [
    "wb_stdn.indep_varname"
   ]
  },
  {
   "cell_type": "code",
   "execution_count": 11,
   "metadata": {},
   "outputs": [],
   "source": [
    "wb_rad = WildBootstrap(Y_data, X_data, iter = 1000, from_distro = 'rademacher')\n",
    "wb_rad.fit()"
   ]
  },
  {
   "cell_type": "code",
   "execution_count": 24,
   "metadata": {},
   "outputs": [
    {
     "data": {
      "text/plain": [
       "array([0.03542144, 0.0038802 , 0.00658306])"
      ]
     },
     "execution_count": 24,
     "metadata": {},
     "output_type": "execute_result"
    }
   ],
   "source": [
    "wb_rad.orig_params_se"
   ]
  },
  {
   "cell_type": "code",
   "execution_count": 25,
   "metadata": {},
   "outputs": [
    {
     "data": {
      "text/plain": [
       "array([0.03448586, 0.00373235, 0.00643937])"
      ]
     },
     "execution_count": 25,
     "metadata": {},
     "output_type": "execute_result"
    }
   ],
   "source": [
    "wb_rad.bs_params_se"
   ]
  },
  {
   "cell_type": "code",
   "execution_count": 12,
   "metadata": {},
   "outputs": [],
   "source": [
    "wb_mam = WildBootstrap(Y_data, X_data, iter = 1000, from_distro = 'mammen')\n",
    "wb_mam.fit()"
   ]
  },
  {
   "cell_type": "code",
   "execution_count": 13,
   "metadata": {},
   "outputs": [
    {
     "name": "stdout",
     "output_type": "stream",
     "text": [
      "+------------------------------------------------------------------------------------------------------------------------------------------------------------------------------------+\n",
      "|                                      Pairs Bootstrap results with sample size of 10000 and bootstrap resampling size of 1000 using 95.00% CI                                       |\n",
      "+----------------+---------------+-------------------------------+----------+-----------------+-----------------------------+-------------------+--------------------+---------------+\n",
      "|     Params     |  Orig Coeffs  |  Mean of Bootstrapped Coeffs  |   Bias   |  Orig Coeff SE  |  SE of Bootstrapped Coeffs  |  % of Diff in SE  |       PCT CI       |  PCT CI Diff  |\n",
      "+----------------+---------------+-------------------------------+----------+-----------------+-----------------------------+-------------------+--------------------+---------------+\n",
      "|     const      |     6.2301    |             6.2307            |  0.0006  |      0.0354     |            0.0447           |       -26.18      |  [6.1446, 6.3197]  |     0.1751    |\n",
      "+----------------+---------------+-------------------------------+----------+-----------------+-----------------------------+-------------------+--------------------+---------------+\n",
      "|  tanass_clean  |     0.1706    |             0.1706            |  0.0000  |      0.0039     |            0.0052           |       -34.52      |  [0.1603, 0.1805]  |     0.0201    |\n",
      "+----------------+---------------+-------------------------------+----------+-----------------+-----------------------------+-------------------+--------------------+---------------+\n",
      "|      tax       |     0.5216    |             0.5214            |  0.0002  |      0.0066     |            0.0091           |       -38.49      |  [0.5036, 0.5391]  |     0.0355    |\n",
      "+----------------+---------------+-------------------------------+----------+-----------------+-----------------------------+-------------------+--------------------+---------------+\n"
     ]
    }
   ],
   "source": [
    "psb.summary()"
   ]
  },
  {
   "cell_type": "code",
   "execution_count": 14,
   "metadata": {},
   "outputs": [
    {
     "name": "stdout",
     "output_type": "stream",
     "text": [
      "+------------------------------------------------------------------------------------------------------------------------------------------------------------------------------------+\n",
      "|                                     Residual Bootstrap results with sample size of 10000 and bootstrap resampling size of 1000 using 95.00% CI                                     |\n",
      "+----------------+---------------+-------------------------------+----------+-----------------+-----------------------------+-------------------+--------------------+---------------+\n",
      "|     Params     |  Orig Coeffs  |  Mean of Bootstrapped Coeffs  |   Bias   |  Orig Coeff SE  |  SE of Bootstrapped Coeffs  |  % of Diff in SE  |       PCT CI       |  PCT CI Diff  |\n",
      "+----------------+---------------+-------------------------------+----------+-----------------+-----------------------------+-------------------+--------------------+---------------+\n",
      "|     const      |     6.2301    |             6.2303            |  0.0002  |      0.0354     |            0.0363           |       -2.53       |  [6.1641, 6.3047]  |     0.1406    |\n",
      "+----------------+---------------+-------------------------------+----------+-----------------+-----------------------------+-------------------+--------------------+---------------+\n",
      "|  tanass_clean  |     0.1706    |             0.1706            |  0.0000  |      0.0039     |            0.0039           |       -0.66       |  [0.1634, 0.1786]  |     0.0152    |\n",
      "+----------------+---------------+-------------------------------+----------+-----------------+-----------------------------+-------------------+--------------------+---------------+\n",
      "|      tax       |     0.5216    |             0.5214            |  0.0002  |      0.0066     |            0.0068           |       -3.95       |  [0.5079, 0.5339]  |     0.0261    |\n",
      "+----------------+---------------+-------------------------------+----------+-----------------+-----------------------------+-------------------+--------------------+---------------+\n"
     ]
    }
   ],
   "source": [
    "rsb.summary()"
   ]
  },
  {
   "cell_type": "code",
   "execution_count": 15,
   "metadata": {},
   "outputs": [
    {
     "name": "stdout",
     "output_type": "stream",
     "text": [
      "+------------------------------------------------------------------------------------------------------------------------------------------------------------------------------------+\n",
      "|                            Wild Bootstrap with Standard Normal results with sample size of 10000 and bootstrap resampling size of 1000 using 95.00% CI                             |\n",
      "+----------------+---------------+-------------------------------+----------+-----------------+-----------------------------+-------------------+--------------------+---------------+\n",
      "|     Params     |  Orig Coeffs  |  Mean of Bootstrapped Coeffs  |   Bias   |  Orig Coeff SE  |  SE of Bootstrapped Coeffs  |  % of Diff in SE  |       PCT CI       |  PCT CI Diff  |\n",
      "+----------------+---------------+-------------------------------+----------+-----------------+-----------------------------+-------------------+--------------------+---------------+\n",
      "|     const      |     6.2301    |             6.2293            |  0.0008  |      0.0354     |            0.0361           |       -1.98       |  [6.1629, 6.3030]  |     0.1401    |\n",
      "+----------------+---------------+-------------------------------+----------+-----------------+-----------------------------+-------------------+--------------------+---------------+\n",
      "|  tanass_clean  |     0.1706    |             0.1706            |  0.0000  |      0.0039     |            0.0037           |        5.59       |  [0.1634, 0.1775]  |     0.0141    |\n",
      "+----------------+---------------+-------------------------------+----------+-----------------+-----------------------------+-------------------+--------------------+---------------+\n",
      "|      tax       |     0.5216    |             0.5217            |  0.0001  |      0.0066     |            0.0066           |       -0.95       |  [0.5083, 0.5345]  |     0.0262    |\n",
      "+----------------+---------------+-------------------------------+----------+-----------------+-----------------------------+-------------------+--------------------+---------------+\n"
     ]
    }
   ],
   "source": [
    "wb_stdn.summary()"
   ]
  },
  {
   "cell_type": "code",
   "execution_count": 16,
   "metadata": {},
   "outputs": [
    {
     "name": "stdout",
     "output_type": "stream",
     "text": [
      "+------------------------------------------------------------------------------------------------------------------------------------------------------------------------------------+\n",
      "|                               Wild Bootstrap with Rademacher results with sample size of 10000 and bootstrap resampling size of 1000 using 95.00% CI                               |\n",
      "+----------------+---------------+-------------------------------+----------+-----------------+-----------------------------+-------------------+--------------------+---------------+\n",
      "|     Params     |  Orig Coeffs  |  Mean of Bootstrapped Coeffs  |   Bias   |  Orig Coeff SE  |  SE of Bootstrapped Coeffs  |  % of Diff in SE  |       PCT CI       |  PCT CI Diff  |\n",
      "+----------------+---------------+-------------------------------+----------+-----------------+-----------------------------+-------------------+--------------------+---------------+\n",
      "|     const      |     6.2301    |             6.2289            |  0.0013  |      0.0354     |            0.0345           |        2.64       |  [6.1580, 6.2958]  |     0.1378    |\n",
      "+----------------+---------------+-------------------------------+----------+-----------------+-----------------------------+-------------------+--------------------+---------------+\n",
      "|  tanass_clean  |     0.1706    |             0.1708            |  0.0002  |      0.0039     |            0.0037           |        3.81       |  [0.1638, 0.1784]  |     0.0147    |\n",
      "+----------------+---------------+-------------------------------+----------+-----------------+-----------------------------+-------------------+--------------------+---------------+\n",
      "|      tax       |     0.5216    |             0.5215            |  0.0001  |      0.0066     |            0.0064           |        2.18       |  [0.5092, 0.5342]  |     0.0250    |\n",
      "+----------------+---------------+-------------------------------+----------+-----------------+-----------------------------+-------------------+--------------------+---------------+\n"
     ]
    }
   ],
   "source": [
    "wb_rad.summary()"
   ]
  },
  {
   "cell_type": "code",
   "execution_count": 17,
   "metadata": {},
   "outputs": [
    {
     "name": "stdout",
     "output_type": "stream",
     "text": [
      "+------------------------------------------------------------------------------------------------------------------------------------------------------------------------------------+\n",
      "|                                 Wild Bootstrap with Mammen results with sample size of 10000 and bootstrap resampling size of 1000 using 95.00% CI                                 |\n",
      "+----------------+---------------+-------------------------------+----------+-----------------+-----------------------------+-------------------+--------------------+---------------+\n",
      "|     Params     |  Orig Coeffs  |  Mean of Bootstrapped Coeffs  |   Bias   |  Orig Coeff SE  |  SE of Bootstrapped Coeffs  |  % of Diff in SE  |       PCT CI       |  PCT CI Diff  |\n",
      "+----------------+---------------+-------------------------------+----------+-----------------+-----------------------------+-------------------+--------------------+---------------+\n",
      "|     const      |     6.2301    |             6.2293            |  0.0008  |      0.0354     |            0.0358           |       -1.06       |  [6.1604, 6.2985]  |     0.1381    |\n",
      "+----------------+---------------+-------------------------------+----------+-----------------+-----------------------------+-------------------+--------------------+---------------+\n",
      "|  tanass_clean  |     0.1706    |             0.1706            |  0.0001  |      0.0039     |            0.0039           |       -0.43       |  [0.1628, 0.1785]  |     0.0157    |\n",
      "+----------------+---------------+-------------------------------+----------+-----------------+-----------------------------+-------------------+--------------------+---------------+\n",
      "|      tax       |     0.5216    |             0.5215            |  0.0001  |      0.0066     |            0.0065           |        1.20       |  [0.5092, 0.5346]  |     0.0255    |\n",
      "+----------------+---------------+-------------------------------+----------+-----------------+-----------------------------+-------------------+--------------------+---------------+\n"
     ]
    }
   ],
   "source": [
    "wb_mam.summary()"
   ]
  }
 ],
 "metadata": {
  "interpreter": {
   "hash": "e7370f93d1d0cde622a1f8e1c04877d8463912d04d973331ad4851f04de6915a"
  },
  "kernelspec": {
   "display_name": "Python 3 (ipykernel)",
   "language": "python",
   "name": "python3"
  },
  "language_info": {
   "codemirror_mode": {
    "name": "ipython",
    "version": 3
   },
   "file_extension": ".py",
   "mimetype": "text/x-python",
   "name": "python",
   "nbconvert_exporter": "python",
   "pygments_lexer": "ipython3",
   "version": "3.8.10"
  },
  "toc": {
   "base_numbering": 1,
   "nav_menu": {},
   "number_sections": true,
   "sideBar": true,
   "skip_h1_title": false,
   "title_cell": "Table of Contents",
   "title_sidebar": "Contents",
   "toc_cell": false,
   "toc_position": {},
   "toc_section_display": true,
   "toc_window_display": false
  }
 },
 "nbformat": 4,
 "nbformat_minor": 2
}
